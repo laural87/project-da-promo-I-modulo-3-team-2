{
 "cells": [
  {
   "cell_type": "code",
   "execution_count": 46,
   "metadata": {},
   "outputs": [],
   "source": [
    "# Tratamiento de datos\n",
    "# -----------------------------------------------------------------------\n",
    "import pandas as pd\n",
    "import numpy as np\n",
    "\n",
    "from sklearn.impute import SimpleImputer\n",
    "from sklearn.experimental import enable_iterative_imputer\n",
    "from sklearn.impute import IterativeImputer\n",
    "from sklearn.impute import KNNImputer\n",
    "# Librerías de visualización\n",
    "# -----------------------------------------------------------------------\n",
    "import seaborn as sns\n",
    "import matplotlib.pyplot as plt\n",
    "\n",
    "\n",
    "# Configuración\n",
    "# -----------------------------------------------------------------------\n",
    "pd.set_option('display.max_columns', None) # para poder visualizar todas las columnas de los DataFrames\n",
    "pd.set_option('display.max_colwidth', None) # para visualizar todo el contenido de los valores\n",
    "#pd.set_option('display.max_rows', None) # Para visualizar todo el contenido de las filas"
   ]
  },
  {
   "cell_type": "code",
   "execution_count": 47,
   "metadata": {},
   "outputs": [],
   "source": [
    "# Leemos el csv\n",
    "\n",
    "datos = pd.read_csv('Datos/datos_empresa.csv', index_col=0)"
   ]
  },
  {
   "cell_type": "markdown",
   "metadata": {},
   "source": [
    "### Transformación de Datos\n"
   ]
  },
  {
   "cell_type": "code",
   "execution_count": 49,
   "metadata": {},
   "outputs": [],
   "source": [
    "\n",
    "columnas_borrar = ['employeecount','Over18','SameAsMonthlyIncome', 'Salary', 'RoleDepartament', 'NUMBERCHILDREN','employeenumber','StandardHours','EducationField','YearsInCurrentRole', 'MonthlyIncome']\n",
    "\n",
    "def borrar_colunas (datos, columnas):\n",
    "    datos.drop( columns = columnas, inplace= True)\n",
    "\n",
    "borrar_colunas(datos,columnas_borrar)"
   ]
  },
  {
   "cell_type": "code",
   "execution_count": 50,
   "metadata": {},
   "outputs": [],
   "source": [
    "\n",
    "def transformar_cabeceras ():\n",
    "\n",
    "    new_columns = {column : column.lower() for column in datos}\n",
    "    new_columns\n",
    "    datos.rename(columns = new_columns, inplace= True)\n",
    "\n",
    "\n",
    "transformar_cabeceras()"
   ]
  },
  {
   "cell_type": "code",
   "execution_count": 51,
   "metadata": {},
   "outputs": [],
   "source": [
    "def transformacion ():\n",
    "\n",
    "    \n",
    "\n",
    "    age = datos['age'].str.replace('fifty-eight', '58 ').str.replace('fifty-eight', '47 ').str.replace('thirty-six', '36').str.replace('fifty-five', '55').str.replace('fifty-two', '52').str.replace('thirty-one', '31').str.replace('twenty-six', '36').str.replace('thirty-seven', '37').str.replace('thirty-seven', '37').str.replace('thirty-two', '32').str.replace('twenty-four', '24').str.replace('forty-seven', '47').str.replace('thirty', '30')\n",
    "    datos['age'] = age\n",
    "    datos['age'] = datos['age']\n",
    "\n",
    "    dailyrate = datos['dailyrate'].str.replace('$', '')\n",
    "    datos['dailyrate'] = dailyrate\n",
    "    datos['dailyrate'] = datos['dailyrate']\n",
    "\n",
    "    datos_distance = datos['distancefromhome'].astype(str)\n",
    "    distancefromhome = datos_distance.str.replace('-', '')\n",
    "    datos['distancefromhome'] = distancefromhome\n",
    "    datos['distancefromhome'] = datos['distancefromhome']\n",
    "\n",
    "    dic_map = {0:'M', 1:'F'}\n",
    "    datos[\"gender\"] = datos[\"gender\"].map(dic_map)\n",
    "\n",
    "    datos['hourlyrate'] = datos['hourlyrate'].replace('Not Available', np.nan)\n",
    "    datos['hourlyrate'].unique() \n",
    "\n",
    "    replacements = {\n",
    "    'divorced': 'Divorced',\n",
    "    'Marreid': 'Married'}\n",
    "    datos['maritalstatus'] = datos['maritalstatus'].replace(replacements)\n",
    "\n",
    "    diccionario_mapa = {'Yes':'Yes', '1':'Yes', 'False':'No', '0':'No', 'True':'Yes'}\n",
    "    datos[\"remotework\"] = datos[\"remotework\"].map(diccionario_mapa)\n",
    "    datos['remotework'].unique()\n",
    "\n",
    "transformacion()   \n",
    "\n",
    "\n",
    "    "
   ]
  },
  {
   "cell_type": "code",
   "execution_count": 52,
   "metadata": {},
   "outputs": [],
   "source": [
    "# Nos hemos dado cuenta que 'environmentsatisfaction' son puntuaciones del 1 al 4 pero hay algunos valores con dos números. Vamos a limpiar el segundo porque es el único que sube a más de 4.\n",
    "\n",
    "def eliminar_segundo_digito(num): \n",
    "    num_str = str(num) \n",
    "    if len(num_str) == 2: \n",
    "        return int(num_str[0]) # Mantén solo el primer dígito \n",
    "    return num\n",
    "\n",
    "datos['environmentsatisfaction'] = datos['environmentsatisfaction'].apply(eliminar_segundo_digito)\n"
   ]
  },
  {
   "cell_type": "code",
   "execution_count": 53,
   "metadata": {},
   "outputs": [],
   "source": [
    "# Funcion para cambiar a float\n",
    "\n",
    "cols_float = ['dailyrate', 'performancerating', 'totalworkingyears', 'worklifebalance']\n",
    "\n",
    "def cambiar_float(datos, cols):\n",
    "    for col in cols:\n",
    "        datos[col] = datos[col].apply(lambda dato: float(dato.replace(\",\", \".\")) if isinstance(dato, str) else np.nan)\n",
    "\n",
    "cambiar_float(datos, cols_float)"
   ]
  },
  {
   "cell_type": "code",
   "execution_count": 54,
   "metadata": {},
   "outputs": [],
   "source": [
    "# Funcion para cambiar a int si es string\n",
    "\n",
    "cols_int = ['age', 'distancefromhome', 'hourlyrate']\n",
    "\n",
    "def cambiar_int(datos, cols):\n",
    "    for col in cols:\n",
    "        datos[col] = datos[col].apply(lambda dato: int(dato) if isinstance(dato, str) else np.nan)\n",
    "\n",
    "cambiar_int(datos, cols_int)"
   ]
  },
  {
   "cell_type": "code",
   "execution_count": 55,
   "metadata": {},
   "outputs": [],
   "source": [
    "# funcion para cambiar a INT valores numericos\n",
    "cols = ['environmentsatisfaction', 'jobinvolvement', 'jobsatisfaction', 'relationshipsatisfaction']\n",
    "\n",
    "def cambiar_a_int(datos, cols):\n",
    "    for col in cols:\n",
    "        if col in datos.columns:\n",
    "            datos[col] = datos[col].astype(int)\n",
    "        else:\n",
    "            print(f\"Columna '{col}' no encontrada en el DataFrame.\")\n",
    "\n",
    "cambiar_a_int(datos, cols)\n"
   ]
  },
  {
   "cell_type": "code",
   "execution_count": 56,
   "metadata": {},
   "outputs": [],
   "source": [
    "# Funcion para cambiar textos\n",
    "\n",
    "cols_text = ['attrition', 'businesstravel', 'department', 'gender', 'jobrole', 'maritalstatus', 'overtime', 'remotework']\n",
    "\n",
    "def cambiar_texto(datos, cols):\n",
    "    for col in cols:\n",
    "        datos[col] = datos[col].str.strip().str.replace('-', ' ').str.replace('_', ' ').str.capitalize()\n",
    "        \n",
    "\n",
    "cambiar_texto(datos, cols_text)"
   ]
  },
  {
   "cell_type": "code",
   "execution_count": 57,
   "metadata": {},
   "outputs": [],
   "source": [
    "# Creamos copia de seguridad del archivo\n",
    "\n",
    "datos.to_csv('Datos/datos_empresa_V.1.clean.csv')"
   ]
  },
  {
   "cell_type": "markdown",
   "metadata": {},
   "source": [
    "### Gestion de Nulos"
   ]
  },
  {
   "cell_type": "code",
   "execution_count": 58,
   "metadata": {},
   "outputs": [],
   "source": [
    "datos = pd.read_csv('Datos/datos_empresa_V.1.clean.csv', index_col=0)"
   ]
  },
  {
   "cell_type": "code",
   "execution_count": 59,
   "metadata": {},
   "outputs": [],
   "source": [
    "def gestion_nulos():\n",
    "    \n",
    "    datos['businesstravel'].replace('NaN', np.nan, inplace=True)\n",
    "    datos['businesstravel'].fillna('Travel rarely', inplace=True)\n",
    "    \n",
    "    datos['dailyrate'].fillna(datos['dailyrate'].median(), inplace=True)\n",
    "    \n",
    "    datos['department'].replace('NaN', np.nan, inplace=True)\n",
    "    datos['department'].fillna('Unknown', inplace=True)\n",
    "\n",
    "    datos['hourlyrate'].fillna(datos['hourlyrate'].median(), inplace=True)\n",
    "\n",
    "    datos['maritalstatus'].replace('NaN', np.nan, inplace=True)\n",
    "    datos['maritalstatus'].fillna('Other', inplace=True)\n",
    "    \n",
    "    datos['overtime'].replace('NaN', np.nan, inplace=True)\n",
    "    datos['overtime'].fillna('No', inplace=True)\n",
    "    \n",
    "    datos['performancerating'].fillna(0, inplace=True)\n",
    "\n",
    "    datos['totalworkingyears'].fillna(datos['totalworkingyears'].median(), inplace=True)\n",
    "\n",
    "    datos['worklifebalance'].fillna(datos['worklifebalance'].median(), inplace=True)\n",
    "    datos['worklifebalance'].isna().sum()\n",
    "\n",
    "gestion_nulos()"
   ]
  },
  {
   "cell_type": "code",
   "execution_count": 60,
   "metadata": {},
   "outputs": [],
   "source": [
    "# Creamos el archivo definitivo sin nulos\n",
    "def guardar_archivo ():\n",
    "    datos.to_csv('Datos/datos_empresa_nonulos.csv')"
   ]
  },
  {
   "cell_type": "code",
   "execution_count": null,
   "metadata": {},
   "outputs": [],
   "source": [
    "def crear_columna ():\n",
    "    datos['id_encuesta'] = range(1,len(datos)+1)\n",
    "\n"
   ]
  },
  {
   "cell_type": "code",
   "execution_count": 61,
   "metadata": {},
   "outputs": [
    {
     "data": {
      "text/plain": [
       "Index(['age', 'attrition', 'businesstravel', 'dailyrate', 'department',\n",
       "       'distancefromhome', 'education', 'environmentsatisfaction', 'gender',\n",
       "       'hourlyrate', 'jobinvolvement', 'joblevel', 'jobrole',\n",
       "       'jobsatisfaction', 'maritalstatus', 'monthlyrate', 'numcompaniesworked',\n",
       "       'overtime', 'percentsalaryhike', 'performancerating',\n",
       "       'relationshipsatisfaction', 'stockoptionlevel', 'totalworkingyears',\n",
       "       'trainingtimeslastyear', 'worklifebalance', 'yearsatcompany',\n",
       "       'yearssincelastpromotion', 'yearswithcurrmanager', 'datebirth',\n",
       "       'remotework'],\n",
       "      dtype='object')"
      ]
     },
     "execution_count": 61,
     "metadata": {},
     "output_type": "execute_result"
    }
   ],
   "source": [
    "datos.columns\n"
   ]
  },
  {
   "cell_type": "markdown",
   "metadata": {},
   "source": [
    "# 🚀 Proceso de Tratamiento de Datos\n",
    "\n",
    "## 📚 Importación de Librerías\n",
    "- **Pandas** (`import pandas as pd`)\n",
    "- **NumPy** (`import numpy as np`)\n",
    "- **Scikit-learn** (`SimpleImputer`, `IterativeImputer`, `KNNImputer`, `enable_iterative_imputer`)\n",
    "- **Seaborn** (`import seaborn as sns`)\n",
    "- **Matplotlib** (`import matplotlib.pyplot as plt`)\n",
    "\n",
    "## ⚙️ Configuración\n",
    "- Configuración de Pandas para mostrar todas las columnas (`display.max_columns`).\n",
    "- Configuración de Pandas para mostrar todo el contenido de las columnas (`display.max_colwidth`).\n",
    "\n",
    "## 📂 Lectura de Datos\n",
    "- **Lectura del archivo CSV**: `datos = pd.read_csv('Datos/datos_empresa.csv', index_col=0)`\n",
    "\n",
    "## 🔄 Transformación de Datos\n",
    "\n",
    "1. **🗑️ Eliminación de columnas**:\n",
    "   - Columnas eliminadas: `employeecount`, `Over18`, `SameAsMonthlyIncome`, `Salary`, `RoleDepartament`, `NUMBERCHILDREN`, `employeenumber`, `StandardHours`, `EducationField`, `YearsInCurrentRole`, `MonthlyIncome`.\n",
    "\n",
    "2. **🔠 Transformación de cabeceras**:\n",
    "   - Convierte todas las cabeceras a minúsculas.\n",
    "\n",
    "3. **🔄 Transformaciones específicas por columna**:\n",
    "   - **age**: Reemplazo de valores literales con números.\n",
    "   - **dailyrate**: Eliminación del símbolo `$`.\n",
    "   - **distancefromhome**: Eliminación del carácter `-`.\n",
    "   - **gender**: Mapeo de valores (0 -> M, 1 -> F).\n",
    "   - **hourlyrate**: Reemplazo de \"Not Available\" por `NaN`.\n",
    "   - **maritalstatus**: Corrección de valores mal escritos (`divorced` -> `Divorced`, `Marreid` -> `Married`).\n",
    "   - **remotework**: Mapeo de valores a \"Yes\" y \"No\".\n",
    "\n",
    "4. **🧼 Eliminación de segundo dígito en `environmentsatisfaction`**:\n",
    "   - Aplica una función para eliminar el segundo dígito si tiene más de uno.\n",
    "\n",
    "5. **🔢 Cambio de tipos de datos**:\n",
    "   - Columnas a `float`: `dailyrate`, `performancerating`, `totalworkingyears`, `worklifebalance`.\n",
    "   - Columnas a `int`: `age`, `distancefromhome`, `hourlyrate`.\n",
    "   - Columnas a `int` con validación: `environmentsatisfaction`, `jobinvolvement`, `jobsatisfaction`, `relationshipsatisfaction`.\n",
    "\n",
    "6. **🔤 Transformación de texto**:\n",
    "   - Columnas: `attrition`, `businesstravel`, `department`, `gender`, `jobrole`, `maritalstatus`, `overtime`, `remotework`.\n",
    "   - Operaciones: Eliminación de espacios, reemplazo de guiones y subrayados, capitalización.\n",
    "\n",
    "## 🛠️ Gestión de Nulos\n",
    "- **🧹 Reemplazos y Relleno**:\n",
    "   - **businesstravel**: Reemplazo de \"NaN\" con `np.nan` y relleno con \"Travel rarely\".\n",
    "   - **dailyrate**: Relleno con la mediana.\n",
    "   - **department**: Reemplazo de \"NaN\" con `np.nan` y relleno con \"Unknown\".\n",
    "   - **hourlyrate**: Relleno con la mediana.\n",
    "   - **maritalstatus**: Reemplazo de \"NaN\" con `np.nan` y relleno con \"Other\".\n",
    "   - **overtime**: Reemplazo de \"NaN\" con `np.nan` y relleno con \"No\".\n",
    "   - **performancerating**: Relleno con 0.\n",
    "   - **totalworkingyears**: Relleno con la mediana.\n",
    "   - **worklifebalance**: Relleno con la mediana.\n",
    "\n",
    "## 💾 Guardado de Datos\n",
    "- **Guardar archivo limpio**: `datos.to_csv('Datos/datos_empresa_V.1.clean.csv')`\n",
    "- **Guardar archivo definitivo sin nulos**: `datos.to_csv('Datos/datos_empresa_nonulos.csv')`\n"
   ]
  }
 ],
 "metadata": {
  "kernelspec": {
   "display_name": "Python 3",
   "language": "python",
   "name": "python3"
  },
  "language_info": {
   "codemirror_mode": {
    "name": "ipython",
    "version": 3
   },
   "file_extension": ".py",
   "mimetype": "text/x-python",
   "name": "python",
   "nbconvert_exporter": "python",
   "pygments_lexer": "ipython3",
   "version": "3.11.7"
  }
 },
 "nbformat": 4,
 "nbformat_minor": 2
}
