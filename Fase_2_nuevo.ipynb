{
 "cells": [
  {
   "cell_type": "code",
   "execution_count": 136,
   "metadata": {},
   "outputs": [],
   "source": [
    "# Tratamiento de datos\n",
    "# -----------------------------------------------------------------------\n",
    "import pandas as pd\n",
    "import numpy as np\n",
    "\n",
    "from sklearn.impute import SimpleImputer\n",
    "from sklearn.experimental import enable_iterative_imputer\n",
    "from sklearn.impute import IterativeImputer\n",
    "from sklearn.impute import KNNImputer\n",
    "# Librerías de visualización\n",
    "# -----------------------------------------------------------------------\n",
    "import seaborn as sns\n",
    "import matplotlib.pyplot as plt\n",
    "\n",
    "\n",
    "# Configuración\n",
    "# -----------------------------------------------------------------------\n",
    "pd.set_option('display.max_columns', None) # para poder visualizar todas las columnas de los DataFrames\n",
    "pd.set_option('display.max_colwidth', None) # para visualizar todo el contenido de los valores\n",
    "#pd.set_option('display.max_rows', None) # Para visualizar todo el contenido de las filas"
   ]
  },
  {
   "cell_type": "code",
   "execution_count": 137,
   "metadata": {},
   "outputs": [],
   "source": [
    "# Leemos el csv\n",
    "\n",
    "datos = pd.read_csv('Datos/datos_empresa.csv', index_col=0)"
   ]
  },
  {
   "cell_type": "markdown",
   "metadata": {},
   "source": [
    "### Transformación de Datos\n"
   ]
  },
  {
   "cell_type": "code",
   "execution_count": 138,
   "metadata": {},
   "outputs": [],
   "source": [
    "# Borramos columnas que no necesitamos según el estudio EDA\n",
    "\n",
    "columnas_borrar = ['employeecount','Over18','SameAsMonthlyIncome', 'Salary', 'RoleDepartament', 'NUMBERCHILDREN','employeenumber','StandardHours']\n",
    "\n",
    "def borrar_colunas (datos, columnas):\n",
    "    datos.drop( columns = columnas, inplace= True)\n",
    "\n",
    "borrar_colunas(datos,columnas_borrar)"
   ]
  },
  {
   "cell_type": "code",
   "execution_count": 139,
   "metadata": {},
   "outputs": [
    {
     "data": {
      "text/html": [
       "<div>\n",
       "<style scoped>\n",
       "    .dataframe tbody tr th:only-of-type {\n",
       "        vertical-align: middle;\n",
       "    }\n",
       "\n",
       "    .dataframe tbody tr th {\n",
       "        vertical-align: top;\n",
       "    }\n",
       "\n",
       "    .dataframe thead th {\n",
       "        text-align: right;\n",
       "    }\n",
       "</style>\n",
       "<table border=\"1\" class=\"dataframe\">\n",
       "  <thead>\n",
       "    <tr style=\"text-align: right;\">\n",
       "      <th></th>\n",
       "      <th>age</th>\n",
       "      <th>attrition</th>\n",
       "      <th>businesstravel</th>\n",
       "      <th>dailyrate</th>\n",
       "      <th>department</th>\n",
       "      <th>distancefromhome</th>\n",
       "      <th>education</th>\n",
       "      <th>educationfield</th>\n",
       "      <th>environmentsatisfaction</th>\n",
       "      <th>gender</th>\n",
       "      <th>hourlyrate</th>\n",
       "      <th>jobinvolvement</th>\n",
       "      <th>joblevel</th>\n",
       "      <th>jobrole</th>\n",
       "      <th>jobsatisfaction</th>\n",
       "      <th>maritalstatus</th>\n",
       "      <th>monthlyincome</th>\n",
       "      <th>monthlyrate</th>\n",
       "      <th>numcompaniesworked</th>\n",
       "      <th>overtime</th>\n",
       "      <th>percentsalaryhike</th>\n",
       "      <th>performancerating</th>\n",
       "      <th>relationshipsatisfaction</th>\n",
       "      <th>stockoptionlevel</th>\n",
       "      <th>totalworkingyears</th>\n",
       "      <th>trainingtimeslastyear</th>\n",
       "      <th>worklifebalance</th>\n",
       "      <th>yearsatcompany</th>\n",
       "      <th>yearsincurrentrole</th>\n",
       "      <th>yearssincelastpromotion</th>\n",
       "      <th>yearswithcurrmanager</th>\n",
       "      <th>datebirth</th>\n",
       "      <th>remotework</th>\n",
       "    </tr>\n",
       "  </thead>\n",
       "  <tbody>\n",
       "    <tr>\n",
       "      <th>79</th>\n",
       "      <td>fifty-eight</td>\n",
       "      <td>No</td>\n",
       "      <td>travel_rarely</td>\n",
       "      <td>682,0$</td>\n",
       "      <td>NaN</td>\n",
       "      <td>-18</td>\n",
       "      <td>4</td>\n",
       "      <td>NaN</td>\n",
       "      <td>4</td>\n",
       "      <td>0</td>\n",
       "      <td>37</td>\n",
       "      <td>3</td>\n",
       "      <td>4</td>\n",
       "      <td>saLes ExECutiVE</td>\n",
       "      <td>3</td>\n",
       "      <td>Single</td>\n",
       "      <td>13872,0</td>\n",
       "      <td>24409</td>\n",
       "      <td>0</td>\n",
       "      <td>NaN</td>\n",
       "      <td>13</td>\n",
       "      <td>3,0</td>\n",
       "      <td>3</td>\n",
       "      <td>0</td>\n",
       "      <td>38,0</td>\n",
       "      <td>1</td>\n",
       "      <td>2,0</td>\n",
       "      <td>37</td>\n",
       "      <td>NaN</td>\n",
       "      <td>1</td>\n",
       "      <td>8</td>\n",
       "      <td>1965</td>\n",
       "      <td>1</td>\n",
       "    </tr>\n",
       "    <tr>\n",
       "      <th>1192</th>\n",
       "      <td>37</td>\n",
       "      <td>Yes</td>\n",
       "      <td>NaN</td>\n",
       "      <td>625,0$</td>\n",
       "      <td>NaN</td>\n",
       "      <td>1</td>\n",
       "      <td>4</td>\n",
       "      <td>Life Sciences</td>\n",
       "      <td>1</td>\n",
       "      <td>0</td>\n",
       "      <td>46</td>\n",
       "      <td>2</td>\n",
       "      <td>3</td>\n",
       "      <td>SALeS execUtivE</td>\n",
       "      <td>3</td>\n",
       "      <td>Married</td>\n",
       "      <td>NaN</td>\n",
       "      <td>14922</td>\n",
       "      <td>5</td>\n",
       "      <td>NaN</td>\n",
       "      <td>11</td>\n",
       "      <td>3,0</td>\n",
       "      <td>3</td>\n",
       "      <td>0</td>\n",
       "      <td>NaN</td>\n",
       "      <td>2</td>\n",
       "      <td>1,0</td>\n",
       "      <td>14</td>\n",
       "      <td>NaN</td>\n",
       "      <td>11</td>\n",
       "      <td>7</td>\n",
       "      <td>1986</td>\n",
       "      <td>True</td>\n",
       "    </tr>\n",
       "  </tbody>\n",
       "</table>\n",
       "</div>"
      ],
      "text/plain": [
       "              age attrition businesstravel dailyrate department  \\\n",
       "79    fifty-eight        No  travel_rarely    682,0$        NaN   \n",
       "1192           37       Yes            NaN    625,0$        NaN   \n",
       "\n",
       "      distancefromhome  education educationfield  environmentsatisfaction  \\\n",
       "79                 -18          4            NaN                        4   \n",
       "1192                 1          4  Life Sciences                        1   \n",
       "\n",
       "      gender hourlyrate  jobinvolvement  joblevel            jobrole  \\\n",
       "79         0         37               3         4   saLes ExECutiVE    \n",
       "1192       0         46               2         3   SALeS execUtivE    \n",
       "\n",
       "      jobsatisfaction maritalstatus monthlyincome  monthlyrate  \\\n",
       "79                  3        Single       13872,0        24409   \n",
       "1192                3       Married           NaN        14922   \n",
       "\n",
       "      numcompaniesworked overtime  percentsalaryhike performancerating  \\\n",
       "79                     0      NaN                 13               3,0   \n",
       "1192                   5      NaN                 11               3,0   \n",
       "\n",
       "      relationshipsatisfaction  stockoptionlevel totalworkingyears  \\\n",
       "79                           3                 0              38,0   \n",
       "1192                         3                 0               NaN   \n",
       "\n",
       "      trainingtimeslastyear worklifebalance  yearsatcompany  \\\n",
       "79                        1             2,0              37   \n",
       "1192                      2             1,0              14   \n",
       "\n",
       "     yearsincurrentrole  yearssincelastpromotion  yearswithcurrmanager  \\\n",
       "79                  NaN                        1                     8   \n",
       "1192                NaN                       11                     7   \n",
       "\n",
       "      datebirth remotework  \n",
       "79         1965          1  \n",
       "1192       1986       True  "
      ]
     },
     "execution_count": 139,
     "metadata": {},
     "output_type": "execute_result"
    }
   ],
   "source": [
    "# Transformamos las cabeceras de las columnas para su mejor visulatización las convertimos todos a lower\n",
    "\n",
    "new_columns = {column : column.lower() for column in datos}\n",
    "\n",
    "new_columns\n",
    "\n",
    "datos.rename(columns = new_columns, inplace= True)\n",
    "\n",
    "\n",
    "#comprobamos que se ha realizado\n",
    "datos.sample(2)"
   ]
  },
  {
   "cell_type": "code",
   "execution_count": 141,
   "metadata": {},
   "outputs": [
    {
     "data": {
      "text/plain": [
       "array(['51', '52', '42', '47', '46', '48', '59', '41', '56', '38', '55',\n",
       "       '40', '58', '35', '45', '33', '36', '34', '53', '43', '60', '32',\n",
       "       '37', '49', '39', '50', '44', '30', '58 ', '29', '31', '54', '57',\n",
       "       '27', '28', '26', '25', '24', '23', '22', '21', '20', '19', '18'],\n",
       "      dtype=object)"
      ]
     },
     "execution_count": 141,
     "metadata": {},
     "output_type": "execute_result"
    }
   ],
   "source": [
    "# Columna Age --- cambiamos los valores string a números\n",
    "\n",
    "datos['age'].unique()\n",
    "\n",
    "age = datos['age'].str.replace('fifty-eight', '58 ').str.replace('fifty-eight', '47 ').str.replace('thirty-six', '36').str.replace('fifty-five', '55').str.replace('fifty-two', '52').str.replace('thirty-one', '31').str.replace('twenty-six', '36').str.replace('thirty-seven', '37').str.replace('thirty-seven', '37').str.replace('thirty-two', '32').str.replace('twenty-four', '24').str.replace('forty-seven', '47').str.replace('thirty', '30')\n",
    "\n",
    "datos['age'] = age\n",
    "\n",
    "datos['age'] = datos['age']\n",
    "\n",
    "datos['age'].unique()  \n",
    "\n"
   ]
  },
  {
   "cell_type": "code",
   "execution_count": 142,
   "metadata": {},
   "outputs": [
    {
     "data": {
      "text/plain": [
       "0    684,0\n",
       "1    699,0\n",
       "Name: dailyrate, dtype: object"
      ]
     },
     "execution_count": 142,
     "metadata": {},
     "output_type": "execute_result"
    }
   ],
   "source": [
    "# Eliminamos los $ y ,0 con un .replace. También hemos pasado los nan y luego cambiamos el tipo a float\n",
    "\n",
    "dailyrate = datos['dailyrate'].str.replace('$', '')\n",
    "datos['dailyrate'] = dailyrate\n",
    "\n",
    "datos['dailyrate'] = datos['dailyrate']\n",
    "\n",
    "datos['dailyrate'].head(2)"
   ]
  },
  {
   "cell_type": "code",
   "execution_count": 143,
   "metadata": {},
   "outputs": [
    {
     "data": {
      "text/plain": [
       "array(['6', '1', '4', '2', '3', '22', '25', '9', '7', '23', '10', '12',\n",
       "       '14', '13', '15', '8', '42', '28', '37', '5', '16', '35', '26',\n",
       "       '24', '29', '17', '21', '18', '30', '27', '20', '31', '39', '11',\n",
       "       '19', '33', '34', '46', '36', '45', '47', '32', '41', '49', '48',\n",
       "       '38', '43', '40', '44'], dtype=object)"
      ]
     },
     "execution_count": 143,
     "metadata": {},
     "output_type": "execute_result"
    }
   ],
   "source": [
    "# Hemos cambiado el tipo de int a str y eliminado el menos de los negativos. Lo pasamos a int.\n",
    "\n",
    "datos_distance = datos['distancefromhome'].astype(str)\n",
    "\n",
    "distancefromhome = datos_distance.str.replace('-', '')\n",
    "\n",
    "datos['distancefromhome'] = distancefromhome\n",
    "\n",
    "datos['distancefromhome'] = datos['distancefromhome']\n",
    "\n",
    "datos['distancefromhome'].unique()"
   ]
  },
  {
   "cell_type": "code",
   "execution_count": 144,
   "metadata": {},
   "outputs": [
    {
     "data": {
      "text/plain": [
       "array(['M', 'F'], dtype=object)"
      ]
     },
     "execution_count": 144,
     "metadata": {},
     "output_type": "execute_result"
    }
   ],
   "source": [
    "# Vamos a sustituir los 0 y 1 por la siniciales de su género y cambiarlo a tipo objeto.\n",
    "dic_map = {0:'M', 1:'F'}\n",
    "\n",
    "datos[\"gender\"] = datos[\"gender\"].map(dic_map)\n",
    "\n",
    "datos['gender'].unique()"
   ]
  },
  {
   "cell_type": "code",
   "execution_count": 145,
   "metadata": {},
   "outputs": [
    {
     "data": {
      "text/plain": [
       "array(['51', '65', '58', '82', '45', '99', '91', '64', '55', '68', '49',\n",
       "       '61', '79', '31', '69', '48', '80', '74', '98', '59', '33', '56',\n",
       "       '66', '57', '53', '87', '81', '84', '32', '41', '92', '47', nan,\n",
       "       '43', '86', '30', '42', '88', '96', '67', '62', '72', '78', '89',\n",
       "       '52', '50', '90', '37', '94', '76', '60', '46', '83', '100', '40',\n",
       "       '97', '54', '75', '39', '85', '63', '44', '93', '36', '35', '73',\n",
       "       '71', '70', '38', '77', '95', '34'], dtype=object)"
      ]
     },
     "execution_count": 145,
     "metadata": {},
     "output_type": "execute_result"
    }
   ],
   "source": [
    "# cambiar el Not Avaiable a NaN\n",
    "\n",
    "datos['hourlyrate'] = datos['hourlyrate'].replace('Not Available', np.nan)\n",
    "\n",
    "datos['hourlyrate'].unique() "
   ]
  },
  {
   "cell_type": "code",
   "execution_count": 146,
   "metadata": {},
   "outputs": [
    {
     "data": {
      "text/plain": [
       "array([nan, 'Married', 'Divorced', 'Single'], dtype=object)"
      ]
     },
     "execution_count": 146,
     "metadata": {},
     "output_type": "execute_result"
    }
   ],
   "source": [
    "# Sustituimos los que están mal escritos para que sean iguales a los que si creando un diccionario previamente. Comprobar moda\n",
    "replacements = {\n",
    "    'divorced': 'Divorced',\n",
    "    'Marreid': 'Married'\n",
    "}\n",
    "\n",
    "datos['maritalstatus'] = datos['maritalstatus'].replace(replacements)\n",
    "datos['maritalstatus'].unique() "
   ]
  },
  {
   "cell_type": "code",
   "execution_count": 147,
   "metadata": {},
   "outputs": [
    {
     "data": {
      "text/plain": [
       "array(['Yes', 'No'], dtype=object)"
      ]
     },
     "execution_count": 147,
     "metadata": {},
     "output_type": "execute_result"
    }
   ],
   "source": [
    "# Cambiamos todos los datos a yes o NO depende la numeración\n",
    "\n",
    "diccionario_mapa = {'Yes':'Yes', '1':'Yes', 'False':'No', '0':'No', 'True':'Yes'}\n",
    "\n",
    "datos[\"remotework\"] = datos[\"remotework\"].map(diccionario_mapa)\n",
    "\n",
    "datos['remotework'].unique()"
   ]
  },
  {
   "cell_type": "code",
   "execution_count": 148,
   "metadata": {},
   "outputs": [],
   "source": [
    "# Funcion para cambiar a float\n",
    "\n",
    "cols_float = ['dailyrate', 'monthlyincome',  'performancerating', 'totalworkingyears', 'worklifebalance', 'yearsincurrentrole']\n",
    "\n",
    "def cambiar_float(datos, cols):\n",
    "    for col in cols:\n",
    "        datos[col] = datos[col].apply(lambda dato: float(dato.replace(\",\", \".\")) if isinstance(dato, str) else np.nan)\n",
    "\n",
    "cambiar_float(datos, cols_float)"
   ]
  },
  {
   "cell_type": "code",
   "execution_count": 149,
   "metadata": {},
   "outputs": [],
   "source": [
    "# Funcion para cambiar a int\n",
    "\n",
    "cols_int = ['age', 'distancefromhome', 'hourlyrate']\n",
    "\n",
    "def cambiar_float(datos, cols):\n",
    "    for col in cols:\n",
    "        datos[col] = datos[col].apply(lambda dato: int(dato) if isinstance(dato, str) else np.nan)\n",
    "\n",
    "cambiar_float(datos, cols_int)"
   ]
  },
  {
   "cell_type": "code",
   "execution_count": 150,
   "metadata": {},
   "outputs": [],
   "source": [
    "# Funcion para cambiar textos\n",
    "\n",
    "cols_text = ['attrition', 'businesstravel', 'department', 'educationfield', 'gender', 'jobrole', 'maritalstatus', 'overtime', 'remotework']\n",
    "\n",
    "def cambiar_texto(datos, cols):\n",
    "    for col in cols:\n",
    "        datos[col] = datos[col].str.strip().str.replace('-', '').str.replace('_', ' ').str.capitalize()\n",
    "        \n",
    "\n",
    "cambiar_texto(datos, cols_text)"
   ]
  },
  {
   "cell_type": "code",
   "execution_count": 151,
   "metadata": {},
   "outputs": [
    {
     "name": "stdout",
     "output_type": "stream",
     "text": [
      "<class 'pandas.core.frame.DataFrame'>\n",
      "Index: 1614 entries, 0 to 1613\n",
      "Data columns (total 33 columns):\n",
      " #   Column                    Non-Null Count  Dtype  \n",
      "---  ------                    --------------  -----  \n",
      " 0   age                       1614 non-null   int64  \n",
      " 1   attrition                 1614 non-null   object \n",
      " 2   businesstravel            842 non-null    object \n",
      " 3   dailyrate                 1490 non-null   float64\n",
      " 4   department                302 non-null    object \n",
      " 5   distancefromhome          1614 non-null   int64  \n",
      " 6   education                 1614 non-null   int64  \n",
      " 7   educationfield            869 non-null    object \n",
      " 8   environmentsatisfaction   1614 non-null   int64  \n",
      " 9   gender                    1614 non-null   object \n",
      " 10  hourlyrate                1530 non-null   float64\n",
      " 11  jobinvolvement            1614 non-null   int64  \n",
      " 12  joblevel                  1614 non-null   int64  \n",
      " 13  jobrole                   1614 non-null   object \n",
      " 14  jobsatisfaction           1614 non-null   int64  \n",
      " 15  maritalstatus             963 non-null    object \n",
      " 16  monthlyincome             771 non-null    float64\n",
      " 17  monthlyrate               1614 non-null   int64  \n",
      " 18  numcompaniesworked        1614 non-null   int64  \n",
      " 19  overtime                  938 non-null    object \n",
      " 20  percentsalaryhike         1614 non-null   int64  \n",
      " 21  performancerating         1419 non-null   float64\n",
      " 22  relationshipsatisfaction  1614 non-null   int64  \n",
      " 23  stockoptionlevel          1614 non-null   int64  \n",
      " 24  totalworkingyears         1088 non-null   float64\n",
      " 25  trainingtimeslastyear     1614 non-null   int64  \n",
      " 26  worklifebalance           1506 non-null   float64\n",
      " 27  yearsatcompany            1614 non-null   int64  \n",
      " 28  yearsincurrentrole        34 non-null     float64\n",
      " 29  yearssincelastpromotion   1614 non-null   int64  \n",
      " 30  yearswithcurrmanager      1614 non-null   int64  \n",
      " 31  datebirth                 1614 non-null   int64  \n",
      " 32  remotework                1614 non-null   object \n",
      "dtypes: float64(7), int64(17), object(9)\n",
      "memory usage: 428.7+ KB\n"
     ]
    }
   ],
   "source": [
    "datos.info()"
   ]
  },
  {
   "cell_type": "code",
   "execution_count": 157,
   "metadata": {},
   "outputs": [
    {
     "data": {
      "text/html": [
       "<div>\n",
       "<style scoped>\n",
       "    .dataframe tbody tr th:only-of-type {\n",
       "        vertical-align: middle;\n",
       "    }\n",
       "\n",
       "    .dataframe tbody tr th {\n",
       "        vertical-align: top;\n",
       "    }\n",
       "\n",
       "    .dataframe thead th {\n",
       "        text-align: right;\n",
       "    }\n",
       "</style>\n",
       "<table border=\"1\" class=\"dataframe\">\n",
       "  <thead>\n",
       "    <tr style=\"text-align: right;\">\n",
       "      <th></th>\n",
       "      <th>age</th>\n",
       "      <th>attrition</th>\n",
       "      <th>businesstravel</th>\n",
       "      <th>dailyrate</th>\n",
       "      <th>department</th>\n",
       "      <th>distancefromhome</th>\n",
       "      <th>education</th>\n",
       "      <th>educationfield</th>\n",
       "      <th>environmentsatisfaction</th>\n",
       "      <th>gender</th>\n",
       "      <th>hourlyrate</th>\n",
       "      <th>jobinvolvement</th>\n",
       "      <th>joblevel</th>\n",
       "      <th>jobrole</th>\n",
       "      <th>jobsatisfaction</th>\n",
       "      <th>maritalstatus</th>\n",
       "      <th>monthlyincome</th>\n",
       "      <th>monthlyrate</th>\n",
       "      <th>numcompaniesworked</th>\n",
       "      <th>overtime</th>\n",
       "      <th>percentsalaryhike</th>\n",
       "      <th>performancerating</th>\n",
       "      <th>relationshipsatisfaction</th>\n",
       "      <th>stockoptionlevel</th>\n",
       "      <th>totalworkingyears</th>\n",
       "      <th>trainingtimeslastyear</th>\n",
       "      <th>worklifebalance</th>\n",
       "      <th>yearsatcompany</th>\n",
       "      <th>yearsincurrentrole</th>\n",
       "      <th>yearssincelastpromotion</th>\n",
       "      <th>yearswithcurrmanager</th>\n",
       "      <th>datebirth</th>\n",
       "      <th>remotework</th>\n",
       "    </tr>\n",
       "  </thead>\n",
       "  <tbody>\n",
       "    <tr>\n",
       "      <th>1189</th>\n",
       "      <td>42</td>\n",
       "      <td>No</td>\n",
       "      <td>Travel frequently</td>\n",
       "      <td>1271.0</td>\n",
       "      <td>Research &amp; development</td>\n",
       "      <td>2</td>\n",
       "      <td>1</td>\n",
       "      <td>NaN</td>\n",
       "      <td>2</td>\n",
       "      <td>M</td>\n",
       "      <td>35.0</td>\n",
       "      <td>3</td>\n",
       "      <td>1</td>\n",
       "      <td>Research scientist</td>\n",
       "      <td>4</td>\n",
       "      <td>Single</td>\n",
       "      <td>NaN</td>\n",
       "      <td>9068</td>\n",
       "      <td>5</td>\n",
       "      <td>NaN</td>\n",
       "      <td>14</td>\n",
       "      <td>3.0</td>\n",
       "      <td>4</td>\n",
       "      <td>0</td>\n",
       "      <td>8.0</td>\n",
       "      <td>2</td>\n",
       "      <td>3.0</td>\n",
       "      <td>2</td>\n",
       "      <td>NaN</td>\n",
       "      <td>2</td>\n",
       "      <td>2</td>\n",
       "      <td>1981</td>\n",
       "      <td>Yes</td>\n",
       "    </tr>\n",
       "    <tr>\n",
       "      <th>799</th>\n",
       "      <td>34</td>\n",
       "      <td>No</td>\n",
       "      <td>Travel rarely</td>\n",
       "      <td>1346.0</td>\n",
       "      <td>NaN</td>\n",
       "      <td>38</td>\n",
       "      <td>2</td>\n",
       "      <td>NaN</td>\n",
       "      <td>2</td>\n",
       "      <td>M</td>\n",
       "      <td>93.0</td>\n",
       "      <td>3</td>\n",
       "      <td>1</td>\n",
       "      <td>Laboratory technician</td>\n",
       "      <td>4</td>\n",
       "      <td>Divorced</td>\n",
       "      <td>NaN</td>\n",
       "      <td>8758</td>\n",
       "      <td>0</td>\n",
       "      <td>NaN</td>\n",
       "      <td>11</td>\n",
       "      <td>3.0</td>\n",
       "      <td>3</td>\n",
       "      <td>1</td>\n",
       "      <td>3.0</td>\n",
       "      <td>2</td>\n",
       "      <td>3.0</td>\n",
       "      <td>2</td>\n",
       "      <td>NaN</td>\n",
       "      <td>1</td>\n",
       "      <td>2</td>\n",
       "      <td>1989</td>\n",
       "      <td>Yes</td>\n",
       "    </tr>\n",
       "    <tr>\n",
       "      <th>819</th>\n",
       "      <td>44</td>\n",
       "      <td>No</td>\n",
       "      <td>NaN</td>\n",
       "      <td>489.0</td>\n",
       "      <td>NaN</td>\n",
       "      <td>23</td>\n",
       "      <td>3</td>\n",
       "      <td>NaN</td>\n",
       "      <td>2</td>\n",
       "      <td>M</td>\n",
       "      <td>NaN</td>\n",
       "      <td>3</td>\n",
       "      <td>2</td>\n",
       "      <td>Laboratory technician</td>\n",
       "      <td>2</td>\n",
       "      <td>Married</td>\n",
       "      <td>NaN</td>\n",
       "      <td>25043</td>\n",
       "      <td>4</td>\n",
       "      <td>NaN</td>\n",
       "      <td>12</td>\n",
       "      <td>3.0</td>\n",
       "      <td>3</td>\n",
       "      <td>1</td>\n",
       "      <td>NaN</td>\n",
       "      <td>3</td>\n",
       "      <td>4.0</td>\n",
       "      <td>3</td>\n",
       "      <td>NaN</td>\n",
       "      <td>1</td>\n",
       "      <td>2</td>\n",
       "      <td>1979</td>\n",
       "      <td>Yes</td>\n",
       "    </tr>\n",
       "    <tr>\n",
       "      <th>1162</th>\n",
       "      <td>32</td>\n",
       "      <td>No</td>\n",
       "      <td>Travel rarely</td>\n",
       "      <td>529.0</td>\n",
       "      <td>NaN</td>\n",
       "      <td>2</td>\n",
       "      <td>3</td>\n",
       "      <td>Technical degree</td>\n",
       "      <td>4</td>\n",
       "      <td>M</td>\n",
       "      <td>78.0</td>\n",
       "      <td>3</td>\n",
       "      <td>1</td>\n",
       "      <td>Research scientist</td>\n",
       "      <td>1</td>\n",
       "      <td>NaN</td>\n",
       "      <td>NaN</td>\n",
       "      <td>11288</td>\n",
       "      <td>1</td>\n",
       "      <td>No</td>\n",
       "      <td>14</td>\n",
       "      <td>3.0</td>\n",
       "      <td>4</td>\n",
       "      <td>0</td>\n",
       "      <td>NaN</td>\n",
       "      <td>4</td>\n",
       "      <td>3.0</td>\n",
       "      <td>4</td>\n",
       "      <td>NaN</td>\n",
       "      <td>1</td>\n",
       "      <td>2</td>\n",
       "      <td>1991</td>\n",
       "      <td>Yes</td>\n",
       "    </tr>\n",
       "    <tr>\n",
       "      <th>1058</th>\n",
       "      <td>44</td>\n",
       "      <td>No</td>\n",
       "      <td>NaN</td>\n",
       "      <td>981.0</td>\n",
       "      <td>NaN</td>\n",
       "      <td>5</td>\n",
       "      <td>3</td>\n",
       "      <td>Life sciences</td>\n",
       "      <td>3</td>\n",
       "      <td>M</td>\n",
       "      <td>90.0</td>\n",
       "      <td>2</td>\n",
       "      <td>1</td>\n",
       "      <td>Laboratory technician</td>\n",
       "      <td>3</td>\n",
       "      <td>Single</td>\n",
       "      <td>3162.0</td>\n",
       "      <td>7973</td>\n",
       "      <td>3</td>\n",
       "      <td>NaN</td>\n",
       "      <td>14</td>\n",
       "      <td>3.0</td>\n",
       "      <td>4</td>\n",
       "      <td>0</td>\n",
       "      <td>7.0</td>\n",
       "      <td>5</td>\n",
       "      <td>3.0</td>\n",
       "      <td>5</td>\n",
       "      <td>NaN</td>\n",
       "      <td>0</td>\n",
       "      <td>3</td>\n",
       "      <td>1979</td>\n",
       "      <td>No</td>\n",
       "    </tr>\n",
       "  </tbody>\n",
       "</table>\n",
       "</div>"
      ],
      "text/plain": [
       "      age attrition     businesstravel  dailyrate              department  \\\n",
       "1189   42        No  Travel frequently     1271.0  Research & development   \n",
       "799    34        No      Travel rarely     1346.0                     NaN   \n",
       "819    44        No                NaN      489.0                     NaN   \n",
       "1162   32        No      Travel rarely      529.0                     NaN   \n",
       "1058   44        No                NaN      981.0                     NaN   \n",
       "\n",
       "      distancefromhome  education    educationfield  environmentsatisfaction  \\\n",
       "1189                 2          1               NaN                        2   \n",
       "799                 38          2               NaN                        2   \n",
       "819                 23          3               NaN                        2   \n",
       "1162                 2          3  Technical degree                        4   \n",
       "1058                 5          3     Life sciences                        3   \n",
       "\n",
       "     gender  hourlyrate  jobinvolvement  joblevel                jobrole  \\\n",
       "1189      M        35.0               3         1     Research scientist   \n",
       "799       M        93.0               3         1  Laboratory technician   \n",
       "819       M         NaN               3         2  Laboratory technician   \n",
       "1162      M        78.0               3         1     Research scientist   \n",
       "1058      M        90.0               2         1  Laboratory technician   \n",
       "\n",
       "      jobsatisfaction maritalstatus  monthlyincome  monthlyrate  \\\n",
       "1189                4        Single            NaN         9068   \n",
       "799                 4      Divorced            NaN         8758   \n",
       "819                 2       Married            NaN        25043   \n",
       "1162                1           NaN            NaN        11288   \n",
       "1058                3        Single         3162.0         7973   \n",
       "\n",
       "      numcompaniesworked overtime  percentsalaryhike  performancerating  \\\n",
       "1189                   5      NaN                 14                3.0   \n",
       "799                    0      NaN                 11                3.0   \n",
       "819                    4      NaN                 12                3.0   \n",
       "1162                   1       No                 14                3.0   \n",
       "1058                   3      NaN                 14                3.0   \n",
       "\n",
       "      relationshipsatisfaction  stockoptionlevel  totalworkingyears  \\\n",
       "1189                         4                 0                8.0   \n",
       "799                          3                 1                3.0   \n",
       "819                          3                 1                NaN   \n",
       "1162                         4                 0                NaN   \n",
       "1058                         4                 0                7.0   \n",
       "\n",
       "      trainingtimeslastyear  worklifebalance  yearsatcompany  \\\n",
       "1189                      2              3.0               2   \n",
       "799                       2              3.0               2   \n",
       "819                       3              4.0               3   \n",
       "1162                      4              3.0               4   \n",
       "1058                      5              3.0               5   \n",
       "\n",
       "      yearsincurrentrole  yearssincelastpromotion  yearswithcurrmanager  \\\n",
       "1189                 NaN                        2                     2   \n",
       "799                  NaN                        1                     2   \n",
       "819                  NaN                        1                     2   \n",
       "1162                 NaN                        1                     2   \n",
       "1058                 NaN                        0                     3   \n",
       "\n",
       "      datebirth remotework  \n",
       "1189       1981        Yes  \n",
       "799        1989        Yes  \n",
       "819        1979        Yes  \n",
       "1162       1991        Yes  \n",
       "1058       1979         No  "
      ]
     },
     "execution_count": 157,
     "metadata": {},
     "output_type": "execute_result"
    }
   ],
   "source": [
    "datos.sample(5)"
   ]
  },
  {
   "cell_type": "code",
   "execution_count": 111,
   "metadata": {},
   "outputs": [],
   "source": [
    "# Creamos copia de seguridad del archivo\n",
    "\n",
    "datos.to_csv('Datos/datos_empresa_V.1.clean.csv')"
   ]
  },
  {
   "cell_type": "markdown",
   "metadata": {},
   "source": [
    "### Gestion de Nulos"
   ]
  },
  {
   "cell_type": "code",
   "execution_count": 158,
   "metadata": {},
   "outputs": [],
   "source": [
    "datos = pd.read_csv('Datos/datos_empresa_V.1.clean.csv', index_col=0)"
   ]
  },
  {
   "cell_type": "code",
   "execution_count": 164,
   "metadata": {},
   "outputs": [
    {
     "name": "stdout",
     "output_type": "stream",
     "text": [
      "Las columnas categóricas que tienen nulos son : \n",
      " \n",
      "Index(['businesstravel', 'department', 'educationfield', 'maritalstatus',\n",
      "       'overtime'],\n",
      "      dtype='object')\n"
     ]
    }
   ],
   "source": [
    "# qué columnas tienen nulos\n",
    "\n",
    "nulos_cat = datos[datos.columns[datos.isnull().any()]].select_dtypes(include = \"O\").columns\n",
    "print(\"Las columnas categóricas que tienen nulos son : \\n \")\n",
    "print(nulos_cat)"
   ]
  },
  {
   "cell_type": "code",
   "execution_count": 160,
   "metadata": {},
   "outputs": [
    {
     "name": "stdout",
     "output_type": "stream",
     "text": [
      "La distribución de las categorías para la columna BUSINESSTRAVEL\n"
     ]
    },
    {
     "data": {
      "text/plain": [
       "businesstravel\n",
       "Travel rarely        0.363073\n",
       "Travel frequently    0.102230\n",
       "Nontravel            0.056382\n",
       "Name: count, dtype: float64"
      ]
     },
     "metadata": {},
     "output_type": "display_data"
    },
    {
     "name": "stdout",
     "output_type": "stream",
     "text": [
      "........................\n",
      "La distribución de las categorías para la columna DEPARTMENT\n"
     ]
    },
    {
     "data": {
      "text/plain": [
       "department\n",
       "Research & development    0.121437\n",
       "Sales                     0.056382\n",
       "Human resources           0.009294\n",
       "Name: count, dtype: float64"
      ]
     },
     "metadata": {},
     "output_type": "display_data"
    },
    {
     "name": "stdout",
     "output_type": "stream",
     "text": [
      "........................\n",
      "La distribución de las categorías para la columna EDUCATIONFIELD\n"
     ]
    },
    {
     "data": {
      "text/plain": [
       "educationfield\n",
       "Life sciences       0.216233\n",
       "Medical             0.171004\n",
       "Marketing           0.064436\n",
       "Technical degree    0.042751\n",
       "Other               0.036555\n",
       "Human resources     0.007435\n",
       "Name: count, dtype: float64"
      ]
     },
     "metadata": {},
     "output_type": "display_data"
    },
    {
     "name": "stdout",
     "output_type": "stream",
     "text": [
      "........................\n",
      "La distribución de las categorías para la columna MARITALSTATUS\n"
     ]
    },
    {
     "data": {
      "text/plain": [
       "maritalstatus\n",
       "Married     0.271995\n",
       "Single      0.201363\n",
       "Divorced    0.123296\n",
       "Name: count, dtype: float64"
      ]
     },
     "metadata": {},
     "output_type": "display_data"
    },
    {
     "name": "stdout",
     "output_type": "stream",
     "text": [
      "........................\n",
      "La distribución de las categorías para la columna OVERTIME\n"
     ]
    },
    {
     "data": {
      "text/plain": [
       "overtime\n",
       "No     0.422553\n",
       "Yes    0.158612\n",
       "Name: count, dtype: float64"
      ]
     },
     "metadata": {},
     "output_type": "display_data"
    },
    {
     "name": "stdout",
     "output_type": "stream",
     "text": [
      "........................\n"
     ]
    }
   ],
   "source": [
    "# Vemos la forma de estas columnas\n",
    "\n",
    "for col in nulos_cat:\n",
    "    print(f\"La distribución de las categorías para la columna {col.upper()}\")\n",
    "    display(datos[col].value_counts() / datos.shape[0])\n",
    "    print(\"........................\")"
   ]
  },
  {
   "cell_type": "code",
   "execution_count": 161,
   "metadata": {},
   "outputs": [
    {
     "data": {
      "text/plain": [
       "age                          0.000000\n",
       "attrition                    0.000000\n",
       "businesstravel              47.831475\n",
       "dailyrate                    7.682776\n",
       "department                  81.288724\n",
       "distancefromhome             0.000000\n",
       "education                    0.000000\n",
       "educationfield              46.158612\n",
       "environmentsatisfaction      0.000000\n",
       "gender                       0.000000\n",
       "hourlyrate                   5.204461\n",
       "jobinvolvement               0.000000\n",
       "joblevel                     0.000000\n",
       "jobrole                      0.000000\n",
       "jobsatisfaction              0.000000\n",
       "maritalstatus               40.334572\n",
       "monthlyincome               52.230483\n",
       "monthlyrate                  0.000000\n",
       "numcompaniesworked           0.000000\n",
       "overtime                    41.883519\n",
       "percentsalaryhike            0.000000\n",
       "performancerating           12.081784\n",
       "relationshipsatisfaction     0.000000\n",
       "stockoptionlevel             0.000000\n",
       "totalworkingyears           32.589839\n",
       "trainingtimeslastyear        0.000000\n",
       "worklifebalance              6.691450\n",
       "yearsatcompany               0.000000\n",
       "yearsincurrentrole          97.893432\n",
       "yearssincelastpromotion      0.000000\n",
       "yearswithcurrmanager         0.000000\n",
       "datebirth                    0.000000\n",
       "remotework                   0.000000\n",
       "dtype: float64"
      ]
     },
     "execution_count": 161,
     "metadata": {},
     "output_type": "execute_result"
    }
   ],
   "source": [
    "datos.isna().sum() / datos.shape[0] * 100"
   ]
  }
 ],
 "metadata": {
  "kernelspec": {
   "display_name": "Python 3",
   "language": "python",
   "name": "python3"
  },
  "language_info": {
   "codemirror_mode": {
    "name": "ipython",
    "version": 3
   },
   "file_extension": ".py",
   "mimetype": "text/x-python",
   "name": "python",
   "nbconvert_exporter": "python",
   "pygments_lexer": "ipython3",
   "version": "3.11.7"
  }
 },
 "nbformat": 4,
 "nbformat_minor": 2
}
