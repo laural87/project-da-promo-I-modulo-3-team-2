{
 "cells": [
  {
   "cell_type": "code",
   "execution_count": 1,
   "metadata": {},
   "outputs": [],
   "source": [
    "# importamos las librerías que necesitamos\n",
    "\n",
    "# Tratamiento de datos\n",
    "# -----------------------------------------------------------------------\n",
    "import pandas as pd\n",
    "import numpy as np\n",
    "\n",
    "from sklearn.impute import SimpleImputer\n",
    "from sklearn.experimental import enable_iterative_imputer\n",
    "from sklearn.impute import IterativeImputer\n",
    "from sklearn.impute import KNNImputer\n",
    "# Librerías de visualización\n",
    "# -----------------------------------------------------------------------\n",
    "import seaborn as sns\n",
    "import matplotlib.pyplot as plt\n",
    "\n",
    "\n",
    "# Configuración\n",
    "# -----------------------------------------------------------------------\n",
    "pd.set_option('display.max_columns', None) # para poder visualizar todas las columnas de los DataFrames\n",
    "pd.set_option('display.max_colwidth', None) # para visualizar todo el contenido de los valores\n",
    "#pd.set_option('display.max_rows', None) # Para visualizar todo el contenido de las filas"
   ]
  },
  {
   "cell_type": "code",
   "execution_count": 2,
   "metadata": {},
   "outputs": [],
   "source": [
    "datos = pd.read_csv('Datos/datos_empresa.csv', index_col=0)\n",
    "datos_limpios = pd.read_csv('Datos/datos_empresa_V1.csv', index_col=0)\n"
   ]
  },
  {
   "cell_type": "code",
   "execution_count": 3,
   "metadata": {},
   "outputs": [
    {
     "data": {
      "text/html": [
       "<div>\n",
       "<style scoped>\n",
       "    .dataframe tbody tr th:only-of-type {\n",
       "        vertical-align: middle;\n",
       "    }\n",
       "\n",
       "    .dataframe tbody tr th {\n",
       "        vertical-align: top;\n",
       "    }\n",
       "\n",
       "    .dataframe thead th {\n",
       "        text-align: right;\n",
       "    }\n",
       "</style>\n",
       "<table border=\"1\" class=\"dataframe\">\n",
       "  <thead>\n",
       "    <tr style=\"text-align: right;\">\n",
       "      <th></th>\n",
       "      <th>datos2</th>\n",
       "    </tr>\n",
       "  </thead>\n",
       "  <tbody>\n",
       "    <tr>\n",
       "      <th>0</th>\n",
       "      <td>Age</td>\n",
       "    </tr>\n",
       "    <tr>\n",
       "      <th>1</th>\n",
       "      <td>Attrition</td>\n",
       "    </tr>\n",
       "    <tr>\n",
       "      <th>2</th>\n",
       "      <td>BusinessTravel</td>\n",
       "    </tr>\n",
       "    <tr>\n",
       "      <th>3</th>\n",
       "      <td>DailyRate</td>\n",
       "    </tr>\n",
       "    <tr>\n",
       "      <th>4</th>\n",
       "      <td>Department</td>\n",
       "    </tr>\n",
       "    <tr>\n",
       "      <th>5</th>\n",
       "      <td>DistanceFromHome</td>\n",
       "    </tr>\n",
       "    <tr>\n",
       "      <th>6</th>\n",
       "      <td>Education</td>\n",
       "    </tr>\n",
       "    <tr>\n",
       "      <th>7</th>\n",
       "      <td>EducationField</td>\n",
       "    </tr>\n",
       "    <tr>\n",
       "      <th>8</th>\n",
       "      <td>employeenumber</td>\n",
       "    </tr>\n",
       "    <tr>\n",
       "      <th>9</th>\n",
       "      <td>EnvironmentSatisfaction</td>\n",
       "    </tr>\n",
       "    <tr>\n",
       "      <th>10</th>\n",
       "      <td>Gender</td>\n",
       "    </tr>\n",
       "    <tr>\n",
       "      <th>11</th>\n",
       "      <td>HourlyRate</td>\n",
       "    </tr>\n",
       "    <tr>\n",
       "      <th>12</th>\n",
       "      <td>JobInvolvement</td>\n",
       "    </tr>\n",
       "    <tr>\n",
       "      <th>13</th>\n",
       "      <td>JobLevel</td>\n",
       "    </tr>\n",
       "    <tr>\n",
       "      <th>14</th>\n",
       "      <td>JobRole</td>\n",
       "    </tr>\n",
       "    <tr>\n",
       "      <th>15</th>\n",
       "      <td>JobSatisfaction</td>\n",
       "    </tr>\n",
       "    <tr>\n",
       "      <th>16</th>\n",
       "      <td>MaritalStatus</td>\n",
       "    </tr>\n",
       "    <tr>\n",
       "      <th>17</th>\n",
       "      <td>MonthlyIncome</td>\n",
       "    </tr>\n",
       "    <tr>\n",
       "      <th>18</th>\n",
       "      <td>MonthlyRate</td>\n",
       "    </tr>\n",
       "    <tr>\n",
       "      <th>19</th>\n",
       "      <td>NUMCOMPANIESWORKED</td>\n",
       "    </tr>\n",
       "    <tr>\n",
       "      <th>20</th>\n",
       "      <td>OverTime</td>\n",
       "    </tr>\n",
       "    <tr>\n",
       "      <th>21</th>\n",
       "      <td>PercentSalaryHike</td>\n",
       "    </tr>\n",
       "    <tr>\n",
       "      <th>22</th>\n",
       "      <td>PerformanceRating</td>\n",
       "    </tr>\n",
       "    <tr>\n",
       "      <th>23</th>\n",
       "      <td>RelationshipSatisfaction</td>\n",
       "    </tr>\n",
       "    <tr>\n",
       "      <th>24</th>\n",
       "      <td>StandardHours</td>\n",
       "    </tr>\n",
       "    <tr>\n",
       "      <th>25</th>\n",
       "      <td>StockOptionLevel</td>\n",
       "    </tr>\n",
       "    <tr>\n",
       "      <th>26</th>\n",
       "      <td>TOTALWORKINGYEARS</td>\n",
       "    </tr>\n",
       "    <tr>\n",
       "      <th>27</th>\n",
       "      <td>TrainingTimesLastYear</td>\n",
       "    </tr>\n",
       "    <tr>\n",
       "      <th>28</th>\n",
       "      <td>WORKLIFEBALANCE</td>\n",
       "    </tr>\n",
       "    <tr>\n",
       "      <th>29</th>\n",
       "      <td>YearsAtCompany</td>\n",
       "    </tr>\n",
       "    <tr>\n",
       "      <th>30</th>\n",
       "      <td>YearsInCurrentRole</td>\n",
       "    </tr>\n",
       "    <tr>\n",
       "      <th>31</th>\n",
       "      <td>YearsSinceLastPromotion</td>\n",
       "    </tr>\n",
       "    <tr>\n",
       "      <th>32</th>\n",
       "      <td>YEARSWITHCURRMANAGER</td>\n",
       "    </tr>\n",
       "    <tr>\n",
       "      <th>33</th>\n",
       "      <td>DateBirth</td>\n",
       "    </tr>\n",
       "    <tr>\n",
       "      <th>34</th>\n",
       "      <td>RemoteWork</td>\n",
       "    </tr>\n",
       "  </tbody>\n",
       "</table>\n",
       "</div>"
      ],
      "text/plain": [
       "                      datos2\n",
       "0                        Age\n",
       "1                  Attrition\n",
       "2             BusinessTravel\n",
       "3                  DailyRate\n",
       "4                 Department\n",
       "5           DistanceFromHome\n",
       "6                  Education\n",
       "7             EducationField\n",
       "8             employeenumber\n",
       "9    EnvironmentSatisfaction\n",
       "10                    Gender\n",
       "11                HourlyRate\n",
       "12            JobInvolvement\n",
       "13                  JobLevel\n",
       "14                   JobRole\n",
       "15           JobSatisfaction\n",
       "16             MaritalStatus\n",
       "17             MonthlyIncome\n",
       "18               MonthlyRate\n",
       "19        NUMCOMPANIESWORKED\n",
       "20                  OverTime\n",
       "21         PercentSalaryHike\n",
       "22         PerformanceRating\n",
       "23  RelationshipSatisfaction\n",
       "24             StandardHours\n",
       "25          StockOptionLevel\n",
       "26         TOTALWORKINGYEARS\n",
       "27     TrainingTimesLastYear\n",
       "28           WORKLIFEBALANCE\n",
       "29            YearsAtCompany\n",
       "30        YearsInCurrentRole\n",
       "31   YearsSinceLastPromotion\n",
       "32      YEARSWITHCURRMANAGER\n",
       "33                 DateBirth\n",
       "34                RemoteWork"
      ]
     },
     "execution_count": 3,
     "metadata": {},
     "output_type": "execute_result"
    }
   ],
   "source": [
    "#Creamos Dataframe de las columnas de los df a comparar\n",
    "\n",
    "datos_col = pd.DataFrame(list(datos.columns), columns=['datos'])\n",
    "datos_col\n",
    "datos_limpio_col = pd.DataFrame(list(datos_limpios.columns), columns=['datos2'])\n",
    "datos_limpio_col\n"
   ]
  },
  {
   "cell_type": "code",
   "execution_count": 4,
   "metadata": {},
   "outputs": [
    {
     "data": {
      "text/html": [
       "<div>\n",
       "<style scoped>\n",
       "    .dataframe tbody tr th:only-of-type {\n",
       "        vertical-align: middle;\n",
       "    }\n",
       "\n",
       "    .dataframe tbody tr th {\n",
       "        vertical-align: top;\n",
       "    }\n",
       "\n",
       "    .dataframe thead th {\n",
       "        text-align: right;\n",
       "    }\n",
       "</style>\n",
       "<table border=\"1\" class=\"dataframe\">\n",
       "  <thead>\n",
       "    <tr style=\"text-align: right;\">\n",
       "      <th></th>\n",
       "      <th>datos</th>\n",
       "      <th>datos2</th>\n",
       "    </tr>\n",
       "  </thead>\n",
       "  <tbody>\n",
       "    <tr>\n",
       "      <th>0</th>\n",
       "      <td>Age</td>\n",
       "      <td>Age</td>\n",
       "    </tr>\n",
       "    <tr>\n",
       "      <th>1</th>\n",
       "      <td>Attrition</td>\n",
       "      <td>Attrition</td>\n",
       "    </tr>\n",
       "    <tr>\n",
       "      <th>2</th>\n",
       "      <td>BusinessTravel</td>\n",
       "      <td>BusinessTravel</td>\n",
       "    </tr>\n",
       "    <tr>\n",
       "      <th>3</th>\n",
       "      <td>DailyRate</td>\n",
       "      <td>DailyRate</td>\n",
       "    </tr>\n",
       "    <tr>\n",
       "      <th>4</th>\n",
       "      <td>Department</td>\n",
       "      <td>Department</td>\n",
       "    </tr>\n",
       "    <tr>\n",
       "      <th>5</th>\n",
       "      <td>DistanceFromHome</td>\n",
       "      <td>DistanceFromHome</td>\n",
       "    </tr>\n",
       "    <tr>\n",
       "      <th>6</th>\n",
       "      <td>Education</td>\n",
       "      <td>Education</td>\n",
       "    </tr>\n",
       "    <tr>\n",
       "      <th>7</th>\n",
       "      <td>EducationField</td>\n",
       "      <td>EducationField</td>\n",
       "    </tr>\n",
       "    <tr>\n",
       "      <th>8</th>\n",
       "      <td>employeecount</td>\n",
       "      <td>NaN</td>\n",
       "    </tr>\n",
       "    <tr>\n",
       "      <th>9</th>\n",
       "      <td>employeenumber</td>\n",
       "      <td>employeenumber</td>\n",
       "    </tr>\n",
       "    <tr>\n",
       "      <th>10</th>\n",
       "      <td>EnvironmentSatisfaction</td>\n",
       "      <td>EnvironmentSatisfaction</td>\n",
       "    </tr>\n",
       "    <tr>\n",
       "      <th>11</th>\n",
       "      <td>Gender</td>\n",
       "      <td>Gender</td>\n",
       "    </tr>\n",
       "    <tr>\n",
       "      <th>12</th>\n",
       "      <td>HourlyRate</td>\n",
       "      <td>HourlyRate</td>\n",
       "    </tr>\n",
       "    <tr>\n",
       "      <th>13</th>\n",
       "      <td>JobInvolvement</td>\n",
       "      <td>JobInvolvement</td>\n",
       "    </tr>\n",
       "    <tr>\n",
       "      <th>14</th>\n",
       "      <td>JobLevel</td>\n",
       "      <td>JobLevel</td>\n",
       "    </tr>\n",
       "    <tr>\n",
       "      <th>15</th>\n",
       "      <td>JobRole</td>\n",
       "      <td>JobRole</td>\n",
       "    </tr>\n",
       "    <tr>\n",
       "      <th>16</th>\n",
       "      <td>JobSatisfaction</td>\n",
       "      <td>JobSatisfaction</td>\n",
       "    </tr>\n",
       "    <tr>\n",
       "      <th>17</th>\n",
       "      <td>MaritalStatus</td>\n",
       "      <td>MaritalStatus</td>\n",
       "    </tr>\n",
       "    <tr>\n",
       "      <th>18</th>\n",
       "      <td>MonthlyIncome</td>\n",
       "      <td>MonthlyIncome</td>\n",
       "    </tr>\n",
       "    <tr>\n",
       "      <th>19</th>\n",
       "      <td>MonthlyRate</td>\n",
       "      <td>MonthlyRate</td>\n",
       "    </tr>\n",
       "    <tr>\n",
       "      <th>20</th>\n",
       "      <td>NUMCOMPANIESWORKED</td>\n",
       "      <td>NUMCOMPANIESWORKED</td>\n",
       "    </tr>\n",
       "    <tr>\n",
       "      <th>21</th>\n",
       "      <td>Over18</td>\n",
       "      <td>NaN</td>\n",
       "    </tr>\n",
       "    <tr>\n",
       "      <th>22</th>\n",
       "      <td>OverTime</td>\n",
       "      <td>OverTime</td>\n",
       "    </tr>\n",
       "    <tr>\n",
       "      <th>23</th>\n",
       "      <td>PercentSalaryHike</td>\n",
       "      <td>PercentSalaryHike</td>\n",
       "    </tr>\n",
       "    <tr>\n",
       "      <th>24</th>\n",
       "      <td>PerformanceRating</td>\n",
       "      <td>PerformanceRating</td>\n",
       "    </tr>\n",
       "    <tr>\n",
       "      <th>25</th>\n",
       "      <td>RelationshipSatisfaction</td>\n",
       "      <td>RelationshipSatisfaction</td>\n",
       "    </tr>\n",
       "    <tr>\n",
       "      <th>26</th>\n",
       "      <td>StandardHours</td>\n",
       "      <td>StandardHours</td>\n",
       "    </tr>\n",
       "    <tr>\n",
       "      <th>27</th>\n",
       "      <td>StockOptionLevel</td>\n",
       "      <td>StockOptionLevel</td>\n",
       "    </tr>\n",
       "    <tr>\n",
       "      <th>28</th>\n",
       "      <td>TOTALWORKINGYEARS</td>\n",
       "      <td>TOTALWORKINGYEARS</td>\n",
       "    </tr>\n",
       "    <tr>\n",
       "      <th>29</th>\n",
       "      <td>TrainingTimesLastYear</td>\n",
       "      <td>TrainingTimesLastYear</td>\n",
       "    </tr>\n",
       "    <tr>\n",
       "      <th>30</th>\n",
       "      <td>WORKLIFEBALANCE</td>\n",
       "      <td>WORKLIFEBALANCE</td>\n",
       "    </tr>\n",
       "    <tr>\n",
       "      <th>31</th>\n",
       "      <td>YearsAtCompany</td>\n",
       "      <td>YearsAtCompany</td>\n",
       "    </tr>\n",
       "    <tr>\n",
       "      <th>32</th>\n",
       "      <td>YearsInCurrentRole</td>\n",
       "      <td>YearsInCurrentRole</td>\n",
       "    </tr>\n",
       "    <tr>\n",
       "      <th>33</th>\n",
       "      <td>YearsSinceLastPromotion</td>\n",
       "      <td>YearsSinceLastPromotion</td>\n",
       "    </tr>\n",
       "    <tr>\n",
       "      <th>34</th>\n",
       "      <td>YEARSWITHCURRMANAGER</td>\n",
       "      <td>YEARSWITHCURRMANAGER</td>\n",
       "    </tr>\n",
       "    <tr>\n",
       "      <th>35</th>\n",
       "      <td>SameAsMonthlyIncome</td>\n",
       "      <td>NaN</td>\n",
       "    </tr>\n",
       "    <tr>\n",
       "      <th>36</th>\n",
       "      <td>DateBirth</td>\n",
       "      <td>DateBirth</td>\n",
       "    </tr>\n",
       "    <tr>\n",
       "      <th>37</th>\n",
       "      <td>Salary</td>\n",
       "      <td>NaN</td>\n",
       "    </tr>\n",
       "    <tr>\n",
       "      <th>38</th>\n",
       "      <td>RoleDepartament</td>\n",
       "      <td>NaN</td>\n",
       "    </tr>\n",
       "    <tr>\n",
       "      <th>39</th>\n",
       "      <td>NUMBERCHILDREN</td>\n",
       "      <td>NaN</td>\n",
       "    </tr>\n",
       "    <tr>\n",
       "      <th>40</th>\n",
       "      <td>RemoteWork</td>\n",
       "      <td>RemoteWork</td>\n",
       "    </tr>\n",
       "  </tbody>\n",
       "</table>\n",
       "</div>"
      ],
      "text/plain": [
       "                       datos                    datos2\n",
       "0                        Age                       Age\n",
       "1                  Attrition                 Attrition\n",
       "2             BusinessTravel            BusinessTravel\n",
       "3                  DailyRate                 DailyRate\n",
       "4                 Department                Department\n",
       "5           DistanceFromHome          DistanceFromHome\n",
       "6                  Education                 Education\n",
       "7             EducationField            EducationField\n",
       "8              employeecount                       NaN\n",
       "9             employeenumber            employeenumber\n",
       "10   EnvironmentSatisfaction   EnvironmentSatisfaction\n",
       "11                    Gender                    Gender\n",
       "12                HourlyRate                HourlyRate\n",
       "13            JobInvolvement            JobInvolvement\n",
       "14                  JobLevel                  JobLevel\n",
       "15                   JobRole                   JobRole\n",
       "16           JobSatisfaction           JobSatisfaction\n",
       "17             MaritalStatus             MaritalStatus\n",
       "18             MonthlyIncome             MonthlyIncome\n",
       "19               MonthlyRate               MonthlyRate\n",
       "20        NUMCOMPANIESWORKED        NUMCOMPANIESWORKED\n",
       "21                    Over18                       NaN\n",
       "22                  OverTime                  OverTime\n",
       "23         PercentSalaryHike         PercentSalaryHike\n",
       "24         PerformanceRating         PerformanceRating\n",
       "25  RelationshipSatisfaction  RelationshipSatisfaction\n",
       "26             StandardHours             StandardHours\n",
       "27          StockOptionLevel          StockOptionLevel\n",
       "28         TOTALWORKINGYEARS         TOTALWORKINGYEARS\n",
       "29     TrainingTimesLastYear     TrainingTimesLastYear\n",
       "30           WORKLIFEBALANCE           WORKLIFEBALANCE\n",
       "31            YearsAtCompany            YearsAtCompany\n",
       "32        YearsInCurrentRole        YearsInCurrentRole\n",
       "33   YearsSinceLastPromotion   YearsSinceLastPromotion\n",
       "34      YEARSWITHCURRMANAGER      YEARSWITHCURRMANAGER\n",
       "35       SameAsMonthlyIncome                       NaN\n",
       "36                 DateBirth                 DateBirth\n",
       "37                    Salary                       NaN\n",
       "38           RoleDepartament                       NaN\n",
       "39            NUMBERCHILDREN                       NaN\n",
       "40                RemoteWork                RemoteWork"
      ]
     },
     "execution_count": 4,
     "metadata": {},
     "output_type": "execute_result"
    }
   ],
   "source": [
    "# mergeamos las columnas para saber si tenemos duplicados\n",
    "\n",
    "df_merge = datos_col.merge(datos_limpio_col, left_on='datos', right_on='datos2', how = 'left')\n",
    "df_merge"
   ]
  },
  {
   "cell_type": "code",
   "execution_count": 5,
   "metadata": {},
   "outputs": [
    {
     "data": {
      "text/html": [
       "<div>\n",
       "<style scoped>\n",
       "    .dataframe tbody tr th:only-of-type {\n",
       "        vertical-align: middle;\n",
       "    }\n",
       "\n",
       "    .dataframe tbody tr th {\n",
       "        vertical-align: top;\n",
       "    }\n",
       "\n",
       "    .dataframe thead th {\n",
       "        text-align: right;\n",
       "    }\n",
       "</style>\n",
       "<table border=\"1\" class=\"dataframe\">\n",
       "  <thead>\n",
       "    <tr style=\"text-align: right;\">\n",
       "      <th></th>\n",
       "      <th>datos</th>\n",
       "      <th>datos2</th>\n",
       "    </tr>\n",
       "  </thead>\n",
       "  <tbody>\n",
       "    <tr>\n",
       "      <th>8</th>\n",
       "      <td>employeecount</td>\n",
       "      <td>NaN</td>\n",
       "    </tr>\n",
       "    <tr>\n",
       "      <th>21</th>\n",
       "      <td>Over18</td>\n",
       "      <td>NaN</td>\n",
       "    </tr>\n",
       "    <tr>\n",
       "      <th>35</th>\n",
       "      <td>SameAsMonthlyIncome</td>\n",
       "      <td>NaN</td>\n",
       "    </tr>\n",
       "    <tr>\n",
       "      <th>37</th>\n",
       "      <td>Salary</td>\n",
       "      <td>NaN</td>\n",
       "    </tr>\n",
       "    <tr>\n",
       "      <th>38</th>\n",
       "      <td>RoleDepartament</td>\n",
       "      <td>NaN</td>\n",
       "    </tr>\n",
       "    <tr>\n",
       "      <th>39</th>\n",
       "      <td>NUMBERCHILDREN</td>\n",
       "      <td>NaN</td>\n",
       "    </tr>\n",
       "  </tbody>\n",
       "</table>\n",
       "</div>"
      ],
      "text/plain": [
       "                  datos datos2\n",
       "8         employeecount    NaN\n",
       "21               Over18    NaN\n",
       "35  SameAsMonthlyIncome    NaN\n",
       "37               Salary    NaN\n",
       "38      RoleDepartament    NaN\n",
       "39       NUMBERCHILDREN    NaN"
      ]
     },
     "execution_count": 5,
     "metadata": {},
     "output_type": "execute_result"
    }
   ],
   "source": [
    "#filtro para saber columnas que habíamos borrado\n",
    "\n",
    "filtro = df_merge['datos2'].isna()\n",
    "df_filtro = df_merge[filtro]\n",
    "\n",
    "df_filtro"
   ]
  },
  {
   "cell_type": "code",
   "execution_count": 6,
   "metadata": {},
   "outputs": [
    {
     "data": {
      "text/plain": [
       "0      True\n",
       "1      True\n",
       "2      True\n",
       "3      True\n",
       "4      True\n",
       "5      True\n",
       "6      True\n",
       "7      True\n",
       "8     False\n",
       "9      True\n",
       "10     True\n",
       "11     True\n",
       "12     True\n",
       "13     True\n",
       "14     True\n",
       "15     True\n",
       "16     True\n",
       "17     True\n",
       "18     True\n",
       "19     True\n",
       "20     True\n",
       "21    False\n",
       "22     True\n",
       "23     True\n",
       "24     True\n",
       "25     True\n",
       "26     True\n",
       "27     True\n",
       "28     True\n",
       "29     True\n",
       "30     True\n",
       "31     True\n",
       "32     True\n",
       "33     True\n",
       "34     True\n",
       "35    False\n",
       "36     True\n",
       "37    False\n",
       "38    False\n",
       "39    False\n",
       "40     True\n",
       "dtype: bool"
      ]
     },
     "execution_count": 6,
     "metadata": {},
     "output_type": "execute_result"
    }
   ],
   "source": [
    "comparacion = df_merge['datos'] == df_merge['datos2']\n",
    "comparacion"
   ]
  },
  {
   "cell_type": "code",
   "execution_count": 7,
   "metadata": {},
   "outputs": [
    {
     "data": {
      "text/plain": [
       "Index(['Age', 'Attrition', 'BusinessTravel', 'DailyRate', 'Department',\n",
       "       'DistanceFromHome', 'Education', 'EducationField', 'employeecount',\n",
       "       'employeenumber', 'EnvironmentSatisfaction', 'Gender', 'HourlyRate',\n",
       "       'JobInvolvement', 'JobLevel', 'JobRole', 'JobSatisfaction',\n",
       "       'MaritalStatus', 'MonthlyIncome', 'MonthlyRate', 'NUMCOMPANIESWORKED',\n",
       "       'Over18', 'OverTime', 'PercentSalaryHike', 'PerformanceRating',\n",
       "       'RelationshipSatisfaction', 'StandardHours', 'StockOptionLevel',\n",
       "       'TOTALWORKINGYEARS', 'TrainingTimesLastYear', 'WORKLIFEBALANCE',\n",
       "       'YearsAtCompany', 'YearsInCurrentRole', 'YearsSinceLastPromotion',\n",
       "       'YEARSWITHCURRMANAGER', 'SameAsMonthlyIncome', 'DateBirth', 'Salary',\n",
       "       'RoleDepartament', 'NUMBERCHILDREN', 'RemoteWork'],\n",
       "      dtype='object')"
      ]
     },
     "execution_count": 7,
     "metadata": {},
     "output_type": "execute_result"
    }
   ],
   "source": [
    "datos.columns"
   ]
  },
  {
   "cell_type": "code",
   "execution_count": 8,
   "metadata": {},
   "outputs": [],
   "source": [
    "#borramos columnas que no necesitamos\n",
    "\n",
    "datos.drop( columns = ['employeecount','Over18','SameAsMonthlyIncome', 'Salary', 'RoleDepartament', 'NUMBERCHILDREN','employeenumber','StandardHours'], inplace= True)"
   ]
  },
  {
   "cell_type": "code",
   "execution_count": 9,
   "metadata": {},
   "outputs": [
    {
     "data": {
      "text/html": [
       "<div>\n",
       "<style scoped>\n",
       "    .dataframe tbody tr th:only-of-type {\n",
       "        vertical-align: middle;\n",
       "    }\n",
       "\n",
       "    .dataframe tbody tr th {\n",
       "        vertical-align: top;\n",
       "    }\n",
       "\n",
       "    .dataframe thead th {\n",
       "        text-align: right;\n",
       "    }\n",
       "</style>\n",
       "<table border=\"1\" class=\"dataframe\">\n",
       "  <thead>\n",
       "    <tr style=\"text-align: right;\">\n",
       "      <th></th>\n",
       "      <th>age</th>\n",
       "      <th>attrition</th>\n",
       "      <th>businesstravel</th>\n",
       "      <th>dailyrate</th>\n",
       "      <th>department</th>\n",
       "      <th>distancefromhome</th>\n",
       "      <th>education</th>\n",
       "      <th>educationfield</th>\n",
       "      <th>environmentsatisfaction</th>\n",
       "      <th>gender</th>\n",
       "      <th>hourlyrate</th>\n",
       "      <th>jobinvolvement</th>\n",
       "      <th>joblevel</th>\n",
       "      <th>jobrole</th>\n",
       "      <th>jobsatisfaction</th>\n",
       "      <th>maritalstatus</th>\n",
       "      <th>monthlyincome</th>\n",
       "      <th>monthlyrate</th>\n",
       "      <th>numcompaniesworked</th>\n",
       "      <th>overtime</th>\n",
       "      <th>percentsalaryhike</th>\n",
       "      <th>performancerating</th>\n",
       "      <th>relationshipsatisfaction</th>\n",
       "      <th>stockoptionlevel</th>\n",
       "      <th>totalworkingyears</th>\n",
       "      <th>trainingtimeslastyear</th>\n",
       "      <th>worklifebalance</th>\n",
       "      <th>yearsatcompany</th>\n",
       "      <th>yearsincurrentrole</th>\n",
       "      <th>yearssincelastpromotion</th>\n",
       "      <th>yearswithcurrmanager</th>\n",
       "      <th>datebirth</th>\n",
       "      <th>remotework</th>\n",
       "    </tr>\n",
       "  </thead>\n",
       "  <tbody>\n",
       "    <tr>\n",
       "      <th>0</th>\n",
       "      <td>51</td>\n",
       "      <td>No</td>\n",
       "      <td>NaN</td>\n",
       "      <td>684,0$</td>\n",
       "      <td>NaN</td>\n",
       "      <td>6</td>\n",
       "      <td>3</td>\n",
       "      <td>NaN</td>\n",
       "      <td>1</td>\n",
       "      <td>0</td>\n",
       "      <td>51</td>\n",
       "      <td>3</td>\n",
       "      <td>5</td>\n",
       "      <td>resEArch DIREcToR</td>\n",
       "      <td>3</td>\n",
       "      <td>NaN</td>\n",
       "      <td>19537,0</td>\n",
       "      <td>6462</td>\n",
       "      <td>7</td>\n",
       "      <td>No</td>\n",
       "      <td>13</td>\n",
       "      <td>3,0</td>\n",
       "      <td>3</td>\n",
       "      <td>0</td>\n",
       "      <td>NaN</td>\n",
       "      <td>5</td>\n",
       "      <td>3,0</td>\n",
       "      <td>20</td>\n",
       "      <td>NaN</td>\n",
       "      <td>15</td>\n",
       "      <td>15</td>\n",
       "      <td>1972</td>\n",
       "      <td>Yes</td>\n",
       "    </tr>\n",
       "    <tr>\n",
       "      <th>1</th>\n",
       "      <td>52</td>\n",
       "      <td>No</td>\n",
       "      <td>NaN</td>\n",
       "      <td>699,0$</td>\n",
       "      <td>NaN</td>\n",
       "      <td>1</td>\n",
       "      <td>4</td>\n",
       "      <td>Life Sciences</td>\n",
       "      <td>3</td>\n",
       "      <td>0</td>\n",
       "      <td>65</td>\n",
       "      <td>2</td>\n",
       "      <td>5</td>\n",
       "      <td>ManAGeR</td>\n",
       "      <td>3</td>\n",
       "      <td>NaN</td>\n",
       "      <td>19999,0</td>\n",
       "      <td>5678</td>\n",
       "      <td>0</td>\n",
       "      <td>NaN</td>\n",
       "      <td>14</td>\n",
       "      <td>3,0</td>\n",
       "      <td>1</td>\n",
       "      <td>1</td>\n",
       "      <td>34,0</td>\n",
       "      <td>5</td>\n",
       "      <td>3,0</td>\n",
       "      <td>33</td>\n",
       "      <td>NaN</td>\n",
       "      <td>11</td>\n",
       "      <td>9</td>\n",
       "      <td>1971</td>\n",
       "      <td>1</td>\n",
       "    </tr>\n",
       "    <tr>\n",
       "      <th>2</th>\n",
       "      <td>42</td>\n",
       "      <td>No</td>\n",
       "      <td>travel_rarely</td>\n",
       "      <td>532,0$</td>\n",
       "      <td>Research &amp; Development</td>\n",
       "      <td>4</td>\n",
       "      <td>2</td>\n",
       "      <td>Technical Degree</td>\n",
       "      <td>3</td>\n",
       "      <td>0</td>\n",
       "      <td>58</td>\n",
       "      <td>3</td>\n",
       "      <td>5</td>\n",
       "      <td>ManaGER</td>\n",
       "      <td>4</td>\n",
       "      <td>Married</td>\n",
       "      <td>19232,0</td>\n",
       "      <td>4933</td>\n",
       "      <td>1</td>\n",
       "      <td>No</td>\n",
       "      <td>11</td>\n",
       "      <td>3,0</td>\n",
       "      <td>4</td>\n",
       "      <td>0</td>\n",
       "      <td>22,0</td>\n",
       "      <td>3</td>\n",
       "      <td>NaN</td>\n",
       "      <td>22</td>\n",
       "      <td>NaN</td>\n",
       "      <td>11</td>\n",
       "      <td>15</td>\n",
       "      <td>1981</td>\n",
       "      <td>1</td>\n",
       "    </tr>\n",
       "    <tr>\n",
       "      <th>3</th>\n",
       "      <td>47</td>\n",
       "      <td>No</td>\n",
       "      <td>travel_rarely</td>\n",
       "      <td>359,0$</td>\n",
       "      <td>NaN</td>\n",
       "      <td>2</td>\n",
       "      <td>4</td>\n",
       "      <td>Medical</td>\n",
       "      <td>1</td>\n",
       "      <td>1</td>\n",
       "      <td>82</td>\n",
       "      <td>3</td>\n",
       "      <td>4</td>\n",
       "      <td>ReseArCH DIrECtOr</td>\n",
       "      <td>3</td>\n",
       "      <td>Married</td>\n",
       "      <td>17169,0</td>\n",
       "      <td>26703</td>\n",
       "      <td>3</td>\n",
       "      <td>NaN</td>\n",
       "      <td>19</td>\n",
       "      <td>3,0</td>\n",
       "      <td>2</td>\n",
       "      <td>2</td>\n",
       "      <td>NaN</td>\n",
       "      <td>2</td>\n",
       "      <td>NaN</td>\n",
       "      <td>20</td>\n",
       "      <td>NaN</td>\n",
       "      <td>5</td>\n",
       "      <td>6</td>\n",
       "      <td>1976</td>\n",
       "      <td>False</td>\n",
       "    </tr>\n",
       "    <tr>\n",
       "      <th>4</th>\n",
       "      <td>46</td>\n",
       "      <td>No</td>\n",
       "      <td>NaN</td>\n",
       "      <td>1319,0$</td>\n",
       "      <td>NaN</td>\n",
       "      <td>3</td>\n",
       "      <td>3</td>\n",
       "      <td>Technical Degree</td>\n",
       "      <td>1</td>\n",
       "      <td>1</td>\n",
       "      <td>45</td>\n",
       "      <td>4</td>\n",
       "      <td>4</td>\n",
       "      <td>sAleS EXECUtIve</td>\n",
       "      <td>1</td>\n",
       "      <td>Divorced</td>\n",
       "      <td>NaN</td>\n",
       "      <td>7739</td>\n",
       "      <td>2</td>\n",
       "      <td>No</td>\n",
       "      <td>12</td>\n",
       "      <td>3,0</td>\n",
       "      <td>4</td>\n",
       "      <td>1</td>\n",
       "      <td>NaN</td>\n",
       "      <td>5</td>\n",
       "      <td>3,0</td>\n",
       "      <td>19</td>\n",
       "      <td>NaN</td>\n",
       "      <td>2</td>\n",
       "      <td>8</td>\n",
       "      <td>1977</td>\n",
       "      <td>0</td>\n",
       "    </tr>\n",
       "  </tbody>\n",
       "</table>\n",
       "</div>"
      ],
      "text/plain": [
       "  age attrition businesstravel dailyrate                department  \\\n",
       "0  51        No            NaN    684,0$                       NaN   \n",
       "1  52        No            NaN    699,0$                       NaN   \n",
       "2  42        No  travel_rarely    532,0$   Research & Development    \n",
       "3  47        No  travel_rarely    359,0$                       NaN   \n",
       "4  46        No            NaN   1319,0$                       NaN   \n",
       "\n",
       "   distancefromhome  education    educationfield  environmentsatisfaction  \\\n",
       "0                 6          3               NaN                        1   \n",
       "1                 1          4     Life Sciences                        3   \n",
       "2                 4          2  Technical Degree                        3   \n",
       "3                 2          4           Medical                        1   \n",
       "4                 3          3  Technical Degree                        1   \n",
       "\n",
       "   gender hourlyrate  jobinvolvement  joblevel              jobrole  \\\n",
       "0       0         51               3         5   resEArch DIREcToR    \n",
       "1       0         65               2         5             ManAGeR    \n",
       "2       0         58               3         5             ManaGER    \n",
       "3       1         82               3         4   ReseArCH DIrECtOr    \n",
       "4       1         45               4         4     sAleS EXECUtIve    \n",
       "\n",
       "   jobsatisfaction maritalstatus monthlyincome  monthlyrate  \\\n",
       "0                3           NaN       19537,0         6462   \n",
       "1                3           NaN       19999,0         5678   \n",
       "2                4       Married       19232,0         4933   \n",
       "3                3       Married       17169,0        26703   \n",
       "4                1      Divorced           NaN         7739   \n",
       "\n",
       "   numcompaniesworked overtime  percentsalaryhike performancerating  \\\n",
       "0                   7       No                 13               3,0   \n",
       "1                   0      NaN                 14               3,0   \n",
       "2                   1       No                 11               3,0   \n",
       "3                   3      NaN                 19               3,0   \n",
       "4                   2       No                 12               3,0   \n",
       "\n",
       "   relationshipsatisfaction  stockoptionlevel totalworkingyears  \\\n",
       "0                         3                 0               NaN   \n",
       "1                         1                 1              34,0   \n",
       "2                         4                 0              22,0   \n",
       "3                         2                 2               NaN   \n",
       "4                         4                 1               NaN   \n",
       "\n",
       "   trainingtimeslastyear worklifebalance  yearsatcompany yearsincurrentrole  \\\n",
       "0                      5             3,0              20                NaN   \n",
       "1                      5             3,0              33                NaN   \n",
       "2                      3             NaN              22                NaN   \n",
       "3                      2             NaN              20                NaN   \n",
       "4                      5             3,0              19                NaN   \n",
       "\n",
       "   yearssincelastpromotion  yearswithcurrmanager  datebirth remotework  \n",
       "0                       15                    15       1972        Yes  \n",
       "1                       11                     9       1971          1  \n",
       "2                       11                    15       1981          1  \n",
       "3                        5                     6       1976      False  \n",
       "4                        2                     8       1977          0  "
      ]
     },
     "execution_count": 9,
     "metadata": {},
     "output_type": "execute_result"
    }
   ],
   "source": [
    "# transformamos columnas para su mejor visulatización las convertimos todos a lower\n",
    "\n",
    "new_columns = {column : column.lower() for column in datos}\n",
    "\n",
    "new_columns\n",
    "\n",
    "datos.rename(columns = new_columns, inplace= True)\n",
    "\n",
    "datos.head()"
   ]
  },
  {
   "cell_type": "code",
   "execution_count": 63,
   "metadata": {},
   "outputs": [],
   "source": [
    "# Transformamos columnas"
   ]
  },
  {
   "cell_type": "code",
   "execution_count": 11,
   "metadata": {},
   "outputs": [
    {
     "data": {
      "text/plain": [
       "array(['51', '52', '42', '47', '46', '48', '59', '41', '56', '38', '55',\n",
       "       '40', '58', '35', '45', '33', '36', '34', '53', '43', '60', '32',\n",
       "       '37', '49', '39', '50', '44', '30', '58 ', '29', '31', '54', '57',\n",
       "       '27', '28', '26', '25', '24', '23', '22', '21', '20', '19', '18'],\n",
       "      dtype=object)"
      ]
     },
     "execution_count": 11,
     "metadata": {},
     "output_type": "execute_result"
    }
   ],
   "source": [
    "# Hemos cambiado las edades que estaban escritas para que sean numéricas. Lo cambiamos a tipo int.\n",
    "# Estas edades son las que tenían en el 2023.\n",
    "\n",
    "datos['age'].unique()\n",
    "\n",
    "age = datos['age'].str.replace('fifty-eight', '58 ').str.replace('fifty-eight', '47 ').str.replace('thirty-six', '36').str.replace('fifty-five', '55').str.replace('fifty-two', '52').str.replace('thirty-one', '31').str.replace('twenty-six', '36').str.replace('thirty-seven', '37').str.replace('thirty-seven', '37').str.replace('thirty-two', '32').str.replace('twenty-four', '24').str.replace('forty-seven', '47').str.replace('thirty', '30')\n",
    "\n",
    "datos['age'] = age\n",
    "\n",
    "datos['age'] = datos['age']\n",
    "\n",
    "datos['age'].unique()"
   ]
  },
  {
   "cell_type": "code",
   "execution_count": 12,
   "metadata": {},
   "outputs": [
    {
     "data": {
      "text/plain": [
       "array(['No', 'Yes'], dtype=object)"
      ]
     },
     "execution_count": 12,
     "metadata": {},
     "output_type": "execute_result"
    }
   ],
   "source": [
    "# No la tocamos\n",
    "\n",
    "datos['attrition'].unique()"
   ]
  },
  {
   "cell_type": "code",
   "execution_count": 13,
   "metadata": {},
   "outputs": [
    {
     "data": {
      "text/plain": [
       "array([nan, 'Travel rarely', 'Travel frequently', 'Non travel'],\n",
       "      dtype=object)"
      ]
     },
     "execution_count": 13,
     "metadata": {},
     "output_type": "execute_result"
    }
   ],
   "source": [
    "# Reemplazamos las barras bajas por espacios y los guiones por espacio. Lo capitalizamos.\n",
    "\n",
    "\n",
    "\n",
    "businesstravel = datos['businesstravel'].str.replace('_', ' ').str.replace('-', ' ').str.capitalize()\n",
    "\n",
    "datos['businesstravel'] = businesstravel\n",
    "\n",
    "datos['businesstravel'].unique()"
   ]
  },
  {
   "cell_type": "code",
   "execution_count": 14,
   "metadata": {},
   "outputs": [
    {
     "data": {
      "text/plain": [
       "array(['684,0', '699,0', '532,0', '359,0', '1319,0', '117,0', '1435,0',\n",
       "       '635,0', '1276,0', '840,0', '247,0', '1369,0', '201,0', '1360,0',\n",
       "       '692,0', '1398,0', '286,0', '1402,0', '819,0', '884,0', '1238,0',\n",
       "       '515,0', '1223,0', '202,0', '928,0', '607,0', '266,0', '429,0',\n",
       "       '589,0', 'nan', '1180,0', '1282,0', '776,0', '665,0', '526,0',\n",
       "       '1034,0', '1403,0', '1499,0', '580,0', '859,0', '263,0', '1376,0',\n",
       "       '885,0', '1003,0', '1321,0', '394,0', '1372,0', '1333,0', '228,0',\n",
       "       '737,0', '823,0', '667,0', '301,0', '573,0', '1329,0', '630,0',\n",
       "       '1063,0', '1017,0', '1296,0', '939,0', '1355,0', '1448,0', '200,0',\n",
       "       '1202,0', '404,0', '208,0', '813,0', '465,0', '1189,0', '1001,0',\n",
       "       '1394,0', '161,0', '288,0', '682,0', '1354,0', '147,0', '119,0',\n",
       "       '1413,0', '452,0', '334,0', '1132,0', '982,0', '480,0', '1099,0',\n",
       "       '672,0', '1379,0', '583,0', '1492,0', '1050,0', '469,0', '237,0',\n",
       "       '1440,0', '1291,0', '1157,0', '1336,0', '1224,0', '735,0',\n",
       "       '1389,0', '638,0', '1240,0', '194,0', '1339,0', '111,0', '1469,0',\n",
       "       '470,0', '1232,0', '1249,0', '798,0', '549,0', '570,0', '541,0',\n",
       "       '164,0', '1117,0', '619,0', '319,0', '956,0', '1245,0', '1397,0',\n",
       "       '527,0', '213,0', '882,0', '330,0', '406,0', '217,0', '481,0',\n",
       "       '669,0', '1465,0', '685,0', '1062,0', '177,0', '1199,0', '648,0',\n",
       "       '412,0', '282,0', '770,0', '601,0', '855,0', '332,0', '1326,0',\n",
       "       '748,0', '405,0', '790,0', '971,0', '1370,0', '750,0', '880,0',\n",
       "       '678,0', '1179,0', '350,0', '1266,0', '574,0', '189,0', '310,0',\n",
       "       '722,0', '1219,0', '994,0', '721,0', '853,0', '427,0', '852,0',\n",
       "       '1334,0', '1093,0', '967,0', '989,0', '1195,0', '1045,0', '829,0',\n",
       "       '663,0', '1300,0', '1105,0', '906,0', '849,0', '1275,0', '1218,0',\n",
       "       '422,0', '1274,0', '1076,0', '1207,0', '430,0', '933,0', '1184,0',\n",
       "       '586,0', '890,0', '379,0', '1425,0', '1188,0', '938,0', '1053,0',\n",
       "       '248,0', '796,0', '174,0', '408,0', '977,0', '536,0', '135,0',\n",
       "       '1476,0', '587,0', '495,0', '523,0', '507,0', '1055,0', '1445,0',\n",
       "       '218,0', '447,0', '1029,0', '674,0', '538,0', '740,0', '1234,0',\n",
       "       '170,0', '1130,0', '584,0', '918,0', '792,0', '611,0', '1383,0',\n",
       "       '867,0', '706,0', '728,0', '311,0', '556,0', '937,0', '1125,0',\n",
       "       '444,0', '911,0', '585,0', '1392,0', '1005,0', '1299,0', '655,0',\n",
       "       '746,0', '632,0', '658,0', '1467,0', '1312,0', '249,0', '802,0',\n",
       "       '689,0', '1395,0', '1436,0', '1496,0', '1480,0', '313,0', '894,0',\n",
       "       '290,0', '1084,0', '1002,0', '1242,0', '1052,0', '944,0', '771,0',\n",
       "       '1416,0', '1327,0', '488,0', '1385,0', '666,0', '1315,0', '442,0',\n",
       "       '950,0', '691,0', '1018,0', '559,0', '318,0', '144,0', '1171,0',\n",
       "       '143,0', '1178,0', '1107,0', '645,0', '1485,0', '1116,0', '163,0',\n",
       "       '561,0', '426,0', '509,0', '258,0', '525,0', '238,0', '482,0',\n",
       "       '397,0', '243,0', '806,0', '1442,0', '929,0', '827,0', '703,0',\n",
       "       '294,0', '314,0', '654,0', '501,0', '954,0', '1434,0', '657,0',\n",
       "       '240,0', '791,0', '676,0', '436,0', '760,0', '661,0', '1085,0',\n",
       "       '154,0', '1283,0', '616,0', '498,0', '530,0', '805,0', '903,0',\n",
       "       '1229,0', '566,0', '1441,0', '153,0', '1066,0', '145,0', '1109,0',\n",
       "       '124,0', '300,0', '1366,0', '857,0', '1204,0', '1082,0', '203,0',\n",
       "       '1308,0', '718,0', '593,0', '1384,0', '1361,0', '1146,0', '1316,0',\n",
       "       '363,0', '1103,0', '920,0', '694,0', '1429,0', '531,0', '621,0',\n",
       "       '604,0', '325,0', '1030,0', '524,0', '943,0', '1009,0', '817,0',\n",
       "       '930,0', '1147,0', '652,0', '337,0', '1136,0', '326,0', '377,0',\n",
       "       '1038,0', '1490,0', '1246,0', '224,0', '441,0', '898,0', '1313,0',\n",
       "       '1015,0', '1387,0', '1302,0', '602,0', '772,0', '809,0', '786,0',\n",
       "       '921,0', '717,0', '979,0', '953,0', '244,0', '196,0', '303,0',\n",
       "       '1092,0', '261,0', '1422,0', '1137,0', '511,0', '1396,0', '1096,0',\n",
       "       '1169,0', '1239,0', '157,0', '754,0', '1303,0', '697,0', '116,0',\n",
       "       '557,0', '582,0', '704,0', '613,0', '419,0', '477,0', '1211,0',\n",
       "       '505,0', '269,0', '553,0', '1277,0', '302,0', '975,0', '1318,0',\n",
       "       '881,0', '466,0', '945,0', '433,0', '991,0', '1083,0', '136,0',\n",
       "       '333,0', '1462,0', '1131,0', '1023,0', '1065,0', '1115,0',\n",
       "       '1479,0', '304,0', '1368,0', '828,0', '799,0', '142,0', '446,0',\n",
       "       '254,0', '1410,0', '883,0', '121,0', '1343,0', '490,0', '1400,0',\n",
       "       '1332,0', '1200,0', '1102,0', '1328,0', '548,0', '1214,0', '120,0',\n",
       "       '841,0', '1033,0', '1452,0', '1268,0', '307,0', '797,0', '555,0',\n",
       "       '1377,0', '210,0', '483,0', '575,0', '1311,0', '759,0', '891,0',\n",
       "       '317,0', '688,0', '195,0', '622,0', '646,0', '719,0', '1012,0',\n",
       "       '1278,0', '1222,0', '1231,0', '462,0', '231,0', '1089,0', '1262,0',\n",
       "       '439,0', '528,0', '647,0', '1097,0', '942,0', '966,0', '168,0',\n",
       "       '299,0', '999,0', '1498,0', '1439,0', '1111,0', '1174,0', '172,0',\n",
       "       '401,0', '866,0', '571,0', '1342,0', '995,0', '118,0', '990,0',\n",
       "       '241,0', '1470,0', '492,0', '1040,0', '1320,0', '146,0', '1153,0',\n",
       "       '185,0', '1297,0', '1064,0', '1351,0', '468,0', '1273,0', '1141,0',\n",
       "       '1488,0', '653,0', '1225,0', '1217,0', '1127,0', '1427,0', '702,0',\n",
       "       '926,0', '878,0', '896,0', '1401,0', '675,0', '1070,0', '496,0',\n",
       "       '390,0', '1220,0', '1124,0', '1046,0', '267,0', '443,0', '1287,0',\n",
       "       '1420,0', '562,0', '650,0', '141,0', '715,0', '376,0', '932,0',\n",
       "       '471,0', '180,0', '1265,0', '1075,0', '1086,0', '152,0', '974,0',\n",
       "       '788,0', '192,0', '150,0', '1167,0', '206,0', '736,0', '322,0',\n",
       "       '683,0', '1475,0', '560,0', '115,0', '888,0', '671,0', '567,0',\n",
       "       '148,0', '581,0', '371,0', '1181,0', '1253,0', '370,0', '1194,0',\n",
       "       '572,0', '355,0', '783,0', '155,0', '508,0', '642,0', '1382,0',\n",
       "       '1037,0', '1120,0', '374,0', '287,0', '591,0', '670,0', '1346,0',\n",
       "       '103,0', '673,0', '705,0', '1459,0', '1443,0', '1142,0', '664,0',\n",
       "       '432,0', '1353,0', '489,0', '807,0', '1280,0', '957,0', '542,0',\n",
       "       '216,0', '1150,0', '364,0', '1256,0', '440,0', '713,0', '140,0',\n",
       "       '629,0', '328,0', '472,0', '905,0', '1151,0', '644,0', '992,0',\n",
       "       '1323,0', '818,0', '1431,0', '976,0', '832,0', '916,0', '1247,0',\n",
       "       '128,0', '1158,0', '996,0', '1449,0', '636,0', '889,0', '106,0',\n",
       "       '723,0', '1482,0', '738,0', '1192,0', '1309,0', '544,0', '641,0',\n",
       "       '756,0', '895,0', '1261,0', '329,0', '1362,0', '1371,0', '821,0',\n",
       "       '1381,0', '1473,0', '296,0', '1349,0', '986,0', '413,0', '988,0',\n",
       "       '1474,0', '232,0', '1236,0', '1112,0', '204,0', '913,0', '810,0',\n",
       "       '693,0', '316,0', '381,0', '775,0', '804,0', '1090,0', '346,0',\n",
       "       '725,0', '182,0', '384,0', '1325,0', '1258,0', '1041,0', '625,0',\n",
       "       '1418,0', '1269,0', '395,0', '341,0', '500,0', '1454,0', '617,0',\n",
       "       '1122,0', '1198,0', '188,0', '335,0', '461,0', '1134,0', '138,0',\n",
       "       '1206,0', '109,0', '277,0', '265,0', '342,0', '1186,0', '769,0',\n",
       "       '1176,0', '1091,0', '618,0', '970,0', '984,0', '793,0', '1182,0',\n",
       "       '603,0', '874,0', '367,0', '199,0', '1457,0', '1421,0', '1450,0',\n",
       "       '1212,0', '1010,0', '131,0', '193,0', '640,0', '848,0', '1138,0',\n",
       "       '256,0', '935,0', '458,0', '662,0', '499,0', '949,0', '383,0',\n",
       "       '1255,0', '1221,0', '981,0', '1495,0', '1193,0', '467,0', '271,0',\n",
       "       '410,0', '1288,0', '1108,0', '437,0', '457,0', '634,0', '546,0',\n",
       "       '711,0', '448,0', '365,0', '763,0', '486,0', '392,0', '727,0',\n",
       "       '741,0', '552,0', '506,0', '1456,0', '160,0', '897,0', '600,0',\n",
       "       '1054,0', '428,0', '343,0', '1216,0', '207,0', '280,0', '414,0',\n",
       "       '836,0', '592,0', '219,0', '1079,0', '1251,0', '1168,0', '1444,0',\n",
       "       '1154,0', '234,0', '529,0', '1322,0', '924,0', '134,0', '755,0',\n",
       "       '253,0', '922,0', '1365,0', '306,0', '1271,0', '1404,0', '1391,0',\n",
       "       '1464,0', '1330,0', '773,0', '902,0', '107,0', '504,0', '1358,0',\n",
       "       '824,0', '594,0', '734,0', '766,0', '431,0', '1213,0', '1373,0',\n",
       "       '1324,0', '1123,0', '391,0', '125,0', '1357,0', '626,0', '132,0',\n",
       "       '871,0', '1031,0', '1145,0', '854,0', '1411,0', '252,0', '833,0',\n",
       "       '1210,0', '1463,0', '812,0', '1162,0', '845,0', '1144,0', '156,0',\n",
       "       '464,0', '1305,0', '983,0', '534,0', '1306,0', '1094,0', '558,0',\n",
       "       '959,0', '782,0', '362,0', '268,0', '167,0', '1243,0', '720,0',\n",
       "       '868,0', '1252,0', '781,0', '1272,0', '129,0', '1069,0', '289,0',\n",
       "       '955,0', '660,0', '415,0', '309,0', '130,0', '862,0', '1098,0',\n",
       "       '969,0', '373,0', '599,0', '968,0', '830,0', '1423,0', '516,0',\n",
       "       '598,0', '104,0', '479,0', '474,0', '264,0', '1059,0', '563,0',\n",
       "       '1259,0', '369,0', '543,0', '964,0', '176,0', '181,0', '211,0',\n",
       "       '590,0', '305,0', '478,0', '1294,0', '1128,0', '726,0', '352,0',\n",
       "       '1172,0', '605,0', '1337,0', '105,0'], dtype=object)"
      ]
     },
     "execution_count": 14,
     "metadata": {},
     "output_type": "execute_result"
    }
   ],
   "source": [
    "# Eliminamos los $ y ,0 con un .replace. También hemos pasado los nan y luego cambiamos el tipo a float\n",
    "\n",
    "dailyrate = datos['dailyrate'].str.replace('$', '')\n",
    "datos['dailyrate'] = dailyrate\n",
    "\n",
    "datos['dailyrate'] = datos['dailyrate']\n",
    "\n",
    "datos['dailyrate'].unique()\n"
   ]
  },
  {
   "cell_type": "code",
   "execution_count": 15,
   "metadata": {},
   "outputs": [
    {
     "data": {
      "text/plain": [
       "array([nan, 'Research & Development', 'Sales', 'Human Resources'],\n",
       "      dtype=object)"
      ]
     },
     "execution_count": 15,
     "metadata": {},
     "output_type": "execute_result"
    }
   ],
   "source": [
    "# Eliminamos espacios de principio y final. Ver que hacer con nan.\n",
    "\n",
    "department = datos['department'].str.strip()\n",
    "datos['department'] = department\n",
    "\n",
    "datos['department'].unique()"
   ]
  },
  {
   "cell_type": "code",
   "execution_count": 17,
   "metadata": {},
   "outputs": [
    {
     "data": {
      "text/plain": [
       "array(['6', '1', '4', '2', '3', '22', '25', '9', '7', '23', '10', '12',\n",
       "       '14', '13', '15', '8', '42', '28', '37', '5', '16', '35', '26',\n",
       "       '24', '29', '17', '21', '18', '30', '27', '20', '31', '39', '11',\n",
       "       '19', '33', '34', '46', '36', '45', '47', '32', '41', '49', '48',\n",
       "       '38', '43', '40', '44'], dtype=object)"
      ]
     },
     "execution_count": 17,
     "metadata": {},
     "output_type": "execute_result"
    }
   ],
   "source": [
    "# Hemos cambiado el tipo de int a str y eliminado el menos de los negativos. Lo pasamos a int.\n",
    "\n",
    "datos_distance = datos['distancefromhome'].astype(str)\n",
    "\n",
    "distancefromhome = datos_distance.str.replace('-', '')\n",
    "\n",
    "datos['distancefromhome'] = distancefromhome\n",
    "\n",
    "datos['distancefromhome'] = datos['distancefromhome']\n",
    "\n",
    "datos['distancefromhome'].unique()"
   ]
  },
  {
   "cell_type": "code",
   "execution_count": 18,
   "metadata": {},
   "outputs": [
    {
     "data": {
      "text/plain": [
       "array([3, 4, 2, 1, 5], dtype=int64)"
      ]
     },
     "execution_count": 18,
     "metadata": {},
     "output_type": "execute_result"
    }
   ],
   "source": [
    "datos['education'].unique() # No hay que hacerle nada"
   ]
  },
  {
   "cell_type": "code",
   "execution_count": 19,
   "metadata": {},
   "outputs": [
    {
     "data": {
      "text/plain": [
       "array([nan, 'Life Sciences', 'Technical Degree', 'Medical', 'Other',\n",
       "       'Marketing', 'Human Resources'], dtype=object)"
      ]
     },
     "execution_count": 19,
     "metadata": {},
     "output_type": "execute_result"
    }
   ],
   "source": [
    "datos['educationfield'].unique() # ya está capitalizado. Nos falta ver que hacer con NaN"
   ]
  },
  {
   "cell_type": "code",
   "execution_count": 20,
   "metadata": {},
   "outputs": [
    {
     "data": {
      "text/plain": [
       "array([ 1,  3,  4,  2, 42, 37, 35, 25, 27, 31, 39, 21, 15, 14, 33, 19, 12,\n",
       "       13, 28, 47, 36, 29, 24, 46, 16, 22, 41, 49, 11, 48, 18, 10, 45, 38,\n",
       "       17, 20, 26, 43], dtype=int64)"
      ]
     },
     "execution_count": 20,
     "metadata": {},
     "output_type": "execute_result"
    }
   ],
   "source": [
    "# No tocar.\n",
    "\n",
    "datos['environmentsatisfaction'].unique()"
   ]
  },
  {
   "cell_type": "code",
   "execution_count": 21,
   "metadata": {},
   "outputs": [
    {
     "data": {
      "text/plain": [
       "array(['M', 'F'], dtype=object)"
      ]
     },
     "execution_count": 21,
     "metadata": {},
     "output_type": "execute_result"
    }
   ],
   "source": [
    "# Vamos a sustituir los 0 y 1 por la siniciales de su género y cambiarlo a tipo objeto.\n",
    "dic_map = {0:'M', 1:'F'}\n",
    "\n",
    "datos[\"gender\"] = datos[\"gender\"].map(dic_map)\n",
    "\n",
    "datos['gender'].unique()"
   ]
  },
  {
   "cell_type": "code",
   "execution_count": 22,
   "metadata": {},
   "outputs": [
    {
     "data": {
      "text/plain": [
       "array([51, 65, 58, 82, 45, 99, 91, 64, 55, 68, 49, 61, 79, 31, 69, 48, 80,\n",
       "       74, 98, 59, 33, 56, 66, 57, 53, 87, 81, 84, 32, 41, 92, 47, 'NaN',\n",
       "       43, 86, 30, 42, 88, 96, 67, 62, 72, 78, 89, 52, 50, 90, 37, 94, 76,\n",
       "       60, 46, 83, 100, 40, 97, 54, 75, 39, 85, 63, 44, 93, 36, 35, 73,\n",
       "       71, 70, 38, 77, 95, 34], dtype=object)"
      ]
     },
     "execution_count": 22,
     "metadata": {},
     "output_type": "execute_result"
    }
   ],
   "source": [
    "# cambiar el Not Avaiable a NaN\n",
    "\n",
    "hourlyrate = datos['hourlyrate'].replace('Not Available', 'NaN')\n",
    "\n",
    "datos['hourlyrate'].unique() "
   ]
  },
  {
   "cell_type": "code",
   "execution_count": 23,
   "metadata": {},
   "outputs": [
    {
     "data": {
      "text/plain": [
       "array([3, 2, 4, 1], dtype=int64)"
      ]
     },
     "execution_count": 23,
     "metadata": {},
     "output_type": "execute_result"
    }
   ],
   "source": [
    "datos['jobinvolvement'].unique() # no tocar"
   ]
  },
  {
   "cell_type": "code",
   "execution_count": 24,
   "metadata": {},
   "outputs": [
    {
     "data": {
      "text/plain": [
       "array([5, 4, 3, 2, 1], dtype=int64)"
      ]
     },
     "execution_count": 24,
     "metadata": {},
     "output_type": "execute_result"
    }
   ],
   "source": [
    "datos['joblevel'].unique() # no tocar"
   ]
  },
  {
   "cell_type": "code",
   "execution_count": 25,
   "metadata": {},
   "outputs": [
    {
     "data": {
      "text/plain": [
       "array(['Research Director', 'Manager', 'Sales Executive',\n",
       "       'Manufacturing Director', 'Research Scientist',\n",
       "       'Healthcare Representative', 'Laboratory Technician',\n",
       "       'Sales Representative', 'Human Resources'], dtype=object)"
      ]
     },
     "execution_count": 25,
     "metadata": {},
     "output_type": "execute_result"
    }
   ],
   "source": [
    "# Todo pasado a minusculas, dejando la primera en mayusculas y eliminando los espacios que habia al inicio y final\n",
    "datos['jobrole'] = datos['jobrole'].str.lower().str.title().str.strip()\n",
    "datos['jobrole'].unique()"
   ]
  },
  {
   "cell_type": "code",
   "execution_count": 26,
   "metadata": {},
   "outputs": [
    {
     "data": {
      "text/plain": [
       "array([3, 4, 1, 2], dtype=int64)"
      ]
     },
     "execution_count": 26,
     "metadata": {},
     "output_type": "execute_result"
    }
   ],
   "source": [
    "datos['jobsatisfaction'].unique() # no tocar"
   ]
  },
  {
   "cell_type": "code",
   "execution_count": 27,
   "metadata": {},
   "outputs": [
    {
     "data": {
      "text/plain": [
       "array([nan, 'Married', 'Divorced', 'Single'], dtype=object)"
      ]
     },
     "execution_count": 27,
     "metadata": {},
     "output_type": "execute_result"
    }
   ],
   "source": [
    "# Sustituyo los que están mal escritos para que sean iguales a los que si creando un diccionario previamente. Comprobar moda\n",
    "replacements = {\n",
    "    'divorced': 'Divorced',\n",
    "    'Marreid': 'Married'\n",
    "}\n",
    "\n",
    "datos['maritalstatus'] = datos['maritalstatus'].replace(replacements)\n",
    "datos['maritalstatus'].unique() "
   ]
  },
  {
   "cell_type": "code",
   "execution_count": 28,
   "metadata": {},
   "outputs": [
    {
     "data": {
      "text/plain": [
       "array([ 6462,  5678,  4933, ..., 15302, 26956, 16642], dtype=int64)"
      ]
     },
     "execution_count": 28,
     "metadata": {},
     "output_type": "execute_result"
    }
   ],
   "source": [
    "datos['monthlyrate'].unique() # no tocar"
   ]
  },
  {
   "cell_type": "code",
   "execution_count": 29,
   "metadata": {},
   "outputs": [
    {
     "data": {
      "text/plain": [
       "array([7, 0, 1, 3, 2, 4, 8, 9, 5, 6], dtype=int64)"
      ]
     },
     "execution_count": 29,
     "metadata": {},
     "output_type": "execute_result"
    }
   ],
   "source": [
    "datos['numcompaniesworked'].unique() # no tocar"
   ]
  },
  {
   "cell_type": "code",
   "execution_count": 30,
   "metadata": {},
   "outputs": [
    {
     "data": {
      "text/plain": [
       "array(['No', nan, 'Yes'], dtype=object)"
      ]
     },
     "execution_count": 30,
     "metadata": {},
     "output_type": "execute_result"
    }
   ],
   "source": [
    "# overtime mirar qué hacer con los nan. ¿Moda?\n",
    "\n",
    "datos['overtime'].unique()"
   ]
  },
  {
   "cell_type": "code",
   "execution_count": 31,
   "metadata": {},
   "outputs": [
    {
     "data": {
      "text/plain": [
       "percentsalaryhike\n",
       "11    232\n",
       "13    230\n",
       "12    225\n",
       "14    220\n",
       "15    110\n",
       "18     98\n",
       "17     88\n",
       "16     86\n",
       "19     82\n",
       "20     60\n",
       "22     59\n",
       "21     51\n",
       "23     29\n",
       "24     25\n",
       "25     19\n",
       "Name: count, dtype: int64"
      ]
     },
     "execution_count": 31,
     "metadata": {},
     "output_type": "execute_result"
    }
   ],
   "source": [
    "datos['percentsalaryhike'].unique()\n",
    "\n",
    "suma = datos['percentsalaryhike'].value_counts()\n",
    "suma"
   ]
  },
  {
   "cell_type": "code",
   "execution_count": 32,
   "metadata": {},
   "outputs": [
    {
     "data": {
      "text/plain": [
       "array([3, 1, 4, 2], dtype=int64)"
      ]
     },
     "execution_count": 32,
     "metadata": {},
     "output_type": "execute_result"
    }
   ],
   "source": [
    "# No hacemos cambios de momento\n",
    "\n",
    "datos['relationshipsatisfaction'].unique()"
   ]
  },
  {
   "cell_type": "code",
   "execution_count": 33,
   "metadata": {},
   "outputs": [
    {
     "data": {
      "text/plain": [
       "array([0, 1, 2, 3], dtype=int64)"
      ]
     },
     "execution_count": 33,
     "metadata": {},
     "output_type": "execute_result"
    }
   ],
   "source": [
    "# No he hecho nada en esta columna parece estra bien\n",
    "datos['stockoptionlevel'].unique()"
   ]
  },
  {
   "cell_type": "code",
   "execution_count": 34,
   "metadata": {},
   "outputs": [
    {
     "data": {
      "text/plain": [
       "array([nan, '34,0', '22,0', '28,0', '20,0', '21,0', '33,0', '40,0',\n",
       "       '18,0', '25,0', '15,0', '17,0', '26,0', '16,0', '24,0', '14,0',\n",
       "       '23,0', '27,0', '19,0', '11,0', '38,0', '37,0', '13,0', '12,0',\n",
       "       '29,0', '10,0', '36,0', '35,0', '9,0', '31,0', '32,0', '8,0',\n",
       "       '7,0', '30,0', '6,0', '5,0', '4,0', '3,0', '2,0', '1,0', '0,0'],\n",
       "      dtype=object)"
      ]
     },
     "execution_count": 34,
     "metadata": {},
     "output_type": "execute_result"
    }
   ],
   "source": [
    "# En cuanto gestionemos los nan cambiar a INT\n",
    "\n",
    "datos['totalworkingyears'].unique()"
   ]
  },
  {
   "cell_type": "code",
   "execution_count": 35,
   "metadata": {},
   "outputs": [
    {
     "data": {
      "text/plain": [
       "array([5, 3, 2, 0, 1, 4, 6], dtype=int64)"
      ]
     },
     "execution_count": 35,
     "metadata": {},
     "output_type": "execute_result"
    }
   ],
   "source": [
    "# trainingtimeslastyear no hacer nada aparentemente toda la información es correcta\n",
    "\n",
    "datos['trainingtimeslastyear'].unique()"
   ]
  },
  {
   "cell_type": "code",
   "execution_count": 36,
   "metadata": {},
   "outputs": [
    {
     "data": {
      "text/plain": [
       "array([20, 33, 22, 19, 21, 18, 24, 31, 26, 16, 23, 15, 17, 32, 14, 13, 25,\n",
       "       12, 11, 37, 40, 36, 27, 29, 10,  9, 30,  8,  7, 34,  6,  5,  4,  2,\n",
       "        3,  1,  0], dtype=int64)"
      ]
     },
     "execution_count": 36,
     "metadata": {},
     "output_type": "execute_result"
    }
   ],
   "source": [
    "# todo aparenta estar correcto\n",
    "\n",
    "datos['yearsatcompany'].unique()"
   ]
  },
  {
   "cell_type": "code",
   "execution_count": 37,
   "metadata": {},
   "outputs": [
    {
     "data": {
      "text/plain": [
       "array([15, 11,  5,  2,  4,  7,  0,  1, 13, 14,  8, 12,  3,  6, 10,  9],\n",
       "      dtype=int64)"
      ]
     },
     "execution_count": 37,
     "metadata": {},
     "output_type": "execute_result"
    }
   ],
   "source": [
    "datos['yearssincelastpromotion'].unique()\n",
    "\n"
   ]
  },
  {
   "cell_type": "code",
   "execution_count": 38,
   "metadata": {},
   "outputs": [
    {
     "data": {
      "text/plain": [
       "array([15,  9,  6,  8,  7, 11, 10, 12,  4,  0,  5, 17,  2, 14,  1, 13,  3,\n",
       "       16], dtype=int64)"
      ]
     },
     "execution_count": 38,
     "metadata": {},
     "output_type": "execute_result"
    }
   ],
   "source": [
    "# no tenemos que tocar nada\n",
    "\n",
    "datos['yearswithcurrmanager'].unique()"
   ]
  },
  {
   "cell_type": "code",
   "execution_count": 39,
   "metadata": {},
   "outputs": [
    {
     "data": {
      "text/plain": [
       "array([1972, 1971, 1981, 1976, 1977, 1975, 1964, 1982, 1967, 1985, 1968,\n",
       "       1983, 1965, 1988, 1978, 1990, 1987, 1989, 1970, 1980, 1963, 1991,\n",
       "       1986, 1974, 1984, 1973, 1979, 1993, 1994, 1992, 1969, 1966, 1996,\n",
       "       1995, 1997, 1998, 1999, 2000, 2001, 2002, 2003, 2004, 2005],\n",
       "      dtype=int64)"
      ]
     },
     "execution_count": 39,
     "metadata": {},
     "output_type": "execute_result"
    }
   ],
   "source": [
    "# esta ok\n",
    "\n",
    "datos['datebirth'].unique()"
   ]
  },
  {
   "cell_type": "code",
   "execution_count": 40,
   "metadata": {},
   "outputs": [
    {
     "data": {
      "text/plain": [
       "array(['Yes', 'No'], dtype=object)"
      ]
     },
     "execution_count": 40,
     "metadata": {},
     "output_type": "execute_result"
    }
   ],
   "source": [
    "diccionario_mapa = {'Yes':'Yes', '1':'Yes', 'False':'No', '0':'No', 'True':'Yes'}\n",
    "\n",
    "datos[\"remotework\"] = datos[\"remotework\"].map(diccionario_mapa)\n",
    "\n",
    "datos['remotework'].unique()"
   ]
  },
  {
   "cell_type": "code",
   "execution_count": 41,
   "metadata": {},
   "outputs": [
    {
     "data": {
      "text/plain": [
       "Index(['age', 'attrition', 'businesstravel', 'dailyrate', 'department',\n",
       "       'distancefromhome', 'education', 'educationfield',\n",
       "       'environmentsatisfaction', 'gender', 'hourlyrate', 'jobinvolvement',\n",
       "       'joblevel', 'jobrole', 'jobsatisfaction', 'maritalstatus',\n",
       "       'monthlyincome', 'monthlyrate', 'numcompaniesworked', 'overtime',\n",
       "       'percentsalaryhike', 'performancerating', 'relationshipsatisfaction',\n",
       "       'stockoptionlevel', 'totalworkingyears', 'trainingtimeslastyear',\n",
       "       'worklifebalance', 'yearsatcompany', 'yearsincurrentrole',\n",
       "       'yearssincelastpromotion', 'yearswithcurrmanager', 'datebirth',\n",
       "       'remotework'],\n",
       "      dtype='object')"
      ]
     },
     "execution_count": 41,
     "metadata": {},
     "output_type": "execute_result"
    }
   ],
   "source": [
    "datos.columns"
   ]
  },
  {
   "cell_type": "code",
   "execution_count": 42,
   "metadata": {},
   "outputs": [
    {
     "name": "stdout",
     "output_type": "stream",
     "text": [
      "Las columnas categóricas que tienen nulos son : \n",
      " \n",
      "Index(['businesstravel', 'department', 'educationfield', 'maritalstatus',\n",
      "       'monthlyincome', 'overtime', 'performancerating', 'totalworkingyears',\n",
      "       'worklifebalance', 'yearsincurrentrole'],\n",
      "      dtype='object')\n"
     ]
    }
   ],
   "source": [
    "# qué columnas tienen nulos\n",
    "\n",
    "nulos_cat = datos[datos.columns[datos.isnull().any()]].select_dtypes(include = \"O\").columns\n",
    "print(\"Las columnas categóricas que tienen nulos son : \\n \")\n",
    "print(nulos_cat)"
   ]
  },
  {
   "cell_type": "code",
   "execution_count": 43,
   "metadata": {},
   "outputs": [
    {
     "name": "stdout",
     "output_type": "stream",
     "text": [
      "La distribución de las categorías para la columna BUSINESSTRAVEL\n"
     ]
    },
    {
     "data": {
      "text/plain": [
       "businesstravel\n",
       "Travel rarely        0.363073\n",
       "Travel frequently    0.102230\n",
       "Non travel           0.056382\n",
       "Name: count, dtype: float64"
      ]
     },
     "metadata": {},
     "output_type": "display_data"
    },
    {
     "name": "stdout",
     "output_type": "stream",
     "text": [
      "........................\n",
      "La distribución de las categorías para la columna DEPARTMENT\n"
     ]
    },
    {
     "data": {
      "text/plain": [
       "department\n",
       "Research & Development    0.121437\n",
       "Sales                     0.056382\n",
       "Human Resources           0.009294\n",
       "Name: count, dtype: float64"
      ]
     },
     "metadata": {},
     "output_type": "display_data"
    },
    {
     "name": "stdout",
     "output_type": "stream",
     "text": [
      "........................\n",
      "La distribución de las categorías para la columna EDUCATIONFIELD\n"
     ]
    },
    {
     "data": {
      "text/plain": [
       "educationfield\n",
       "Life Sciences       0.216233\n",
       "Medical             0.171004\n",
       "Marketing           0.064436\n",
       "Technical Degree    0.042751\n",
       "Other               0.036555\n",
       "Human Resources     0.007435\n",
       "Name: count, dtype: float64"
      ]
     },
     "metadata": {},
     "output_type": "display_data"
    },
    {
     "name": "stdout",
     "output_type": "stream",
     "text": [
      "........................\n",
      "La distribución de las categorías para la columna MARITALSTATUS\n"
     ]
    },
    {
     "data": {
      "text/plain": [
       "maritalstatus\n",
       "Married     0.271995\n",
       "Single      0.201363\n",
       "Divorced    0.123296\n",
       "Name: count, dtype: float64"
      ]
     },
     "metadata": {},
     "output_type": "display_data"
    },
    {
     "name": "stdout",
     "output_type": "stream",
     "text": [
      "........................\n",
      "La distribución de las categorías para la columna MONTHLYINCOME\n"
     ]
    },
    {
     "data": {
      "text/plain": [
       "monthlyincome\n",
       "6347,0     0.002478\n",
       "5304,0     0.002478\n",
       "2657,0     0.001859\n",
       "2258,0     0.001859\n",
       "5405,0     0.001239\n",
       "             ...   \n",
       "3102,0     0.000620\n",
       "4556,0     0.000620\n",
       "4230,0     0.000620\n",
       "4859,0     0.000620\n",
       "19431,0    0.000620\n",
       "Name: count, Length: 668, dtype: float64"
      ]
     },
     "metadata": {},
     "output_type": "display_data"
    },
    {
     "name": "stdout",
     "output_type": "stream",
     "text": [
      "........................\n",
      "La distribución de las categorías para la columna OVERTIME\n"
     ]
    },
    {
     "data": {
      "text/plain": [
       "overtime\n",
       "No     0.422553\n",
       "Yes    0.158612\n",
       "Name: count, dtype: float64"
      ]
     },
     "metadata": {},
     "output_type": "display_data"
    },
    {
     "name": "stdout",
     "output_type": "stream",
     "text": [
      "........................\n",
      "La distribución de las categorías para la columna PERFORMANCERATING\n"
     ]
    },
    {
     "data": {
      "text/plain": [
       "performancerating\n",
       "3,0    0.746592\n",
       "4,0    0.132590\n",
       "Name: count, dtype: float64"
      ]
     },
     "metadata": {},
     "output_type": "display_data"
    },
    {
     "name": "stdout",
     "output_type": "stream",
     "text": [
      "........................\n",
      "La distribución de las categorías para la columna TOTALWORKINGYEARS\n"
     ]
    },
    {
     "data": {
      "text/plain": [
       "totalworkingyears\n",
       "10,0    0.089219\n",
       "8,0     0.053284\n",
       "6,0     0.052045\n",
       "9,0     0.042751\n",
       "5,0     0.040892\n",
       "7,0     0.034696\n",
       "4,0     0.033457\n",
       "1,0     0.032838\n",
       "12,0    0.021066\n",
       "3,0     0.019827\n",
       "14,0    0.018587\n",
       "13,0    0.018587\n",
       "11,0    0.017968\n",
       "15,0    0.017348\n",
       "16,0    0.017348\n",
       "20,0    0.017348\n",
       "18,0    0.016729\n",
       "21,0    0.014250\n",
       "17,0    0.013631\n",
       "2,0     0.013011\n",
       "22,0    0.011152\n",
       "19,0    0.010533\n",
       "24,0    0.008674\n",
       "23,0    0.008055\n",
       "28,0    0.008055\n",
       "26,0    0.004957\n",
       "0,0     0.004957\n",
       "29,0    0.003717\n",
       "36,0    0.003717\n",
       "25,0    0.003717\n",
       "33,0    0.003717\n",
       "37,0    0.003098\n",
       "27,0    0.003098\n",
       "31,0    0.002478\n",
       "30,0    0.001859\n",
       "32,0    0.001859\n",
       "35,0    0.001859\n",
       "40,0    0.001859\n",
       "34,0    0.001239\n",
       "38,0    0.000620\n",
       "Name: count, dtype: float64"
      ]
     },
     "metadata": {},
     "output_type": "display_data"
    },
    {
     "name": "stdout",
     "output_type": "stream",
     "text": [
      "........................\n",
      "La distribución de las categorías para la columna WORKLIFEBALANCE\n"
     ]
    },
    {
     "data": {
      "text/plain": [
       "worklifebalance\n",
       "3,0    0.565675\n",
       "2,0    0.222429\n",
       "4,0    0.096035\n",
       "1,0    0.048947\n",
       "Name: count, dtype: float64"
      ]
     },
     "metadata": {},
     "output_type": "display_data"
    },
    {
     "name": "stdout",
     "output_type": "stream",
     "text": [
      "........................\n",
      "La distribución de las categorías para la columna YEARSINCURRENTROLE\n"
     ]
    },
    {
     "data": {
      "text/plain": [
       "yearsincurrentrole\n",
       "2,0     0.006815\n",
       "7,0     0.003098\n",
       "0,0     0.002478\n",
       "4,0     0.001859\n",
       "1,0     0.001859\n",
       "11,0    0.001239\n",
       "6,0     0.001239\n",
       "3,0     0.001239\n",
       "13,0    0.000620\n",
       "12,0    0.000620\n",
       "Name: count, dtype: float64"
      ]
     },
     "metadata": {},
     "output_type": "display_data"
    },
    {
     "name": "stdout",
     "output_type": "stream",
     "text": [
      "........................\n"
     ]
    }
   ],
   "source": [
    "# Vemos la forma de estas columnas\n",
    "\n",
    "for col in nulos_cat:\n",
    "    print(f\"La distribución de las categorías para la columna {col.upper()}\")\n",
    "    display(datos[col].value_counts() / datos.shape[0])\n",
    "    print(\"........................\")"
   ]
  },
  {
   "cell_type": "markdown",
   "metadata": {},
   "source": [
    "A partir de Aquí hacemos las funciones"
   ]
  },
  {
   "cell_type": "code",
   "execution_count": null,
   "metadata": {},
   "outputs": [],
   "source": [
    "#creo un csv nuevo"
   ]
  },
  {
   "cell_type": "code",
   "execution_count": 44,
   "metadata": {},
   "outputs": [],
   "source": [
    "datos.to_csv('Datos/datos_empresa_V1.1.csv')"
   ]
  },
  {
   "cell_type": "code",
   "execution_count": 53,
   "metadata": {},
   "outputs": [],
   "source": [
    "datos = pd.read_csv('Datos/datos_empresa_V1.1.csv', index_col=0)"
   ]
  },
  {
   "cell_type": "code",
   "execution_count": 54,
   "metadata": {},
   "outputs": [
    {
     "data": {
      "text/html": [
       "<div>\n",
       "<style scoped>\n",
       "    .dataframe tbody tr th:only-of-type {\n",
       "        vertical-align: middle;\n",
       "    }\n",
       "\n",
       "    .dataframe tbody tr th {\n",
       "        vertical-align: top;\n",
       "    }\n",
       "\n",
       "    .dataframe thead th {\n",
       "        text-align: right;\n",
       "    }\n",
       "</style>\n",
       "<table border=\"1\" class=\"dataframe\">\n",
       "  <thead>\n",
       "    <tr style=\"text-align: right;\">\n",
       "      <th></th>\n",
       "      <th>age</th>\n",
       "      <th>attrition</th>\n",
       "      <th>businesstravel</th>\n",
       "      <th>dailyrate</th>\n",
       "      <th>department</th>\n",
       "      <th>distancefromhome</th>\n",
       "      <th>education</th>\n",
       "      <th>educationfield</th>\n",
       "      <th>environmentsatisfaction</th>\n",
       "      <th>gender</th>\n",
       "      <th>hourlyrate</th>\n",
       "      <th>jobinvolvement</th>\n",
       "      <th>joblevel</th>\n",
       "      <th>jobrole</th>\n",
       "      <th>jobsatisfaction</th>\n",
       "      <th>maritalstatus</th>\n",
       "      <th>monthlyincome</th>\n",
       "      <th>monthlyrate</th>\n",
       "      <th>numcompaniesworked</th>\n",
       "      <th>overtime</th>\n",
       "      <th>percentsalaryhike</th>\n",
       "      <th>performancerating</th>\n",
       "      <th>relationshipsatisfaction</th>\n",
       "      <th>stockoptionlevel</th>\n",
       "      <th>totalworkingyears</th>\n",
       "      <th>trainingtimeslastyear</th>\n",
       "      <th>worklifebalance</th>\n",
       "      <th>yearsatcompany</th>\n",
       "      <th>yearsincurrentrole</th>\n",
       "      <th>yearssincelastpromotion</th>\n",
       "      <th>yearswithcurrmanager</th>\n",
       "      <th>datebirth</th>\n",
       "      <th>remotework</th>\n",
       "    </tr>\n",
       "  </thead>\n",
       "  <tbody>\n",
       "    <tr>\n",
       "      <th>0</th>\n",
       "      <td>51</td>\n",
       "      <td>No</td>\n",
       "      <td>NaN</td>\n",
       "      <td>684,0</td>\n",
       "      <td>NaN</td>\n",
       "      <td>6</td>\n",
       "      <td>3</td>\n",
       "      <td>NaN</td>\n",
       "      <td>1</td>\n",
       "      <td>M</td>\n",
       "      <td>51.0</td>\n",
       "      <td>3</td>\n",
       "      <td>5</td>\n",
       "      <td>Research Director</td>\n",
       "      <td>3</td>\n",
       "      <td>NaN</td>\n",
       "      <td>19537,0</td>\n",
       "      <td>6462</td>\n",
       "      <td>7</td>\n",
       "      <td>No</td>\n",
       "      <td>13</td>\n",
       "      <td>3,0</td>\n",
       "      <td>3</td>\n",
       "      <td>0</td>\n",
       "      <td>NaN</td>\n",
       "      <td>5</td>\n",
       "      <td>3,0</td>\n",
       "      <td>20</td>\n",
       "      <td>NaN</td>\n",
       "      <td>15</td>\n",
       "      <td>15</td>\n",
       "      <td>1972</td>\n",
       "      <td>Yes</td>\n",
       "    </tr>\n",
       "    <tr>\n",
       "      <th>1</th>\n",
       "      <td>52</td>\n",
       "      <td>No</td>\n",
       "      <td>NaN</td>\n",
       "      <td>699,0</td>\n",
       "      <td>NaN</td>\n",
       "      <td>1</td>\n",
       "      <td>4</td>\n",
       "      <td>Life Sciences</td>\n",
       "      <td>3</td>\n",
       "      <td>M</td>\n",
       "      <td>65.0</td>\n",
       "      <td>2</td>\n",
       "      <td>5</td>\n",
       "      <td>Manager</td>\n",
       "      <td>3</td>\n",
       "      <td>NaN</td>\n",
       "      <td>19999,0</td>\n",
       "      <td>5678</td>\n",
       "      <td>0</td>\n",
       "      <td>NaN</td>\n",
       "      <td>14</td>\n",
       "      <td>3,0</td>\n",
       "      <td>1</td>\n",
       "      <td>1</td>\n",
       "      <td>34,0</td>\n",
       "      <td>5</td>\n",
       "      <td>3,0</td>\n",
       "      <td>33</td>\n",
       "      <td>NaN</td>\n",
       "      <td>11</td>\n",
       "      <td>9</td>\n",
       "      <td>1971</td>\n",
       "      <td>Yes</td>\n",
       "    </tr>\n",
       "    <tr>\n",
       "      <th>2</th>\n",
       "      <td>42</td>\n",
       "      <td>No</td>\n",
       "      <td>Travel rarely</td>\n",
       "      <td>532,0</td>\n",
       "      <td>Research &amp; Development</td>\n",
       "      <td>4</td>\n",
       "      <td>2</td>\n",
       "      <td>Technical Degree</td>\n",
       "      <td>3</td>\n",
       "      <td>M</td>\n",
       "      <td>58.0</td>\n",
       "      <td>3</td>\n",
       "      <td>5</td>\n",
       "      <td>Manager</td>\n",
       "      <td>4</td>\n",
       "      <td>Married</td>\n",
       "      <td>19232,0</td>\n",
       "      <td>4933</td>\n",
       "      <td>1</td>\n",
       "      <td>No</td>\n",
       "      <td>11</td>\n",
       "      <td>3,0</td>\n",
       "      <td>4</td>\n",
       "      <td>0</td>\n",
       "      <td>22,0</td>\n",
       "      <td>3</td>\n",
       "      <td>NaN</td>\n",
       "      <td>22</td>\n",
       "      <td>NaN</td>\n",
       "      <td>11</td>\n",
       "      <td>15</td>\n",
       "      <td>1981</td>\n",
       "      <td>Yes</td>\n",
       "    </tr>\n",
       "    <tr>\n",
       "      <th>3</th>\n",
       "      <td>47</td>\n",
       "      <td>No</td>\n",
       "      <td>Travel rarely</td>\n",
       "      <td>359,0</td>\n",
       "      <td>NaN</td>\n",
       "      <td>2</td>\n",
       "      <td>4</td>\n",
       "      <td>Medical</td>\n",
       "      <td>1</td>\n",
       "      <td>F</td>\n",
       "      <td>82.0</td>\n",
       "      <td>3</td>\n",
       "      <td>4</td>\n",
       "      <td>Research Director</td>\n",
       "      <td>3</td>\n",
       "      <td>Married</td>\n",
       "      <td>17169,0</td>\n",
       "      <td>26703</td>\n",
       "      <td>3</td>\n",
       "      <td>NaN</td>\n",
       "      <td>19</td>\n",
       "      <td>3,0</td>\n",
       "      <td>2</td>\n",
       "      <td>2</td>\n",
       "      <td>NaN</td>\n",
       "      <td>2</td>\n",
       "      <td>NaN</td>\n",
       "      <td>20</td>\n",
       "      <td>NaN</td>\n",
       "      <td>5</td>\n",
       "      <td>6</td>\n",
       "      <td>1976</td>\n",
       "      <td>No</td>\n",
       "    </tr>\n",
       "    <tr>\n",
       "      <th>4</th>\n",
       "      <td>46</td>\n",
       "      <td>No</td>\n",
       "      <td>NaN</td>\n",
       "      <td>1319,0</td>\n",
       "      <td>NaN</td>\n",
       "      <td>3</td>\n",
       "      <td>3</td>\n",
       "      <td>Technical Degree</td>\n",
       "      <td>1</td>\n",
       "      <td>F</td>\n",
       "      <td>45.0</td>\n",
       "      <td>4</td>\n",
       "      <td>4</td>\n",
       "      <td>Sales Executive</td>\n",
       "      <td>1</td>\n",
       "      <td>Divorced</td>\n",
       "      <td>NaN</td>\n",
       "      <td>7739</td>\n",
       "      <td>2</td>\n",
       "      <td>No</td>\n",
       "      <td>12</td>\n",
       "      <td>3,0</td>\n",
       "      <td>4</td>\n",
       "      <td>1</td>\n",
       "      <td>NaN</td>\n",
       "      <td>5</td>\n",
       "      <td>3,0</td>\n",
       "      <td>19</td>\n",
       "      <td>NaN</td>\n",
       "      <td>2</td>\n",
       "      <td>8</td>\n",
       "      <td>1977</td>\n",
       "      <td>No</td>\n",
       "    </tr>\n",
       "  </tbody>\n",
       "</table>\n",
       "</div>"
      ],
      "text/plain": [
       "   age attrition businesstravel dailyrate              department  \\\n",
       "0   51        No            NaN     684,0                     NaN   \n",
       "1   52        No            NaN     699,0                     NaN   \n",
       "2   42        No  Travel rarely     532,0  Research & Development   \n",
       "3   47        No  Travel rarely     359,0                     NaN   \n",
       "4   46        No            NaN    1319,0                     NaN   \n",
       "\n",
       "   distancefromhome  education    educationfield  environmentsatisfaction  \\\n",
       "0                 6          3               NaN                        1   \n",
       "1                 1          4     Life Sciences                        3   \n",
       "2                 4          2  Technical Degree                        3   \n",
       "3                 2          4           Medical                        1   \n",
       "4                 3          3  Technical Degree                        1   \n",
       "\n",
       "  gender  hourlyrate  jobinvolvement  joblevel            jobrole  \\\n",
       "0      M        51.0               3         5  Research Director   \n",
       "1      M        65.0               2         5            Manager   \n",
       "2      M        58.0               3         5            Manager   \n",
       "3      F        82.0               3         4  Research Director   \n",
       "4      F        45.0               4         4    Sales Executive   \n",
       "\n",
       "   jobsatisfaction maritalstatus monthlyincome  monthlyrate  \\\n",
       "0                3           NaN       19537,0         6462   \n",
       "1                3           NaN       19999,0         5678   \n",
       "2                4       Married       19232,0         4933   \n",
       "3                3       Married       17169,0        26703   \n",
       "4                1      Divorced           NaN         7739   \n",
       "\n",
       "   numcompaniesworked overtime  percentsalaryhike performancerating  \\\n",
       "0                   7       No                 13               3,0   \n",
       "1                   0      NaN                 14               3,0   \n",
       "2                   1       No                 11               3,0   \n",
       "3                   3      NaN                 19               3,0   \n",
       "4                   2       No                 12               3,0   \n",
       "\n",
       "   relationshipsatisfaction  stockoptionlevel totalworkingyears  \\\n",
       "0                         3                 0               NaN   \n",
       "1                         1                 1              34,0   \n",
       "2                         4                 0              22,0   \n",
       "3                         2                 2               NaN   \n",
       "4                         4                 1               NaN   \n",
       "\n",
       "   trainingtimeslastyear worklifebalance  yearsatcompany yearsincurrentrole  \\\n",
       "0                      5             3,0              20                NaN   \n",
       "1                      5             3,0              33                NaN   \n",
       "2                      3             NaN              22                NaN   \n",
       "3                      2             NaN              20                NaN   \n",
       "4                      5             3,0              19                NaN   \n",
       "\n",
       "   yearssincelastpromotion  yearswithcurrmanager  datebirth remotework  \n",
       "0                       15                    15       1972        Yes  \n",
       "1                       11                     9       1971        Yes  \n",
       "2                       11                    15       1981        Yes  \n",
       "3                        5                     6       1976         No  \n",
       "4                        2                     8       1977         No  "
      ]
     },
     "execution_count": 54,
     "metadata": {},
     "output_type": "execute_result"
    }
   ],
   "source": [
    "datos.head()"
   ]
  },
  {
   "cell_type": "code",
   "execution_count": 55,
   "metadata": {},
   "outputs": [
    {
     "name": "stdout",
     "output_type": "stream",
     "text": [
      "<class 'pandas.core.frame.DataFrame'>\n",
      "Index: 1614 entries, 0 to 1613\n",
      "Data columns (total 33 columns):\n",
      " #   Column                    Non-Null Count  Dtype  \n",
      "---  ------                    --------------  -----  \n",
      " 0   age                       1614 non-null   int64  \n",
      " 1   attrition                 1614 non-null   object \n",
      " 2   businesstravel            842 non-null    object \n",
      " 3   dailyrate                 1490 non-null   object \n",
      " 4   department                302 non-null    object \n",
      " 5   distancefromhome          1614 non-null   int64  \n",
      " 6   education                 1614 non-null   int64  \n",
      " 7   educationfield            869 non-null    object \n",
      " 8   environmentsatisfaction   1614 non-null   int64  \n",
      " 9   gender                    1614 non-null   object \n",
      " 10  hourlyrate                1530 non-null   float64\n",
      " 11  jobinvolvement            1614 non-null   int64  \n",
      " 12  joblevel                  1614 non-null   int64  \n",
      " 13  jobrole                   1614 non-null   object \n",
      " 14  jobsatisfaction           1614 non-null   int64  \n",
      " 15  maritalstatus             963 non-null    object \n",
      " 16  monthlyincome             771 non-null    object \n",
      " 17  monthlyrate               1614 non-null   int64  \n",
      " 18  numcompaniesworked        1614 non-null   int64  \n",
      " 19  overtime                  938 non-null    object \n",
      " 20  percentsalaryhike         1614 non-null   int64  \n",
      " 21  performancerating         1419 non-null   object \n",
      " 22  relationshipsatisfaction  1614 non-null   int64  \n",
      " 23  stockoptionlevel          1614 non-null   int64  \n",
      " 24  totalworkingyears         1088 non-null   object \n",
      " 25  trainingtimeslastyear     1614 non-null   int64  \n",
      " 26  worklifebalance           1506 non-null   object \n",
      " 27  yearsatcompany            1614 non-null   int64  \n",
      " 28  yearsincurrentrole        34 non-null     object \n",
      " 29  yearssincelastpromotion   1614 non-null   int64  \n",
      " 30  yearswithcurrmanager      1614 non-null   int64  \n",
      " 31  datebirth                 1614 non-null   int64  \n",
      " 32  remotework                1614 non-null   object \n",
      "dtypes: float64(1), int64(17), object(15)\n",
      "memory usage: 428.7+ KB\n"
     ]
    }
   ],
   "source": [
    "datos.info()"
   ]
  },
  {
   "cell_type": "code",
   "execution_count": 56,
   "metadata": {},
   "outputs": [],
   "source": [
    "cols = ['dailyrate', 'monthlyincome',  'performancerating', 'totalworkingyears', 'worklifebalance', 'yearsincurrentrole']\n",
    "\n",
    "def cambiar_float(datos, cols):\n",
    "    for col in cols:\n",
    "        datos[col] = datos[col].apply(lambda dato: float(dato.replace(\",\", \".\")) if isinstance(dato, str) else np.nan)\n",
    "\n"
   ]
  },
  {
   "cell_type": "code",
   "execution_count": 57,
   "metadata": {},
   "outputs": [],
   "source": [
    "cambiar_float(datos, cols)"
   ]
  },
  {
   "cell_type": "code",
   "execution_count": 58,
   "metadata": {},
   "outputs": [
    {
     "name": "stdout",
     "output_type": "stream",
     "text": [
      "<class 'pandas.core.frame.DataFrame'>\n",
      "Index: 1614 entries, 0 to 1613\n",
      "Data columns (total 33 columns):\n",
      " #   Column                    Non-Null Count  Dtype  \n",
      "---  ------                    --------------  -----  \n",
      " 0   age                       1614 non-null   int64  \n",
      " 1   attrition                 1614 non-null   object \n",
      " 2   businesstravel            842 non-null    object \n",
      " 3   dailyrate                 1490 non-null   float64\n",
      " 4   department                302 non-null    object \n",
      " 5   distancefromhome          1614 non-null   int64  \n",
      " 6   education                 1614 non-null   int64  \n",
      " 7   educationfield            869 non-null    object \n",
      " 8   environmentsatisfaction   1614 non-null   int64  \n",
      " 9   gender                    1614 non-null   object \n",
      " 10  hourlyrate                1530 non-null   float64\n",
      " 11  jobinvolvement            1614 non-null   int64  \n",
      " 12  joblevel                  1614 non-null   int64  \n",
      " 13  jobrole                   1614 non-null   object \n",
      " 14  jobsatisfaction           1614 non-null   int64  \n",
      " 15  maritalstatus             963 non-null    object \n",
      " 16  monthlyincome             771 non-null    float64\n",
      " 17  monthlyrate               1614 non-null   int64  \n",
      " 18  numcompaniesworked        1614 non-null   int64  \n",
      " 19  overtime                  938 non-null    object \n",
      " 20  percentsalaryhike         1614 non-null   int64  \n",
      " 21  performancerating         1419 non-null   float64\n",
      " 22  relationshipsatisfaction  1614 non-null   int64  \n",
      " 23  stockoptionlevel          1614 non-null   int64  \n",
      " 24  totalworkingyears         1088 non-null   float64\n",
      " 25  trainingtimeslastyear     1614 non-null   int64  \n",
      " 26  worklifebalance           1506 non-null   float64\n",
      " 27  yearsatcompany            1614 non-null   int64  \n",
      " 28  yearsincurrentrole        34 non-null     float64\n",
      " 29  yearssincelastpromotion   1614 non-null   int64  \n",
      " 30  yearswithcurrmanager      1614 non-null   int64  \n",
      " 31  datebirth                 1614 non-null   int64  \n",
      " 32  remotework                1614 non-null   object \n",
      "dtypes: float64(7), int64(17), object(9)\n",
      "memory usage: 428.7+ KB\n"
     ]
    }
   ],
   "source": [
    "datos.info()"
   ]
  },
  {
   "cell_type": "code",
   "execution_count": 129,
   "metadata": {},
   "outputs": [],
   "source": [
    "cols2 = ['age', 'distancefromhome', 'hourlyrate']\n",
    "\n",
    "\n",
    "        \n",
    "                "
   ]
  },
  {
   "cell_type": "code",
   "execution_count": 52,
   "metadata": {},
   "outputs": [
    {
     "data": {
      "text/plain": [
       "Index(['attrition', 'businesstravel', 'department', 'educationfield', 'gender',\n",
       "       'jobrole', 'maritalstatus', 'overtime', 'remotework'],\n",
       "      dtype='object')"
      ]
     },
     "execution_count": 52,
     "metadata": {},
     "output_type": "execute_result"
    }
   ],
   "source": [
    "datatexto = datos.select_dtypes(include= ['object']).columns\n",
    "datatexto"
   ]
  },
  {
   "cell_type": "code",
   "execution_count": null,
   "metadata": {},
   "outputs": [],
   "source": [
    "# numeros ['age', 'distancefromhome', 'hourlyrate']"
   ]
  },
  {
   "cell_type": "code",
   "execution_count": 126,
   "metadata": {},
   "outputs": [
    {
     "data": {
      "text/html": [
       "<div>\n",
       "<style scoped>\n",
       "    .dataframe tbody tr th:only-of-type {\n",
       "        vertical-align: middle;\n",
       "    }\n",
       "\n",
       "    .dataframe tbody tr th {\n",
       "        vertical-align: top;\n",
       "    }\n",
       "\n",
       "    .dataframe thead th {\n",
       "        text-align: right;\n",
       "    }\n",
       "</style>\n",
       "<table border=\"1\" class=\"dataframe\">\n",
       "  <thead>\n",
       "    <tr style=\"text-align: right;\">\n",
       "      <th></th>\n",
       "      <th>age</th>\n",
       "      <th>attrition</th>\n",
       "      <th>businesstravel</th>\n",
       "      <th>dailyrate</th>\n",
       "      <th>department</th>\n",
       "      <th>distancefromhome</th>\n",
       "      <th>education</th>\n",
       "      <th>educationfield</th>\n",
       "      <th>environmentsatisfaction</th>\n",
       "      <th>gender</th>\n",
       "      <th>hourlyrate</th>\n",
       "      <th>jobinvolvement</th>\n",
       "      <th>joblevel</th>\n",
       "      <th>jobrole</th>\n",
       "      <th>jobsatisfaction</th>\n",
       "      <th>maritalstatus</th>\n",
       "      <th>monthlyincome</th>\n",
       "      <th>monthlyrate</th>\n",
       "      <th>numcompaniesworked</th>\n",
       "      <th>overtime</th>\n",
       "      <th>percentsalaryhike</th>\n",
       "      <th>performancerating</th>\n",
       "      <th>relationshipsatisfaction</th>\n",
       "      <th>stockoptionlevel</th>\n",
       "      <th>totalworkingyears</th>\n",
       "      <th>trainingtimeslastyear</th>\n",
       "      <th>worklifebalance</th>\n",
       "      <th>yearsatcompany</th>\n",
       "      <th>yearsincurrentrole</th>\n",
       "      <th>yearssincelastpromotion</th>\n",
       "      <th>yearswithcurrmanager</th>\n",
       "      <th>datebirth</th>\n",
       "      <th>remotework</th>\n",
       "    </tr>\n",
       "  </thead>\n",
       "  <tbody>\n",
       "    <tr>\n",
       "      <th>1342</th>\n",
       "      <td>32</td>\n",
       "      <td>No</td>\n",
       "      <td>Non travel</td>\n",
       "      <td>1184.0</td>\n",
       "      <td>NaN</td>\n",
       "      <td>1</td>\n",
       "      <td>3</td>\n",
       "      <td>Life Sciences</td>\n",
       "      <td>3</td>\n",
       "      <td>F</td>\n",
       "      <td>70</td>\n",
       "      <td>2</td>\n",
       "      <td>1</td>\n",
       "      <td>Laboratory Technician</td>\n",
       "      <td>2</td>\n",
       "      <td>Married</td>\n",
       "      <td>NaN</td>\n",
       "      <td>3974</td>\n",
       "      <td>6</td>\n",
       "      <td>No</td>\n",
       "      <td>20</td>\n",
       "      <td>NaN</td>\n",
       "      <td>3</td>\n",
       "      <td>0</td>\n",
       "      <td>5.0</td>\n",
       "      <td>3</td>\n",
       "      <td>3.0</td>\n",
       "      <td>3</td>\n",
       "      <td>NaN</td>\n",
       "      <td>0</td>\n",
       "      <td>2</td>\n",
       "      <td>1991</td>\n",
       "      <td>Yes</td>\n",
       "    </tr>\n",
       "    <tr>\n",
       "      <th>97</th>\n",
       "      <td>36</td>\n",
       "      <td>No</td>\n",
       "      <td>Travel frequently</td>\n",
       "      <td>469.0</td>\n",
       "      <td>NaN</td>\n",
       "      <td>3</td>\n",
       "      <td>3</td>\n",
       "      <td>NaN</td>\n",
       "      <td>3</td>\n",
       "      <td>M</td>\n",
       "      <td>46</td>\n",
       "      <td>3</td>\n",
       "      <td>1</td>\n",
       "      <td>Research Scientist</td>\n",
       "      <td>2</td>\n",
       "      <td>Married</td>\n",
       "      <td>3692.0</td>\n",
       "      <td>9256</td>\n",
       "      <td>1</td>\n",
       "      <td>No</td>\n",
       "      <td>12</td>\n",
       "      <td>3.0</td>\n",
       "      <td>3</td>\n",
       "      <td>0</td>\n",
       "      <td>12.0</td>\n",
       "      <td>2</td>\n",
       "      <td>2.0</td>\n",
       "      <td>11</td>\n",
       "      <td>NaN</td>\n",
       "      <td>0</td>\n",
       "      <td>7</td>\n",
       "      <td>1987</td>\n",
       "      <td>No</td>\n",
       "    </tr>\n",
       "  </tbody>\n",
       "</table>\n",
       "</div>"
      ],
      "text/plain": [
       "     age attrition     businesstravel  dailyrate department distancefromhome  \\\n",
       "1342  32        No         Non travel     1184.0        NaN                1   \n",
       "97    36        No  Travel frequently      469.0        NaN                3   \n",
       "\n",
       "      education educationfield  environmentsatisfaction gender hourlyrate  \\\n",
       "1342          3  Life Sciences                        3      F         70   \n",
       "97            3            NaN                        3      M         46   \n",
       "\n",
       "      jobinvolvement  joblevel                jobrole  jobsatisfaction  \\\n",
       "1342               2         1  Laboratory Technician                2   \n",
       "97                 3         1     Research Scientist                2   \n",
       "\n",
       "     maritalstatus  monthlyincome  monthlyrate  numcompaniesworked overtime  \\\n",
       "1342       Married            NaN         3974                   6       No   \n",
       "97         Married         3692.0         9256                   1       No   \n",
       "\n",
       "      percentsalaryhike  performancerating  relationshipsatisfaction  \\\n",
       "1342                 20                NaN                         3   \n",
       "97                   12                3.0                         3   \n",
       "\n",
       "      stockoptionlevel  totalworkingyears  trainingtimeslastyear  \\\n",
       "1342                 0                5.0                      3   \n",
       "97                   0               12.0                      2   \n",
       "\n",
       "      worklifebalance  yearsatcompany  yearsincurrentrole  \\\n",
       "1342              3.0               3                 NaN   \n",
       "97                2.0              11                 NaN   \n",
       "\n",
       "      yearssincelastpromotion  yearswithcurrmanager  datebirth remotework  \n",
       "1342                        0                     2       1991        Yes  \n",
       "97                          0                     7       1987         No  "
      ]
     },
     "execution_count": 126,
     "metadata": {},
     "output_type": "execute_result"
    }
   ],
   "source": [
    "datos.sample(2)"
   ]
  },
  {
   "cell_type": "code",
   "execution_count": 120,
   "metadata": {},
   "outputs": [
    {
     "name": "stdout",
     "output_type": "stream",
     "text": [
      "<class 'pandas.core.frame.DataFrame'>\n",
      "Index: 1614 entries, 0 to 1613\n",
      "Data columns (total 33 columns):\n",
      " #   Column                    Non-Null Count  Dtype  \n",
      "---  ------                    --------------  -----  \n",
      " 0   age                       1614 non-null   object \n",
      " 1   attrition                 1614 non-null   object \n",
      " 2   businesstravel            842 non-null    object \n",
      " 3   dailyrate                 1490 non-null   float64\n",
      " 4   department                302 non-null    object \n",
      " 5   distancefromhome          1614 non-null   object \n",
      " 6   education                 1614 non-null   int64  \n",
      " 7   educationfield            869 non-null    object \n",
      " 8   environmentsatisfaction   1614 non-null   int64  \n",
      " 9   gender                    1614 non-null   object \n",
      " 10  hourlyrate                1614 non-null   object \n",
      " 11  jobinvolvement            1614 non-null   int64  \n",
      " 12  joblevel                  1614 non-null   int64  \n",
      " 13  jobrole                   1614 non-null   object \n",
      " 14  jobsatisfaction           1614 non-null   int64  \n",
      " 15  maritalstatus             963 non-null    object \n",
      " 16  monthlyincome             771 non-null    float64\n",
      " 17  monthlyrate               1614 non-null   int64  \n",
      " 18  numcompaniesworked        1614 non-null   int64  \n",
      " 19  overtime                  938 non-null    object \n",
      " 20  percentsalaryhike         1614 non-null   int64  \n",
      " 21  performancerating         1419 non-null   float64\n",
      " 22  relationshipsatisfaction  1614 non-null   int64  \n",
      " 23  stockoptionlevel          1614 non-null   int64  \n",
      " 24  totalworkingyears         1088 non-null   float64\n",
      " 25  trainingtimeslastyear     1614 non-null   int64  \n",
      " 26  worklifebalance           1506 non-null   float64\n",
      " 27  yearsatcompany            1614 non-null   int64  \n",
      " 28  yearsincurrentrole        34 non-null     float64\n",
      " 29  yearssincelastpromotion   1614 non-null   int64  \n",
      " 30  yearswithcurrmanager      1614 non-null   int64  \n",
      " 31  datebirth                 1614 non-null   int64  \n",
      " 32  remotework                1614 non-null   object \n",
      "dtypes: float64(6), int64(15), object(12)\n",
      "memory usage: 428.7+ KB\n"
     ]
    }
   ],
   "source": [
    "datos.info()"
   ]
  }
 ],
 "metadata": {
  "kernelspec": {
   "display_name": "Python 3",
   "language": "python",
   "name": "python3"
  },
  "language_info": {
   "codemirror_mode": {
    "name": "ipython",
    "version": 3
   },
   "file_extension": ".py",
   "mimetype": "text/x-python",
   "name": "python",
   "nbconvert_exporter": "python",
   "pygments_lexer": "ipython3",
   "version": "3.11.7"
  }
 },
 "nbformat": 4,
 "nbformat_minor": 2
}
