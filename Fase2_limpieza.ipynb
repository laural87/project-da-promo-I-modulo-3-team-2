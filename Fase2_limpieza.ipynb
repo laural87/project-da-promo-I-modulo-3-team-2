{
 "cells": [
  {
   "cell_type": "code",
   "execution_count": 1,
   "metadata": {},
   "outputs": [],
   "source": [
    "# Tratamiento de datos\n",
    "# -----------------------------------------------------------------------\n",
    "import pandas as pd\n",
    "import numpy as np\n",
    "\n",
    "from sklearn.impute import SimpleImputer\n",
    "from sklearn.experimental import enable_iterative_imputer\n",
    "from sklearn.impute import IterativeImputer\n",
    "from sklearn.impute import KNNImputer\n",
    "# Librerías de visualización\n",
    "# -----------------------------------------------------------------------\n",
    "import seaborn as sns\n",
    "import matplotlib.pyplot as plt\n",
    "\n",
    "\n",
    "# Configuración\n",
    "# -----------------------------------------------------------------------\n",
    "pd.set_option('display.max_columns', None) # para poder visualizar todas las columnas de los DataFrames\n",
    "pd.set_option('display.max_colwidth', None) # para visualizar todo el contenido de los valores\n",
    "#pd.set_option('display.max_rows', None) # Para visualizar todo el contenido de las filas"
   ]
  },
  {
   "cell_type": "code",
   "execution_count": 2,
   "metadata": {},
   "outputs": [],
   "source": [
    "# Leemos el csv\n",
    "\n",
    "datos = pd.read_csv('Datos/datos_empresa.csv', index_col=0)"
   ]
  },
  {
   "cell_type": "markdown",
   "metadata": {},
   "source": [
    "### Transformación de Datos\n"
   ]
  },
  {
   "cell_type": "code",
   "execution_count": 3,
   "metadata": {},
   "outputs": [],
   "source": [
    "# Borramos columnas que no necesitamos según el estudio EDA\n",
    "\n",
    "columnas_borrar = ['employeecount','Over18','SameAsMonthlyIncome', 'Salary', 'RoleDepartament', 'NUMBERCHILDREN','employeenumber','StandardHours']\n",
    "\n",
    "def borrar_colunas (datos, columnas):\n",
    "    datos.drop( columns = columnas, inplace= True)\n",
    "\n",
    "borrar_colunas(datos,columnas_borrar)"
   ]
  },
  {
   "cell_type": "code",
   "execution_count": 4,
   "metadata": {},
   "outputs": [
    {
     "data": {
      "text/html": [
       "<div>\n",
       "<style scoped>\n",
       "    .dataframe tbody tr th:only-of-type {\n",
       "        vertical-align: middle;\n",
       "    }\n",
       "\n",
       "    .dataframe tbody tr th {\n",
       "        vertical-align: top;\n",
       "    }\n",
       "\n",
       "    .dataframe thead th {\n",
       "        text-align: right;\n",
       "    }\n",
       "</style>\n",
       "<table border=\"1\" class=\"dataframe\">\n",
       "  <thead>\n",
       "    <tr style=\"text-align: right;\">\n",
       "      <th></th>\n",
       "      <th>age</th>\n",
       "      <th>attrition</th>\n",
       "      <th>businesstravel</th>\n",
       "      <th>dailyrate</th>\n",
       "      <th>department</th>\n",
       "      <th>distancefromhome</th>\n",
       "      <th>education</th>\n",
       "      <th>educationfield</th>\n",
       "      <th>environmentsatisfaction</th>\n",
       "      <th>gender</th>\n",
       "      <th>hourlyrate</th>\n",
       "      <th>jobinvolvement</th>\n",
       "      <th>joblevel</th>\n",
       "      <th>jobrole</th>\n",
       "      <th>jobsatisfaction</th>\n",
       "      <th>maritalstatus</th>\n",
       "      <th>monthlyincome</th>\n",
       "      <th>monthlyrate</th>\n",
       "      <th>numcompaniesworked</th>\n",
       "      <th>overtime</th>\n",
       "      <th>percentsalaryhike</th>\n",
       "      <th>performancerating</th>\n",
       "      <th>relationshipsatisfaction</th>\n",
       "      <th>stockoptionlevel</th>\n",
       "      <th>totalworkingyears</th>\n",
       "      <th>trainingtimeslastyear</th>\n",
       "      <th>worklifebalance</th>\n",
       "      <th>yearsatcompany</th>\n",
       "      <th>yearsincurrentrole</th>\n",
       "      <th>yearssincelastpromotion</th>\n",
       "      <th>yearswithcurrmanager</th>\n",
       "      <th>datebirth</th>\n",
       "      <th>remotework</th>\n",
       "    </tr>\n",
       "  </thead>\n",
       "  <tbody>\n",
       "    <tr>\n",
       "      <th>1510</th>\n",
       "      <td>26</td>\n",
       "      <td>No</td>\n",
       "      <td>travel_frequently</td>\n",
       "      <td>1096,0$</td>\n",
       "      <td>NaN</td>\n",
       "      <td>6</td>\n",
       "      <td>3</td>\n",
       "      <td>Other</td>\n",
       "      <td>3</td>\n",
       "      <td>0</td>\n",
       "      <td>61</td>\n",
       "      <td>4</td>\n",
       "      <td>1</td>\n",
       "      <td>laboraTORY TechNiciaN</td>\n",
       "      <td>4</td>\n",
       "      <td>Married</td>\n",
       "      <td>NaN</td>\n",
       "      <td>7102</td>\n",
       "      <td>0</td>\n",
       "      <td>No</td>\n",
       "      <td>18</td>\n",
       "      <td>3,0</td>\n",
       "      <td>1</td>\n",
       "      <td>1</td>\n",
       "      <td>8,0</td>\n",
       "      <td>3</td>\n",
       "      <td>3,0</td>\n",
       "      <td>7</td>\n",
       "      <td>NaN</td>\n",
       "      <td>7</td>\n",
       "      <td>7</td>\n",
       "      <td>1997</td>\n",
       "      <td>True</td>\n",
       "    </tr>\n",
       "    <tr>\n",
       "      <th>404</th>\n",
       "      <td>29</td>\n",
       "      <td>No</td>\n",
       "      <td>travel_rarely</td>\n",
       "      <td>694,0$</td>\n",
       "      <td>NaN</td>\n",
       "      <td>1</td>\n",
       "      <td>3</td>\n",
       "      <td>NaN</td>\n",
       "      <td>4</td>\n",
       "      <td>1</td>\n",
       "      <td>Not Available</td>\n",
       "      <td>2</td>\n",
       "      <td>4</td>\n",
       "      <td>ReSeArCh dirECTOR</td>\n",
       "      <td>4</td>\n",
       "      <td>Divorced</td>\n",
       "      <td>NaN</td>\n",
       "      <td>3423</td>\n",
       "      <td>3</td>\n",
       "      <td>No</td>\n",
       "      <td>14</td>\n",
       "      <td>3,0</td>\n",
       "      <td>2</td>\n",
       "      <td>2</td>\n",
       "      <td>9,0</td>\n",
       "      <td>2</td>\n",
       "      <td>2,0</td>\n",
       "      <td>7</td>\n",
       "      <td>NaN</td>\n",
       "      <td>1</td>\n",
       "      <td>7</td>\n",
       "      <td>1994</td>\n",
       "      <td>True</td>\n",
       "    </tr>\n",
       "  </tbody>\n",
       "</table>\n",
       "</div>"
      ],
      "text/plain": [
       "     age attrition     businesstravel dailyrate department  distancefromhome  \\\n",
       "1510  26        No  travel_frequently   1096,0$        NaN                 6   \n",
       "404   29        No      travel_rarely    694,0$        NaN                 1   \n",
       "\n",
       "      education educationfield  environmentsatisfaction  gender  \\\n",
       "1510          3          Other                        3       0   \n",
       "404           3            NaN                        4       1   \n",
       "\n",
       "         hourlyrate  jobinvolvement  joblevel                  jobrole  \\\n",
       "1510             61               4         1   laboraTORY TechNiciaN    \n",
       "404   Not Available               2         4       ReSeArCh dirECTOR    \n",
       "\n",
       "      jobsatisfaction maritalstatus monthlyincome  monthlyrate  \\\n",
       "1510                4       Married           NaN         7102   \n",
       "404                 4      Divorced           NaN         3423   \n",
       "\n",
       "      numcompaniesworked overtime  percentsalaryhike performancerating  \\\n",
       "1510                   0       No                 18               3,0   \n",
       "404                    3       No                 14               3,0   \n",
       "\n",
       "      relationshipsatisfaction  stockoptionlevel totalworkingyears  \\\n",
       "1510                         1                 1               8,0   \n",
       "404                          2                 2               9,0   \n",
       "\n",
       "      trainingtimeslastyear worklifebalance  yearsatcompany  \\\n",
       "1510                      3             3,0               7   \n",
       "404                       2             2,0               7   \n",
       "\n",
       "     yearsincurrentrole  yearssincelastpromotion  yearswithcurrmanager  \\\n",
       "1510                NaN                        7                     7   \n",
       "404                 NaN                        1                     7   \n",
       "\n",
       "      datebirth remotework  \n",
       "1510       1997       True  \n",
       "404        1994       True  "
      ]
     },
     "execution_count": 4,
     "metadata": {},
     "output_type": "execute_result"
    }
   ],
   "source": [
    "# Transformamos las cabeceras de las columnas para su mejor visulatización las convertimos todos a lower\n",
    "\n",
    "new_columns = {column : column.lower() for column in datos}\n",
    "\n",
    "new_columns\n",
    "\n",
    "datos.rename(columns = new_columns, inplace= True)\n",
    "\n",
    "\n",
    "#comprobamos que se ha realizado\n",
    "datos.sample(2)"
   ]
  },
  {
   "cell_type": "code",
   "execution_count": 5,
   "metadata": {},
   "outputs": [
    {
     "data": {
      "text/plain": [
       "array(['51', '52', '42', '47', '46', '48', '59', '41', '56', '38', '55',\n",
       "       '40', '58', '35', '45', '33', '36', '34', '53', '43', '60', '32',\n",
       "       '37', '49', '39', '50', '44', '30', '58 ', '29', '31', '54', '57',\n",
       "       '27', '28', '26', '25', '24', '23', '22', '21', '20', '19', '18'],\n",
       "      dtype=object)"
      ]
     },
     "execution_count": 5,
     "metadata": {},
     "output_type": "execute_result"
    }
   ],
   "source": [
    "# Columna Age --- cambiamos los valores string a números\n",
    "\n",
    "datos['age'].unique()\n",
    "\n",
    "age = datos['age'].str.replace('fifty-eight', '58 ').str.replace('fifty-eight', '47 ').str.replace('thirty-six', '36').str.replace('fifty-five', '55').str.replace('fifty-two', '52').str.replace('thirty-one', '31').str.replace('twenty-six', '36').str.replace('thirty-seven', '37').str.replace('thirty-seven', '37').str.replace('thirty-two', '32').str.replace('twenty-four', '24').str.replace('forty-seven', '47').str.replace('thirty', '30')\n",
    "\n",
    "datos['age'] = age\n",
    "\n",
    "datos['age'] = datos['age']\n",
    "\n",
    "datos['age'].unique()  \n",
    "\n"
   ]
  },
  {
   "cell_type": "code",
   "execution_count": 6,
   "metadata": {},
   "outputs": [
    {
     "data": {
      "text/plain": [
       "0    684,0\n",
       "1    699,0\n",
       "Name: dailyrate, dtype: object"
      ]
     },
     "execution_count": 6,
     "metadata": {},
     "output_type": "execute_result"
    }
   ],
   "source": [
    "# Eliminamos los $ y ,0 con un .replace. También hemos pasado los nan y luego cambiamos el tipo a float\n",
    "\n",
    "dailyrate = datos['dailyrate'].str.replace('$', '')\n",
    "datos['dailyrate'] = dailyrate\n",
    "\n",
    "datos['dailyrate'] = datos['dailyrate']\n",
    "\n",
    "datos['dailyrate'].head(2)"
   ]
  },
  {
   "cell_type": "code",
   "execution_count": 7,
   "metadata": {},
   "outputs": [
    {
     "data": {
      "text/plain": [
       "array(['6', '1', '4', '2', '3', '22', '25', '9', '7', '23', '10', '12',\n",
       "       '14', '13', '15', '8', '42', '28', '37', '5', '16', '35', '26',\n",
       "       '24', '29', '17', '21', '18', '30', '27', '20', '31', '39', '11',\n",
       "       '19', '33', '34', '46', '36', '45', '47', '32', '41', '49', '48',\n",
       "       '38', '43', '40', '44'], dtype=object)"
      ]
     },
     "execution_count": 7,
     "metadata": {},
     "output_type": "execute_result"
    }
   ],
   "source": [
    "# Hemos cambiado el tipo de int a str y eliminado el menos de los negativos. Lo pasamos a int.\n",
    "\n",
    "datos_distance = datos['distancefromhome'].astype(str)\n",
    "\n",
    "distancefromhome = datos_distance.str.replace('-', '')\n",
    "\n",
    "datos['distancefromhome'] = distancefromhome\n",
    "\n",
    "datos['distancefromhome'] = datos['distancefromhome']\n",
    "\n",
    "datos['distancefromhome'].unique()"
   ]
  },
  {
   "cell_type": "code",
   "execution_count": 8,
   "metadata": {},
   "outputs": [
    {
     "data": {
      "text/plain": [
       "array(['M', 'F'], dtype=object)"
      ]
     },
     "execution_count": 8,
     "metadata": {},
     "output_type": "execute_result"
    }
   ],
   "source": [
    "# Vamos a sustituir los 0 y 1 por la siniciales de su género y cambiarlo a tipo objeto.\n",
    "dic_map = {0:'M', 1:'F'}\n",
    "\n",
    "datos[\"gender\"] = datos[\"gender\"].map(dic_map)\n",
    "\n",
    "datos['gender'].unique()"
   ]
  },
  {
   "cell_type": "code",
   "execution_count": 9,
   "metadata": {},
   "outputs": [
    {
     "data": {
      "text/plain": [
       "array(['51', '65', '58', '82', '45', '99', '91', '64', '55', '68', '49',\n",
       "       '61', '79', '31', '69', '48', '80', '74', '98', '59', '33', '56',\n",
       "       '66', '57', '53', '87', '81', '84', '32', '41', '92', '47', nan,\n",
       "       '43', '86', '30', '42', '88', '96', '67', '62', '72', '78', '89',\n",
       "       '52', '50', '90', '37', '94', '76', '60', '46', '83', '100', '40',\n",
       "       '97', '54', '75', '39', '85', '63', '44', '93', '36', '35', '73',\n",
       "       '71', '70', '38', '77', '95', '34'], dtype=object)"
      ]
     },
     "execution_count": 9,
     "metadata": {},
     "output_type": "execute_result"
    }
   ],
   "source": [
    "# cambiar el Not Avaiable a NaN\n",
    "\n",
    "datos['hourlyrate'] = datos['hourlyrate'].replace('Not Available', np.nan)\n",
    "\n",
    "datos['hourlyrate'].unique() "
   ]
  },
  {
   "cell_type": "code",
   "execution_count": 10,
   "metadata": {},
   "outputs": [
    {
     "data": {
      "text/plain": [
       "array([nan, 'Married', 'Divorced', 'Single'], dtype=object)"
      ]
     },
     "execution_count": 10,
     "metadata": {},
     "output_type": "execute_result"
    }
   ],
   "source": [
    "# Sustituimos los que están mal escritos para que sean iguales a los que si creando un diccionario previamente. Comprobar moda\n",
    "replacements = {\n",
    "    'divorced': 'Divorced',\n",
    "    'Marreid': 'Married'\n",
    "}\n",
    "\n",
    "datos['maritalstatus'] = datos['maritalstatus'].replace(replacements)\n",
    "datos['maritalstatus'].unique() "
   ]
  },
  {
   "cell_type": "code",
   "execution_count": 11,
   "metadata": {},
   "outputs": [
    {
     "data": {
      "text/plain": [
       "array(['Yes', 'No'], dtype=object)"
      ]
     },
     "execution_count": 11,
     "metadata": {},
     "output_type": "execute_result"
    }
   ],
   "source": [
    "# Cambiamos todos los datos a yes o NO depende la numeración\n",
    "\n",
    "diccionario_mapa = {'Yes':'Yes', '1':'Yes', 'False':'No', '0':'No', 'True':'Yes'}\n",
    "\n",
    "datos[\"remotework\"] = datos[\"remotework\"].map(diccionario_mapa)\n",
    "\n",
    "datos['remotework'].unique()"
   ]
  },
  {
   "cell_type": "code",
   "execution_count": 12,
   "metadata": {},
   "outputs": [],
   "source": [
    "# Funcion para cambiar a float\n",
    "\n",
    "cols_float = ['dailyrate', 'monthlyincome',  'performancerating', 'totalworkingyears', 'worklifebalance', 'yearsincurrentrole']\n",
    "\n",
    "def cambiar_float(datos, cols):\n",
    "    for col in cols:\n",
    "        datos[col] = datos[col].apply(lambda dato: float(dato.replace(\",\", \".\")) if isinstance(dato, str) else np.nan)\n",
    "\n",
    "cambiar_float(datos, cols_float)"
   ]
  },
  {
   "cell_type": "code",
   "execution_count": 13,
   "metadata": {},
   "outputs": [],
   "source": [
    "# Funcion para cambiar a int\n",
    "\n",
    "cols_int = ['age', 'distancefromhome', 'hourlyrate']\n",
    "\n",
    "def cambiar_float(datos, cols):\n",
    "    for col in cols:\n",
    "        datos[col] = datos[col].apply(lambda dato: int(dato) if isinstance(dato, str) else np.nan)\n",
    "\n",
    "cambiar_float(datos, cols_int)"
   ]
  },
  {
   "cell_type": "code",
   "execution_count": 14,
   "metadata": {},
   "outputs": [],
   "source": [
    "# Funcion para cambiar textos\n",
    "\n",
    "cols_text = ['attrition', 'businesstravel', 'department', 'educationfield', 'gender', 'jobrole', 'maritalstatus', 'overtime', 'remotework']\n",
    "\n",
    "def cambiar_texto(datos, cols):\n",
    "    for col in cols:\n",
    "        datos[col] = datos[col].str.strip().str.replace('-', ' ').str.replace('_', ' ').str.capitalize()\n",
    "        \n",
    "\n",
    "cambiar_texto(datos, cols_text)"
   ]
  },
  {
   "cell_type": "code",
   "execution_count": 15,
   "metadata": {},
   "outputs": [
    {
     "name": "stdout",
     "output_type": "stream",
     "text": [
      "<class 'pandas.core.frame.DataFrame'>\n",
      "Index: 1614 entries, 0 to 1613\n",
      "Data columns (total 33 columns):\n",
      " #   Column                    Non-Null Count  Dtype  \n",
      "---  ------                    --------------  -----  \n",
      " 0   age                       1614 non-null   int64  \n",
      " 1   attrition                 1614 non-null   object \n",
      " 2   businesstravel            842 non-null    object \n",
      " 3   dailyrate                 1490 non-null   float64\n",
      " 4   department                302 non-null    object \n",
      " 5   distancefromhome          1614 non-null   int64  \n",
      " 6   education                 1614 non-null   int64  \n",
      " 7   educationfield            869 non-null    object \n",
      " 8   environmentsatisfaction   1614 non-null   int64  \n",
      " 9   gender                    1614 non-null   object \n",
      " 10  hourlyrate                1530 non-null   float64\n",
      " 11  jobinvolvement            1614 non-null   int64  \n",
      " 12  joblevel                  1614 non-null   int64  \n",
      " 13  jobrole                   1614 non-null   object \n",
      " 14  jobsatisfaction           1614 non-null   int64  \n",
      " 15  maritalstatus             963 non-null    object \n",
      " 16  monthlyincome             771 non-null    float64\n",
      " 17  monthlyrate               1614 non-null   int64  \n",
      " 18  numcompaniesworked        1614 non-null   int64  \n",
      " 19  overtime                  938 non-null    object \n",
      " 20  percentsalaryhike         1614 non-null   int64  \n",
      " 21  performancerating         1419 non-null   float64\n",
      " 22  relationshipsatisfaction  1614 non-null   int64  \n",
      " 23  stockoptionlevel          1614 non-null   int64  \n",
      " 24  totalworkingyears         1088 non-null   float64\n",
      " 25  trainingtimeslastyear     1614 non-null   int64  \n",
      " 26  worklifebalance           1506 non-null   float64\n",
      " 27  yearsatcompany            1614 non-null   int64  \n",
      " 28  yearsincurrentrole        34 non-null     float64\n",
      " 29  yearssincelastpromotion   1614 non-null   int64  \n",
      " 30  yearswithcurrmanager      1614 non-null   int64  \n",
      " 31  datebirth                 1614 non-null   int64  \n",
      " 32  remotework                1614 non-null   object \n",
      "dtypes: float64(7), int64(17), object(9)\n",
      "memory usage: 428.7+ KB\n"
     ]
    }
   ],
   "source": [
    "datos.info()"
   ]
  },
  {
   "cell_type": "code",
   "execution_count": 16,
   "metadata": {},
   "outputs": [
    {
     "data": {
      "text/html": [
       "<div>\n",
       "<style scoped>\n",
       "    .dataframe tbody tr th:only-of-type {\n",
       "        vertical-align: middle;\n",
       "    }\n",
       "\n",
       "    .dataframe tbody tr th {\n",
       "        vertical-align: top;\n",
       "    }\n",
       "\n",
       "    .dataframe thead th {\n",
       "        text-align: right;\n",
       "    }\n",
       "</style>\n",
       "<table border=\"1\" class=\"dataframe\">\n",
       "  <thead>\n",
       "    <tr style=\"text-align: right;\">\n",
       "      <th></th>\n",
       "      <th>age</th>\n",
       "      <th>attrition</th>\n",
       "      <th>businesstravel</th>\n",
       "      <th>dailyrate</th>\n",
       "      <th>department</th>\n",
       "      <th>distancefromhome</th>\n",
       "      <th>education</th>\n",
       "      <th>educationfield</th>\n",
       "      <th>environmentsatisfaction</th>\n",
       "      <th>gender</th>\n",
       "      <th>hourlyrate</th>\n",
       "      <th>jobinvolvement</th>\n",
       "      <th>joblevel</th>\n",
       "      <th>jobrole</th>\n",
       "      <th>jobsatisfaction</th>\n",
       "      <th>maritalstatus</th>\n",
       "      <th>monthlyincome</th>\n",
       "      <th>monthlyrate</th>\n",
       "      <th>numcompaniesworked</th>\n",
       "      <th>overtime</th>\n",
       "      <th>percentsalaryhike</th>\n",
       "      <th>performancerating</th>\n",
       "      <th>relationshipsatisfaction</th>\n",
       "      <th>stockoptionlevel</th>\n",
       "      <th>totalworkingyears</th>\n",
       "      <th>trainingtimeslastyear</th>\n",
       "      <th>worklifebalance</th>\n",
       "      <th>yearsatcompany</th>\n",
       "      <th>yearsincurrentrole</th>\n",
       "      <th>yearssincelastpromotion</th>\n",
       "      <th>yearswithcurrmanager</th>\n",
       "      <th>datebirth</th>\n",
       "      <th>remotework</th>\n",
       "    </tr>\n",
       "  </thead>\n",
       "  <tbody>\n",
       "    <tr>\n",
       "      <th>360</th>\n",
       "      <td>44</td>\n",
       "      <td>No</td>\n",
       "      <td>NaN</td>\n",
       "      <td>661.0</td>\n",
       "      <td>NaN</td>\n",
       "      <td>9</td>\n",
       "      <td>2</td>\n",
       "      <td>NaN</td>\n",
       "      <td>2</td>\n",
       "      <td>M</td>\n",
       "      <td>61.0</td>\n",
       "      <td>3</td>\n",
       "      <td>1</td>\n",
       "      <td>Research scientist</td>\n",
       "      <td>1</td>\n",
       "      <td>NaN</td>\n",
       "      <td>NaN</td>\n",
       "      <td>7508</td>\n",
       "      <td>1</td>\n",
       "      <td>Yes</td>\n",
       "      <td>13</td>\n",
       "      <td>3.0</td>\n",
       "      <td>4</td>\n",
       "      <td>0</td>\n",
       "      <td>8.0</td>\n",
       "      <td>0</td>\n",
       "      <td>3.0</td>\n",
       "      <td>8</td>\n",
       "      <td>NaN</td>\n",
       "      <td>7</td>\n",
       "      <td>1</td>\n",
       "      <td>1979</td>\n",
       "      <td>Yes</td>\n",
       "    </tr>\n",
       "    <tr>\n",
       "      <th>771</th>\n",
       "      <td>39</td>\n",
       "      <td>No</td>\n",
       "      <td>NaN</td>\n",
       "      <td>1253.0</td>\n",
       "      <td>Research &amp; development</td>\n",
       "      <td>10</td>\n",
       "      <td>1</td>\n",
       "      <td>Medical</td>\n",
       "      <td>3</td>\n",
       "      <td>M</td>\n",
       "      <td>65.0</td>\n",
       "      <td>3</td>\n",
       "      <td>3</td>\n",
       "      <td>Research director</td>\n",
       "      <td>3</td>\n",
       "      <td>Single</td>\n",
       "      <td>NaN</td>\n",
       "      <td>7914</td>\n",
       "      <td>7</td>\n",
       "      <td>NaN</td>\n",
       "      <td>21</td>\n",
       "      <td>4.0</td>\n",
       "      <td>3</td>\n",
       "      <td>0</td>\n",
       "      <td>NaN</td>\n",
       "      <td>3</td>\n",
       "      <td>3.0</td>\n",
       "      <td>4</td>\n",
       "      <td>NaN</td>\n",
       "      <td>2</td>\n",
       "      <td>2</td>\n",
       "      <td>1984</td>\n",
       "      <td>Yes</td>\n",
       "    </tr>\n",
       "    <tr>\n",
       "      <th>258</th>\n",
       "      <td>39</td>\n",
       "      <td>No</td>\n",
       "      <td>Travel rarely</td>\n",
       "      <td>119.0</td>\n",
       "      <td>NaN</td>\n",
       "      <td>15</td>\n",
       "      <td>4</td>\n",
       "      <td>Marketing</td>\n",
       "      <td>2</td>\n",
       "      <td>M</td>\n",
       "      <td>77.0</td>\n",
       "      <td>3</td>\n",
       "      <td>4</td>\n",
       "      <td>Sales executive</td>\n",
       "      <td>1</td>\n",
       "      <td>Single</td>\n",
       "      <td>13341.0</td>\n",
       "      <td>25098</td>\n",
       "      <td>0</td>\n",
       "      <td>No</td>\n",
       "      <td>12</td>\n",
       "      <td>3.0</td>\n",
       "      <td>1</td>\n",
       "      <td>0</td>\n",
       "      <td>21.0</td>\n",
       "      <td>3</td>\n",
       "      <td>3.0</td>\n",
       "      <td>20</td>\n",
       "      <td>NaN</td>\n",
       "      <td>11</td>\n",
       "      <td>10</td>\n",
       "      <td>1984</td>\n",
       "      <td>No</td>\n",
       "    </tr>\n",
       "    <tr>\n",
       "      <th>1519</th>\n",
       "      <td>37</td>\n",
       "      <td>No</td>\n",
       "      <td>NaN</td>\n",
       "      <td>1192.0</td>\n",
       "      <td>NaN</td>\n",
       "      <td>5</td>\n",
       "      <td>2</td>\n",
       "      <td>Medical</td>\n",
       "      <td>4</td>\n",
       "      <td>M</td>\n",
       "      <td>61.0</td>\n",
       "      <td>3</td>\n",
       "      <td>2</td>\n",
       "      <td>Manufacturing director</td>\n",
       "      <td>4</td>\n",
       "      <td>NaN</td>\n",
       "      <td>6347.0</td>\n",
       "      <td>23177</td>\n",
       "      <td>7</td>\n",
       "      <td>No</td>\n",
       "      <td>16</td>\n",
       "      <td>3.0</td>\n",
       "      <td>3</td>\n",
       "      <td>2</td>\n",
       "      <td>8.0</td>\n",
       "      <td>2</td>\n",
       "      <td>2.0</td>\n",
       "      <td>6</td>\n",
       "      <td>NaN</td>\n",
       "      <td>0</td>\n",
       "      <td>4</td>\n",
       "      <td>1986</td>\n",
       "      <td>No</td>\n",
       "    </tr>\n",
       "    <tr>\n",
       "      <th>1272</th>\n",
       "      <td>29</td>\n",
       "      <td>No</td>\n",
       "      <td>Travel rarely</td>\n",
       "      <td>1210.0</td>\n",
       "      <td>NaN</td>\n",
       "      <td>2</td>\n",
       "      <td>3</td>\n",
       "      <td>Medical</td>\n",
       "      <td>1</td>\n",
       "      <td>M</td>\n",
       "      <td>78.0</td>\n",
       "      <td>2</td>\n",
       "      <td>2</td>\n",
       "      <td>Sales executive</td>\n",
       "      <td>2</td>\n",
       "      <td>Married</td>\n",
       "      <td>6644.0</td>\n",
       "      <td>3687</td>\n",
       "      <td>2</td>\n",
       "      <td>No</td>\n",
       "      <td>19</td>\n",
       "      <td>3.0</td>\n",
       "      <td>2</td>\n",
       "      <td>2</td>\n",
       "      <td>10.0</td>\n",
       "      <td>2</td>\n",
       "      <td>NaN</td>\n",
       "      <td>0</td>\n",
       "      <td>NaN</td>\n",
       "      <td>0</td>\n",
       "      <td>0</td>\n",
       "      <td>1994</td>\n",
       "      <td>Yes</td>\n",
       "    </tr>\n",
       "  </tbody>\n",
       "</table>\n",
       "</div>"
      ],
      "text/plain": [
       "      age attrition businesstravel  dailyrate              department  \\\n",
       "360    44        No            NaN      661.0                     NaN   \n",
       "771    39        No            NaN     1253.0  Research & development   \n",
       "258    39        No  Travel rarely      119.0                     NaN   \n",
       "1519   37        No            NaN     1192.0                     NaN   \n",
       "1272   29        No  Travel rarely     1210.0                     NaN   \n",
       "\n",
       "      distancefromhome  education educationfield  environmentsatisfaction  \\\n",
       "360                  9          2            NaN                        2   \n",
       "771                 10          1        Medical                        3   \n",
       "258                 15          4      Marketing                        2   \n",
       "1519                 5          2        Medical                        4   \n",
       "1272                 2          3        Medical                        1   \n",
       "\n",
       "     gender  hourlyrate  jobinvolvement  joblevel                 jobrole  \\\n",
       "360       M        61.0               3         1      Research scientist   \n",
       "771       M        65.0               3         3       Research director   \n",
       "258       M        77.0               3         4         Sales executive   \n",
       "1519      M        61.0               3         2  Manufacturing director   \n",
       "1272      M        78.0               2         2         Sales executive   \n",
       "\n",
       "      jobsatisfaction maritalstatus  monthlyincome  monthlyrate  \\\n",
       "360                 1           NaN            NaN         7508   \n",
       "771                 3        Single            NaN         7914   \n",
       "258                 1        Single        13341.0        25098   \n",
       "1519                4           NaN         6347.0        23177   \n",
       "1272                2       Married         6644.0         3687   \n",
       "\n",
       "      numcompaniesworked overtime  percentsalaryhike  performancerating  \\\n",
       "360                    1      Yes                 13                3.0   \n",
       "771                    7      NaN                 21                4.0   \n",
       "258                    0       No                 12                3.0   \n",
       "1519                   7       No                 16                3.0   \n",
       "1272                   2       No                 19                3.0   \n",
       "\n",
       "      relationshipsatisfaction  stockoptionlevel  totalworkingyears  \\\n",
       "360                          4                 0                8.0   \n",
       "771                          3                 0                NaN   \n",
       "258                          1                 0               21.0   \n",
       "1519                         3                 2                8.0   \n",
       "1272                         2                 2               10.0   \n",
       "\n",
       "      trainingtimeslastyear  worklifebalance  yearsatcompany  \\\n",
       "360                       0              3.0               8   \n",
       "771                       3              3.0               4   \n",
       "258                       3              3.0              20   \n",
       "1519                      2              2.0               6   \n",
       "1272                      2              NaN               0   \n",
       "\n",
       "      yearsincurrentrole  yearssincelastpromotion  yearswithcurrmanager  \\\n",
       "360                  NaN                        7                     1   \n",
       "771                  NaN                        2                     2   \n",
       "258                  NaN                       11                    10   \n",
       "1519                 NaN                        0                     4   \n",
       "1272                 NaN                        0                     0   \n",
       "\n",
       "      datebirth remotework  \n",
       "360        1979        Yes  \n",
       "771        1984        Yes  \n",
       "258        1984         No  \n",
       "1519       1986         No  \n",
       "1272       1994        Yes  "
      ]
     },
     "execution_count": 16,
     "metadata": {},
     "output_type": "execute_result"
    }
   ],
   "source": [
    "datos.sample(5)"
   ]
  },
  {
   "cell_type": "code",
   "execution_count": 17,
   "metadata": {},
   "outputs": [],
   "source": [
    "# Creamos copia de seguridad del archivo\n",
    "\n",
    "datos.to_csv('Datos/datos_empresa_V.1.clean.csv')"
   ]
  },
  {
   "cell_type": "markdown",
   "metadata": {},
   "source": [
    "### Gestion de Nulos"
   ]
  },
  {
   "cell_type": "code",
   "execution_count": 18,
   "metadata": {},
   "outputs": [
    {
     "data": {
      "text/html": [
       "<div>\n",
       "<style scoped>\n",
       "    .dataframe tbody tr th:only-of-type {\n",
       "        vertical-align: middle;\n",
       "    }\n",
       "\n",
       "    .dataframe tbody tr th {\n",
       "        vertical-align: top;\n",
       "    }\n",
       "\n",
       "    .dataframe thead th {\n",
       "        text-align: right;\n",
       "    }\n",
       "</style>\n",
       "<table border=\"1\" class=\"dataframe\">\n",
       "  <thead>\n",
       "    <tr style=\"text-align: right;\">\n",
       "      <th></th>\n",
       "      <th>age</th>\n",
       "      <th>attrition</th>\n",
       "      <th>businesstravel</th>\n",
       "      <th>dailyrate</th>\n",
       "      <th>department</th>\n",
       "      <th>distancefromhome</th>\n",
       "      <th>education</th>\n",
       "      <th>educationfield</th>\n",
       "      <th>environmentsatisfaction</th>\n",
       "      <th>gender</th>\n",
       "      <th>hourlyrate</th>\n",
       "      <th>jobinvolvement</th>\n",
       "      <th>joblevel</th>\n",
       "      <th>jobrole</th>\n",
       "      <th>jobsatisfaction</th>\n",
       "      <th>maritalstatus</th>\n",
       "      <th>monthlyincome</th>\n",
       "      <th>monthlyrate</th>\n",
       "      <th>numcompaniesworked</th>\n",
       "      <th>overtime</th>\n",
       "      <th>percentsalaryhike</th>\n",
       "      <th>performancerating</th>\n",
       "      <th>relationshipsatisfaction</th>\n",
       "      <th>stockoptionlevel</th>\n",
       "      <th>totalworkingyears</th>\n",
       "      <th>trainingtimeslastyear</th>\n",
       "      <th>worklifebalance</th>\n",
       "      <th>yearsatcompany</th>\n",
       "      <th>yearsincurrentrole</th>\n",
       "      <th>yearssincelastpromotion</th>\n",
       "      <th>yearswithcurrmanager</th>\n",
       "      <th>datebirth</th>\n",
       "      <th>remotework</th>\n",
       "    </tr>\n",
       "  </thead>\n",
       "  <tbody>\n",
       "    <tr>\n",
       "      <th>1336</th>\n",
       "      <td>58</td>\n",
       "      <td>Yes</td>\n",
       "      <td>Travel frequently</td>\n",
       "      <td>781.0</td>\n",
       "      <td>NaN</td>\n",
       "      <td>2</td>\n",
       "      <td>1</td>\n",
       "      <td>NaN</td>\n",
       "      <td>4</td>\n",
       "      <td>M</td>\n",
       "      <td>57.0</td>\n",
       "      <td>2</td>\n",
       "      <td>1</td>\n",
       "      <td>Laboratory technician</td>\n",
       "      <td>4</td>\n",
       "      <td>Divorced</td>\n",
       "      <td>2380.0</td>\n",
       "      <td>13384</td>\n",
       "      <td>9</td>\n",
       "      <td>NaN</td>\n",
       "      <td>14</td>\n",
       "      <td>3.0</td>\n",
       "      <td>4</td>\n",
       "      <td>1</td>\n",
       "      <td>3.0</td>\n",
       "      <td>3</td>\n",
       "      <td>2.0</td>\n",
       "      <td>1</td>\n",
       "      <td>NaN</td>\n",
       "      <td>0</td>\n",
       "      <td>0</td>\n",
       "      <td>1965</td>\n",
       "      <td>Yes</td>\n",
       "    </tr>\n",
       "    <tr>\n",
       "      <th>780</th>\n",
       "      <td>35</td>\n",
       "      <td>No</td>\n",
       "      <td>Travel rarely</td>\n",
       "      <td>682.0</td>\n",
       "      <td>NaN</td>\n",
       "      <td>18</td>\n",
       "      <td>4</td>\n",
       "      <td>NaN</td>\n",
       "      <td>2</td>\n",
       "      <td>M</td>\n",
       "      <td>71.0</td>\n",
       "      <td>3</td>\n",
       "      <td>2</td>\n",
       "      <td>Sales executive</td>\n",
       "      <td>1</td>\n",
       "      <td>NaN</td>\n",
       "      <td>5561.0</td>\n",
       "      <td>15975</td>\n",
       "      <td>0</td>\n",
       "      <td>NaN</td>\n",
       "      <td>16</td>\n",
       "      <td>3.0</td>\n",
       "      <td>4</td>\n",
       "      <td>1</td>\n",
       "      <td>NaN</td>\n",
       "      <td>2</td>\n",
       "      <td>1.0</td>\n",
       "      <td>5</td>\n",
       "      <td>NaN</td>\n",
       "      <td>0</td>\n",
       "      <td>4</td>\n",
       "      <td>1988</td>\n",
       "      <td>Yes</td>\n",
       "    </tr>\n",
       "  </tbody>\n",
       "</table>\n",
       "</div>"
      ],
      "text/plain": [
       "      age attrition     businesstravel  dailyrate department  \\\n",
       "1336   58       Yes  Travel frequently      781.0        NaN   \n",
       "780    35        No      Travel rarely      682.0        NaN   \n",
       "\n",
       "      distancefromhome  education educationfield  environmentsatisfaction  \\\n",
       "1336                 2          1            NaN                        4   \n",
       "780                 18          4            NaN                        2   \n",
       "\n",
       "     gender  hourlyrate  jobinvolvement  joblevel                jobrole  \\\n",
       "1336      M        57.0               2         1  Laboratory technician   \n",
       "780       M        71.0               3         2        Sales executive   \n",
       "\n",
       "      jobsatisfaction maritalstatus  monthlyincome  monthlyrate  \\\n",
       "1336                4      Divorced         2380.0        13384   \n",
       "780                 1           NaN         5561.0        15975   \n",
       "\n",
       "      numcompaniesworked overtime  percentsalaryhike  performancerating  \\\n",
       "1336                   9      NaN                 14                3.0   \n",
       "780                    0      NaN                 16                3.0   \n",
       "\n",
       "      relationshipsatisfaction  stockoptionlevel  totalworkingyears  \\\n",
       "1336                         4                 1                3.0   \n",
       "780                          4                 1                NaN   \n",
       "\n",
       "      trainingtimeslastyear  worklifebalance  yearsatcompany  \\\n",
       "1336                      3              2.0               1   \n",
       "780                       2              1.0               5   \n",
       "\n",
       "      yearsincurrentrole  yearssincelastpromotion  yearswithcurrmanager  \\\n",
       "1336                 NaN                        0                     0   \n",
       "780                  NaN                        0                     4   \n",
       "\n",
       "      datebirth remotework  \n",
       "1336       1965        Yes  \n",
       "780        1988        Yes  "
      ]
     },
     "execution_count": 18,
     "metadata": {},
     "output_type": "execute_result"
    }
   ],
   "source": [
    "datos = pd.read_csv('Datos/datos_empresa_V.1.clean.csv', index_col=0)\n",
    "datos.sample(2)"
   ]
  },
  {
   "cell_type": "code",
   "execution_count": 19,
   "metadata": {},
   "outputs": [
    {
     "name": "stdout",
     "output_type": "stream",
     "text": [
      "Las columnas categóricas que tienen nulos son : \n",
      " \n",
      "Index(['businesstravel', 'department', 'educationfield', 'maritalstatus',\n",
      "       'overtime'],\n",
      "      dtype='object')\n"
     ]
    }
   ],
   "source": [
    "# qué columnas categóricas tienen nulos\n",
    "\n",
    "nulos_cat = datos[datos.columns[datos.isnull().any()]].select_dtypes(include = \"O\").columns\n",
    "print(\"Las columnas categóricas que tienen nulos son : \\n \")\n",
    "print(nulos_cat)"
   ]
  },
  {
   "cell_type": "code",
   "execution_count": 20,
   "metadata": {},
   "outputs": [
    {
     "name": "stdout",
     "output_type": "stream",
     "text": [
      "Las columnas numéricas que tienen nulos son : \n",
      " \n",
      "Index(['dailyrate', 'hourlyrate', 'monthlyincome', 'performancerating',\n",
      "       'totalworkingyears', 'worklifebalance', 'yearsincurrentrole'],\n",
      "      dtype='object')\n"
     ]
    }
   ],
   "source": [
    "# qué columnas numericas tienen nulos\n",
    "\n",
    "nulos_num = datos[datos.columns[datos.isnull().any()]].select_dtypes(include = ['int', 'float']).columns\n",
    "print(\"Las columnas numéricas que tienen nulos son : \\n \")\n",
    "print(nulos_num)"
   ]
  },
  {
   "cell_type": "code",
   "execution_count": 21,
   "metadata": {},
   "outputs": [
    {
     "name": "stdout",
     "output_type": "stream",
     "text": [
      "La distribución de las categorías para la columna BUSINESSTRAVEL\n"
     ]
    },
    {
     "data": {
      "text/plain": [
       "businesstravel\n",
       "Travel rarely        0.363073\n",
       "Travel frequently    0.102230\n",
       "Non travel           0.056382\n",
       "Name: count, dtype: float64"
      ]
     },
     "metadata": {},
     "output_type": "display_data"
    },
    {
     "name": "stdout",
     "output_type": "stream",
     "text": [
      "........................\n",
      "La distribución de las categorías para la columna DEPARTMENT\n"
     ]
    },
    {
     "data": {
      "text/plain": [
       "department\n",
       "Research & development    0.121437\n",
       "Sales                     0.056382\n",
       "Human resources           0.009294\n",
       "Name: count, dtype: float64"
      ]
     },
     "metadata": {},
     "output_type": "display_data"
    },
    {
     "name": "stdout",
     "output_type": "stream",
     "text": [
      "........................\n",
      "La distribución de las categorías para la columna EDUCATIONFIELD\n"
     ]
    },
    {
     "data": {
      "text/plain": [
       "educationfield\n",
       "Life sciences       0.216233\n",
       "Medical             0.171004\n",
       "Marketing           0.064436\n",
       "Technical degree    0.042751\n",
       "Other               0.036555\n",
       "Human resources     0.007435\n",
       "Name: count, dtype: float64"
      ]
     },
     "metadata": {},
     "output_type": "display_data"
    },
    {
     "name": "stdout",
     "output_type": "stream",
     "text": [
      "........................\n",
      "La distribución de las categorías para la columna MARITALSTATUS\n"
     ]
    },
    {
     "data": {
      "text/plain": [
       "maritalstatus\n",
       "Married     0.271995\n",
       "Single      0.201363\n",
       "Divorced    0.123296\n",
       "Name: count, dtype: float64"
      ]
     },
     "metadata": {},
     "output_type": "display_data"
    },
    {
     "name": "stdout",
     "output_type": "stream",
     "text": [
      "........................\n",
      "La distribución de las categorías para la columna OVERTIME\n"
     ]
    },
    {
     "data": {
      "text/plain": [
       "overtime\n",
       "No     0.422553\n",
       "Yes    0.158612\n",
       "Name: count, dtype: float64"
      ]
     },
     "metadata": {},
     "output_type": "display_data"
    },
    {
     "name": "stdout",
     "output_type": "stream",
     "text": [
      "........................\n"
     ]
    }
   ],
   "source": [
    "# Vemos la forma de estas columnas categóricas\n",
    "\n",
    "for col in nulos_cat:\n",
    "    print(f\"La distribución de las categorías para la columna {col.upper()}\")\n",
    "    display(datos[col].value_counts() / datos.shape[0])\n",
    "    print(\"........................\")"
   ]
  },
  {
   "cell_type": "code",
   "execution_count": 22,
   "metadata": {},
   "outputs": [
    {
     "name": "stdout",
     "output_type": "stream",
     "text": [
      "La distribución de las categorías para la columna DAILYRATE\n"
     ]
    },
    {
     "data": {
      "text/plain": [
       "dailyrate\n",
       "691.0    0.004337\n",
       "329.0    0.004337\n",
       "147.0    0.003717\n",
       "408.0    0.003717\n",
       "530.0    0.003717\n",
       "           ...   \n",
       "317.0    0.000620\n",
       "891.0    0.000620\n",
       "759.0    0.000620\n",
       "483.0    0.000620\n",
       "105.0    0.000620\n",
       "Name: count, Length: 848, dtype: float64"
      ]
     },
     "metadata": {},
     "output_type": "display_data"
    },
    {
     "name": "stdout",
     "output_type": "stream",
     "text": [
      "........................\n",
      "La distribución de las categorías para la columna HOURLYRATE\n"
     ]
    },
    {
     "data": {
      "text/plain": [
       "hourlyrate\n",
       "42.0    0.020446\n",
       "66.0    0.019827\n",
       "48.0    0.018587\n",
       "84.0    0.017968\n",
       "57.0    0.017968\n",
       "          ...   \n",
       "47.0    0.009294\n",
       "68.0    0.008055\n",
       "53.0    0.008055\n",
       "38.0    0.007435\n",
       "34.0    0.006815\n",
       "Name: count, Length: 71, dtype: float64"
      ]
     },
     "metadata": {},
     "output_type": "display_data"
    },
    {
     "name": "stdout",
     "output_type": "stream",
     "text": [
      "........................\n",
      "La distribución de las categorías para la columna MONTHLYINCOME\n"
     ]
    },
    {
     "data": {
      "text/plain": [
       "monthlyincome\n",
       "6347.0     0.002478\n",
       "5304.0     0.002478\n",
       "2657.0     0.001859\n",
       "2258.0     0.001859\n",
       "5405.0     0.001239\n",
       "             ...   \n",
       "3102.0     0.000620\n",
       "4556.0     0.000620\n",
       "4230.0     0.000620\n",
       "4859.0     0.000620\n",
       "19431.0    0.000620\n",
       "Name: count, Length: 668, dtype: float64"
      ]
     },
     "metadata": {},
     "output_type": "display_data"
    },
    {
     "name": "stdout",
     "output_type": "stream",
     "text": [
      "........................\n",
      "La distribución de las categorías para la columna PERFORMANCERATING\n"
     ]
    },
    {
     "data": {
      "text/plain": [
       "performancerating\n",
       "3.0    0.746592\n",
       "4.0    0.132590\n",
       "Name: count, dtype: float64"
      ]
     },
     "metadata": {},
     "output_type": "display_data"
    },
    {
     "name": "stdout",
     "output_type": "stream",
     "text": [
      "........................\n",
      "La distribución de las categorías para la columna TOTALWORKINGYEARS\n"
     ]
    },
    {
     "data": {
      "text/plain": [
       "totalworkingyears\n",
       "10.0    0.089219\n",
       "8.0     0.053284\n",
       "6.0     0.052045\n",
       "9.0     0.042751\n",
       "5.0     0.040892\n",
       "7.0     0.034696\n",
       "4.0     0.033457\n",
       "1.0     0.032838\n",
       "12.0    0.021066\n",
       "3.0     0.019827\n",
       "14.0    0.018587\n",
       "13.0    0.018587\n",
       "11.0    0.017968\n",
       "15.0    0.017348\n",
       "16.0    0.017348\n",
       "20.0    0.017348\n",
       "18.0    0.016729\n",
       "21.0    0.014250\n",
       "17.0    0.013631\n",
       "2.0     0.013011\n",
       "22.0    0.011152\n",
       "19.0    0.010533\n",
       "24.0    0.008674\n",
       "23.0    0.008055\n",
       "28.0    0.008055\n",
       "26.0    0.004957\n",
       "0.0     0.004957\n",
       "29.0    0.003717\n",
       "36.0    0.003717\n",
       "25.0    0.003717\n",
       "33.0    0.003717\n",
       "37.0    0.003098\n",
       "27.0    0.003098\n",
       "31.0    0.002478\n",
       "30.0    0.001859\n",
       "32.0    0.001859\n",
       "35.0    0.001859\n",
       "40.0    0.001859\n",
       "34.0    0.001239\n",
       "38.0    0.000620\n",
       "Name: count, dtype: float64"
      ]
     },
     "metadata": {},
     "output_type": "display_data"
    },
    {
     "name": "stdout",
     "output_type": "stream",
     "text": [
      "........................\n",
      "La distribución de las categorías para la columna WORKLIFEBALANCE\n"
     ]
    },
    {
     "data": {
      "text/plain": [
       "worklifebalance\n",
       "3.0    0.565675\n",
       "2.0    0.222429\n",
       "4.0    0.096035\n",
       "1.0    0.048947\n",
       "Name: count, dtype: float64"
      ]
     },
     "metadata": {},
     "output_type": "display_data"
    },
    {
     "name": "stdout",
     "output_type": "stream",
     "text": [
      "........................\n",
      "La distribución de las categorías para la columna YEARSINCURRENTROLE\n"
     ]
    },
    {
     "data": {
      "text/plain": [
       "yearsincurrentrole\n",
       "2.0     0.006815\n",
       "7.0     0.003098\n",
       "0.0     0.002478\n",
       "4.0     0.001859\n",
       "1.0     0.001859\n",
       "11.0    0.001239\n",
       "6.0     0.001239\n",
       "3.0     0.001239\n",
       "13.0    0.000620\n",
       "12.0    0.000620\n",
       "Name: count, dtype: float64"
      ]
     },
     "metadata": {},
     "output_type": "display_data"
    },
    {
     "name": "stdout",
     "output_type": "stream",
     "text": [
      "........................\n"
     ]
    }
   ],
   "source": [
    "# Vemos la forma de estas columnas numéricas\n",
    "\n",
    "for col in nulos_num:\n",
    "    print(f\"La distribución de las categorías para la columna {col.upper()}\")\n",
    "    display(datos[col].value_counts() / datos.shape[0])\n",
    "    print(\"........................\")"
   ]
  },
  {
   "cell_type": "code",
   "execution_count": 23,
   "metadata": {},
   "outputs": [
    {
     "data": {
      "text/plain": [
       "age                          0.000000\n",
       "attrition                    0.000000\n",
       "businesstravel              47.831475\n",
       "dailyrate                    7.682776\n",
       "department                  81.288724\n",
       "distancefromhome             0.000000\n",
       "education                    0.000000\n",
       "educationfield              46.158612\n",
       "environmentsatisfaction      0.000000\n",
       "gender                       0.000000\n",
       "hourlyrate                   5.204461\n",
       "jobinvolvement               0.000000\n",
       "joblevel                     0.000000\n",
       "jobrole                      0.000000\n",
       "jobsatisfaction              0.000000\n",
       "maritalstatus               40.334572\n",
       "monthlyincome               52.230483\n",
       "monthlyrate                  0.000000\n",
       "numcompaniesworked           0.000000\n",
       "overtime                    41.883519\n",
       "percentsalaryhike            0.000000\n",
       "performancerating           12.081784\n",
       "relationshipsatisfaction     0.000000\n",
       "stockoptionlevel             0.000000\n",
       "totalworkingyears           32.589839\n",
       "trainingtimeslastyear        0.000000\n",
       "worklifebalance              6.691450\n",
       "yearsatcompany               0.000000\n",
       "yearsincurrentrole          97.893432\n",
       "yearssincelastpromotion      0.000000\n",
       "yearswithcurrmanager         0.000000\n",
       "datebirth                    0.000000\n",
       "remotework                   0.000000\n",
       "dtype: float64"
      ]
     },
     "execution_count": 23,
     "metadata": {},
     "output_type": "execute_result"
    }
   ],
   "source": [
    "# porcentajes de todas\n",
    "\n",
    "datos.isna().sum() / datos.shape[0] * 100"
   ]
  },
  {
   "cell_type": "markdown",
   "metadata": {},
   "source": [
    "### Valores nulos totales en porcentajes\n",
    "\n",
    "0% - 5% ---> Rellenar los valores con estadisticas (moda, media, mediana)\n",
    "5% - 20% ---> O rellenar o predecir con valores de otra columna.\n",
    "20% - 50% ---> Evaluar si es necesario eliminar la columna o crucial insertar datos.\n",
    "50% ---> Eliminar dependiendo del tipo de dato.\n",
    "\n",
    "- businesstravel, la cual tiene 47.831475% nulos. Calcularemos el porcentaje de cada categoría para determinar la moda porque no es numérica. Pero no eliminaremos porque la consideramos importante.\n",
    "\n",
    "- dailyrate, la cual tiene 7.682776% nulos. Calcular valores estadísticos.\n",
    "\n",
    "- department , la cual tiene 81.288724% nulos. Creemos que si tiene información clave para nuestros datos. Puede ser gente que no haya querido responder en la encuesta. Le daremos una nueva categoría \"Uknown\"               \n",
    "\n",
    "- monthlyincome, la cual tiene 52.230483% nulos. Sustituimos los nan por 0 como categoría que desconocemos.\n",
    "\n",
    "- educationfield, la cual tiene 46.158612% nulos. La consideramos irrelevante, la eliminaremos.\n",
    "\n",
    "- hourlyrate, la cual tiene 5.204461% nulos. Calcular valores estadísticos.\n",
    "\n",
    "- maritalstatus, la cual tiene 40.334572% nulos. Crearemos otra categoría \"Others\"\n",
    "\n",
    "- overtime, la cual tienne 41.883519% nulos. Miraremos la proporción de % y tiraremos por la mayoría.\n",
    "\n",
    "- performancerating , la cual tiene 41.883519% nulos. Crearemos nueva categoría \"0\" que es sin información.\n",
    "\n",
    "- totalworkingyears, la cual tiene 32.589839% nulos. Crearemos nueva categoría \"0\" que es sin información.\n",
    "\n",
    "- worklifebalance, la cual tiene 6.691450% nulos. Calcular valores estadísticos.\n",
    "\n",
    "- yearsincurrentrole, la cual tiene 97.893432% nulos. Creemos que da información similar a 'yearssincelastpromotion'. La quitaremos."
   ]
  },
  {
   "cell_type": "code",
   "execution_count": 24,
   "metadata": {},
   "outputs": [],
   "source": [
    "# Borramos las columnas que tras su analisis de nulos hemos determinado que se van fuera.\n",
    "\n",
    "columnas_borrar2 = ['educationfield','yearsincurrentrole', 'monthlyincome']\n",
    "\n",
    "borrar_colunas(datos,columnas_borrar2)"
   ]
  },
  {
   "cell_type": "code",
   "execution_count": 25,
   "metadata": {},
   "outputs": [
    {
     "data": {
      "text/plain": [
       "Index(['age', 'attrition', 'businesstravel', 'dailyrate', 'department',\n",
       "       'distancefromhome', 'education', 'environmentsatisfaction', 'gender',\n",
       "       'hourlyrate', 'jobinvolvement', 'joblevel', 'jobrole',\n",
       "       'jobsatisfaction', 'maritalstatus', 'monthlyincome', 'monthlyrate',\n",
       "       'numcompaniesworked', 'overtime', 'percentsalaryhike',\n",
       "       'performancerating', 'relationshipsatisfaction', 'stockoptionlevel',\n",
       "       'totalworkingyears', 'trainingtimeslastyear', 'worklifebalance',\n",
       "       'yearsatcompany', 'yearssincelastpromotion', 'yearswithcurrmanager',\n",
       "       'datebirth', 'remotework'],\n",
       "      dtype='object')"
      ]
     },
     "execution_count": 25,
     "metadata": {},
     "output_type": "execute_result"
    }
   ],
   "source": [
    "# Columnas con las que nos quedamos finalmente hasta este punto.\n",
    "\n",
    "datos.columns"
   ]
  },
  {
   "cell_type": "code",
   "execution_count": 26,
   "metadata": {},
   "outputs": [
    {
     "data": {
      "text/plain": [
       "businesstravel\n",
       "Travel rarely        69.596200\n",
       "Travel frequently    19.596200\n",
       "Non travel           10.807601\n",
       "Name: proportion, dtype: float64"
      ]
     },
     "execution_count": 26,
     "metadata": {},
     "output_type": "execute_result"
    }
   ],
   "source": [
    "# businesstravel, la cual tiene 47.831475% nulos. Calcularemos el porcentaje de cada categoría para determinar la moda porque no es numérica. Pero no eliminaremos porque la consideramos importante.\n",
    "\n",
    "datos['businesstravel'].value_counts(normalize=True) * 100"
   ]
  },
  {
   "cell_type": "code",
   "execution_count": 27,
   "metadata": {},
   "outputs": [
    {
     "data": {
      "text/plain": [
       "array(['Travel rarely', 'Travel frequently', 'Non travel'], dtype=object)"
      ]
     },
     "execution_count": 27,
     "metadata": {},
     "output_type": "execute_result"
    }
   ],
   "source": [
    "# Imputamos la columna businesstravel\n",
    "\n",
    "datos['businesstravel'].replace('NaN', np.nan, inplace=True)\n",
    "\n",
    "datos['businesstravel'].fillna('Travel rarely', inplace=True)\n",
    "\n",
    "datos['businesstravel'].unique()"
   ]
  },
  {
   "cell_type": "code",
   "execution_count": 28,
   "metadata": {},
   "outputs": [
    {
     "data": {
      "text/plain": [
       "count    1490.000000\n",
       "mean      802.085235\n",
       "std       403.246954\n",
       "min       103.000000\n",
       "25%       468.250000\n",
       "50%       798.000000\n",
       "75%      1157.000000\n",
       "max      1499.000000\n",
       "Name: dailyrate, dtype: float64"
      ]
     },
     "execution_count": 28,
     "metadata": {},
     "output_type": "execute_result"
    }
   ],
   "source": [
    "# Calcular los valores estadísticos de 'dailyrate'ArithmeticError\n",
    "\n",
    "datos['dailyrate'].describe()"
   ]
  },
  {
   "cell_type": "code",
   "execution_count": 29,
   "metadata": {},
   "outputs": [
    {
     "data": {
      "text/plain": [
       "0"
      ]
     },
     "execution_count": 29,
     "metadata": {},
     "output_type": "execute_result"
    }
   ],
   "source": [
    "# Viendo los datos, la media y mediana tienen poca diferencia. Así que vamos a sacar la mediana y sustituirlo por ella.\n",
    "\n",
    "datos['dailyrate'].fillna(datos['dailyrate'].median(), inplace=True)\n",
    "datos['dailyrate'].isna().sum() # Para visualizar que no quedan nulos"
   ]
  },
  {
   "cell_type": "code",
   "execution_count": 30,
   "metadata": {},
   "outputs": [
    {
     "data": {
      "text/plain": [
       "<bound method Series.unique of 0                          NaN\n",
       "1                          NaN\n",
       "2       Research & development\n",
       "3                          NaN\n",
       "4                          NaN\n",
       "                 ...          \n",
       "1609                       NaN\n",
       "1610                       NaN\n",
       "1611                       NaN\n",
       "1612                       NaN\n",
       "1613                       NaN\n",
       "Name: department, Length: 1614, dtype: object>"
      ]
     },
     "execution_count": 30,
     "metadata": {},
     "output_type": "execute_result"
    }
   ],
   "source": [
    "datos['department'].unique"
   ]
  },
  {
   "cell_type": "code",
   "execution_count": 31,
   "metadata": {},
   "outputs": [
    {
     "data": {
      "text/plain": [
       "array(['Unknown', 'Research & development', 'Sales', 'Human resources'],\n",
       "      dtype=object)"
      ]
     },
     "execution_count": 31,
     "metadata": {},
     "output_type": "execute_result"
    }
   ],
   "source": [
    "# Vamos a crear una categoría nueva 'Uknown' para la columna 'department'\n",
    "\n",
    "datos['department'].replace('NaN', np.nan, inplace=True)\n",
    "datos['department'].fillna('Unknown', inplace=True)\n",
    "datos['department'].unique()"
   ]
  },
  {
   "cell_type": "code",
   "execution_count": 32,
   "metadata": {},
   "outputs": [
    {
     "data": {
      "text/plain": [
       "count    1530.000000\n",
       "mean       66.028105\n",
       "std        20.185954\n",
       "min        30.000000\n",
       "25%        48.000000\n",
       "50%        66.000000\n",
       "75%        84.000000\n",
       "max       100.000000\n",
       "Name: hourlyrate, dtype: float64"
      ]
     },
     "execution_count": 32,
     "metadata": {},
     "output_type": "execute_result"
    }
   ],
   "source": [
    "# hourlyrate, calcular valores estadísticos.\n",
    "\n",
    "datos['hourlyrate'].describe()"
   ]
  },
  {
   "cell_type": "code",
   "execution_count": 33,
   "metadata": {},
   "outputs": [
    {
     "data": {
      "text/plain": [
       "0"
      ]
     },
     "execution_count": 33,
     "metadata": {},
     "output_type": "execute_result"
    }
   ],
   "source": [
    "# Nos volvemos a quedar con la mediana al tener apenas diferencia con la media.\n",
    "\n",
    "datos['hourlyrate'].fillna(datos['hourlyrate'].median(), inplace=True)\n",
    "datos['hourlyrate'].isna().sum() "
   ]
  },
  {
   "cell_type": "code",
   "execution_count": 34,
   "metadata": {},
   "outputs": [
    {
     "data": {
      "text/plain": [
       "array(['Other', 'Married', 'Divorced', 'Single'], dtype=object)"
      ]
     },
     "execution_count": 34,
     "metadata": {},
     "output_type": "execute_result"
    }
   ],
   "source": [
    "# maritalstatus, crearemos otra categoría \"Others\"\n",
    "\n",
    "datos['maritalstatus'].replace('NaN', np.nan, inplace=True)\n",
    "datos['maritalstatus'].fillna('Other', inplace=True)\n",
    "datos['maritalstatus'].unique()"
   ]
  },
  {
   "cell_type": "code",
   "execution_count": 35,
   "metadata": {},
   "outputs": [
    {
     "data": {
      "text/plain": [
       "overtime\n",
       "No     72.707889\n",
       "Yes    27.292111\n",
       "Name: proportion, dtype: float64"
      ]
     },
     "execution_count": 35,
     "metadata": {},
     "output_type": "execute_result"
    }
   ],
   "source": [
    "# overtime, miraremos la proporción de % y tiraremos por la mayoría.\n",
    "\n",
    "datos['overtime'].value_counts(normalize=True) * 100"
   ]
  },
  {
   "cell_type": "code",
   "execution_count": 36,
   "metadata": {},
   "outputs": [
    {
     "data": {
      "text/plain": [
       "array(['No', 'Yes'], dtype=object)"
      ]
     },
     "execution_count": 36,
     "metadata": {},
     "output_type": "execute_result"
    }
   ],
   "source": [
    "datos['overtime'].replace('NaN', np.nan, inplace=True)\n",
    "datos['overtime'].fillna('No', inplace=True)\n",
    "datos['overtime'].unique()"
   ]
  },
  {
   "cell_type": "code",
   "execution_count": 37,
   "metadata": {},
   "outputs": [
    {
     "data": {
      "text/plain": [
       "array([3., 4., 0.])"
      ]
     },
     "execution_count": 37,
     "metadata": {},
     "output_type": "execute_result"
    }
   ],
   "source": [
    "# performancerating, crearemos nueva categoría \"0\" que es sin información.\n",
    "\n",
    "datos['performancerating'].fillna(0, inplace=True)\n",
    "datos['performancerating'].unique()\n"
   ]
  },
  {
   "cell_type": "code",
   "execution_count": 41,
   "metadata": {},
   "outputs": [
    {
     "data": {
      "text/plain": [
       "count    1088.000000\n",
       "mean       11.318934\n",
       "std         7.727675\n",
       "min         0.000000\n",
       "25%         6.000000\n",
       "50%        10.000000\n",
       "75%        15.000000\n",
       "max        40.000000\n",
       "Name: totalworkingyears, dtype: float64"
      ]
     },
     "execution_count": 41,
     "metadata": {},
     "output_type": "execute_result"
    }
   ],
   "source": [
    "# totalworkingyears, la cual tiene 32.589839% nulos. Vamos a hacerle la mediana/moda.\n",
    "\n",
    "datos['totalworkingyears'].describe()"
   ]
  },
  {
   "cell_type": "code",
   "execution_count": 43,
   "metadata": {},
   "outputs": [
    {
     "data": {
      "text/plain": [
       "0"
      ]
     },
     "execution_count": 43,
     "metadata": {},
     "output_type": "execute_result"
    }
   ],
   "source": [
    "datos['totalworkingyears'].fillna(datos['totalworkingyears'].median(), inplace=True)\n",
    "datos['totalworkingyears'].isna().sum() "
   ]
  },
  {
   "cell_type": "code",
   "execution_count": 44,
   "metadata": {},
   "outputs": [
    {
     "data": {
      "text/plain": [
       "count    1506.000000\n",
       "mean        2.759628\n",
       "std         0.702622\n",
       "min         1.000000\n",
       "25%         2.000000\n",
       "50%         3.000000\n",
       "75%         3.000000\n",
       "max         4.000000\n",
       "Name: worklifebalance, dtype: float64"
      ]
     },
     "execution_count": 44,
     "metadata": {},
     "output_type": "execute_result"
    }
   ],
   "source": [
    "# worklifebalance, la cual tiene 6.691450% nulos. Calcular valores estadísticos.\n",
    "\n",
    "datos['worklifebalance'].describe()\n"
   ]
  },
  {
   "cell_type": "code",
   "execution_count": 45,
   "metadata": {},
   "outputs": [
    {
     "data": {
      "text/plain": [
       "0"
      ]
     },
     "execution_count": 45,
     "metadata": {},
     "output_type": "execute_result"
    }
   ],
   "source": [
    "# Nos quedamos con la mediana\n",
    "\n",
    "datos['worklifebalance'].fillna(datos['worklifebalance'].median(), inplace=True)\n",
    "datos['worklifebalance'].isna().sum() "
   ]
  },
  {
   "cell_type": "code",
   "execution_count": 48,
   "metadata": {},
   "outputs": [
    {
     "data": {
      "text/plain": [
       "array([19537., 19999., 19232., 17169.,     0., 17174., 16595., 19973.,\n",
       "       13402., 13206., 19545., 18041., 19246., 10748., 16752.,  6201.,\n",
       "       19845.,  4001., 10447., 16064.,  3210., 10266., 10475.,  6162.,\n",
       "        4721.,  4615., 16959., 10306.,  5406.,  5902., 10855.,  5914.,\n",
       "        6646., 13973., 13320.,  6687.,  4735., 13872., 19045., 16015.,\n",
       "        9613., 11510.,  4306., 17046.,  5067.,  3692., 19847.,  2308.,\n",
       "        5747., 10422.,  6347.,  2348.,  3072., 12490.,  8020., 17068.,\n",
       "        8943., 19272.,  5577.,  2691.,  7403.,  8823.,  3579., 17779.,\n",
       "       18213., 13577., 19190., 17123., 19187., 10008.,  7988.,  7083.,\n",
       "        4723.,  3407.,  2929., 12031., 15427.,  5126.,  9619.,  5010.,\n",
       "       19033., 10400.,  2793.,  5674., 19197.,  8412.,  3348.,  5309.,\n",
       "        7654., 12808.,  6586.,  2519., 17099., 13120.,  3131.,  4444.,\n",
       "        6674.,  9852., 17861.,  7446., 13757., 16598.,  4285., 10124.,\n",
       "        9714.,  9924., 11245.,  3069.,  9241.,  6472.,  3055.,  8321.,\n",
       "        3143.,  8578.,  4197.,  9888., 13341.,  5677.,  2909.,  9526.,\n",
       "        6825.,  4424.,  5441.,  6074.,  6146.,  6172.,  4668.,  5605.,\n",
       "        4319.,  3564.,  6261.,  6804., 19436.,  5828.,  2455.,  5055.,\n",
       "        4682.,  5257.,  2119.,  5974.,  3034., 13212.,  8392.,  4051.,\n",
       "        4805.,  2741.,  5337.,  9434.,  5396., 11159.,  4960.,  8793.,\n",
       "       19189.,  2216., 11713.,  5304., 11103.,  6632.,  7587.,  4335.,\n",
       "        5980.,  4244.,  5228.,  2700.,  2366.,  2329.,  4294.,  6725.,\n",
       "       10325.,  4447., 10845.,  5472.,  6385.,  7525.,  3660.,  8740.,\n",
       "       13499.,  3491.,  5220., 10252., 19740.,  6209.,  7094.,  4534.,\n",
       "        8500.,  4639.,  5363.,  4081.,  3578., 17328., 10793., 10851.,\n",
       "       10466.,  2362.,  6439.,  5769.,  4385.,  4066.,  5206.,  2655.,\n",
       "        2570.,  4502.,  4968.,  5147.,  2718.,  3539.,  5468.,  5813.,\n",
       "        9667.,  5154.,  5675.,  7314.,  5098., 13570.,  6712.,  9991.,\n",
       "       10248., 10938.,  2593., 11878.,  8095., 16856.,  4537., 17924.,\n",
       "        4014., 12742.,  3376., 10482.,  4249.,  6549., 14411., 19586.,\n",
       "        8237.,  3211., 16704.,  4774.,  4568.,  5993.,  6499.,  3452.,\n",
       "        6397.,  2725.,  3622.,  6180.,  6274.,  4381.,  2559.,  5488.,\n",
       "        2514.,  3196.,  3420.,  4087.,  5368., 12936.,  4221.,  4963.,\n",
       "        4200.,  5006.,  7639.,  6502., 13525.,  6349.,  6380.,  3102.,\n",
       "        4556.,  4230.,  4859.,  6322., 10761.,  2973.,  5204., 17399.,\n",
       "       16885.,  4323.,  5155.,  2936., 18789.,  4883.,  2029.,  2996.,\n",
       "        9278.,  4162.,  8853.,  4876.,  2141.,  7756.,  3936.,  6842.,\n",
       "        3989.,  4930.,  3702.,  2705.,  4448.,  2379.,  5487.,  2810.,\n",
       "        8938.,  9936.,  5454., 18740.,  5473., 13503., 13549., 18172.,\n",
       "        2774.,  9439.,  5265.,  3815.,  2389.,  4000., 17584.,  5661.,\n",
       "        4869.,  4649., 10496.,  2768.,  3408.,  3755.,  2187.,  4258.,\n",
       "        5326.,  5485.,  2782., 17639.,  6062.,  6288.,  3424.,  4194.,\n",
       "        2532.,  5666., 13726.,  4107.,  3597.,  4115.,  6272.,  2517.,\n",
       "        3904.,  9204.,  4373.,  2064.,  2430.,  4877.,  3760.,  2013.,\n",
       "        2974.,  2766.,  3377.,  4213.,  6513.,  4284.,  2226.,  5561.,\n",
       "        2144.,  5373.,  2897.,  5321.,  5410.,  4850.,  2001.,  4404.,\n",
       "        3944.,  2960., 18947.,  6465.,  2683.,  2014.,  3441., 13664.,\n",
       "        5021., 18844.,  4739., 10650.,  4317.,  2024.,  3058.,  3929.,\n",
       "        4425.,  2328.,  2657.,  5940.,  2622.,  3212.,  2911.,  6931.,\n",
       "        2176.,  3230., 18665.,  2789.,  6410.,  4941.,  3983.,  2904.,\n",
       "        2696.,  2174.,  6755., 10965.,  2543., 19406.,  6538.,  2258.,\n",
       "        2218.,  2654., 11935.,  2546.,  3894.,  4262., 10527.,  2400.,\n",
       "        3681.,  3447., 19513.,  2659.,  8847.,  2045.,  4851.,  8120.,\n",
       "        4577.,  5405.,  3708., 13770.,  2297.,  2450.,  4342.,  2572.,\n",
       "        6500.,  3149.,  5324.,  4382.,  2553.,  5933.,  4403., 10934.,\n",
       "        2022.,  4256.,  3580.,  2899.,  5562.,  2377.,  2404.,  2799.,\n",
       "        2811.,  4377.,  4240.,  4227.,  3917.,  4969.,  2042.,  2821.,\n",
       "        9957.,  2207.,  2070.,  2791.,  8224.,  2610.,  5731.,  2539.,\n",
       "        2376., 19081.,  2743.,  4538.,  3867.,  2080.,  2096.,  4627.,\n",
       "        2302.,  5071., 10596.,  5467.,  2394.,  3629.,  9362.,  3229.,\n",
       "       16422.,  5647.,  4400.,  2066.,  5486.,  3162.,  6651.,  4898.,\n",
       "        3180., 11244.,  4069.,  6392.,  4855.,  3312.,  3117., 15202.,\n",
       "        2580.,  2166.,  4374.,  5505.,  2587., 15972.,  2305.,  3433.,\n",
       "        3477.,  3907.,  3445.,  2760.,  6294., 13116.,  3591.,  2105.,\n",
       "        3902.,  2662.,  2062.,  5507.,  8103.,  3978.,  5399., 10448.,\n",
       "        4440.,  2660.,  3375.,  2269.,  4787.,  2809., 10854.,  2571.,\n",
       "        6142.,  2496.,  3419.,  2501.,  2566.,  3920., 13964.,  6540.,\n",
       "        2244., 16184.,  4233., 14814., 17159.,  2318.,  3617.,  2684.,\n",
       "       19237.,  4422.,  2552.,  2678.,  5171., 11916.,  9380.,  5878.,\n",
       "        2468.,  4127.,  2148.,  3886.,  6667.,  2090.,  2086.,  1951.,\n",
       "        3022.,  9724.,  3388.,  3038.,  2322.,  2926.,  4505.,  2835.,\n",
       "        6553.,  6673., 13591.,  2177., 19517., 19202., 10048.,  2723.,\n",
       "        6644.,  3161.,  1420.,  1200.,  5238.,  9985., 15992.,  2370.,\n",
       "        6781.,  6653.,  2851.,  5258.,  2476.,  2285.,  3448.,  4558.,\n",
       "        1702.,  2564.,  5070.,  3780.,  9824.,  1878.,  2340.,  2127.,\n",
       "        2033.,  9602., 16627.,  2083.,  1009.,  7861.,  2642.,  5121.,\n",
       "        2694.,  5094.,  2274.,  2314.,  2380.,  2008., 10552.,  2259.,\n",
       "        2413.,  2121.,  2479., 13194.,  4163.,  2600., 18303.,  4777.,\n",
       "        1052.,  2461.,  2596.,  4728.,  7351.,  4766.,  2827.,  2853.,\n",
       "        2290.,  2107.,  2210., 13191., 18265.,  1118.,  2372.,  2838.,\n",
       "       18061.,  1611.,  4768.,  1274.,  2561.,  1563.,  6388.,  8376.,\n",
       "        4841.,  2074.,  2972.,  6815.,  2690., 17567.,  1569.,  4187.,\n",
       "        3306.,  1393., 10883.,  2862.,  6735.,  9756.,  5294.,  2437.,\n",
       "        4071.,  2956.,  4648.,  2804.,  2439.,  2856.,  2933.,  1091.,\n",
       "        5151.,  2863.,  2858.,  1129., 19431.])"
      ]
     },
     "execution_count": 48,
     "metadata": {},
     "output_type": "execute_result"
    }
   ],
   "source": [
    "# monthlyincome, la cual tiene 52.230483% nulos. Sustituimos los nan por 0 como categoría que desconocemos.\n",
    "\n",
    "datos['monthlyincome'].fillna(0, inplace=True)\n",
    "datos['monthlyincome'].unique()"
   ]
  },
  {
   "cell_type": "code",
   "execution_count": 49,
   "metadata": {},
   "outputs": [],
   "source": [
    "# Creamos el archivo definitivo sin nulos\n",
    "\n",
    "datos.to_csv('Datos/datos_empresa_nonulos.csv')"
   ]
  }
 ],
 "metadata": {
  "kernelspec": {
   "display_name": "Python 3",
   "language": "python",
   "name": "python3"
  },
  "language_info": {
   "codemirror_mode": {
    "name": "ipython",
    "version": 3
   },
   "file_extension": ".py",
   "mimetype": "text/x-python",
   "name": "python",
   "nbconvert_exporter": "python",
   "pygments_lexer": "ipython3",
   "version": "3.11.7"
  }
 },
 "nbformat": 4,
 "nbformat_minor": 2
}
