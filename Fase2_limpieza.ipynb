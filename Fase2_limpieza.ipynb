{
 "cells": [
  {
   "cell_type": "code",
   "execution_count": 1,
   "metadata": {},
   "outputs": [],
   "source": [
    "# Tratamiento de datos\n",
    "# -----------------------------------------------------------------------\n",
    "import pandas as pd\n",
    "import numpy as np\n",
    "\n",
    "from sklearn.impute import SimpleImputer\n",
    "from sklearn.experimental import enable_iterative_imputer\n",
    "from sklearn.impute import IterativeImputer\n",
    "from sklearn.impute import KNNImputer\n",
    "# Librerías de visualización\n",
    "# -----------------------------------------------------------------------\n",
    "import seaborn as sns\n",
    "import matplotlib.pyplot as plt\n",
    "\n",
    "\n",
    "# Configuración\n",
    "# -----------------------------------------------------------------------\n",
    "pd.set_option('display.max_columns', None) # para poder visualizar todas las columnas de los DataFrames\n",
    "pd.set_option('display.max_colwidth', None) # para visualizar todo el contenido de los valores\n",
    "#pd.set_option('display.max_rows', None) # Para visualizar todo el contenido de las filas"
   ]
  },
  {
   "cell_type": "code",
   "execution_count": 2,
   "metadata": {},
   "outputs": [],
   "source": [
    "# Leemos el csv\n",
    "\n",
    "datos = pd.read_csv('Datos/datos_empresa.csv', index_col=0)"
   ]
  },
  {
   "cell_type": "markdown",
   "metadata": {},
   "source": [
    "### Transformación de Datos\n"
   ]
  },
  {
   "cell_type": "code",
   "execution_count": 3,
   "metadata": {},
   "outputs": [],
   "source": [
    "# Borramos columnas que no necesitamos según el estudio EDA\n",
    "\n",
    "columnas_borrar = ['employeecount','Over18','SameAsMonthlyIncome', 'Salary', 'RoleDepartament', 'NUMBERCHILDREN','employeenumber','StandardHours']\n",
    "\n",
    "def borrar_colunas (datos, columnas):\n",
    "    datos.drop( columns = columnas, inplace= True)\n",
    "\n",
    "borrar_colunas(datos,columnas_borrar)"
   ]
  },
  {
   "cell_type": "code",
   "execution_count": 4,
   "metadata": {},
   "outputs": [
    {
     "data": {
      "text/html": [
       "<div>\n",
       "<style scoped>\n",
       "    .dataframe tbody tr th:only-of-type {\n",
       "        vertical-align: middle;\n",
       "    }\n",
       "\n",
       "    .dataframe tbody tr th {\n",
       "        vertical-align: top;\n",
       "    }\n",
       "\n",
       "    .dataframe thead th {\n",
       "        text-align: right;\n",
       "    }\n",
       "</style>\n",
       "<table border=\"1\" class=\"dataframe\">\n",
       "  <thead>\n",
       "    <tr style=\"text-align: right;\">\n",
       "      <th></th>\n",
       "      <th>age</th>\n",
       "      <th>attrition</th>\n",
       "      <th>businesstravel</th>\n",
       "      <th>dailyrate</th>\n",
       "      <th>department</th>\n",
       "      <th>distancefromhome</th>\n",
       "      <th>education</th>\n",
       "      <th>educationfield</th>\n",
       "      <th>environmentsatisfaction</th>\n",
       "      <th>gender</th>\n",
       "      <th>hourlyrate</th>\n",
       "      <th>jobinvolvement</th>\n",
       "      <th>joblevel</th>\n",
       "      <th>jobrole</th>\n",
       "      <th>jobsatisfaction</th>\n",
       "      <th>maritalstatus</th>\n",
       "      <th>monthlyincome</th>\n",
       "      <th>monthlyrate</th>\n",
       "      <th>numcompaniesworked</th>\n",
       "      <th>overtime</th>\n",
       "      <th>percentsalaryhike</th>\n",
       "      <th>performancerating</th>\n",
       "      <th>relationshipsatisfaction</th>\n",
       "      <th>stockoptionlevel</th>\n",
       "      <th>totalworkingyears</th>\n",
       "      <th>trainingtimeslastyear</th>\n",
       "      <th>worklifebalance</th>\n",
       "      <th>yearsatcompany</th>\n",
       "      <th>yearsincurrentrole</th>\n",
       "      <th>yearssincelastpromotion</th>\n",
       "      <th>yearswithcurrmanager</th>\n",
       "      <th>datebirth</th>\n",
       "      <th>remotework</th>\n",
       "    </tr>\n",
       "  </thead>\n",
       "  <tbody>\n",
       "    <tr>\n",
       "      <th>1286</th>\n",
       "      <td>42</td>\n",
       "      <td>No</td>\n",
       "      <td>travel_rarely</td>\n",
       "      <td>1332,0$</td>\n",
       "      <td>Research &amp; Development</td>\n",
       "      <td>2</td>\n",
       "      <td>4</td>\n",
       "      <td>NaN</td>\n",
       "      <td>1</td>\n",
       "      <td>0</td>\n",
       "      <td>98</td>\n",
       "      <td>2</td>\n",
       "      <td>2</td>\n",
       "      <td>HealTHcaRE rEPreSEntATive</td>\n",
       "      <td>4</td>\n",
       "      <td>NaN</td>\n",
       "      <td>6781,0</td>\n",
       "      <td>17078</td>\n",
       "      <td>3</td>\n",
       "      <td>NaN</td>\n",
       "      <td>23</td>\n",
       "      <td>4,0</td>\n",
       "      <td>2</td>\n",
       "      <td>0</td>\n",
       "      <td>NaN</td>\n",
       "      <td>6</td>\n",
       "      <td>3,0</td>\n",
       "      <td>1</td>\n",
       "      <td>NaN</td>\n",
       "      <td>0</td>\n",
       "      <td>0</td>\n",
       "      <td>1981</td>\n",
       "      <td>0</td>\n",
       "    </tr>\n",
       "    <tr>\n",
       "      <th>692</th>\n",
       "      <td>54</td>\n",
       "      <td>No</td>\n",
       "      <td>travel_frequently</td>\n",
       "      <td>928,0$</td>\n",
       "      <td>NaN</td>\n",
       "      <td>20</td>\n",
       "      <td>4</td>\n",
       "      <td>Life Sciences</td>\n",
       "      <td>4</td>\n",
       "      <td>1</td>\n",
       "      <td>31</td>\n",
       "      <td>3</td>\n",
       "      <td>2</td>\n",
       "      <td>reseaRCh SCIENtIst</td>\n",
       "      <td>3</td>\n",
       "      <td>NaN</td>\n",
       "      <td>4869,0</td>\n",
       "      <td>16885</td>\n",
       "      <td>3</td>\n",
       "      <td>NaN</td>\n",
       "      <td>12</td>\n",
       "      <td>NaN</td>\n",
       "      <td>4</td>\n",
       "      <td>0</td>\n",
       "      <td>20,0</td>\n",
       "      <td>4</td>\n",
       "      <td>2,0</td>\n",
       "      <td>4</td>\n",
       "      <td>NaN</td>\n",
       "      <td>0</td>\n",
       "      <td>3</td>\n",
       "      <td>1969</td>\n",
       "      <td>0</td>\n",
       "    </tr>\n",
       "  </tbody>\n",
       "</table>\n",
       "</div>"
      ],
      "text/plain": [
       "     age attrition     businesstravel dailyrate                department  \\\n",
       "1286  42        No      travel_rarely   1332,0$   Research & Development    \n",
       "692   54        No  travel_frequently    928,0$                       NaN   \n",
       "\n",
       "      distancefromhome  education educationfield  environmentsatisfaction  \\\n",
       "1286                 2          4            NaN                        1   \n",
       "692                 20          4  Life Sciences                        4   \n",
       "\n",
       "      gender hourlyrate  jobinvolvement  joblevel  \\\n",
       "1286       0         98               2         2   \n",
       "692        1         31               3         2   \n",
       "\n",
       "                          jobrole  jobsatisfaction maritalstatus  \\\n",
       "1286   HealTHcaRE rEPreSEntATive                 4           NaN   \n",
       "692           reseaRCh SCIENtIst                 3           NaN   \n",
       "\n",
       "     monthlyincome  monthlyrate  numcompaniesworked overtime  \\\n",
       "1286        6781,0        17078                   3      NaN   \n",
       "692         4869,0        16885                   3      NaN   \n",
       "\n",
       "      percentsalaryhike performancerating  relationshipsatisfaction  \\\n",
       "1286                 23               4,0                         2   \n",
       "692                  12               NaN                         4   \n",
       "\n",
       "      stockoptionlevel totalworkingyears  trainingtimeslastyear  \\\n",
       "1286                 0               NaN                      6   \n",
       "692                  0              20,0                      4   \n",
       "\n",
       "     worklifebalance  yearsatcompany yearsincurrentrole  \\\n",
       "1286             3,0               1                NaN   \n",
       "692              2,0               4                NaN   \n",
       "\n",
       "      yearssincelastpromotion  yearswithcurrmanager  datebirth remotework  \n",
       "1286                        0                     0       1981          0  \n",
       "692                         0                     3       1969          0  "
      ]
     },
     "execution_count": 4,
     "metadata": {},
     "output_type": "execute_result"
    }
   ],
   "source": [
    "# Transformamos las cabeceras de las columnas para su mejor visulatización las convertimos todos a lower\n",
    "\n",
    "new_columns = {column : column.lower() for column in datos}\n",
    "\n",
    "new_columns\n",
    "\n",
    "datos.rename(columns = new_columns, inplace= True)\n",
    "\n",
    "\n",
    "#comprobamos que se ha realizado\n",
    "datos.sample(2)"
   ]
  },
  {
   "cell_type": "code",
   "execution_count": 5,
   "metadata": {},
   "outputs": [
    {
     "data": {
      "text/plain": [
       "array(['51', '52', '42', '47', '46', '48', '59', '41', '56', '38', '55',\n",
       "       '40', '58', '35', '45', '33', '36', '34', '53', '43', '60', '32',\n",
       "       '37', '49', '39', '50', '44', '30', '58 ', '29', '31', '54', '57',\n",
       "       '27', '28', '26', '25', '24', '23', '22', '21', '20', '19', '18'],\n",
       "      dtype=object)"
      ]
     },
     "execution_count": 5,
     "metadata": {},
     "output_type": "execute_result"
    }
   ],
   "source": [
    "# Columna Age --- cambiamos los valores string a números\n",
    "\n",
    "datos['age'].unique()\n",
    "\n",
    "age = datos['age'].str.replace('fifty-eight', '58 ').str.replace('fifty-eight', '47 ').str.replace('thirty-six', '36').str.replace('fifty-five', '55').str.replace('fifty-two', '52').str.replace('thirty-one', '31').str.replace('twenty-six', '36').str.replace('thirty-seven', '37').str.replace('thirty-seven', '37').str.replace('thirty-two', '32').str.replace('twenty-four', '24').str.replace('forty-seven', '47').str.replace('thirty', '30')\n",
    "\n",
    "datos['age'] = age\n",
    "\n",
    "datos['age'] = datos['age']\n",
    "\n",
    "datos['age'].unique()  \n",
    "\n"
   ]
  },
  {
   "cell_type": "code",
   "execution_count": 6,
   "metadata": {},
   "outputs": [
    {
     "data": {
      "text/plain": [
       "0    684,0\n",
       "1    699,0\n",
       "Name: dailyrate, dtype: object"
      ]
     },
     "execution_count": 6,
     "metadata": {},
     "output_type": "execute_result"
    }
   ],
   "source": [
    "# Eliminamos los $ y ,0 con un .replace. También hemos pasado los nan y luego cambiamos el tipo a float\n",
    "\n",
    "dailyrate = datos['dailyrate'].str.replace('$', '')\n",
    "datos['dailyrate'] = dailyrate\n",
    "\n",
    "datos['dailyrate'] = datos['dailyrate']\n",
    "\n",
    "datos['dailyrate'].head(2)"
   ]
  },
  {
   "cell_type": "code",
   "execution_count": 7,
   "metadata": {},
   "outputs": [
    {
     "data": {
      "text/plain": [
       "array(['6', '1', '4', '2', '3', '22', '25', '9', '7', '23', '10', '12',\n",
       "       '14', '13', '15', '8', '42', '28', '37', '5', '16', '35', '26',\n",
       "       '24', '29', '17', '21', '18', '30', '27', '20', '31', '39', '11',\n",
       "       '19', '33', '34', '46', '36', '45', '47', '32', '41', '49', '48',\n",
       "       '38', '43', '40', '44'], dtype=object)"
      ]
     },
     "execution_count": 7,
     "metadata": {},
     "output_type": "execute_result"
    }
   ],
   "source": [
    "# Hemos cambiado el tipo de int a str y eliminado el menos de los negativos. Lo pasamos a int.\n",
    "\n",
    "datos_distance = datos['distancefromhome'].astype(str)\n",
    "\n",
    "distancefromhome = datos_distance.str.replace('-', '')\n",
    "\n",
    "datos['distancefromhome'] = distancefromhome\n",
    "\n",
    "datos['distancefromhome'] = datos['distancefromhome']\n",
    "\n",
    "datos['distancefromhome'].unique()"
   ]
  },
  {
   "cell_type": "code",
   "execution_count": 8,
   "metadata": {},
   "outputs": [
    {
     "data": {
      "text/plain": [
       "array(['M', 'F'], dtype=object)"
      ]
     },
     "execution_count": 8,
     "metadata": {},
     "output_type": "execute_result"
    }
   ],
   "source": [
    "# Vamos a sustituir los 0 y 1 por la siniciales de su género y cambiarlo a tipo objeto.\n",
    "dic_map = {0:'M', 1:'F'}\n",
    "\n",
    "datos[\"gender\"] = datos[\"gender\"].map(dic_map)\n",
    "\n",
    "datos['gender'].unique()"
   ]
  },
  {
   "cell_type": "code",
   "execution_count": 9,
   "metadata": {},
   "outputs": [
    {
     "data": {
      "text/plain": [
       "array(['51', '65', '58', '82', '45', '99', '91', '64', '55', '68', '49',\n",
       "       '61', '79', '31', '69', '48', '80', '74', '98', '59', '33', '56',\n",
       "       '66', '57', '53', '87', '81', '84', '32', '41', '92', '47', nan,\n",
       "       '43', '86', '30', '42', '88', '96', '67', '62', '72', '78', '89',\n",
       "       '52', '50', '90', '37', '94', '76', '60', '46', '83', '100', '40',\n",
       "       '97', '54', '75', '39', '85', '63', '44', '93', '36', '35', '73',\n",
       "       '71', '70', '38', '77', '95', '34'], dtype=object)"
      ]
     },
     "execution_count": 9,
     "metadata": {},
     "output_type": "execute_result"
    }
   ],
   "source": [
    "# cambiar el Not Avaiable a NaN\n",
    "\n",
    "datos['hourlyrate'] = datos['hourlyrate'].replace('Not Available', np.nan)\n",
    "\n",
    "datos['hourlyrate'].unique() "
   ]
  },
  {
   "cell_type": "code",
   "execution_count": 10,
   "metadata": {},
   "outputs": [
    {
     "data": {
      "text/plain": [
       "array([nan, 'Married', 'Divorced', 'Single'], dtype=object)"
      ]
     },
     "execution_count": 10,
     "metadata": {},
     "output_type": "execute_result"
    }
   ],
   "source": [
    "# Sustituimos los que están mal escritos para que sean iguales a los que si creando un diccionario previamente. Comprobar moda\n",
    "replacements = {\n",
    "    'divorced': 'Divorced',\n",
    "    'Marreid': 'Married'\n",
    "}\n",
    "\n",
    "datos['maritalstatus'] = datos['maritalstatus'].replace(replacements)\n",
    "datos['maritalstatus'].unique() "
   ]
  },
  {
   "cell_type": "code",
   "execution_count": 11,
   "metadata": {},
   "outputs": [
    {
     "data": {
      "text/plain": [
       "array(['Yes', 'No'], dtype=object)"
      ]
     },
     "execution_count": 11,
     "metadata": {},
     "output_type": "execute_result"
    }
   ],
   "source": [
    "# Cambiamos todos los datos a yes o NO depende la numeración\n",
    "\n",
    "diccionario_mapa = {'Yes':'Yes', '1':'Yes', 'False':'No', '0':'No', 'True':'Yes'}\n",
    "\n",
    "datos[\"remotework\"] = datos[\"remotework\"].map(diccionario_mapa)\n",
    "\n",
    "datos['remotework'].unique()"
   ]
  },
  {
   "cell_type": "code",
   "execution_count": 12,
   "metadata": {},
   "outputs": [],
   "source": [
    "# Funcion para cambiar a float\n",
    "\n",
    "cols_float = ['dailyrate', 'monthlyincome',  'performancerating', 'totalworkingyears', 'worklifebalance', 'yearsincurrentrole']\n",
    "\n",
    "def cambiar_float(datos, cols):\n",
    "    for col in cols:\n",
    "        datos[col] = datos[col].apply(lambda dato: float(dato.replace(\",\", \".\")) if isinstance(dato, str) else np.nan)\n",
    "\n",
    "cambiar_float(datos, cols_float)"
   ]
  },
  {
   "cell_type": "code",
   "execution_count": 13,
   "metadata": {},
   "outputs": [],
   "source": [
    "# Funcion para cambiar a int si es string\n",
    "\n",
    "cols_int = ['age', 'distancefromhome', 'hourlyrate']\n",
    "\n",
    "def cambiar_int(datos, cols):\n",
    "    for col in cols:\n",
    "        datos[col] = datos[col].apply(lambda dato: int(dato) if isinstance(dato, str) else np.nan)\n",
    "\n",
    "cambiar_int(datos, cols_int)"
   ]
  },
  {
   "cell_type": "code",
   "execution_count": 14,
   "metadata": {},
   "outputs": [],
   "source": [
    "# funcion para cambiar a INT valores numericos\n",
    "cols = ['environmentsatisfaction', 'jobinvolvement', 'jobsatisfaction', 'relationshipsatisfaction']\n",
    "\n",
    "def cambiar_a_int(datos, cols):\n",
    "    for col in cols:\n",
    "        if col in datos.columns:\n",
    "            datos[col] = datos[col].astype(int)\n",
    "        else:\n",
    "            print(f\"Columna '{col}' no encontrada en el DataFrame.\")\n",
    "\n",
    "cambiar_a_int(datos, cols)\n"
   ]
  },
  {
   "cell_type": "code",
   "execution_count": 15,
   "metadata": {},
   "outputs": [],
   "source": [
    "# Funcion para cambiar textos\n",
    "\n",
    "cols_text = ['attrition', 'businesstravel', 'department', 'educationfield', 'gender', 'jobrole', 'maritalstatus', 'overtime', 'remotework']\n",
    "\n",
    "def cambiar_texto(datos, cols):\n",
    "    for col in cols:\n",
    "        datos[col] = datos[col].str.strip().str.replace('-', ' ').str.replace('_', ' ').str.capitalize()\n",
    "        \n",
    "\n",
    "cambiar_texto(datos, cols_text)"
   ]
  },
  {
   "cell_type": "code",
   "execution_count": 16,
   "metadata": {},
   "outputs": [
    {
     "name": "stdout",
     "output_type": "stream",
     "text": [
      "<class 'pandas.core.frame.DataFrame'>\n",
      "Index: 1614 entries, 0 to 1613\n",
      "Data columns (total 33 columns):\n",
      " #   Column                    Non-Null Count  Dtype  \n",
      "---  ------                    --------------  -----  \n",
      " 0   age                       1614 non-null   int64  \n",
      " 1   attrition                 1614 non-null   object \n",
      " 2   businesstravel            842 non-null    object \n",
      " 3   dailyrate                 1490 non-null   float64\n",
      " 4   department                302 non-null    object \n",
      " 5   distancefromhome          1614 non-null   int64  \n",
      " 6   education                 1614 non-null   int64  \n",
      " 7   educationfield            869 non-null    object \n",
      " 8   environmentsatisfaction   1614 non-null   int32  \n",
      " 9   gender                    1614 non-null   object \n",
      " 10  hourlyrate                1530 non-null   float64\n",
      " 11  jobinvolvement            1614 non-null   int32  \n",
      " 12  joblevel                  1614 non-null   int64  \n",
      " 13  jobrole                   1614 non-null   object \n",
      " 14  jobsatisfaction           1614 non-null   int32  \n",
      " 15  maritalstatus             963 non-null    object \n",
      " 16  monthlyincome             771 non-null    float64\n",
      " 17  monthlyrate               1614 non-null   int64  \n",
      " 18  numcompaniesworked        1614 non-null   int64  \n",
      " 19  overtime                  938 non-null    object \n",
      " 20  percentsalaryhike         1614 non-null   int64  \n",
      " 21  performancerating         1419 non-null   float64\n",
      " 22  relationshipsatisfaction  1614 non-null   int32  \n",
      " 23  stockoptionlevel          1614 non-null   int64  \n",
      " 24  totalworkingyears         1088 non-null   float64\n",
      " 25  trainingtimeslastyear     1614 non-null   int64  \n",
      " 26  worklifebalance           1506 non-null   float64\n",
      " 27  yearsatcompany            1614 non-null   int64  \n",
      " 28  yearsincurrentrole        34 non-null     float64\n",
      " 29  yearssincelastpromotion   1614 non-null   int64  \n",
      " 30  yearswithcurrmanager      1614 non-null   int64  \n",
      " 31  datebirth                 1614 non-null   int64  \n",
      " 32  remotework                1614 non-null   object \n",
      "dtypes: float64(7), int32(4), int64(13), object(9)\n",
      "memory usage: 403.5+ KB\n"
     ]
    }
   ],
   "source": [
    "datos.info()"
   ]
  },
  {
   "cell_type": "code",
   "execution_count": 17,
   "metadata": {},
   "outputs": [
    {
     "data": {
      "text/html": [
       "<div>\n",
       "<style scoped>\n",
       "    .dataframe tbody tr th:only-of-type {\n",
       "        vertical-align: middle;\n",
       "    }\n",
       "\n",
       "    .dataframe tbody tr th {\n",
       "        vertical-align: top;\n",
       "    }\n",
       "\n",
       "    .dataframe thead th {\n",
       "        text-align: right;\n",
       "    }\n",
       "</style>\n",
       "<table border=\"1\" class=\"dataframe\">\n",
       "  <thead>\n",
       "    <tr style=\"text-align: right;\">\n",
       "      <th></th>\n",
       "      <th>age</th>\n",
       "      <th>attrition</th>\n",
       "      <th>businesstravel</th>\n",
       "      <th>dailyrate</th>\n",
       "      <th>department</th>\n",
       "      <th>distancefromhome</th>\n",
       "      <th>education</th>\n",
       "      <th>educationfield</th>\n",
       "      <th>environmentsatisfaction</th>\n",
       "      <th>gender</th>\n",
       "      <th>hourlyrate</th>\n",
       "      <th>jobinvolvement</th>\n",
       "      <th>joblevel</th>\n",
       "      <th>jobrole</th>\n",
       "      <th>jobsatisfaction</th>\n",
       "      <th>maritalstatus</th>\n",
       "      <th>monthlyincome</th>\n",
       "      <th>monthlyrate</th>\n",
       "      <th>numcompaniesworked</th>\n",
       "      <th>overtime</th>\n",
       "      <th>percentsalaryhike</th>\n",
       "      <th>performancerating</th>\n",
       "      <th>relationshipsatisfaction</th>\n",
       "      <th>stockoptionlevel</th>\n",
       "      <th>totalworkingyears</th>\n",
       "      <th>trainingtimeslastyear</th>\n",
       "      <th>worklifebalance</th>\n",
       "      <th>yearsatcompany</th>\n",
       "      <th>yearsincurrentrole</th>\n",
       "      <th>yearssincelastpromotion</th>\n",
       "      <th>yearswithcurrmanager</th>\n",
       "      <th>datebirth</th>\n",
       "      <th>remotework</th>\n",
       "    </tr>\n",
       "  </thead>\n",
       "  <tbody>\n",
       "    <tr>\n",
       "      <th>528</th>\n",
       "      <td>26</td>\n",
       "      <td>No</td>\n",
       "      <td>NaN</td>\n",
       "      <td>1479.0</td>\n",
       "      <td>NaN</td>\n",
       "      <td>1</td>\n",
       "      <td>3</td>\n",
       "      <td>NaN</td>\n",
       "      <td>3</td>\n",
       "      <td>F</td>\n",
       "      <td>84.0</td>\n",
       "      <td>3</td>\n",
       "      <td>2</td>\n",
       "      <td>Manufacturing director</td>\n",
       "      <td>2</td>\n",
       "      <td>NaN</td>\n",
       "      <td>6397.0</td>\n",
       "      <td>26767</td>\n",
       "      <td>1</td>\n",
       "      <td>No</td>\n",
       "      <td>20</td>\n",
       "      <td>4.0</td>\n",
       "      <td>1</td>\n",
       "      <td>1</td>\n",
       "      <td>6.0</td>\n",
       "      <td>6</td>\n",
       "      <td>1.0</td>\n",
       "      <td>6</td>\n",
       "      <td>NaN</td>\n",
       "      <td>1</td>\n",
       "      <td>4</td>\n",
       "      <td>1997</td>\n",
       "      <td>No</td>\n",
       "    </tr>\n",
       "    <tr>\n",
       "      <th>44</th>\n",
       "      <td>46</td>\n",
       "      <td>No</td>\n",
       "      <td>NaN</td>\n",
       "      <td>1003.0</td>\n",
       "      <td>NaN</td>\n",
       "      <td>8</td>\n",
       "      <td>4</td>\n",
       "      <td>Life sciences</td>\n",
       "      <td>4</td>\n",
       "      <td>F</td>\n",
       "      <td>74.0</td>\n",
       "      <td>2</td>\n",
       "      <td>2</td>\n",
       "      <td>Research scientist</td>\n",
       "      <td>1</td>\n",
       "      <td>Divorced</td>\n",
       "      <td>4615.0</td>\n",
       "      <td>21029</td>\n",
       "      <td>8</td>\n",
       "      <td>Yes</td>\n",
       "      <td>23</td>\n",
       "      <td>4.0</td>\n",
       "      <td>1</td>\n",
       "      <td>3</td>\n",
       "      <td>NaN</td>\n",
       "      <td>2</td>\n",
       "      <td>3.0</td>\n",
       "      <td>16</td>\n",
       "      <td>NaN</td>\n",
       "      <td>1</td>\n",
       "      <td>7</td>\n",
       "      <td>1977</td>\n",
       "      <td>No</td>\n",
       "    </tr>\n",
       "    <tr>\n",
       "      <th>726</th>\n",
       "      <td>22</td>\n",
       "      <td>No</td>\n",
       "      <td>NaN</td>\n",
       "      <td>217.0</td>\n",
       "      <td>Research &amp; development</td>\n",
       "      <td>8</td>\n",
       "      <td>1</td>\n",
       "      <td>Life sciences</td>\n",
       "      <td>2</td>\n",
       "      <td>M</td>\n",
       "      <td>94.0</td>\n",
       "      <td>1</td>\n",
       "      <td>1</td>\n",
       "      <td>Laboratory technician</td>\n",
       "      <td>1</td>\n",
       "      <td>NaN</td>\n",
       "      <td>NaN</td>\n",
       "      <td>6881</td>\n",
       "      <td>1</td>\n",
       "      <td>NaN</td>\n",
       "      <td>15</td>\n",
       "      <td>3.0</td>\n",
       "      <td>1</td>\n",
       "      <td>1</td>\n",
       "      <td>4.0</td>\n",
       "      <td>3</td>\n",
       "      <td>2.0</td>\n",
       "      <td>4</td>\n",
       "      <td>NaN</td>\n",
       "      <td>1</td>\n",
       "      <td>1</td>\n",
       "      <td>2001</td>\n",
       "      <td>Yes</td>\n",
       "    </tr>\n",
       "    <tr>\n",
       "      <th>256</th>\n",
       "      <td>31</td>\n",
       "      <td>No</td>\n",
       "      <td>NaN</td>\n",
       "      <td>1125.0</td>\n",
       "      <td>Research &amp; development</td>\n",
       "      <td>1</td>\n",
       "      <td>3</td>\n",
       "      <td>Life sciences</td>\n",
       "      <td>4</td>\n",
       "      <td>M</td>\n",
       "      <td>48.0</td>\n",
       "      <td>1</td>\n",
       "      <td>2</td>\n",
       "      <td>Research scientist</td>\n",
       "      <td>1</td>\n",
       "      <td>Married</td>\n",
       "      <td>NaN</td>\n",
       "      <td>5771</td>\n",
       "      <td>1</td>\n",
       "      <td>NaN</td>\n",
       "      <td>21</td>\n",
       "      <td>NaN</td>\n",
       "      <td>2</td>\n",
       "      <td>0</td>\n",
       "      <td>10.0</td>\n",
       "      <td>6</td>\n",
       "      <td>3.0</td>\n",
       "      <td>10</td>\n",
       "      <td>NaN</td>\n",
       "      <td>8</td>\n",
       "      <td>7</td>\n",
       "      <td>1992</td>\n",
       "      <td>Yes</td>\n",
       "    </tr>\n",
       "    <tr>\n",
       "      <th>1394</th>\n",
       "      <td>31</td>\n",
       "      <td>Yes</td>\n",
       "      <td>Travel rarely</td>\n",
       "      <td>202.0</td>\n",
       "      <td>NaN</td>\n",
       "      <td>8</td>\n",
       "      <td>3</td>\n",
       "      <td>Life sciences</td>\n",
       "      <td>1</td>\n",
       "      <td>F</td>\n",
       "      <td>34.0</td>\n",
       "      <td>2</td>\n",
       "      <td>1</td>\n",
       "      <td>Research scientist</td>\n",
       "      <td>2</td>\n",
       "      <td>NaN</td>\n",
       "      <td>NaN</td>\n",
       "      <td>22262</td>\n",
       "      <td>1</td>\n",
       "      <td>NaN</td>\n",
       "      <td>12</td>\n",
       "      <td>3.0</td>\n",
       "      <td>3</td>\n",
       "      <td>0</td>\n",
       "      <td>NaN</td>\n",
       "      <td>3</td>\n",
       "      <td>4.0</td>\n",
       "      <td>1</td>\n",
       "      <td>NaN</td>\n",
       "      <td>0</td>\n",
       "      <td>0</td>\n",
       "      <td>1992</td>\n",
       "      <td>No</td>\n",
       "    </tr>\n",
       "  </tbody>\n",
       "</table>\n",
       "</div>"
      ],
      "text/plain": [
       "      age attrition businesstravel  dailyrate              department  \\\n",
       "528    26        No            NaN     1479.0                     NaN   \n",
       "44     46        No            NaN     1003.0                     NaN   \n",
       "726    22        No            NaN      217.0  Research & development   \n",
       "256    31        No            NaN     1125.0  Research & development   \n",
       "1394   31       Yes  Travel rarely      202.0                     NaN   \n",
       "\n",
       "      distancefromhome  education educationfield  environmentsatisfaction  \\\n",
       "528                  1          3            NaN                        3   \n",
       "44                   8          4  Life sciences                        4   \n",
       "726                  8          1  Life sciences                        2   \n",
       "256                  1          3  Life sciences                        4   \n",
       "1394                 8          3  Life sciences                        1   \n",
       "\n",
       "     gender  hourlyrate  jobinvolvement  joblevel                 jobrole  \\\n",
       "528       F        84.0               3         2  Manufacturing director   \n",
       "44        F        74.0               2         2      Research scientist   \n",
       "726       M        94.0               1         1   Laboratory technician   \n",
       "256       M        48.0               1         2      Research scientist   \n",
       "1394      F        34.0               2         1      Research scientist   \n",
       "\n",
       "      jobsatisfaction maritalstatus  monthlyincome  monthlyrate  \\\n",
       "528                 2           NaN         6397.0        26767   \n",
       "44                  1      Divorced         4615.0        21029   \n",
       "726                 1           NaN            NaN         6881   \n",
       "256                 1       Married            NaN         5771   \n",
       "1394                2           NaN            NaN        22262   \n",
       "\n",
       "      numcompaniesworked overtime  percentsalaryhike  performancerating  \\\n",
       "528                    1       No                 20                4.0   \n",
       "44                     8      Yes                 23                4.0   \n",
       "726                    1      NaN                 15                3.0   \n",
       "256                    1      NaN                 21                NaN   \n",
       "1394                   1      NaN                 12                3.0   \n",
       "\n",
       "      relationshipsatisfaction  stockoptionlevel  totalworkingyears  \\\n",
       "528                          1                 1                6.0   \n",
       "44                           1                 3                NaN   \n",
       "726                          1                 1                4.0   \n",
       "256                          2                 0               10.0   \n",
       "1394                         3                 0                NaN   \n",
       "\n",
       "      trainingtimeslastyear  worklifebalance  yearsatcompany  \\\n",
       "528                       6              1.0               6   \n",
       "44                        2              3.0              16   \n",
       "726                       3              2.0               4   \n",
       "256                       6              3.0              10   \n",
       "1394                      3              4.0               1   \n",
       "\n",
       "      yearsincurrentrole  yearssincelastpromotion  yearswithcurrmanager  \\\n",
       "528                  NaN                        1                     4   \n",
       "44                   NaN                        1                     7   \n",
       "726                  NaN                        1                     1   \n",
       "256                  NaN                        8                     7   \n",
       "1394                 NaN                        0                     0   \n",
       "\n",
       "      datebirth remotework  \n",
       "528        1997         No  \n",
       "44         1977         No  \n",
       "726        2001        Yes  \n",
       "256        1992        Yes  \n",
       "1394       1992         No  "
      ]
     },
     "execution_count": 17,
     "metadata": {},
     "output_type": "execute_result"
    }
   ],
   "source": [
    "datos.sample(5)"
   ]
  },
  {
   "cell_type": "code",
   "execution_count": 18,
   "metadata": {},
   "outputs": [],
   "source": [
    "# Creamos copia de seguridad del archivo\n",
    "\n",
    "datos.to_csv('Datos/datos_empresa_V.1.clean.csv')"
   ]
  },
  {
   "cell_type": "markdown",
   "metadata": {},
   "source": [
    "### Gestion de Nulos"
   ]
  },
  {
   "cell_type": "code",
   "execution_count": 19,
   "metadata": {},
   "outputs": [
    {
     "data": {
      "text/html": [
       "<div>\n",
       "<style scoped>\n",
       "    .dataframe tbody tr th:only-of-type {\n",
       "        vertical-align: middle;\n",
       "    }\n",
       "\n",
       "    .dataframe tbody tr th {\n",
       "        vertical-align: top;\n",
       "    }\n",
       "\n",
       "    .dataframe thead th {\n",
       "        text-align: right;\n",
       "    }\n",
       "</style>\n",
       "<table border=\"1\" class=\"dataframe\">\n",
       "  <thead>\n",
       "    <tr style=\"text-align: right;\">\n",
       "      <th></th>\n",
       "      <th>age</th>\n",
       "      <th>attrition</th>\n",
       "      <th>businesstravel</th>\n",
       "      <th>dailyrate</th>\n",
       "      <th>department</th>\n",
       "      <th>distancefromhome</th>\n",
       "      <th>education</th>\n",
       "      <th>educationfield</th>\n",
       "      <th>environmentsatisfaction</th>\n",
       "      <th>gender</th>\n",
       "      <th>hourlyrate</th>\n",
       "      <th>jobinvolvement</th>\n",
       "      <th>joblevel</th>\n",
       "      <th>jobrole</th>\n",
       "      <th>jobsatisfaction</th>\n",
       "      <th>maritalstatus</th>\n",
       "      <th>monthlyincome</th>\n",
       "      <th>monthlyrate</th>\n",
       "      <th>numcompaniesworked</th>\n",
       "      <th>overtime</th>\n",
       "      <th>percentsalaryhike</th>\n",
       "      <th>performancerating</th>\n",
       "      <th>relationshipsatisfaction</th>\n",
       "      <th>stockoptionlevel</th>\n",
       "      <th>totalworkingyears</th>\n",
       "      <th>trainingtimeslastyear</th>\n",
       "      <th>worklifebalance</th>\n",
       "      <th>yearsatcompany</th>\n",
       "      <th>yearsincurrentrole</th>\n",
       "      <th>yearssincelastpromotion</th>\n",
       "      <th>yearswithcurrmanager</th>\n",
       "      <th>datebirth</th>\n",
       "      <th>remotework</th>\n",
       "    </tr>\n",
       "  </thead>\n",
       "  <tbody>\n",
       "    <tr>\n",
       "      <th>707</th>\n",
       "      <td>50</td>\n",
       "      <td>Yes</td>\n",
       "      <td>NaN</td>\n",
       "      <td>562.0</td>\n",
       "      <td>Sales</td>\n",
       "      <td>8</td>\n",
       "      <td>2</td>\n",
       "      <td>Technical degree</td>\n",
       "      <td>2</td>\n",
       "      <td>M</td>\n",
       "      <td>50.0</td>\n",
       "      <td>3</td>\n",
       "      <td>2</td>\n",
       "      <td>Sales executive</td>\n",
       "      <td>3</td>\n",
       "      <td>Married</td>\n",
       "      <td>NaN</td>\n",
       "      <td>23452</td>\n",
       "      <td>3</td>\n",
       "      <td>NaN</td>\n",
       "      <td>14</td>\n",
       "      <td>3.0</td>\n",
       "      <td>1</td>\n",
       "      <td>1</td>\n",
       "      <td>18.0</td>\n",
       "      <td>4</td>\n",
       "      <td>3.0</td>\n",
       "      <td>4</td>\n",
       "      <td>NaN</td>\n",
       "      <td>1</td>\n",
       "      <td>3</td>\n",
       "      <td>1973</td>\n",
       "      <td>No</td>\n",
       "    </tr>\n",
       "    <tr>\n",
       "      <th>1404</th>\n",
       "      <td>33</td>\n",
       "      <td>No</td>\n",
       "      <td>NaN</td>\n",
       "      <td>516.0</td>\n",
       "      <td>NaN</td>\n",
       "      <td>8</td>\n",
       "      <td>5</td>\n",
       "      <td>NaN</td>\n",
       "      <td>4</td>\n",
       "      <td>M</td>\n",
       "      <td>69.0</td>\n",
       "      <td>3</td>\n",
       "      <td>2</td>\n",
       "      <td>Healthcare representative</td>\n",
       "      <td>3</td>\n",
       "      <td>NaN</td>\n",
       "      <td>6388.0</td>\n",
       "      <td>22049</td>\n",
       "      <td>2</td>\n",
       "      <td>NaN</td>\n",
       "      <td>17</td>\n",
       "      <td>3.0</td>\n",
       "      <td>1</td>\n",
       "      <td>0</td>\n",
       "      <td>14.0</td>\n",
       "      <td>6</td>\n",
       "      <td>3.0</td>\n",
       "      <td>0</td>\n",
       "      <td>NaN</td>\n",
       "      <td>0</td>\n",
       "      <td>0</td>\n",
       "      <td>1990</td>\n",
       "      <td>Yes</td>\n",
       "    </tr>\n",
       "  </tbody>\n",
       "</table>\n",
       "</div>"
      ],
      "text/plain": [
       "      age attrition businesstravel  dailyrate department  distancefromhome  \\\n",
       "707    50       Yes            NaN      562.0      Sales                 8   \n",
       "1404   33        No            NaN      516.0        NaN                 8   \n",
       "\n",
       "      education    educationfield  environmentsatisfaction gender  hourlyrate  \\\n",
       "707           2  Technical degree                        2      M        50.0   \n",
       "1404          5               NaN                        4      M        69.0   \n",
       "\n",
       "      jobinvolvement  joblevel                    jobrole  jobsatisfaction  \\\n",
       "707                3         2            Sales executive                3   \n",
       "1404               3         2  Healthcare representative                3   \n",
       "\n",
       "     maritalstatus  monthlyincome  monthlyrate  numcompaniesworked overtime  \\\n",
       "707        Married            NaN        23452                   3      NaN   \n",
       "1404           NaN         6388.0        22049                   2      NaN   \n",
       "\n",
       "      percentsalaryhike  performancerating  relationshipsatisfaction  \\\n",
       "707                  14                3.0                         1   \n",
       "1404                 17                3.0                         1   \n",
       "\n",
       "      stockoptionlevel  totalworkingyears  trainingtimeslastyear  \\\n",
       "707                  1               18.0                      4   \n",
       "1404                 0               14.0                      6   \n",
       "\n",
       "      worklifebalance  yearsatcompany  yearsincurrentrole  \\\n",
       "707               3.0               4                 NaN   \n",
       "1404              3.0               0                 NaN   \n",
       "\n",
       "      yearssincelastpromotion  yearswithcurrmanager  datebirth remotework  \n",
       "707                         1                     3       1973         No  \n",
       "1404                        0                     0       1990        Yes  "
      ]
     },
     "execution_count": 19,
     "metadata": {},
     "output_type": "execute_result"
    }
   ],
   "source": [
    "datos = pd.read_csv('Datos/datos_empresa_V.1.clean.csv', index_col=0)\n",
    "datos.sample(2)"
   ]
  },
  {
   "cell_type": "code",
   "execution_count": 20,
   "metadata": {},
   "outputs": [
    {
     "name": "stdout",
     "output_type": "stream",
     "text": [
      "Las columnas categóricas que tienen nulos son : \n",
      " \n",
      "Index(['businesstravel', 'department', 'educationfield', 'maritalstatus',\n",
      "       'overtime'],\n",
      "      dtype='object')\n"
     ]
    }
   ],
   "source": [
    "# qué columnas categóricas tienen nulos\n",
    "\n",
    "nulos_cat = datos[datos.columns[datos.isnull().any()]].select_dtypes(include = \"O\").columns\n",
    "print(\"Las columnas categóricas que tienen nulos son : \\n \")\n",
    "print(nulos_cat)"
   ]
  },
  {
   "cell_type": "code",
   "execution_count": 21,
   "metadata": {},
   "outputs": [
    {
     "name": "stdout",
     "output_type": "stream",
     "text": [
      "Las columnas numéricas que tienen nulos son : \n",
      " \n",
      "Index(['dailyrate', 'hourlyrate', 'monthlyincome', 'performancerating',\n",
      "       'totalworkingyears', 'worklifebalance', 'yearsincurrentrole'],\n",
      "      dtype='object')\n"
     ]
    }
   ],
   "source": [
    "# qué columnas numericas tienen nulos\n",
    "\n",
    "nulos_num = datos[datos.columns[datos.isnull().any()]].select_dtypes(include = ['int', 'float']).columns\n",
    "print(\"Las columnas numéricas que tienen nulos son : \\n \")\n",
    "print(nulos_num)"
   ]
  },
  {
   "cell_type": "code",
   "execution_count": 22,
   "metadata": {},
   "outputs": [
    {
     "name": "stdout",
     "output_type": "stream",
     "text": [
      "La distribución de las categorías para la columna BUSINESSTRAVEL\n"
     ]
    },
    {
     "data": {
      "text/plain": [
       "businesstravel\n",
       "Travel rarely        0.363073\n",
       "Travel frequently    0.102230\n",
       "Non travel           0.056382\n",
       "Name: count, dtype: float64"
      ]
     },
     "metadata": {},
     "output_type": "display_data"
    },
    {
     "name": "stdout",
     "output_type": "stream",
     "text": [
      "........................\n",
      "La distribución de las categorías para la columna DEPARTMENT\n"
     ]
    },
    {
     "data": {
      "text/plain": [
       "department\n",
       "Research & development    0.121437\n",
       "Sales                     0.056382\n",
       "Human resources           0.009294\n",
       "Name: count, dtype: float64"
      ]
     },
     "metadata": {},
     "output_type": "display_data"
    },
    {
     "name": "stdout",
     "output_type": "stream",
     "text": [
      "........................\n",
      "La distribución de las categorías para la columna EDUCATIONFIELD\n"
     ]
    },
    {
     "data": {
      "text/plain": [
       "educationfield\n",
       "Life sciences       0.216233\n",
       "Medical             0.171004\n",
       "Marketing           0.064436\n",
       "Technical degree    0.042751\n",
       "Other               0.036555\n",
       "Human resources     0.007435\n",
       "Name: count, dtype: float64"
      ]
     },
     "metadata": {},
     "output_type": "display_data"
    },
    {
     "name": "stdout",
     "output_type": "stream",
     "text": [
      "........................\n",
      "La distribución de las categorías para la columna MARITALSTATUS\n"
     ]
    },
    {
     "data": {
      "text/plain": [
       "maritalstatus\n",
       "Married     0.271995\n",
       "Single      0.201363\n",
       "Divorced    0.123296\n",
       "Name: count, dtype: float64"
      ]
     },
     "metadata": {},
     "output_type": "display_data"
    },
    {
     "name": "stdout",
     "output_type": "stream",
     "text": [
      "........................\n",
      "La distribución de las categorías para la columna OVERTIME\n"
     ]
    },
    {
     "data": {
      "text/plain": [
       "overtime\n",
       "No     0.422553\n",
       "Yes    0.158612\n",
       "Name: count, dtype: float64"
      ]
     },
     "metadata": {},
     "output_type": "display_data"
    },
    {
     "name": "stdout",
     "output_type": "stream",
     "text": [
      "........................\n"
     ]
    }
   ],
   "source": [
    "# Vemos la forma de estas columnas categóricas\n",
    "\n",
    "for col in nulos_cat:\n",
    "    print(f\"La distribución de las categorías para la columna {col.upper()}\")\n",
    "    display(datos[col].value_counts() / datos.shape[0])\n",
    "    print(\"........................\")"
   ]
  },
  {
   "cell_type": "code",
   "execution_count": 23,
   "metadata": {},
   "outputs": [
    {
     "name": "stdout",
     "output_type": "stream",
     "text": [
      "La distribución de las categorías para la columna DAILYRATE\n"
     ]
    },
    {
     "data": {
      "text/plain": [
       "dailyrate\n",
       "691.0    0.004337\n",
       "329.0    0.004337\n",
       "147.0    0.003717\n",
       "408.0    0.003717\n",
       "530.0    0.003717\n",
       "           ...   \n",
       "317.0    0.000620\n",
       "891.0    0.000620\n",
       "759.0    0.000620\n",
       "483.0    0.000620\n",
       "105.0    0.000620\n",
       "Name: count, Length: 848, dtype: float64"
      ]
     },
     "metadata": {},
     "output_type": "display_data"
    },
    {
     "name": "stdout",
     "output_type": "stream",
     "text": [
      "........................\n",
      "La distribución de las categorías para la columna HOURLYRATE\n"
     ]
    },
    {
     "data": {
      "text/plain": [
       "hourlyrate\n",
       "42.0    0.020446\n",
       "66.0    0.019827\n",
       "48.0    0.018587\n",
       "84.0    0.017968\n",
       "57.0    0.017968\n",
       "          ...   \n",
       "47.0    0.009294\n",
       "68.0    0.008055\n",
       "53.0    0.008055\n",
       "38.0    0.007435\n",
       "34.0    0.006815\n",
       "Name: count, Length: 71, dtype: float64"
      ]
     },
     "metadata": {},
     "output_type": "display_data"
    },
    {
     "name": "stdout",
     "output_type": "stream",
     "text": [
      "........................\n",
      "La distribución de las categorías para la columna MONTHLYINCOME\n"
     ]
    },
    {
     "data": {
      "text/plain": [
       "monthlyincome\n",
       "6347.0     0.002478\n",
       "5304.0     0.002478\n",
       "2657.0     0.001859\n",
       "2258.0     0.001859\n",
       "5405.0     0.001239\n",
       "             ...   \n",
       "3102.0     0.000620\n",
       "4556.0     0.000620\n",
       "4230.0     0.000620\n",
       "4859.0     0.000620\n",
       "19431.0    0.000620\n",
       "Name: count, Length: 668, dtype: float64"
      ]
     },
     "metadata": {},
     "output_type": "display_data"
    },
    {
     "name": "stdout",
     "output_type": "stream",
     "text": [
      "........................\n",
      "La distribución de las categorías para la columna PERFORMANCERATING\n"
     ]
    },
    {
     "data": {
      "text/plain": [
       "performancerating\n",
       "3.0    0.746592\n",
       "4.0    0.132590\n",
       "Name: count, dtype: float64"
      ]
     },
     "metadata": {},
     "output_type": "display_data"
    },
    {
     "name": "stdout",
     "output_type": "stream",
     "text": [
      "........................\n",
      "La distribución de las categorías para la columna TOTALWORKINGYEARS\n"
     ]
    },
    {
     "data": {
      "text/plain": [
       "totalworkingyears\n",
       "10.0    0.089219\n",
       "8.0     0.053284\n",
       "6.0     0.052045\n",
       "9.0     0.042751\n",
       "5.0     0.040892\n",
       "7.0     0.034696\n",
       "4.0     0.033457\n",
       "1.0     0.032838\n",
       "12.0    0.021066\n",
       "3.0     0.019827\n",
       "14.0    0.018587\n",
       "13.0    0.018587\n",
       "11.0    0.017968\n",
       "15.0    0.017348\n",
       "16.0    0.017348\n",
       "20.0    0.017348\n",
       "18.0    0.016729\n",
       "21.0    0.014250\n",
       "17.0    0.013631\n",
       "2.0     0.013011\n",
       "22.0    0.011152\n",
       "19.0    0.010533\n",
       "24.0    0.008674\n",
       "23.0    0.008055\n",
       "28.0    0.008055\n",
       "26.0    0.004957\n",
       "0.0     0.004957\n",
       "29.0    0.003717\n",
       "36.0    0.003717\n",
       "25.0    0.003717\n",
       "33.0    0.003717\n",
       "37.0    0.003098\n",
       "27.0    0.003098\n",
       "31.0    0.002478\n",
       "30.0    0.001859\n",
       "32.0    0.001859\n",
       "35.0    0.001859\n",
       "40.0    0.001859\n",
       "34.0    0.001239\n",
       "38.0    0.000620\n",
       "Name: count, dtype: float64"
      ]
     },
     "metadata": {},
     "output_type": "display_data"
    },
    {
     "name": "stdout",
     "output_type": "stream",
     "text": [
      "........................\n",
      "La distribución de las categorías para la columna WORKLIFEBALANCE\n"
     ]
    },
    {
     "data": {
      "text/plain": [
       "worklifebalance\n",
       "3.0    0.565675\n",
       "2.0    0.222429\n",
       "4.0    0.096035\n",
       "1.0    0.048947\n",
       "Name: count, dtype: float64"
      ]
     },
     "metadata": {},
     "output_type": "display_data"
    },
    {
     "name": "stdout",
     "output_type": "stream",
     "text": [
      "........................\n",
      "La distribución de las categorías para la columna YEARSINCURRENTROLE\n"
     ]
    },
    {
     "data": {
      "text/plain": [
       "yearsincurrentrole\n",
       "2.0     0.006815\n",
       "7.0     0.003098\n",
       "0.0     0.002478\n",
       "4.0     0.001859\n",
       "1.0     0.001859\n",
       "11.0    0.001239\n",
       "6.0     0.001239\n",
       "3.0     0.001239\n",
       "13.0    0.000620\n",
       "12.0    0.000620\n",
       "Name: count, dtype: float64"
      ]
     },
     "metadata": {},
     "output_type": "display_data"
    },
    {
     "name": "stdout",
     "output_type": "stream",
     "text": [
      "........................\n"
     ]
    }
   ],
   "source": [
    "# Vemos la forma de estas columnas numéricas\n",
    "\n",
    "for col in nulos_num:\n",
    "    print(f\"La distribución de las categorías para la columna {col.upper()}\")\n",
    "    display(datos[col].value_counts() / datos.shape[0])\n",
    "    print(\"........................\")"
   ]
  },
  {
   "cell_type": "code",
   "execution_count": 24,
   "metadata": {},
   "outputs": [
    {
     "data": {
      "text/plain": [
       "age                          0.000000\n",
       "attrition                    0.000000\n",
       "businesstravel              47.831475\n",
       "dailyrate                    7.682776\n",
       "department                  81.288724\n",
       "distancefromhome             0.000000\n",
       "education                    0.000000\n",
       "educationfield              46.158612\n",
       "environmentsatisfaction      0.000000\n",
       "gender                       0.000000\n",
       "hourlyrate                   5.204461\n",
       "jobinvolvement               0.000000\n",
       "joblevel                     0.000000\n",
       "jobrole                      0.000000\n",
       "jobsatisfaction              0.000000\n",
       "maritalstatus               40.334572\n",
       "monthlyincome               52.230483\n",
       "monthlyrate                  0.000000\n",
       "numcompaniesworked           0.000000\n",
       "overtime                    41.883519\n",
       "percentsalaryhike            0.000000\n",
       "performancerating           12.081784\n",
       "relationshipsatisfaction     0.000000\n",
       "stockoptionlevel             0.000000\n",
       "totalworkingyears           32.589839\n",
       "trainingtimeslastyear        0.000000\n",
       "worklifebalance              6.691450\n",
       "yearsatcompany               0.000000\n",
       "yearsincurrentrole          97.893432\n",
       "yearssincelastpromotion      0.000000\n",
       "yearswithcurrmanager         0.000000\n",
       "datebirth                    0.000000\n",
       "remotework                   0.000000\n",
       "dtype: float64"
      ]
     },
     "execution_count": 24,
     "metadata": {},
     "output_type": "execute_result"
    }
   ],
   "source": [
    "# porcentajes de todas\n",
    "\n",
    "datos.isna().sum() / datos.shape[0] * 100"
   ]
  },
  {
   "cell_type": "markdown",
   "metadata": {},
   "source": [
    "### Valores nulos totales en porcentajes\n",
    "\n",
    "0% - 5% ---> Rellenar los valores con estadisticas (moda, media, mediana)\n",
    "5% - 20% ---> O rellenar o predecir con valores de otra columna.\n",
    "20% - 50% ---> Evaluar si es necesario eliminar la columna o crucial insertar datos.\n",
    "50% ---> Eliminar dependiendo del tipo de dato.\n",
    "\n",
    "- businesstravel, la cual tiene 47.831475% nulos. Calcularemos el porcentaje de cada categoría para determinar la moda porque no es numérica. Pero no eliminaremos porque la consideramos importante.\n",
    "\n",
    "- dailyrate, la cual tiene 7.682776% nulos. Calcular valores estadísticos.\n",
    "\n",
    "- department , la cual tiene 81.288724% nulos. Creemos que si tiene información clave para nuestros datos. Puede ser gente que no haya querido responder en la encuesta. Le daremos una nueva categoría \"Uknown\"               \n",
    "\n",
    "- monthlyincome, la cual tiene 52.230483% nulos. Sustituimos los nan por 0 como categoría que desconocemos.\n",
    "\n",
    "- educationfield, la cual tiene 46.158612% nulos. La consideramos irrelevante, la eliminaremos.\n",
    "\n",
    "- hourlyrate, la cual tiene 5.204461% nulos. Calcular valores estadísticos.\n",
    "\n",
    "- maritalstatus, la cual tiene 40.334572% nulos. Crearemos otra categoría \"Others\"\n",
    "\n",
    "- overtime, la cual tienne 41.883519% nulos. Miraremos la proporción de % y tiraremos por la mayoría.\n",
    "\n",
    "- performancerating , la cual tiene 41.883519% nulos. Crearemos nueva categoría \"0\" que es sin información.\n",
    "\n",
    "- totalworkingyears, la cual tiene 32.589839% nulos. Crearemos nueva categoría \"0\" que es sin información.\n",
    "\n",
    "- worklifebalance, la cual tiene 6.691450% nulos. Calcular valores estadísticos.\n",
    "\n",
    "- yearsincurrentrole, la cual tiene 97.893432% nulos. Creemos que da información similar a 'yearssincelastpromotion'. La quitaremos."
   ]
  },
  {
   "cell_type": "code",
   "execution_count": 25,
   "metadata": {},
   "outputs": [],
   "source": [
    "# Borramos las columnas que tras su analisis de nulos hemos determinado que se van fuera.\n",
    "\n",
    "columnas_borrar2 = ['educationfield','yearsincurrentrole', 'monthlyincome']\n",
    "\n",
    "borrar_colunas(datos,columnas_borrar2)"
   ]
  },
  {
   "cell_type": "code",
   "execution_count": 26,
   "metadata": {},
   "outputs": [
    {
     "data": {
      "text/plain": [
       "Index(['age', 'attrition', 'businesstravel', 'dailyrate', 'department',\n",
       "       'distancefromhome', 'education', 'environmentsatisfaction', 'gender',\n",
       "       'hourlyrate', 'jobinvolvement', 'joblevel', 'jobrole',\n",
       "       'jobsatisfaction', 'maritalstatus', 'monthlyrate', 'numcompaniesworked',\n",
       "       'overtime', 'percentsalaryhike', 'performancerating',\n",
       "       'relationshipsatisfaction', 'stockoptionlevel', 'totalworkingyears',\n",
       "       'trainingtimeslastyear', 'worklifebalance', 'yearsatcompany',\n",
       "       'yearssincelastpromotion', 'yearswithcurrmanager', 'datebirth',\n",
       "       'remotework'],\n",
       "      dtype='object')"
      ]
     },
     "execution_count": 26,
     "metadata": {},
     "output_type": "execute_result"
    }
   ],
   "source": [
    "# Columnas con las que nos quedamos finalmente hasta este punto.\n",
    "\n",
    "datos.columns"
   ]
  },
  {
   "cell_type": "code",
   "execution_count": 27,
   "metadata": {},
   "outputs": [
    {
     "data": {
      "text/plain": [
       "businesstravel\n",
       "Travel rarely        69.596200\n",
       "Travel frequently    19.596200\n",
       "Non travel           10.807601\n",
       "Name: proportion, dtype: float64"
      ]
     },
     "execution_count": 27,
     "metadata": {},
     "output_type": "execute_result"
    }
   ],
   "source": [
    "# businesstravel, la cual tiene 47.831475% nulos. Calcularemos el porcentaje de cada categoría para determinar la moda porque no es numérica. Pero no eliminaremos porque la consideramos importante.\n",
    "\n",
    "datos['businesstravel'].value_counts(normalize=True) * 100"
   ]
  },
  {
   "cell_type": "code",
   "execution_count": 28,
   "metadata": {},
   "outputs": [
    {
     "data": {
      "text/plain": [
       "array(['Travel rarely', 'Travel frequently', 'Non travel'], dtype=object)"
      ]
     },
     "execution_count": 28,
     "metadata": {},
     "output_type": "execute_result"
    }
   ],
   "source": [
    "# Imputamos la columna businesstravel\n",
    "\n",
    "datos['businesstravel'].replace('NaN', np.nan, inplace=True)\n",
    "\n",
    "datos['businesstravel'].fillna('Travel rarely', inplace=True)\n",
    "\n",
    "datos['businesstravel'].unique()"
   ]
  },
  {
   "cell_type": "code",
   "execution_count": 29,
   "metadata": {},
   "outputs": [
    {
     "data": {
      "text/plain": [
       "count    1490.000000\n",
       "mean      802.085235\n",
       "std       403.246954\n",
       "min       103.000000\n",
       "25%       468.250000\n",
       "50%       798.000000\n",
       "75%      1157.000000\n",
       "max      1499.000000\n",
       "Name: dailyrate, dtype: float64"
      ]
     },
     "execution_count": 29,
     "metadata": {},
     "output_type": "execute_result"
    }
   ],
   "source": [
    "# Calcular los valores estadísticos de 'dailyrate'ArithmeticError\n",
    "\n",
    "datos['dailyrate'].describe()"
   ]
  },
  {
   "cell_type": "code",
   "execution_count": 30,
   "metadata": {},
   "outputs": [
    {
     "data": {
      "text/plain": [
       "0"
      ]
     },
     "execution_count": 30,
     "metadata": {},
     "output_type": "execute_result"
    }
   ],
   "source": [
    "# Viendo los datos, la media y mediana tienen poca diferencia. Así que vamos a sacar la mediana y sustituirlo por ella.\n",
    "\n",
    "datos['dailyrate'].fillna(datos['dailyrate'].median(), inplace=True)\n",
    "datos['dailyrate'].isna().sum() # Para visualizar que no quedan nulos"
   ]
  },
  {
   "cell_type": "code",
   "execution_count": 31,
   "metadata": {},
   "outputs": [
    {
     "data": {
      "text/plain": [
       "<bound method Series.unique of 0                          NaN\n",
       "1                          NaN\n",
       "2       Research & development\n",
       "3                          NaN\n",
       "4                          NaN\n",
       "                 ...          \n",
       "1609                       NaN\n",
       "1610                       NaN\n",
       "1611                       NaN\n",
       "1612                       NaN\n",
       "1613                       NaN\n",
       "Name: department, Length: 1614, dtype: object>"
      ]
     },
     "execution_count": 31,
     "metadata": {},
     "output_type": "execute_result"
    }
   ],
   "source": [
    "datos['department'].unique"
   ]
  },
  {
   "cell_type": "code",
   "execution_count": 32,
   "metadata": {},
   "outputs": [
    {
     "data": {
      "text/plain": [
       "array(['Unknown', 'Research & development', 'Sales', 'Human resources'],\n",
       "      dtype=object)"
      ]
     },
     "execution_count": 32,
     "metadata": {},
     "output_type": "execute_result"
    }
   ],
   "source": [
    "# Vamos a crear una categoría nueva 'Uknown' para la columna 'department'\n",
    "\n",
    "datos['department'].replace('NaN', np.nan, inplace=True)\n",
    "datos['department'].fillna('Unknown', inplace=True)\n",
    "datos['department'].unique()"
   ]
  },
  {
   "cell_type": "code",
   "execution_count": 33,
   "metadata": {},
   "outputs": [
    {
     "data": {
      "text/plain": [
       "count    1530.000000\n",
       "mean       66.028105\n",
       "std        20.185954\n",
       "min        30.000000\n",
       "25%        48.000000\n",
       "50%        66.000000\n",
       "75%        84.000000\n",
       "max       100.000000\n",
       "Name: hourlyrate, dtype: float64"
      ]
     },
     "execution_count": 33,
     "metadata": {},
     "output_type": "execute_result"
    }
   ],
   "source": [
    "# hourlyrate, calcular valores estadísticos.\n",
    "\n",
    "datos['hourlyrate'].describe()"
   ]
  },
  {
   "cell_type": "code",
   "execution_count": 34,
   "metadata": {},
   "outputs": [
    {
     "data": {
      "text/plain": [
       "0"
      ]
     },
     "execution_count": 34,
     "metadata": {},
     "output_type": "execute_result"
    }
   ],
   "source": [
    "# Nos volvemos a quedar con la mediana al tener apenas diferencia con la media.\n",
    "\n",
    "datos['hourlyrate'].fillna(datos['hourlyrate'].median(), inplace=True)\n",
    "datos['hourlyrate'].isna().sum() "
   ]
  },
  {
   "cell_type": "code",
   "execution_count": 35,
   "metadata": {},
   "outputs": [
    {
     "data": {
      "text/plain": [
       "array(['Other', 'Married', 'Divorced', 'Single'], dtype=object)"
      ]
     },
     "execution_count": 35,
     "metadata": {},
     "output_type": "execute_result"
    }
   ],
   "source": [
    "# maritalstatus, crearemos otra categoría \"Others\"\n",
    "\n",
    "datos['maritalstatus'].replace('NaN', np.nan, inplace=True)\n",
    "datos['maritalstatus'].fillna('Other', inplace=True)\n",
    "datos['maritalstatus'].unique()"
   ]
  },
  {
   "cell_type": "code",
   "execution_count": 36,
   "metadata": {},
   "outputs": [
    {
     "data": {
      "text/plain": [
       "overtime\n",
       "No     72.707889\n",
       "Yes    27.292111\n",
       "Name: proportion, dtype: float64"
      ]
     },
     "execution_count": 36,
     "metadata": {},
     "output_type": "execute_result"
    }
   ],
   "source": [
    "# overtime, miraremos la proporción de % y tiraremos por la mayoría.\n",
    "\n",
    "datos['overtime'].value_counts(normalize=True) * 100"
   ]
  },
  {
   "cell_type": "code",
   "execution_count": 37,
   "metadata": {},
   "outputs": [
    {
     "data": {
      "text/plain": [
       "array(['No', 'Yes'], dtype=object)"
      ]
     },
     "execution_count": 37,
     "metadata": {},
     "output_type": "execute_result"
    }
   ],
   "source": [
    "datos['overtime'].replace('NaN', np.nan, inplace=True)\n",
    "datos['overtime'].fillna('No', inplace=True)\n",
    "datos['overtime'].unique()"
   ]
  },
  {
   "cell_type": "code",
   "execution_count": 38,
   "metadata": {},
   "outputs": [
    {
     "data": {
      "text/plain": [
       "array([3., 4., 0.])"
      ]
     },
     "execution_count": 38,
     "metadata": {},
     "output_type": "execute_result"
    }
   ],
   "source": [
    "# performancerating, crearemos nueva categoría \"0\" que es sin información.\n",
    "\n",
    "datos['performancerating'].fillna(0, inplace=True)\n",
    "datos['performancerating'].unique()\n"
   ]
  },
  {
   "cell_type": "code",
   "execution_count": 39,
   "metadata": {},
   "outputs": [
    {
     "data": {
      "text/plain": [
       "count    1088.000000\n",
       "mean       11.318934\n",
       "std         7.727675\n",
       "min         0.000000\n",
       "25%         6.000000\n",
       "50%        10.000000\n",
       "75%        15.000000\n",
       "max        40.000000\n",
       "Name: totalworkingyears, dtype: float64"
      ]
     },
     "execution_count": 39,
     "metadata": {},
     "output_type": "execute_result"
    }
   ],
   "source": [
    "# totalworkingyears, la cual tiene 32.589839% nulos. Vamos a hacerle la mediana/moda.\n",
    "\n",
    "datos['totalworkingyears'].describe()"
   ]
  },
  {
   "cell_type": "code",
   "execution_count": 40,
   "metadata": {},
   "outputs": [
    {
     "data": {
      "text/plain": [
       "0"
      ]
     },
     "execution_count": 40,
     "metadata": {},
     "output_type": "execute_result"
    }
   ],
   "source": [
    "datos['totalworkingyears'].fillna(datos['totalworkingyears'].median(), inplace=True)\n",
    "datos['totalworkingyears'].isna().sum() "
   ]
  },
  {
   "cell_type": "code",
   "execution_count": 41,
   "metadata": {},
   "outputs": [
    {
     "data": {
      "text/plain": [
       "count    1506.000000\n",
       "mean        2.759628\n",
       "std         0.702622\n",
       "min         1.000000\n",
       "25%         2.000000\n",
       "50%         3.000000\n",
       "75%         3.000000\n",
       "max         4.000000\n",
       "Name: worklifebalance, dtype: float64"
      ]
     },
     "execution_count": 41,
     "metadata": {},
     "output_type": "execute_result"
    }
   ],
   "source": [
    "# worklifebalance, la cual tiene 6.691450% nulos. Calcular valores estadísticos.\n",
    "\n",
    "datos['worklifebalance'].describe()\n"
   ]
  },
  {
   "cell_type": "code",
   "execution_count": 42,
   "metadata": {},
   "outputs": [
    {
     "data": {
      "text/plain": [
       "0"
      ]
     },
     "execution_count": 42,
     "metadata": {},
     "output_type": "execute_result"
    }
   ],
   "source": [
    "# Nos quedamos con la mediana\n",
    "\n",
    "datos['worklifebalance'].fillna(datos['worklifebalance'].median(), inplace=True)\n",
    "datos['worklifebalance'].isna().sum() "
   ]
  },
  {
   "cell_type": "code",
   "execution_count": 43,
   "metadata": {},
   "outputs": [],
   "source": [
    "# Creamos el archivo definitivo sin nulos\n",
    "\n",
    "datos.to_csv('Datos/datos_empresa_nonulos.csv')"
   ]
  },
  {
   "cell_type": "code",
   "execution_count": 44,
   "metadata": {},
   "outputs": [],
   "source": [
    "# leer el csv con la limpieza de Nulos\n",
    "data = pd.read_csv('Datos/datos_empresa_nonulos.csv', index_col=0)"
   ]
  },
  {
   "cell_type": "code",
   "execution_count": 45,
   "metadata": {},
   "outputs": [
    {
     "data": {
      "text/plain": [
       "Index(['age', 'attrition', 'businesstravel', 'dailyrate', 'department',\n",
       "       'distancefromhome', 'education', 'environmentsatisfaction', 'gender',\n",
       "       'hourlyrate', 'jobinvolvement', 'joblevel', 'jobrole',\n",
       "       'jobsatisfaction', 'maritalstatus', 'monthlyrate', 'numcompaniesworked',\n",
       "       'overtime', 'percentsalaryhike', 'performancerating',\n",
       "       'relationshipsatisfaction', 'stockoptionlevel', 'totalworkingyears',\n",
       "       'trainingtimeslastyear', 'worklifebalance', 'yearsatcompany',\n",
       "       'yearssincelastpromotion', 'yearswithcurrmanager', 'datebirth',\n",
       "       'remotework'],\n",
       "      dtype='object')"
      ]
     },
     "execution_count": 45,
     "metadata": {},
     "output_type": "execute_result"
    }
   ],
   "source": [
    "data.columns"
   ]
  },
  {
   "cell_type": "code",
   "execution_count": 51,
   "metadata": {},
   "outputs": [
    {
     "name": "stdout",
     "output_type": "stream",
     "text": [
      "<class 'pandas.core.frame.DataFrame'>\n",
      "Index: 1614 entries, 0 to 1613\n",
      "Data columns (total 30 columns):\n",
      " #   Column                    Non-Null Count  Dtype  \n",
      "---  ------                    --------------  -----  \n",
      " 0   age                       1614 non-null   int64  \n",
      " 1   attrition                 1614 non-null   object \n",
      " 2   businesstravel            1614 non-null   object \n",
      " 3   dailyrate                 1614 non-null   float64\n",
      " 4   department                1614 non-null   object \n",
      " 5   distancefromhome          1614 non-null   int64  \n",
      " 6   education                 1614 non-null   int64  \n",
      " 7   environmentsatisfaction   1614 non-null   int64  \n",
      " 8   gender                    1614 non-null   object \n",
      " 9   hourlyrate                1614 non-null   float64\n",
      " 10  jobinvolvement            1614 non-null   int64  \n",
      " 11  joblevel                  1614 non-null   int64  \n",
      " 12  jobrole                   1614 non-null   object \n",
      " 13  jobsatisfaction           1614 non-null   int64  \n",
      " 14  maritalstatus             1614 non-null   object \n",
      " 15  monthlyrate               1614 non-null   int64  \n",
      " 16  numcompaniesworked        1614 non-null   int64  \n",
      " 17  overtime                  1614 non-null   object \n",
      " 18  percentsalaryhike         1614 non-null   int64  \n",
      " 19  performancerating         1614 non-null   float64\n",
      " 20  relationshipsatisfaction  1614 non-null   int64  \n",
      " 21  stockoptionlevel          1614 non-null   int64  \n",
      " 22  totalworkingyears         1614 non-null   float64\n",
      " 23  trainingtimeslastyear     1614 non-null   int64  \n",
      " 24  worklifebalance           1614 non-null   float64\n",
      " 25  yearsatcompany            1614 non-null   int64  \n",
      " 26  yearssincelastpromotion   1614 non-null   int64  \n",
      " 27  yearswithcurrmanager      1614 non-null   int64  \n",
      " 28  datebirth                 1614 non-null   int64  \n",
      " 29  remotework                1614 non-null   object \n",
      "dtypes: float64(5), int64(17), object(8)\n",
      "memory usage: 390.9+ KB\n"
     ]
    }
   ],
   "source": [
    "data.info()"
   ]
  },
  {
   "cell_type": "code",
   "execution_count": null,
   "metadata": {},
   "outputs": [],
   "source": []
  }
 ],
 "metadata": {
  "kernelspec": {
   "display_name": "Python 3",
   "language": "python",
   "name": "python3"
  },
  "language_info": {
   "codemirror_mode": {
    "name": "ipython",
    "version": 3
   },
   "file_extension": ".py",
   "mimetype": "text/x-python",
   "name": "python",
   "nbconvert_exporter": "python",
   "pygments_lexer": "ipython3",
   "version": "3.11.7"
  }
 },
 "nbformat": 4,
 "nbformat_minor": 2
}
