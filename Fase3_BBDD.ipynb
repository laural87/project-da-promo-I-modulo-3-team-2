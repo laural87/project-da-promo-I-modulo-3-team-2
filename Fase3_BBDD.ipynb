{
 "cells": [
  {
   "cell_type": "code",
   "execution_count": 14,
   "metadata": {},
   "outputs": [],
   "source": [
    "import mysql.connector\n",
    "from mysql.connector import errorcode\n",
    "import pandas as pd\n",
    "import numpy as np"
   ]
  },
  {
   "cell_type": "code",
   "execution_count": 15,
   "metadata": {},
   "outputs": [],
   "source": [
    "# Leemos el csv para dividirlo en 2 para diseño de la base de \n",
    "\n",
    "datos = pd.read_csv('Datos/datos_empresa_final.csv', index_col=0)\n",
    "\n"
   ]
  },
  {
   "cell_type": "code",
   "execution_count": 16,
   "metadata": {},
   "outputs": [],
   "source": [
    "#Creamos el primer data frame filtrando las columnas de la tabla empleados\n",
    "\n",
    "def dividimos_csv_empleados():\n",
    "\n",
    "       empleados = datos[['age', 'attrition', 'businesstravel', 'dailyrate', 'department',\n",
    "       'distancefromhome', 'education', 'gender',\n",
    "       'hourlyrate',  'joblevel', 'jobrole',\n",
    "       'maritalstatus','monthlyrate',\n",
    "       'numcompaniesworked', 'overtime', 'percentsalaryhike',\n",
    "       'performancerating',  'stockoptionlevel',\n",
    "       'totalworkingyears', 'trainingtimeslastyear', 'worklifebalance',\n",
    "       'yearsatcompany', 'yearssincelastpromotion', 'yearswithcurrmanager',\n",
    "       'datebirth', 'remotework','id_encuesta']]\n",
    "       empleados.to_csv('Datos/empleados.csv')\n",
    "\n",
    "       satisfaccion = datos[['environmentsatisfaction', 'jobinvolvement', 'jobsatisfaction', 'relationshipsatisfaction', 'id_encuesta']]\n",
    "       satisfaccion.to_csv('Datos/satisfaccion.csv')\n",
    "\n",
    "       \n",
    "\n",
    "dividimos_csv_empleados()"
   ]
  },
  {
   "cell_type": "code",
   "execution_count": 18,
   "metadata": {},
   "outputs": [],
   "source": [
    "# This function creates the BDD. It connects to the server and if it works it creates it, if it fails it tells you the failure.\n",
    "def create_bdd():\n",
    "    cnx = mysql.connector.connect(user='root', password='AlumnaAdalab', host='127.0.0.1')\n",
    "    mycursor = cnx.cursor()\n",
    "\n",
    "    try:\n",
    "        mycursor.execute(\"CREATE DATABASE abc_brain_drain\") # Here, the name of the DB is indicated after the CREATE DATABASE operator.\n",
    "        print(\"DATABASE CREATED UNDER THE NAME: abc_brain_drain 🆗\")\n",
    "    except mysql.connector.Error as err:\n",
    "        print(err)\n",
    "        print(\"Error Code:\", err.errno)\n",
    "        print(\"SQLSTATE\", err.sqlstate)\n",
    "        print(\"Message\", err.msg)\n",
    "    finally:\n",
    "        cnx.commit()\n",
    "        mycursor.close()\n",
    "        cnx.close()"
   ]
  },
  {
   "cell_type": "code",
   "execution_count": 19,
   "metadata": {},
   "outputs": [],
   "source": [
    "# This function creates the tables. It connects to the server and if it works it creates it, if it fails it tells you the failure.\n",
    "def create_tables():\n",
    "    cnx = mysql.connector.connect(user='root', password='AlumnaAdalab', host='127.0.0.1', database='abc_brain_drain')\n",
    "    mycursor = cnx.cursor()\n",
    "\n",
    "    # Query list where all tables are created\n",
    "    queries = [\n",
    "        \"\"\"CREATE TABLE empleados (\n",
    "    id_encuesta INT PRIMARY KEY,\n",
    "    age INT,\n",
    "    attrition VARCHAR(100),\n",
    "    dailyrate FLOAT,\n",
    "    businesstravel VARCHAR(100),\n",
    "    department VARCHAR(100),\n",
    "    distancefromhome INT,\n",
    "    education INT,\n",
    "    gender VARCHAR(10),\n",
    "    hourlyrate FLOAT,\n",
    "    joblevel INT,\n",
    "    jobrole VARCHAR(100),\n",
    "    maritalstatus VARCHAR(50),\n",
    "    monthlyrate INT,\n",
    "    numcompaniesworked INT,\n",
    "    overtime VARCHAR(50),\n",
    "    percentsalaryhike INT,\n",
    "    performancerating FLOAT,\n",
    "    stockoptionlevel INT,\n",
    "    totalworkingyears FLOAT,\n",
    "    trainingtimeslastyear INT,\n",
    "    worklifebalance FLOAT,\n",
    "    yearsatcompany INT,\n",
    "    yearssincelastpromotion INT,\n",
    "    yearswithcurrmanager INT,\n",
    "    datebirth YEAR,\n",
    "    remotework VARCHAR(10)\n",
    ");\"\"\",\n",
    "        \"\"\"CREATE TABLE satisfaccion (\n",
    "    id_encuesta INT PRIMARY KEY,\n",
    "    environmentsatisfaction INT,\n",
    "    jobinvolvement INT,\n",
    "    jobsatisfaction INT,\n",
    "    relationshipsatisfaction INT,\n",
    "    FOREIGN KEY (id_encuesta) REFERENCES empleados(id_encuesta)\n",
    ");\"\"\"\n",
    "    ]\n",
    "\n",
    "    # I have created this list of table names so that I can iterate over it and it will print their names appropriately as it makes them.\n",
    "    table_names = [\n",
    "        'empleados',\n",
    "        'satisfaccion'\n",
    "    ]\n",
    "\n",
    "    # The zip is a function that groups lists that have multiple elements into tuples. \n",
    "    # This then allows you to iterate through the names in the print.\n",
    "    for query, table_name in zip(queries, table_names):\n",
    "        try:\n",
    "            mycursor.execute(query) \n",
    "            print(f\"TABLE CREATED UNDER THE NAME: {table_name} 🆗\")\n",
    "        \n",
    "        except mysql.connector.Error as err:\n",
    "            print(err)\n",
    "            print(\"Error Code:\", err.errno)\n",
    "            print(\"SQLSTATE\", err.sqlstate)\n",
    "            print(\"Message\", err.msg)\n",
    "\n",
    "    cnx.commit()\n",
    "    mycursor.close()\n",
    "    cnx.close()"
   ]
  },
  {
   "cell_type": "code",
   "execution_count": 20,
   "metadata": {},
   "outputs": [
    {
     "name": "stdout",
     "output_type": "stream",
     "text": [
      "DATABASE CREATED UNDER THE NAME: abc_brain_drain 🆗\n"
     ]
    }
   ],
   "source": [
    "create_bdd()"
   ]
  },
  {
   "cell_type": "code",
   "execution_count": 21,
   "metadata": {},
   "outputs": [
    {
     "name": "stdout",
     "output_type": "stream",
     "text": [
      "TABLE CREATED UNDER THE NAME: empleados 🆗\n",
      "TABLE CREATED UNDER THE NAME: satisfaccion 🆗\n"
     ]
    }
   ],
   "source": [
    "create_tables()"
   ]
  },
  {
   "cell_type": "code",
   "execution_count": 22,
   "metadata": {},
   "outputs": [],
   "source": [
    "def insert_empleados():\n",
    "    # Connection\n",
    "    cnx = mysql.connector.connect(user='root', password='AlumnaAdalab', host='127.0.0.1', database='abc_brain_drain')\n",
    "\n",
    "    # Cursor creation\n",
    "    mycursor = cnx.cursor()\n",
    "\n",
    "    try: \n",
    "        # Read CSV file\n",
    "        df = pd.read_csv('Datos/empleados.csv') \n",
    "\n",
    "        # SQL to insert data. You must indicate the name of the columns in the first parenthesis and in values enter the number of columns with %s\n",
    "        sql_insert_query = \"\"\" INSERT INTO empleados (age, attrition, businesstravel, dailyrate, department,\n",
    "       distancefromhome, education, gender, hourlyrate, joblevel,\n",
    "       jobrole, maritalstatus, monthlyrate,\n",
    "       numcompaniesworked, overtime, percentsalaryhike,\n",
    "       performancerating, stockoptionlevel, totalworkingyears,\n",
    "       trainingtimeslastyear, worklifebalance, yearsatcompany,\n",
    "       yearssincelastpromotion, yearswithcurrmanager, datebirth,\n",
    "       remotework, id_encuesta) VALUES (%s, %s, %s, %s, %s, %s, %s, %s, %s, %s, %s, %s, %s, %s, %s, %s, %s, %s, %s, %s, %s, %s, %s, %s, %s, %s, %s)\"\"\"\n",
    "\n",
    "        # Iterate over each row of the DataFrame and insert the data for each column.\n",
    "        for _, row in df.iterrows():\n",
    "            mycursor.execute(sql_insert_query, (row['age'], row['attrition'], row['businesstravel'], row['dailyrate'], row['department'],\n",
    "                    row['distancefromhome'], row['education'], row['gender'], row['hourlyrate'], row['joblevel'],\n",
    "                    row['jobrole'], row['maritalstatus'], row['monthlyrate'],\n",
    "                    row['numcompaniesworked'], row['overtime'], row['percentsalaryhike'],\n",
    "                    row['performancerating'], row['stockoptionlevel'], row['totalworkingyears'],\n",
    "                    row['trainingtimeslastyear'], row['worklifebalance'], row['yearsatcompany'],\n",
    "                    row['yearssincelastpromotion'], row['yearswithcurrmanager'], row['datebirth'],\n",
    "                    row['remotework'], row['id_encuesta'] )) \n",
    "\n",
    "        # Confirm changes with commit\n",
    "        cnx.commit() \n",
    "        print(f\"{mycursor.rowcount} registro(s) insertado(s)📝\") \n",
    "\n",
    "    except mysql.connector.Error as err: \n",
    "        print(f\"Error al insertar en la base de datos: {err} ❌\") \n",
    "\n",
    "    finally: \n",
    "        if cnx.is_connected(): \n",
    "            mycursor.close() \n",
    "            cnx.close() \n",
    "            print(\"Conexión a la base de datos cerrada🔚\")"
   ]
  },
  {
   "cell_type": "code",
   "execution_count": 23,
   "metadata": {},
   "outputs": [
    {
     "name": "stdout",
     "output_type": "stream",
     "text": [
      "1 registro(s) insertado(s)📝\n",
      "Conexión a la base de datos cerrada🔚\n"
     ]
    }
   ],
   "source": [
    "insert_empleados()"
   ]
  },
  {
   "cell_type": "code",
   "execution_count": 24,
   "metadata": {},
   "outputs": [
    {
     "name": "stdout",
     "output_type": "stream",
     "text": [
      "1 registro(s) insertado(s)📝\n",
      "Conexión a la base de datos cerrada🔚\n"
     ]
    }
   ],
   "source": [
    "def insertsatisfaction():\n",
    "    # Connection\n",
    "    cnx = mysql.connector.connect(user='root', password='AlumnaAdalab', host='127.0.0.1', database='abc_brain_drain')\n",
    "\n",
    "    # Cursor creation\n",
    "    mycursor = cnx.cursor()\n",
    "\n",
    "    try: \n",
    "        # Read CSV file\n",
    "        df = pd.read_csv('Datos/satisfaccion.csv')\n",
    "\n",
    "        # SQL query to insert data\n",
    "        sql_insert_query = \"\"\" \n",
    "        INSERT INTO satisfaccion (environmentsatisfaction, jobinvolvement, jobsatisfaction, relationshipsatisfaction, id_encuesta) \n",
    "        VALUES (%s, %s, %s, %s, %s)\"\"\"\n",
    "\n",
    "        # Iterate over each row of the DataFrame and insert the data for each column.\n",
    "        for index, row in df.iterrows():\n",
    "            # Convert numpy.int64 to Python int if necessary\n",
    "            data = (\n",
    "                int(row['environmentsatisfaction']),\n",
    "                int(row['jobinvolvement']),\n",
    "                int(row['jobsatisfaction']),\n",
    "                int(row['relationshipsatisfaction']),\n",
    "                int(row['id_encuesta'])\n",
    "            )\n",
    "            mycursor.execute(sql_insert_query, data)\n",
    "\n",
    "        # Confirm changes with commit\n",
    "        cnx.commit()\n",
    "        print(f\"{mycursor.rowcount} registro(s) insertado(s)📝\") \n",
    "\n",
    "    except mysql.connector.Error as err: \n",
    "        print(f\"Error al insertar en la base de datos: {err} ❌\") \n",
    "\n",
    "    finally: \n",
    "        if cnx.is_connected(): \n",
    "            mycursor.close() \n",
    "            cnx.close() \n",
    "            print(\"Conexión a la base de datos cerrada🔚\")\n",
    "\n",
    "\n",
    "insertsatisfaction()"
   ]
  }
 ],
 "metadata": {
  "kernelspec": {
   "display_name": "Python 3",
   "language": "python",
   "name": "python3"
  },
  "language_info": {
   "codemirror_mode": {
    "name": "ipython",
    "version": 3
   },
   "file_extension": ".py",
   "mimetype": "text/x-python",
   "name": "python",
   "nbconvert_exporter": "python",
   "pygments_lexer": "ipython3",
   "version": "3.11.7"
  }
 },
 "nbformat": 4,
 "nbformat_minor": 2
}
