{
 "cells": [
  {
   "cell_type": "code",
   "execution_count": 9,
   "metadata": {},
   "outputs": [],
   "source": [
    "import mysql.connector\n",
    "from mysql.connector import errorcode\n",
    "import pandas as pd\n",
    "import numpy as np"
   ]
  },
  {
   "cell_type": "code",
   "execution_count": 10,
   "metadata": {},
   "outputs": [],
   "source": [
    "# Leemos el csv para dividirlo en 2 para diseño de la base de \n",
    "\n",
    "datos = pd.read_csv('Datos/datos_empresa_final.csv', index_col=0)\n",
    "\n"
   ]
  },
  {
   "cell_type": "code",
   "execution_count": 11,
   "metadata": {},
   "outputs": [],
   "source": [
    "#Creamos el primer data frame filtrando las columnas de la tabla empleados\n",
    "\n",
    "def creamos_csv_empleados():\n",
    "\n",
    "       empleados = datos[['age', 'attrition', 'businesstravel', 'dailyrate', 'department',\n",
    "       'distancefromhome', 'education', 'gender',\n",
    "       'hourlyrate',  'joblevel', 'jobrole',\n",
    "       'maritalstatus','monthlyrate',\n",
    "       'numcompaniesworked', 'overtime', 'percentsalaryhike',\n",
    "       'performancerating',  'stockoptionlevel',\n",
    "       'totalworkingyears', 'trainingtimeslastyear', 'worklifebalance',\n",
    "       'yearsatcompany', 'yearssincelastpromotion', 'yearswithcurrmanager',\n",
    "       'datebirth', 'remotework','id_encuesta']]\n",
    "\n",
    "       empleados.to_csv('Datos/empleados.csv')\n",
    "\n",
    "creamos_csv_empleados()"
   ]
  },
  {
   "cell_type": "code",
   "execution_count": 12,
   "metadata": {},
   "outputs": [],
   "source": [
    "# Creamos el dataframe de satisfacion\n",
    "\n",
    "def creamos_csv_satisfacción():\n",
    "\n",
    "    satisfaccion = datos[['environmentsatisfaction', 'jobinvolvement', 'jobsatisfaction', 'relationshipsatisfaction', 'id_encuesta']]\n",
    "\n",
    "    satisfaccion.to_csv('Datos/satisfaccion.csv')\n",
    "\n",
    "creamos_csv_satisfacción()"
   ]
  },
  {
   "cell_type": "code",
   "execution_count": 17,
   "metadata": {},
   "outputs": [],
   "source": [
    "# This function creates the BDD. It connects to the server and if it works it creates it, if it fails it tells you the failure.\n",
    "def create_bdd():\n",
    "    cnx = mysql.connector.connect(user='root', password='AlumnaAdalab', host='127.0.0.1')\n",
    "    mycursor = cnx.cursor()\n",
    "\n",
    "    try:\n",
    "        mycursor.execute(\"CREATE DATABASE abc_brain_drain\") # Here, the name of the DB is indicated after the CREATE DATABASE operator.\n",
    "        print(\"DATABASE CREATED UNDER THE NAME: abc_brain_drain 🆗\")\n",
    "    except mysql.connector.Error as err:\n",
    "        print(err)\n",
    "        print(\"Error Code:\", err.errno)\n",
    "        print(\"SQLSTATE\", err.sqlstate)\n",
    "        print(\"Message\", err.msg)\n",
    "    finally:\n",
    "        cnx.commit()\n",
    "        mycursor.close()\n",
    "        cnx.close()"
   ]
  },
  {
   "cell_type": "code",
   "execution_count": 19,
   "metadata": {},
   "outputs": [],
   "source": [
    "# This function creates the tables. It connects to the server and if it works it creates it, if it fails it tells you the failure.\n",
    "def create_tables():\n",
    "    cnx = mysql.connector.connect(user='root', password='AlumnaAdalab', host='127.0.0.1', database='abc_brain_drain')\n",
    "    mycursor = cnx.cursor()\n",
    "\n",
    "    # Query list where all tables are created\n",
    "    queries = [\n",
    "        \"\"\"CREATE TABLE empleados (\n",
    "    id_encuesta INT PRIMARY KEY,\n",
    "    age INT,\n",
    "    attrition VARCHAR(100),\n",
    "    dailyrate FLOAT,\n",
    "    businesstravel VARCHAR(100),\n",
    "    department VARCHAR(100),\n",
    "    distancefromhome INT,\n",
    "    education INT,\n",
    "    gender VARCHAR(10),\n",
    "    hourlyrate FLOAT,\n",
    "    joblevel INT,\n",
    "    jobrole VARCHAR(100),\n",
    "    maritalstatus VARCHAR(50),\n",
    "    monthlyrate INT,\n",
    "    numcompaniesworked INT,\n",
    "    overtime VARCHAR(50),\n",
    "    percentsalaryhike INT,\n",
    "    performancerating FLOAT,\n",
    "    stockoptionlevel INT,\n",
    "    totalworkingyears FLOAT,\n",
    "    trainingtimeslastyear INT,\n",
    "    worklifebalance FLOAT,\n",
    "    yearsatcompany INT,\n",
    "    yearssincelastpromotion INT,\n",
    "    yearswithcurrmanager INT,\n",
    "    datebirth YEAR,\n",
    "    remotework VARCHAR(10)\n",
    ");\"\"\",\n",
    "        \"\"\"CREATE TABLE satisfaccion (\n",
    "    id_encuesta INT PRIMARY KEY,\n",
    "    environmentsatisfaction INT,\n",
    "    jobinvolvement INT,\n",
    "    jobsatisfaction INT,\n",
    "    relationshipsatisfaction INT,\n",
    "    FOREIGN KEY (id_encuesta) REFERENCES empleados(id_encuesta)\n",
    ");\"\"\"\n",
    "    ]\n",
    "\n",
    "    # I have created this list of table names so that I can iterate over it and it will print their names appropriately as it makes them.\n",
    "    table_names = [\n",
    "        'empleados',\n",
    "        'satisfaccion'\n",
    "    ]\n",
    "\n",
    "    # The zip is a function that groups lists that have multiple elements into tuples. \n",
    "    # This then allows you to iterate through the names in the print.\n",
    "    for query, table_name in zip(queries, table_names):\n",
    "        try:\n",
    "            mycursor.execute(query) \n",
    "            print(f\"TABLE CREATED UNDER THE NAME: {table_name} 🆗\")\n",
    "        \n",
    "        except mysql.connector.Error as err:\n",
    "            print(err)\n",
    "            print(\"Error Code:\", err.errno)\n",
    "            print(\"SQLSTATE\", err.sqlstate)\n",
    "            print(\"Message\", err.msg)\n",
    "\n",
    "    cnx.commit()\n",
    "    mycursor.close()\n",
    "    cnx.close()"
   ]
  },
  {
   "cell_type": "code",
   "execution_count": 20,
   "metadata": {},
   "outputs": [
    {
     "ename": "DatabaseError",
     "evalue": "2003 (HY000): Can't connect to MySQL server on '127.0.0.1:3306' (111)",
     "output_type": "error",
     "traceback": [
      "\u001b[0;31m---------------------------------------------------------------------------\u001b[0m",
      "\u001b[0;31mMySQLInterfaceError\u001b[0m                       Traceback (most recent call last)",
      "File \u001b[0;32m~/anaconda3/lib/python3.11/site-packages/mysql/connector/connection_cext.py:334\u001b[0m, in \u001b[0;36mCMySQLConnection._open_connection\u001b[0;34m(self)\u001b[0m\n\u001b[1;32m    333\u001b[0m \u001b[38;5;28;01mtry\u001b[39;00m:\n\u001b[0;32m--> 334\u001b[0m     \u001b[38;5;28mself\u001b[39m\u001b[38;5;241m.\u001b[39m_cmysql\u001b[38;5;241m.\u001b[39mconnect(\u001b[38;5;241m*\u001b[39m\u001b[38;5;241m*\u001b[39mcnx_kwargs)\n\u001b[1;32m    335\u001b[0m     \u001b[38;5;28mself\u001b[39m\u001b[38;5;241m.\u001b[39m_cmysql\u001b[38;5;241m.\u001b[39mconverter_str_fallback \u001b[38;5;241m=\u001b[39m \u001b[38;5;28mself\u001b[39m\u001b[38;5;241m.\u001b[39m_converter_str_fallback\n",
      "\u001b[0;31mMySQLInterfaceError\u001b[0m: Can't connect to MySQL server on '127.0.0.1:3306' (111)",
      "\nThe above exception was the direct cause of the following exception:\n",
      "\u001b[0;31mDatabaseError\u001b[0m                             Traceback (most recent call last)",
      "Cell \u001b[0;32mIn[20], line 1\u001b[0m\n\u001b[0;32m----> 1\u001b[0m create_bdd()\n",
      "Cell \u001b[0;32mIn[17], line 3\u001b[0m, in \u001b[0;36mcreate_bdd\u001b[0;34m()\u001b[0m\n\u001b[1;32m      2\u001b[0m \u001b[38;5;28;01mdef\u001b[39;00m \u001b[38;5;21mcreate_bdd\u001b[39m():\n\u001b[0;32m----> 3\u001b[0m     cnx \u001b[38;5;241m=\u001b[39m mysql\u001b[38;5;241m.\u001b[39mconnector\u001b[38;5;241m.\u001b[39mconnect(user\u001b[38;5;241m=\u001b[39m\u001b[38;5;124m'\u001b[39m\u001b[38;5;124mroot\u001b[39m\u001b[38;5;124m'\u001b[39m, password\u001b[38;5;241m=\u001b[39m\u001b[38;5;124m'\u001b[39m\u001b[38;5;124mAlumnaAdalab\u001b[39m\u001b[38;5;124m'\u001b[39m, host\u001b[38;5;241m=\u001b[39m\u001b[38;5;124m'\u001b[39m\u001b[38;5;124m127.0.0.1\u001b[39m\u001b[38;5;124m'\u001b[39m)\n\u001b[1;32m      4\u001b[0m     mycursor \u001b[38;5;241m=\u001b[39m cnx\u001b[38;5;241m.\u001b[39mcursor()\n\u001b[1;32m      6\u001b[0m     \u001b[38;5;28;01mtry\u001b[39;00m:\n",
      "File \u001b[0;32m~/anaconda3/lib/python3.11/site-packages/mysql/connector/pooling.py:322\u001b[0m, in \u001b[0;36mconnect\u001b[0;34m(*args, **kwargs)\u001b[0m\n\u001b[1;32m    319\u001b[0m         \u001b[38;5;28;01mraise\u001b[39;00m \u001b[38;5;167;01mImportError\u001b[39;00m(ERROR_NO_CEXT)\n\u001b[1;32m    321\u001b[0m \u001b[38;5;28;01mif\u001b[39;00m CMySQLConnection \u001b[38;5;129;01mand\u001b[39;00m \u001b[38;5;129;01mnot\u001b[39;00m use_pure:\n\u001b[0;32m--> 322\u001b[0m     \u001b[38;5;28;01mreturn\u001b[39;00m CMySQLConnection(\u001b[38;5;241m*\u001b[39margs, \u001b[38;5;241m*\u001b[39m\u001b[38;5;241m*\u001b[39mkwargs)\n\u001b[1;32m    323\u001b[0m \u001b[38;5;28;01mreturn\u001b[39;00m MySQLConnection(\u001b[38;5;241m*\u001b[39margs, \u001b[38;5;241m*\u001b[39m\u001b[38;5;241m*\u001b[39mkwargs)\n",
      "File \u001b[0;32m~/anaconda3/lib/python3.11/site-packages/mysql/connector/connection_cext.py:151\u001b[0m, in \u001b[0;36mCMySQLConnection.__init__\u001b[0;34m(self, **kwargs)\u001b[0m\n\u001b[1;32m    149\u001b[0m \u001b[38;5;28;01mif\u001b[39;00m kwargs:\n\u001b[1;32m    150\u001b[0m     \u001b[38;5;28;01mtry\u001b[39;00m:\n\u001b[0;32m--> 151\u001b[0m         \u001b[38;5;28mself\u001b[39m\u001b[38;5;241m.\u001b[39mconnect(\u001b[38;5;241m*\u001b[39m\u001b[38;5;241m*\u001b[39mkwargs)\n\u001b[1;32m    152\u001b[0m     \u001b[38;5;28;01mexcept\u001b[39;00m \u001b[38;5;167;01mException\u001b[39;00m:\n\u001b[1;32m    153\u001b[0m         \u001b[38;5;28mself\u001b[39m\u001b[38;5;241m.\u001b[39mclose()\n",
      "File \u001b[0;32m~/anaconda3/lib/python3.11/site-packages/mysql/connector/abstracts.py:1399\u001b[0m, in \u001b[0;36mMySQLConnectionAbstract.connect\u001b[0;34m(self, **kwargs)\u001b[0m\n\u001b[1;32m   1396\u001b[0m     \u001b[38;5;28mself\u001b[39m\u001b[38;5;241m.\u001b[39mconfig(\u001b[38;5;241m*\u001b[39m\u001b[38;5;241m*\u001b[39mkwargs)\n\u001b[1;32m   1398\u001b[0m \u001b[38;5;28mself\u001b[39m\u001b[38;5;241m.\u001b[39mdisconnect()\n\u001b[0;32m-> 1399\u001b[0m \u001b[38;5;28mself\u001b[39m\u001b[38;5;241m.\u001b[39m_open_connection()\n\u001b[1;32m   1401\u001b[0m charset, collation \u001b[38;5;241m=\u001b[39m (\n\u001b[1;32m   1402\u001b[0m     kwargs\u001b[38;5;241m.\u001b[39mpop(\u001b[38;5;124m\"\u001b[39m\u001b[38;5;124mcharset\u001b[39m\u001b[38;5;124m\"\u001b[39m, \u001b[38;5;28;01mNone\u001b[39;00m),\n\u001b[1;32m   1403\u001b[0m     kwargs\u001b[38;5;241m.\u001b[39mpop(\u001b[38;5;124m\"\u001b[39m\u001b[38;5;124mcollation\u001b[39m\u001b[38;5;124m\"\u001b[39m, \u001b[38;5;28;01mNone\u001b[39;00m),\n\u001b[1;32m   1404\u001b[0m )\n\u001b[1;32m   1405\u001b[0m \u001b[38;5;28;01mif\u001b[39;00m charset \u001b[38;5;129;01mor\u001b[39;00m collation:\n",
      "File \u001b[0;32m~/anaconda3/lib/python3.11/site-packages/mysql/connector/connection_cext.py:339\u001b[0m, in \u001b[0;36mCMySQLConnection._open_connection\u001b[0;34m(self)\u001b[0m\n\u001b[1;32m    337\u001b[0m         \u001b[38;5;28mself\u001b[39m\u001b[38;5;241m.\u001b[39mconverter\u001b[38;5;241m.\u001b[39mstr_fallback \u001b[38;5;241m=\u001b[39m \u001b[38;5;28mself\u001b[39m\u001b[38;5;241m.\u001b[39m_converter_str_fallback\n\u001b[1;32m    338\u001b[0m \u001b[38;5;28;01mexcept\u001b[39;00m MySQLInterfaceError \u001b[38;5;28;01mas\u001b[39;00m err:\n\u001b[0;32m--> 339\u001b[0m     \u001b[38;5;28;01mraise\u001b[39;00m get_mysql_exception(\n\u001b[1;32m    340\u001b[0m         msg\u001b[38;5;241m=\u001b[39merr\u001b[38;5;241m.\u001b[39mmsg, errno\u001b[38;5;241m=\u001b[39merr\u001b[38;5;241m.\u001b[39merrno, sqlstate\u001b[38;5;241m=\u001b[39merr\u001b[38;5;241m.\u001b[39msqlstate\n\u001b[1;32m    341\u001b[0m     ) \u001b[38;5;28;01mfrom\u001b[39;00m \u001b[38;5;21;01merr\u001b[39;00m\n\u001b[1;32m    343\u001b[0m \u001b[38;5;28mself\u001b[39m\u001b[38;5;241m.\u001b[39m_do_handshake()\n\u001b[1;32m    345\u001b[0m \u001b[38;5;28;01mif\u001b[39;00m (\n\u001b[1;32m    346\u001b[0m     \u001b[38;5;129;01mnot\u001b[39;00m \u001b[38;5;28mself\u001b[39m\u001b[38;5;241m.\u001b[39m_ssl_disabled\n\u001b[1;32m    347\u001b[0m     \u001b[38;5;129;01mand\u001b[39;00m \u001b[38;5;28mhasattr\u001b[39m(\u001b[38;5;28mself\u001b[39m\u001b[38;5;241m.\u001b[39m_cmysql, \u001b[38;5;124m\"\u001b[39m\u001b[38;5;124mget_ssl_cipher\u001b[39m\u001b[38;5;124m\"\u001b[39m)\n\u001b[0;32m   (...)\u001b[0m\n\u001b[1;32m    352\u001b[0m \n\u001b[1;32m    353\u001b[0m     \u001b[38;5;66;03m# `get_ssl_cipher()` returns the name of the cipher being used.\u001b[39;00m\n",
      "\u001b[0;31mDatabaseError\u001b[0m: 2003 (HY000): Can't connect to MySQL server on '127.0.0.1:3306' (111)"
     ]
    }
   ],
   "source": [
    "create_bdd()"
   ]
  },
  {
   "cell_type": "code",
   "execution_count": 10,
   "metadata": {},
   "outputs": [
    {
     "name": "stdout",
     "output_type": "stream",
     "text": [
      "TABLE CREATED UNDER THE NAME: empleados 🆗\n",
      "TABLE CREATED UNDER THE NAME: satisfaccion 🆗\n"
     ]
    }
   ],
   "source": [
    "create_tables()"
   ]
  },
  {
   "cell_type": "code",
   "execution_count": 11,
   "metadata": {},
   "outputs": [],
   "source": [
    "def insert_empleados():\n",
    "    # Connection\n",
    "    cnx = mysql.connector.connect(user='root', password='AlumnaAdalab', host='127.0.0.1', database='abc_brain_drain')\n",
    "\n",
    "    # Cursor creation\n",
    "    mycursor = cnx.cursor()\n",
    "\n",
    "    try: \n",
    "        # Read CSV file\n",
    "        df = pd.read_csv('Datos/empleados.csv') \n",
    "\n",
    "        # SQL to insert data. You must indicate the name of the columns in the first parenthesis and in values enter the number of columns with %s\n",
    "        sql_insert_query = \"\"\" INSERT INTO empleados (age, attrition, businesstravel, dailyrate, department,\n",
    "       distancefromhome, education, gender, hourlyrate, joblevel,\n",
    "       jobrole, maritalstatus, monthlyrate,\n",
    "       numcompaniesworked, overtime, percentsalaryhike,\n",
    "       performancerating, stockoptionlevel, totalworkingyears,\n",
    "       trainingtimeslastyear, worklifebalance, yearsatcompany,\n",
    "       yearssincelastpromotion, yearswithcurrmanager, datebirth,\n",
    "       remotework, id_encuesta) VALUES (%s, %s, %s, %s, %s, %s, %s, %s, %s, %s, %s, %s, %s, %s, %s, %s, %s, %s, %s, %s, %s, %s, %s, %s, %s, %s, %s)\"\"\"\n",
    "\n",
    "        # Iterate over each row of the DataFrame and insert the data for each column.\n",
    "        for _, row in df.iterrows():\n",
    "            mycursor.execute(sql_insert_query, (row['age'], row['attrition'], row['businesstravel'], row['dailyrate'], row['department'],\n",
    "                    row['distancefromhome'], row['education'], row['gender'], row['hourlyrate'], row['joblevel'],\n",
    "                    row['jobrole'], row['maritalstatus'], row['monthlyrate'],\n",
    "                    row['numcompaniesworked'], row['overtime'], row['percentsalaryhike'],\n",
    "                    row['performancerating'], row['stockoptionlevel'], row['totalworkingyears'],\n",
    "                    row['trainingtimeslastyear'], row['worklifebalance'], row['yearsatcompany'],\n",
    "                    row['yearssincelastpromotion'], row['yearswithcurrmanager'], row['datebirth'],\n",
    "                    row['remotework'], row['id_encuesta'] )) \n",
    "\n",
    "        # Confirm changes with commit\n",
    "        cnx.commit() \n",
    "        print(f\"{mycursor.rowcount} registro(s) insertado(s)📝\") \n",
    "\n",
    "    except mysql.connector.Error as err: \n",
    "        print(f\"Error al insertar en la base de datos: {err} ❌\") \n",
    "\n",
    "    finally: \n",
    "        if cnx.is_connected(): \n",
    "            mycursor.close() \n",
    "            cnx.close() \n",
    "            print(\"Conexión a la base de datos cerrada🔚\")"
   ]
  },
  {
   "cell_type": "code",
   "execution_count": 12,
   "metadata": {},
   "outputs": [
    {
     "name": "stdout",
     "output_type": "stream",
     "text": [
      "1 registro(s) insertado(s)📝\n",
      "Conexión a la base de datos cerrada🔚\n"
     ]
    }
   ],
   "source": [
    "insert_empleados()"
   ]
  },
  {
   "cell_type": "code",
   "execution_count": 13,
   "metadata": {},
   "outputs": [],
   "source": [
    "def insert_satisfaction():\n",
    "    # Connection\n",
    "    cnx = mysql.connector.connect(user='root', password='AlumnaAdalab', host='127.0.0.1', database='abc_brain_drain')\n",
    "\n",
    "    # Cursor creation\n",
    "    mycursor = cnx.cursor()\n",
    "\n",
    "    try: \n",
    "        # Read CSV file\n",
    "        df = pd.read_csv('Datos/satisfaccion.csv') \n",
    "        \n",
    "        # SQL to insert data. You must indicate the name of the columns in the first parenthesis and in values enter the number of columns with %s\n",
    "        sql_insert_query = \"\"\" INSERT INTO satisfaccion (environmentsatisfaction, jobinvolvement, jobsatisfaction, relationshipsatisfaction, id_encuesta) \n",
    "        VALUES (%s, %s, %s, %s, %s)\"\"\"\n",
    "\n",
    "        # Iterate over each row of the DataFrame and insert the data for each column.\n",
    "        for _, row in df.iterrows():\n",
    "            mycursor.execute(sql_insert_query, (row['environmentsatisfaction'], row['jobinvolvement'], row['jobsatisfaction'], row['relationshipsatisfaction'], row['id_encuesta'] )) \n",
    "\n",
    "        # Confirm changes with commit\n",
    "        cnx.commit() \n",
    "        print(f\"{mycursor.rowcount} registro(s) insertado(s)📝\") \n",
    "\n",
    "    except mysql.connector.Error as err: \n",
    "        print(f\"Error al insertar en la base de datos: {err} ❌\") \n",
    "\n",
    "    finally: \n",
    "        if cnx.is_connected(): \n",
    "            mycursor.close() \n",
    "            cnx.close() \n",
    "            print(\"Conexión a la base de datos cerrada🔚\")"
   ]
  },
  {
   "cell_type": "code",
   "execution_count": 16,
   "metadata": {},
   "outputs": [],
   "source": [
    "# No borrar para comentarlo con César\n",
    "# insert_satisfaction() "
   ]
  },
  {
   "cell_type": "code",
   "execution_count": 15,
   "metadata": {},
   "outputs": [
    {
     "name": "stdout",
     "output_type": "stream",
     "text": [
      "1 registro(s) insertado(s)📝\n",
      "Conexión a la base de datos cerrada🔚\n"
     ]
    }
   ],
   "source": [
    "def insertsatisfaction():\n",
    "    # Connection\n",
    "    cnx = mysql.connector.connect(user='root', password='AlumnaAdalab', host='127.0.0.1', database='abc_brain_drain')\n",
    "\n",
    "    # Cursor creation\n",
    "    mycursor = cnx.cursor()\n",
    "\n",
    "    try: \n",
    "        # Read CSV file\n",
    "        df = pd.read_csv('Datos/satisfaccion.csv')\n",
    "\n",
    "        # SQL query to insert data\n",
    "        sql_insert_query = \"\"\" \n",
    "        INSERT INTO satisfaccion (environmentsatisfaction, jobinvolvement, jobsatisfaction, relationshipsatisfaction, id_encuesta) \n",
    "        VALUES (%s, %s, %s, %s, %s)\"\"\"\n",
    "\n",
    "        # Iterate over each row of the DataFrame and insert the data for each column.\n",
    "        for index, row in df.iterrows():\n",
    "            # Convert numpy.int64 to Python int if necessary\n",
    "            data = (\n",
    "                int(row['environmentsatisfaction']),\n",
    "                int(row['jobinvolvement']),\n",
    "                int(row['jobsatisfaction']),\n",
    "                int(row['relationshipsatisfaction']),\n",
    "                int(row['id_encuesta'])\n",
    "            )\n",
    "            mycursor.execute(sql_insert_query, data)\n",
    "\n",
    "        # Confirm changes with commit\n",
    "        cnx.commit()\n",
    "        print(f\"{mycursor.rowcount} registro(s) insertado(s)📝\") \n",
    "\n",
    "    except mysql.connector.Error as err: \n",
    "        print(f\"Error al insertar en la base de datos: {err} ❌\") \n",
    "\n",
    "    finally: \n",
    "        if cnx.is_connected(): \n",
    "            mycursor.close() \n",
    "            cnx.close() \n",
    "            print(\"Conexión a la base de datos cerrada🔚\")\n",
    "\n",
    "\n",
    "insertsatisfaction()"
   ]
  }
 ],
 "metadata": {
  "kernelspec": {
   "display_name": "Python 3",
   "language": "python",
   "name": "python3"
  },
  "language_info": {
   "codemirror_mode": {
    "name": "ipython",
    "version": 3
   },
   "file_extension": ".py",
   "mimetype": "text/x-python",
   "name": "python",
   "nbconvert_exporter": "python",
   "pygments_lexer": "ipython3",
   "version": "3.11.7"
  }
 },
 "nbformat": 4,
 "nbformat_minor": 2
}
