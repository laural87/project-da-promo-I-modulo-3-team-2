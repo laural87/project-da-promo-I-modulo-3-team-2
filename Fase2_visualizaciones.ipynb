{
 "cells": [
  {
   "cell_type": "code",
   "execution_count": 1,
   "metadata": {},
   "outputs": [],
   "source": [
    "import pandas as pd\n",
    "import numpy as np\n",
    "\n",
    "import matplotlib.pyplot as plt\n",
    "import seaborn as sns\n",
    "\n",
    "from scipy.stats import shapiro, kstest\n",
    "\n",
    "pd.set_option('display.max_columns', None) \n",
    "\n",
    "import warnings\n",
    "warnings.filterwarnings(\"ignore\")"
   ]
  },
  {
   "cell_type": "code",
   "execution_count": 20,
   "metadata": {},
   "outputs": [
    {
     "data": {
      "text/html": [
       "<div>\n",
       "<style scoped>\n",
       "    .dataframe tbody tr th:only-of-type {\n",
       "        vertical-align: middle;\n",
       "    }\n",
       "\n",
       "    .dataframe tbody tr th {\n",
       "        vertical-align: top;\n",
       "    }\n",
       "\n",
       "    .dataframe thead th {\n",
       "        text-align: right;\n",
       "    }\n",
       "</style>\n",
       "<table border=\"1\" class=\"dataframe\">\n",
       "  <thead>\n",
       "    <tr style=\"text-align: right;\">\n",
       "      <th></th>\n",
       "      <th>age</th>\n",
       "      <th>attrition</th>\n",
       "      <th>businesstravel</th>\n",
       "      <th>dailyrate</th>\n",
       "      <th>department</th>\n",
       "      <th>distancefromhome</th>\n",
       "      <th>education</th>\n",
       "      <th>environmentsatisfaction</th>\n",
       "      <th>gender</th>\n",
       "      <th>hourlyrate</th>\n",
       "      <th>jobinvolvement</th>\n",
       "      <th>joblevel</th>\n",
       "      <th>jobrole</th>\n",
       "      <th>jobsatisfaction</th>\n",
       "      <th>maritalstatus</th>\n",
       "      <th>monthlyrate</th>\n",
       "      <th>numcompaniesworked</th>\n",
       "      <th>overtime</th>\n",
       "      <th>percentsalaryhike</th>\n",
       "      <th>performancerating</th>\n",
       "      <th>relationshipsatisfaction</th>\n",
       "      <th>stockoptionlevel</th>\n",
       "      <th>totalworkingyears</th>\n",
       "      <th>trainingtimeslastyear</th>\n",
       "      <th>worklifebalance</th>\n",
       "      <th>yearsatcompany</th>\n",
       "      <th>yearssincelastpromotion</th>\n",
       "      <th>yearswithcurrmanager</th>\n",
       "      <th>datebirth</th>\n",
       "      <th>remotework</th>\n",
       "      <th>id_encuesta</th>\n",
       "    </tr>\n",
       "  </thead>\n",
       "  <tbody>\n",
       "    <tr>\n",
       "      <th>20</th>\n",
       "      <td>45</td>\n",
       "      <td>No</td>\n",
       "      <td>Non travel</td>\n",
       "      <td>1238.0</td>\n",
       "      <td>Research &amp; development</td>\n",
       "      <td>1</td>\n",
       "      <td>1</td>\n",
       "      <td>3</td>\n",
       "      <td>M</td>\n",
       "      <td>74.0</td>\n",
       "      <td>2</td>\n",
       "      <td>3</td>\n",
       "      <td>Healthcare representative</td>\n",
       "      <td>3</td>\n",
       "      <td>Other</td>\n",
       "      <td>3395</td>\n",
       "      <td>3</td>\n",
       "      <td>No</td>\n",
       "      <td>23</td>\n",
       "      <td>4.0</td>\n",
       "      <td>4</td>\n",
       "      <td>1</td>\n",
       "      <td>25.0</td>\n",
       "      <td>3</td>\n",
       "      <td>2.0</td>\n",
       "      <td>23</td>\n",
       "      <td>14</td>\n",
       "      <td>4</td>\n",
       "      <td>1978</td>\n",
       "      <td>No</td>\n",
       "      <td>21</td>\n",
       "    </tr>\n",
       "    <tr>\n",
       "      <th>129</th>\n",
       "      <td>52</td>\n",
       "      <td>No</td>\n",
       "      <td>Travel rarely</td>\n",
       "      <td>956.0</td>\n",
       "      <td>Unknown</td>\n",
       "      <td>6</td>\n",
       "      <td>2</td>\n",
       "      <td>4</td>\n",
       "      <td>M</td>\n",
       "      <td>78.0</td>\n",
       "      <td>3</td>\n",
       "      <td>2</td>\n",
       "      <td>Research scientist</td>\n",
       "      <td>1</td>\n",
       "      <td>Divorced</td>\n",
       "      <td>22087</td>\n",
       "      <td>3</td>\n",
       "      <td>Yes</td>\n",
       "      <td>12</td>\n",
       "      <td>0.0</td>\n",
       "      <td>2</td>\n",
       "      <td>2</td>\n",
       "      <td>18.0</td>\n",
       "      <td>3</td>\n",
       "      <td>3.0</td>\n",
       "      <td>10</td>\n",
       "      <td>6</td>\n",
       "      <td>9</td>\n",
       "      <td>1971</td>\n",
       "      <td>Yes</td>\n",
       "      <td>130</td>\n",
       "    </tr>\n",
       "    <tr>\n",
       "      <th>1408</th>\n",
       "      <td>35</td>\n",
       "      <td>No</td>\n",
       "      <td>Travel rarely</td>\n",
       "      <td>992.0</td>\n",
       "      <td>Unknown</td>\n",
       "      <td>1</td>\n",
       "      <td>3</td>\n",
       "      <td>4</td>\n",
       "      <td>M</td>\n",
       "      <td>68.0</td>\n",
       "      <td>2</td>\n",
       "      <td>1</td>\n",
       "      <td>Laboratory technician</td>\n",
       "      <td>1</td>\n",
       "      <td>Other</td>\n",
       "      <td>21731</td>\n",
       "      <td>1</td>\n",
       "      <td>No</td>\n",
       "      <td>19</td>\n",
       "      <td>3.0</td>\n",
       "      <td>2</td>\n",
       "      <td>0</td>\n",
       "      <td>10.0</td>\n",
       "      <td>3</td>\n",
       "      <td>3.0</td>\n",
       "      <td>3</td>\n",
       "      <td>1</td>\n",
       "      <td>2</td>\n",
       "      <td>1988</td>\n",
       "      <td>No</td>\n",
       "      <td>1409</td>\n",
       "    </tr>\n",
       "  </tbody>\n",
       "</table>\n",
       "</div>"
      ],
      "text/plain": [
       "      age attrition businesstravel  dailyrate              department  \\\n",
       "20     45        No     Non travel     1238.0  Research & development   \n",
       "129    52        No  Travel rarely      956.0                 Unknown   \n",
       "1408   35        No  Travel rarely      992.0                 Unknown   \n",
       "\n",
       "      distancefromhome  education  environmentsatisfaction gender  hourlyrate  \\\n",
       "20                   1          1                        3      M        74.0   \n",
       "129                  6          2                        4      M        78.0   \n",
       "1408                 1          3                        4      M        68.0   \n",
       "\n",
       "      jobinvolvement  joblevel                    jobrole  jobsatisfaction  \\\n",
       "20                 2         3  Healthcare representative                3   \n",
       "129                3         2         Research scientist                1   \n",
       "1408               2         1      Laboratory technician                1   \n",
       "\n",
       "     maritalstatus  monthlyrate  numcompaniesworked overtime  \\\n",
       "20           Other         3395                   3       No   \n",
       "129       Divorced        22087                   3      Yes   \n",
       "1408         Other        21731                   1       No   \n",
       "\n",
       "      percentsalaryhike  performancerating  relationshipsatisfaction  \\\n",
       "20                   23                4.0                         4   \n",
       "129                  12                0.0                         2   \n",
       "1408                 19                3.0                         2   \n",
       "\n",
       "      stockoptionlevel  totalworkingyears  trainingtimeslastyear  \\\n",
       "20                   1               25.0                      3   \n",
       "129                  2               18.0                      3   \n",
       "1408                 0               10.0                      3   \n",
       "\n",
       "      worklifebalance  yearsatcompany  yearssincelastpromotion  \\\n",
       "20                2.0              23                       14   \n",
       "129               3.0              10                        6   \n",
       "1408              3.0               3                        1   \n",
       "\n",
       "      yearswithcurrmanager  datebirth remotework  id_encuesta  \n",
       "20                       4       1978         No           21  \n",
       "129                      9       1971        Yes          130  \n",
       "1408                     2       1988         No         1409  "
      ]
     },
     "execution_count": 20,
     "metadata": {},
     "output_type": "execute_result"
    }
   ],
   "source": [
    "datos = pd.read_csv('Datos/datos_empresa_final.csv', index_col=0)\n",
    "datos.sample(3)"
   ]
  },
  {
   "cell_type": "code",
   "execution_count": 41,
   "metadata": {},
   "outputs": [
    {
     "data": {
      "image/png": "[encoded data removed]",
      "text/plain": [
       "<Figure size 800x600 with 1 Axes>"
      ]
     },
     "metadata": {},
     "output_type": "display_data"
    }
   ],
   "source": [
    "# Cómo estamos haciendo un estudio sobre la gente que se marcha de la empresa, queremos primero visualizar la columna de 'attrition'\n",
    "# Para variables categóricas (como niveles educativos, estados, etc.) usaremos un 'countplot()'\n",
    "# Este gráfico de barras mostrará la frecuencia de cada nivel educativo y resaltará cuál es el más común (la moda).\n",
    "\n",
    "plt.figure(figsize=(8, 6))\n",
    "sns.countplot(x='attrition', \n",
    "              data=datos, \n",
    "              palette='Set1')\n",
    "plt.xlabel('Nivel de Renuncias')\n",
    "plt.ylabel('Frecuencia')\n",
    "plt.title('Moda de Nivel de Renuncias')\n",
    "plt.xticks(rotation=90);"
   ]
  },
  {
   "cell_type": "code",
   "execution_count": 22,
   "metadata": {},
   "outputs": [
    {
     "data": {
      "text/html": [
       "<div>\n",
       "<style scoped>\n",
       "    .dataframe tbody tr th:only-of-type {\n",
       "        vertical-align: middle;\n",
       "    }\n",
       "\n",
       "    .dataframe tbody tr th {\n",
       "        vertical-align: top;\n",
       "    }\n",
       "\n",
       "    .dataframe thead th {\n",
       "        text-align: right;\n",
       "    }\n",
       "</style>\n",
       "<table border=\"1\" class=\"dataframe\">\n",
       "  <thead>\n",
       "    <tr style=\"text-align: right;\">\n",
       "      <th></th>\n",
       "      <th>attrition</th>\n",
       "      <th>id_encuesta</th>\n",
       "    </tr>\n",
       "  </thead>\n",
       "  <tbody>\n",
       "    <tr>\n",
       "      <th>0</th>\n",
       "      <td>No</td>\n",
       "      <td>1355</td>\n",
       "    </tr>\n",
       "    <tr>\n",
       "      <th>1</th>\n",
       "      <td>Yes</td>\n",
       "      <td>259</td>\n",
       "    </tr>\n",
       "  </tbody>\n",
       "</table>\n",
       "</div>"
      ],
      "text/plain": [
       "  attrition  id_encuesta\n",
       "0        No         1355\n",
       "1       Yes          259"
      ]
     },
     "execution_count": 22,
     "metadata": {},
     "output_type": "execute_result"
    }
   ],
   "source": [
    "# Vemos que el nivel de renuncias de los encuestados es bajo pero queremos ver su %. Primero contaremos las respuestas haciendo un dataframe nuevo.\n",
    "df_attrition = datos.groupby(\"attrition\")[\"id_encuesta\"].count().reset_index()\n",
    "df_attrition"
   ]
  },
  {
   "cell_type": "code",
   "execution_count": 38,
   "metadata": {},
   "outputs": [
    {
     "data": {
      "image/png": "[encoded data removed]",
      "text/plain": [
       "<Figure size 640x480 with 1 Axes>"
      ]
     },
     "metadata": {},
     "output_type": "display_data"
    }
   ],
   "source": [
    "colores = [\"darkcyan\", \"tomato\"]\n",
    "\n",
    "# creamos el gráfico de quesito para ver los porcentajes.\n",
    "plt.pie(\"id_encuesta\",\n",
    "        labels = \"attrition\",\n",
    "        data = df_attrition, \n",
    "        autopct =  '%1.1f%%', \n",
    "        colors = colores, \n",
    "        textprops={'fontsize': 8}, \n",
    "        startangle=90);"
   ]
  },
  {
   "cell_type": "markdown",
   "metadata": {},
   "source": [
    "Podemos ver que tenemos un 16% de gente que se \"fuga\" en la empresa."
   ]
  },
  {
   "cell_type": "code",
   "execution_count": 43,
   "metadata": {},
   "outputs": [
    {
     "data": {
      "image/png": "[encoded data removed]",
      "text/plain": [
       "<Figure size 1000x600 with 1 Axes>"
      ]
     },
     "metadata": {},
     "output_type": "display_data"
    }
   ],
   "source": [
    "# Queremos ver si hay una relación con la edad con esta cantidad de renuncias. Lo veremos con un boxplot\n",
    "\n",
    "plt.figure(figsize=(10, 6))\n",
    "sns.boxplot(x='attrition', y='age', data=datos, palette='Set3')\n",
    "\n",
    "plt.title('Distribución de Edad por Renuncias')\n",
    "plt.xlabel('Renuncia')\n",
    "plt.ylabel('Edad')\n",
    "plt.show()"
   ]
  },
  {
   "cell_type": "code",
   "execution_count": 49,
   "metadata": {},
   "outputs": [
    {
     "data": {
      "text/plain": [
       "count    1614.000000\n",
       "mean       36.926890\n",
       "std         9.098121\n",
       "min        18.000000\n",
       "25%        30.000000\n",
       "50%        36.000000\n",
       "75%        43.000000\n",
       "max        60.000000\n",
       "Name: age, dtype: float64"
      ]
     },
     "execution_count": 49,
     "metadata": {},
     "output_type": "execute_result"
    }
   ],
   "source": [
    "# Vamos a sacar la mediana y media de ambos datos.\n",
    "\n",
    "datos['age'].describe()"
   ]
  },
  {
   "cell_type": "code",
   "execution_count": 51,
   "metadata": {},
   "outputs": [
    {
     "data": {
      "text/plain": [
       "count     1614\n",
       "unique       2\n",
       "top         No\n",
       "freq      1355\n",
       "Name: attrition, dtype: object"
      ]
     },
     "execution_count": 51,
     "metadata": {},
     "output_type": "execute_result"
    }
   ],
   "source": [
    "datos['attrition'].describe()"
   ]
  }
 ],
 "metadata": {
  "kernelspec": {
   "display_name": "base",
   "language": "python",
   "name": "python3"
  },
  "language_info": {
   "codemirror_mode": {
    "name": "ipython",
    "version": 3
   },
   "file_extension": ".py",
   "mimetype": "text/x-python",
   "name": "python",
   "nbconvert_exporter": "python",
   "pygments_lexer": "ipython3",
   "version": "3.11.7"
  }
 },
 "nbformat": 4,
 "nbformat_minor": 2
}
