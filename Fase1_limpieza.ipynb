{
 "cells": [
  {
   "cell_type": "code",
   "execution_count": 43,
   "metadata": {},
   "outputs": [],
   "source": [
    "# importamos las librerías que necesitamos\n",
    "\n",
    "# Tratamiento de datos\n",
    "# -----------------------------------------------------------------------\n",
    "import pandas as pd\n",
    "import numpy as np\n",
    "\n",
    "\n",
    "# Configuración\n",
    "# -----------------------------------------------------------------------\n",
    "pd.set_option('display.max_columns', None) # para poder visualizar todas las columnas de los DataFrames\n",
    "pd.set_option('display.max_colwidth', None) # para visualizar todo el contenido de los valores\n",
    "pd.set_option('display.max_rows', None) # Para visualizar todo el contenido de las filas"
   ]
  },
  {
   "cell_type": "code",
   "execution_count": null,
   "metadata": {},
   "outputs": [
    {
     "data": {
      "text/plain": [
       "array(['No', nan, 'Yes'], dtype=object)"
      ]
     },
     "metadata": {},
     "output_type": "display_data"
    }
   ],
   "source": [
    "# overtime mirar qué hacer con los nan\n",
    "\n",
    "datos['overtime'].unique()"
   ]
  },
  {
   "cell_type": "code",
   "execution_count": null,
   "metadata": {},
   "outputs": [
    {
     "data": {
      "text/plain": [
       "array([13, 14, 11, 19, 12, 25, 16, 17, 22, 23, 20, 15, 21, 24, 18],\n",
       "      dtype=int64)"
      ]
     },
     "metadata": {},
     "output_type": "display_data"
    }
   ],
   "source": [
    "datos['percentsalaryhike'].unique()\n",
    "\n"
   ]
  },
  {
   "cell_type": "code",
   "execution_count": null,
   "metadata": {},
   "outputs": [
    {
     "name": "stdout",
     "output_type": "stream",
     "text": [
      "performancerating\n",
      "3    1205\n",
      "4     214\n",
      "Name: count, dtype: int64\n"
     ]
    },
    {
     "data": {
      "text/plain": [
       "0         3\n",
       "1         3\n",
       "2         3\n",
       "3         3\n",
       "4         3\n",
       "       ... \n",
       "1609    NaN\n",
       "1610      3\n",
       "1611      3\n",
       "1612    NaN\n",
       "1613      3\n",
       "Name: performancerating, Length: 1614, dtype: object"
      ]
     },
     "metadata": {},
     "output_type": "display_data"
    }
   ],
   "source": [
    "#mirar que hacer con los nan y convertir a número porque es un objeto por las comas\n",
    "\n",
    "suma = datos['performancerating'].value_counts()\n",
    "print(suma)\n",
    "\n",
    "performancerating = datos['performancerating'].str.replace(',0', '')\n",
    "\n",
    "\n",
    "datos['performancerating'] = performancerating\n",
    "\n",
    "datos['performancerating'] \n",
    "\n"
   ]
  },
  {
   "cell_type": "code",
   "execution_count": null,
   "metadata": {},
   "outputs": [
    {
     "data": {
      "text/plain": [
       "array([3, 1, 4, 2], dtype=int64)"
      ]
     },
     "metadata": {},
     "output_type": "display_data"
    }
   ],
   "source": [
    "# No hacemos cambios de momento\n",
    "\n",
    "datos['relationshipsatisfaction'].unique()\n",
    "\n"
   ]
  },
  {
   "cell_type": "code",
   "execution_count": null,
   "metadata": {},
   "outputs": [],
   "source": [
    "#borramos standard hours porque no tiene sentido tiene muchos nan y 80h es imposible\n",
    "datos.drop( columns = ['standardhours'], inplace= True)\n",
    "\n",
    "\n"
   ]
  },
  {
   "cell_type": "code",
   "execution_count": null,
   "metadata": {},
   "outputs": [
    {
     "data": {
      "text/plain": [
       "Index(['age', 'attrition', 'businesstravel', 'dailyrate', 'department',\n",
       "       'distancefromhome', 'education', 'educationfield', 'employeenumber',\n",
       "       'environmentsatisfaction', 'gender', 'hourlyrate', 'jobinvolvement',\n",
       "       'joblevel', 'jobrole', 'jobsatisfaction', 'maritalstatus',\n",
       "       'monthlyincome', 'monthlyrate', 'numcompaniesworked', 'overtime',\n",
       "       'percentsalaryhike', 'performancerating', 'relationshipsatisfaction',\n",
       "       'stockoptionlevel', 'totalworkingyears', 'trainingtimeslastyear',\n",
       "       'worklifebalance', 'yearsatcompany', 'yearsincurrentrole',\n",
       "       'yearssincelastpromotion', 'yearswithcurrmanager', 'datebirth',\n",
       "       'remotework'],\n",
       "      dtype='object')"
      ]
     },
     "metadata": {},
     "output_type": "display_data"
    }
   ],
   "source": [
    "datos.columns"
   ]
  },
  {
   "cell_type": "code",
   "execution_count": null,
   "metadata": {},
   "outputs": [
    {
     "data": {
      "text/plain": [
       "array([0, 1, 2, 3], dtype=int64)"
      ]
     },
     "metadata": {},
     "output_type": "display_data"
    }
   ],
   "source": [
    "# No he hecho nada en esta columna parece estra bien\n",
    "datos['stockoptionlevel'].unique()"
   ]
  },
  {
   "cell_type": "code",
   "execution_count": null,
   "metadata": {},
   "outputs": [
    {
     "data": {
      "text/plain": [
       "0       NaN\n",
       "1        34\n",
       "2        22\n",
       "3       NaN\n",
       "4       NaN\n",
       "       ... \n",
       "1609    NaN\n",
       "1610    NaN\n",
       "1611      9\n",
       "1612     12\n",
       "1613    NaN\n",
       "Name: totalworkingyears, Length: 1614, dtype: object"
      ]
     },
     "metadata": {},
     "output_type": "display_data"
    }
   ],
   "source": [
    "# En cuanto gestionemos los nan cambiar a INT\n",
    "\n",
    "datos['totalworkingyears'].unique()\n",
    "\n",
    "totalworkingyears = datos['totalworkingyears'].str.replace(',0', '')\n",
    "\n",
    "\n",
    "datos['totalworkingyears'] = totalworkingyears\n",
    "\n",
    "datos['totalworkingyears'] \n"
   ]
  },
  {
   "cell_type": "code",
   "execution_count": null,
   "metadata": {},
   "outputs": [
    {
     "data": {
      "text/plain": [
       "array([nan, '34', '22', '28', '20', '21', '33', '40', '18', '25', '15',\n",
       "       '17', '26', '16', '24', '14', '23', '27', '19', '11', '38', '37',\n",
       "       '13', '12', '29', '10', '36', '35', '9', '31', '32', '8', '7',\n",
       "       '30', '6', '5', '4', '3', '2', '1', '0'], dtype=object)"
      ]
     },
     "metadata": {},
     "output_type": "display_data"
    }
   ],
   "source": [
    "# En cuanto gestionemos los nan cambiar a INT\n",
    "\n",
    "datos['totalworkingyears'].unique()"
   ]
  },
  {
   "cell_type": "code",
   "execution_count": null,
   "metadata": {},
   "outputs": [
    {
     "data": {
      "text/plain": [
       "array([5, 3, 2, 0, 1, 4, 6], dtype=int64)"
      ]
     },
     "metadata": {},
     "output_type": "display_data"
    }
   ],
   "source": [
    "# trainingtimeslastyear no hacer nada aparentemente toda la información es correcta\n",
    "\n",
    "datos['trainingtimeslastyear'].unique()\n",
    "\n"
   ]
  },
  {
   "cell_type": "code",
   "execution_count": null,
   "metadata": {},
   "outputs": [
    {
     "data": {
      "text/plain": [
       "0         3\n",
       "1         3\n",
       "2       NaN\n",
       "3       NaN\n",
       "4         3\n",
       "       ... \n",
       "1609      3\n",
       "1610      2\n",
       "1611      3\n",
       "1612      3\n",
       "1613      3\n",
       "Name: worklifebalance, Length: 1614, dtype: object"
      ]
     },
     "metadata": {},
     "output_type": "display_data"
    }
   ],
   "source": [
    "# Ver qué hacemos con los NaN y convertir a INT\n",
    "\n",
    "datos['worklifebalance'].unique()\n",
    "\n",
    "worklifebalance = datos['worklifebalance'].str.replace(',0', '')\n",
    "\n",
    "\n",
    "datos['worklifebalance'] = worklifebalance\n",
    "\n",
    "datos['worklifebalance'] \n"
   ]
  },
  {
   "cell_type": "code",
   "execution_count": null,
   "metadata": {},
   "outputs": [
    {
     "data": {
      "text/plain": [
       "array([20, 33, 22, 19, 21, 18, 24, 31, 26, 16, 23, 15, 17, 32, 14, 13, 25,\n",
       "       12, 11, 37, 40, 36, 27, 29, 10,  9, 30,  8,  7, 34,  6,  5,  4,  2,\n",
       "        3,  1,  0], dtype=int64)"
      ]
     },
     "metadata": {},
     "output_type": "display_data"
    }
   ],
   "source": [
    "# todo aparenta estar correcto\n",
    "\n",
    "datos['yearsatcompany'].unique()\n",
    "\n"
   ]
  },
  {
   "cell_type": "code",
   "execution_count": null,
   "metadata": {},
   "outputs": [
    {
     "data": {
      "text/plain": [
       "0       NaN\n",
       "1       NaN\n",
       "2       NaN\n",
       "3       NaN\n",
       "4       NaN\n",
       "       ... \n",
       "1609    NaN\n",
       "1610    NaN\n",
       "1611    NaN\n",
       "1612    NaN\n",
       "1613    NaN\n",
       "Name: yearsincurrentrole, Length: 1614, dtype: object"
      ]
     },
     "metadata": {},
     "output_type": "display_data"
    }
   ],
   "source": [
    "# Ver qué hacemos con los NaN y convertir a INT creo que esta la tendremos que borrar porque no hay casi datos\n",
    "\n",
    "datos['yearsincurrentrole'].unique()\n",
    "\n",
    "yearsincurrentrole = datos['yearsincurrentrole'].str.replace(',0', '')\n",
    "\n",
    "\n",
    "datos['yearsincurrentrole'] = yearsincurrentrole\n",
    "\n",
    "datos['yearsincurrentrole'] \n",
    "\n",
    "\n",
    "\n"
   ]
  },
  {
   "cell_type": "code",
   "execution_count": null,
   "metadata": {},
   "outputs": [
    {
     "data": {
      "text/html": [
       "<div>\n",
       "<style scoped>\n",
       "    .dataframe tbody tr th:only-of-type {\n",
       "        vertical-align: middle;\n",
       "    }\n",
       "\n",
       "    .dataframe tbody tr th {\n",
       "        vertical-align: top;\n",
       "    }\n",
       "\n",
       "    .dataframe thead th {\n",
       "        text-align: right;\n",
       "    }\n",
       "</style>\n",
       "<table border=\"1\" class=\"dataframe\">\n",
       "  <thead>\n",
       "    <tr style=\"text-align: right;\">\n",
       "      <th></th>\n",
       "      <th>yearssincelastpromotion</th>\n",
       "    </tr>\n",
       "  </thead>\n",
       "  <tbody>\n",
       "    <tr>\n",
       "      <th>0</th>\n",
       "      <td>15</td>\n",
       "    </tr>\n",
       "    <tr>\n",
       "      <th>1</th>\n",
       "      <td>11</td>\n",
       "    </tr>\n",
       "    <tr>\n",
       "      <th>2</th>\n",
       "      <td>11</td>\n",
       "    </tr>\n",
       "    <tr>\n",
       "      <th>3</th>\n",
       "      <td>5</td>\n",
       "    </tr>\n",
       "    <tr>\n",
       "      <th>4</th>\n",
       "      <td>2</td>\n",
       "    </tr>\n",
       "    <tr>\n",
       "      <th>...</th>\n",
       "      <td>...</td>\n",
       "    </tr>\n",
       "    <tr>\n",
       "      <th>1609</th>\n",
       "      <td>3</td>\n",
       "    </tr>\n",
       "    <tr>\n",
       "      <th>1610</th>\n",
       "      <td>0</td>\n",
       "    </tr>\n",
       "    <tr>\n",
       "      <th>1611</th>\n",
       "      <td>0</td>\n",
       "    </tr>\n",
       "    <tr>\n",
       "      <th>1612</th>\n",
       "      <td>0</td>\n",
       "    </tr>\n",
       "    <tr>\n",
       "      <th>1613</th>\n",
       "      <td>0</td>\n",
       "    </tr>\n",
       "  </tbody>\n",
       "</table>\n",
       "<p>1614 rows × 1 columns</p>\n",
       "</div>"
      ],
      "text/plain": [
       "      yearssincelastpromotion\n",
       "0                          15\n",
       "1                          11\n",
       "2                          11\n",
       "3                           5\n",
       "4                           2\n",
       "...                       ...\n",
       "1609                        3\n",
       "1610                        0\n",
       "1611                        0\n",
       "1612                        0\n",
       "1613                        0\n",
       "\n",
       "[1614 rows x 1 columns]"
      ]
     },
     "metadata": {},
     "output_type": "display_data"
    }
   ],
   "source": [
    "datos['yearssincelastpromotion'].unique()\n",
    "\n",
    "\n",
    "\n",
    "\n",
    "datos[['yearssincelastpromotion']]\n"
   ]
  },
  {
   "cell_type": "code",
   "execution_count": null,
   "metadata": {},
   "outputs": [
    {
     "data": {
      "text/plain": [
       "array([15,  9,  6,  8,  7, 11, 10, 12,  4,  0,  5, 17,  2, 14,  1, 13,  3,\n",
       "       16], dtype=int64)"
      ]
     },
     "metadata": {},
     "output_type": "display_data"
    }
   ],
   "source": [
    "# no tenemos que tocar nada\n",
    "\n",
    "datos['yearswithcurrmanager'].unique()"
   ]
  },
  {
   "cell_type": "code",
   "execution_count": null,
   "metadata": {},
   "outputs": [
    {
     "data": {
      "text/plain": [
       "array([1972, 1971, 1981, 1976, 1977, 1975, 1964, 1982, 1967, 1985, 1968,\n",
       "       1983, 1965, 1988, 1978, 1990, 1987, 1989, 1970, 1980, 1963, 1991,\n",
       "       1986, 1974, 1984, 1973, 1979, 1993, 1994, 1992, 1969, 1966, 1996,\n",
       "       1995, 1997, 1998, 1999, 2000, 2001, 2002, 2003, 2004, 2005],\n",
       "      dtype=int64)"
      ]
     },
     "metadata": {},
     "output_type": "display_data"
    }
   ],
   "source": [
    "# esta ok\n",
    "\n",
    "datos['datebirth'].unique()"
   ]
  },
  {
   "cell_type": "code",
   "execution_count": null,
   "metadata": {},
   "outputs": [
    {
     "data": {
      "text/plain": [
       "array(['Yes', '1', 'False', '0', 'True'], dtype=object)"
      ]
     },
     "metadata": {},
     "output_type": "display_data"
    }
   ],
   "source": [
    "#Tendremos que ver qué hacemos con los Nan\n",
    "\n",
    "datos['remotework'].unique()\n",
    "    \n"
   ]
  },
  {
   "cell_type": "code",
   "execution_count": null,
   "metadata": {},
   "outputs": [
    {
     "data": {
      "text/plain": [
       "array(['Yes', 'No'], dtype=object)"
      ]
     },
     "metadata": {},
     "output_type": "display_data"
    }
   ],
   "source": [
    "diccionario_mapa = {'Yes':'Yes', '1':'Yes', 'False':'No', '0':'No', 'True':'Yes'}\n",
    "\n",
    "datos[\"remotework\"] = datos[\"remotework\"].map(diccionario_mapa)\n",
    "\n",
    "datos['remotework'].unique()"
   ]
  },
  {
   "cell_type": "code",
   "execution_count": null,
   "metadata": {},
   "outputs": [
    {
     "data": {
      "text/plain": [
       "Index(['age', 'attrition', 'businesstravel', 'dailyrate', 'department',\n",
       "       'distancefromhome', 'education', 'educationfield', 'employeenumber',\n",
       "       'environmentsatisfaction', 'gender', 'hourlyrate', 'jobinvolvement',\n",
       "       'joblevel', 'jobrole', 'jobsatisfaction', 'maritalstatus',\n",
       "       'monthlyincome', 'monthlyrate', 'numcompaniesworked', 'overtime',\n",
       "       'percentsalaryhike', 'performancerating', 'relationshipsatisfaction',\n",
       "       'stockoptionlevel', 'totalworkingyears', 'trainingtimeslastyear',\n",
       "       'worklifebalance', 'yearsatcompany', 'yearsincurrentrole',\n",
       "       'yearssincelastpromotion', 'yearswithcurrmanager', 'datebirth',\n",
       "       'remotework'],\n",
       "      dtype='object')"
      ]
     },
     "metadata": {},
     "output_type": "display_data"
    }
   ],
   "source": [
    "datos.columns"
   ]
  },
  {
   "cell_type": "code",
   "execution_count": 2,
   "metadata": {},
   "outputs": [],
   "source": [
    "datos = pd.read_csv('Datos/datos_empresa.csv', index_col=0)\n",
    "datos_limpios = pd.read_csv('Datos/datos_empresa_V1.csv', index_col=0)\n"
   ]
  },
  {
   "cell_type": "code",
   "execution_count": 3,
   "metadata": {},
   "outputs": [
    {
     "data": {
      "text/html": [
       "<div>\n",
       "<style scoped>\n",
       "    .dataframe tbody tr th:only-of-type {\n",
       "        vertical-align: middle;\n",
       "    }\n",
       "\n",
       "    .dataframe tbody tr th {\n",
       "        vertical-align: top;\n",
       "    }\n",
       "\n",
       "    .dataframe thead th {\n",
       "        text-align: right;\n",
       "    }\n",
       "</style>\n",
       "<table border=\"1\" class=\"dataframe\">\n",
       "  <thead>\n",
       "    <tr style=\"text-align: right;\">\n",
       "      <th></th>\n",
       "      <th>datos2</th>\n",
       "    </tr>\n",
       "  </thead>\n",
       "  <tbody>\n",
       "    <tr>\n",
       "      <th>0</th>\n",
       "      <td>Age</td>\n",
       "    </tr>\n",
       "    <tr>\n",
       "      <th>1</th>\n",
       "      <td>Attrition</td>\n",
       "    </tr>\n",
       "    <tr>\n",
       "      <th>2</th>\n",
       "      <td>BusinessTravel</td>\n",
       "    </tr>\n",
       "    <tr>\n",
       "      <th>3</th>\n",
       "      <td>DailyRate</td>\n",
       "    </tr>\n",
       "    <tr>\n",
       "      <th>4</th>\n",
       "      <td>Department</td>\n",
       "    </tr>\n",
       "    <tr>\n",
       "      <th>5</th>\n",
       "      <td>DistanceFromHome</td>\n",
       "    </tr>\n",
       "    <tr>\n",
       "      <th>6</th>\n",
       "      <td>Education</td>\n",
       "    </tr>\n",
       "    <tr>\n",
       "      <th>7</th>\n",
       "      <td>EducationField</td>\n",
       "    </tr>\n",
       "    <tr>\n",
       "      <th>8</th>\n",
       "      <td>employeenumber</td>\n",
       "    </tr>\n",
       "    <tr>\n",
       "      <th>9</th>\n",
       "      <td>EnvironmentSatisfaction</td>\n",
       "    </tr>\n",
       "    <tr>\n",
       "      <th>10</th>\n",
       "      <td>Gender</td>\n",
       "    </tr>\n",
       "    <tr>\n",
       "      <th>11</th>\n",
       "      <td>HourlyRate</td>\n",
       "    </tr>\n",
       "    <tr>\n",
       "      <th>12</th>\n",
       "      <td>JobInvolvement</td>\n",
       "    </tr>\n",
       "    <tr>\n",
       "      <th>13</th>\n",
       "      <td>JobLevel</td>\n",
       "    </tr>\n",
       "    <tr>\n",
       "      <th>14</th>\n",
       "      <td>JobRole</td>\n",
       "    </tr>\n",
       "    <tr>\n",
       "      <th>15</th>\n",
       "      <td>JobSatisfaction</td>\n",
       "    </tr>\n",
       "    <tr>\n",
       "      <th>16</th>\n",
       "      <td>MaritalStatus</td>\n",
       "    </tr>\n",
       "    <tr>\n",
       "      <th>17</th>\n",
       "      <td>MonthlyIncome</td>\n",
       "    </tr>\n",
       "    <tr>\n",
       "      <th>18</th>\n",
       "      <td>MonthlyRate</td>\n",
       "    </tr>\n",
       "    <tr>\n",
       "      <th>19</th>\n",
       "      <td>NUMCOMPANIESWORKED</td>\n",
       "    </tr>\n",
       "    <tr>\n",
       "      <th>20</th>\n",
       "      <td>OverTime</td>\n",
       "    </tr>\n",
       "    <tr>\n",
       "      <th>21</th>\n",
       "      <td>PercentSalaryHike</td>\n",
       "    </tr>\n",
       "    <tr>\n",
       "      <th>22</th>\n",
       "      <td>PerformanceRating</td>\n",
       "    </tr>\n",
       "    <tr>\n",
       "      <th>23</th>\n",
       "      <td>RelationshipSatisfaction</td>\n",
       "    </tr>\n",
       "    <tr>\n",
       "      <th>24</th>\n",
       "      <td>StandardHours</td>\n",
       "    </tr>\n",
       "    <tr>\n",
       "      <th>25</th>\n",
       "      <td>StockOptionLevel</td>\n",
       "    </tr>\n",
       "    <tr>\n",
       "      <th>26</th>\n",
       "      <td>TOTALWORKINGYEARS</td>\n",
       "    </tr>\n",
       "    <tr>\n",
       "      <th>27</th>\n",
       "      <td>TrainingTimesLastYear</td>\n",
       "    </tr>\n",
       "    <tr>\n",
       "      <th>28</th>\n",
       "      <td>WORKLIFEBALANCE</td>\n",
       "    </tr>\n",
       "    <tr>\n",
       "      <th>29</th>\n",
       "      <td>YearsAtCompany</td>\n",
       "    </tr>\n",
       "    <tr>\n",
       "      <th>30</th>\n",
       "      <td>YearsInCurrentRole</td>\n",
       "    </tr>\n",
       "    <tr>\n",
       "      <th>31</th>\n",
       "      <td>YearsSinceLastPromotion</td>\n",
       "    </tr>\n",
       "    <tr>\n",
       "      <th>32</th>\n",
       "      <td>YEARSWITHCURRMANAGER</td>\n",
       "    </tr>\n",
       "    <tr>\n",
       "      <th>33</th>\n",
       "      <td>DateBirth</td>\n",
       "    </tr>\n",
       "    <tr>\n",
       "      <th>34</th>\n",
       "      <td>RemoteWork</td>\n",
       "    </tr>\n",
       "  </tbody>\n",
       "</table>\n",
       "</div>"
      ],
      "text/plain": [
       "                      datos2\n",
       "0                        Age\n",
       "1                  Attrition\n",
       "2             BusinessTravel\n",
       "3                  DailyRate\n",
       "4                 Department\n",
       "5           DistanceFromHome\n",
       "6                  Education\n",
       "7             EducationField\n",
       "8             employeenumber\n",
       "9    EnvironmentSatisfaction\n",
       "10                    Gender\n",
       "11                HourlyRate\n",
       "12            JobInvolvement\n",
       "13                  JobLevel\n",
       "14                   JobRole\n",
       "15           JobSatisfaction\n",
       "16             MaritalStatus\n",
       "17             MonthlyIncome\n",
       "18               MonthlyRate\n",
       "19        NUMCOMPANIESWORKED\n",
       "20                  OverTime\n",
       "21         PercentSalaryHike\n",
       "22         PerformanceRating\n",
       "23  RelationshipSatisfaction\n",
       "24             StandardHours\n",
       "25          StockOptionLevel\n",
       "26         TOTALWORKINGYEARS\n",
       "27     TrainingTimesLastYear\n",
       "28           WORKLIFEBALANCE\n",
       "29            YearsAtCompany\n",
       "30        YearsInCurrentRole\n",
       "31   YearsSinceLastPromotion\n",
       "32      YEARSWITHCURRMANAGER\n",
       "33                 DateBirth\n",
       "34                RemoteWork"
      ]
     },
     "execution_count": 3,
     "metadata": {},
     "output_type": "execute_result"
    }
   ],
   "source": [
    "#Creamos Dataframe de las columnas de los df a comparar\n",
    "\n",
    "datos_col = pd.DataFrame(list(datos.columns), columns=['datos'])\n",
    "datos_col\n",
    "datos_limpio_col = pd.DataFrame(list(datos_limpios.columns), columns=['datos2'])\n",
    "datos_limpio_col\n"
   ]
  },
  {
   "cell_type": "code",
   "execution_count": 4,
   "metadata": {},
   "outputs": [
    {
     "data": {
      "text/html": [
       "<div>\n",
       "<style scoped>\n",
       "    .dataframe tbody tr th:only-of-type {\n",
       "        vertical-align: middle;\n",
       "    }\n",
       "\n",
       "    .dataframe tbody tr th {\n",
       "        vertical-align: top;\n",
       "    }\n",
       "\n",
       "    .dataframe thead th {\n",
       "        text-align: right;\n",
       "    }\n",
       "</style>\n",
       "<table border=\"1\" class=\"dataframe\">\n",
       "  <thead>\n",
       "    <tr style=\"text-align: right;\">\n",
       "      <th></th>\n",
       "      <th>datos</th>\n",
       "      <th>datos2</th>\n",
       "    </tr>\n",
       "  </thead>\n",
       "  <tbody>\n",
       "    <tr>\n",
       "      <th>0</th>\n",
       "      <td>Age</td>\n",
       "      <td>Age</td>\n",
       "    </tr>\n",
       "    <tr>\n",
       "      <th>1</th>\n",
       "      <td>Attrition</td>\n",
       "      <td>Attrition</td>\n",
       "    </tr>\n",
       "    <tr>\n",
       "      <th>2</th>\n",
       "      <td>BusinessTravel</td>\n",
       "      <td>BusinessTravel</td>\n",
       "    </tr>\n",
       "    <tr>\n",
       "      <th>3</th>\n",
       "      <td>DailyRate</td>\n",
       "      <td>DailyRate</td>\n",
       "    </tr>\n",
       "    <tr>\n",
       "      <th>4</th>\n",
       "      <td>Department</td>\n",
       "      <td>Department</td>\n",
       "    </tr>\n",
       "    <tr>\n",
       "      <th>5</th>\n",
       "      <td>DistanceFromHome</td>\n",
       "      <td>DistanceFromHome</td>\n",
       "    </tr>\n",
       "    <tr>\n",
       "      <th>6</th>\n",
       "      <td>Education</td>\n",
       "      <td>Education</td>\n",
       "    </tr>\n",
       "    <tr>\n",
       "      <th>7</th>\n",
       "      <td>EducationField</td>\n",
       "      <td>EducationField</td>\n",
       "    </tr>\n",
       "    <tr>\n",
       "      <th>8</th>\n",
       "      <td>employeecount</td>\n",
       "      <td>NaN</td>\n",
       "    </tr>\n",
       "    <tr>\n",
       "      <th>9</th>\n",
       "      <td>employeenumber</td>\n",
       "      <td>employeenumber</td>\n",
       "    </tr>\n",
       "    <tr>\n",
       "      <th>10</th>\n",
       "      <td>EnvironmentSatisfaction</td>\n",
       "      <td>EnvironmentSatisfaction</td>\n",
       "    </tr>\n",
       "    <tr>\n",
       "      <th>11</th>\n",
       "      <td>Gender</td>\n",
       "      <td>Gender</td>\n",
       "    </tr>\n",
       "    <tr>\n",
       "      <th>12</th>\n",
       "      <td>HourlyRate</td>\n",
       "      <td>HourlyRate</td>\n",
       "    </tr>\n",
       "    <tr>\n",
       "      <th>13</th>\n",
       "      <td>JobInvolvement</td>\n",
       "      <td>JobInvolvement</td>\n",
       "    </tr>\n",
       "    <tr>\n",
       "      <th>14</th>\n",
       "      <td>JobLevel</td>\n",
       "      <td>JobLevel</td>\n",
       "    </tr>\n",
       "    <tr>\n",
       "      <th>15</th>\n",
       "      <td>JobRole</td>\n",
       "      <td>JobRole</td>\n",
       "    </tr>\n",
       "    <tr>\n",
       "      <th>16</th>\n",
       "      <td>JobSatisfaction</td>\n",
       "      <td>JobSatisfaction</td>\n",
       "    </tr>\n",
       "    <tr>\n",
       "      <th>17</th>\n",
       "      <td>MaritalStatus</td>\n",
       "      <td>MaritalStatus</td>\n",
       "    </tr>\n",
       "    <tr>\n",
       "      <th>18</th>\n",
       "      <td>MonthlyIncome</td>\n",
       "      <td>MonthlyIncome</td>\n",
       "    </tr>\n",
       "    <tr>\n",
       "      <th>19</th>\n",
       "      <td>MonthlyRate</td>\n",
       "      <td>MonthlyRate</td>\n",
       "    </tr>\n",
       "    <tr>\n",
       "      <th>20</th>\n",
       "      <td>NUMCOMPANIESWORKED</td>\n",
       "      <td>NUMCOMPANIESWORKED</td>\n",
       "    </tr>\n",
       "    <tr>\n",
       "      <th>21</th>\n",
       "      <td>Over18</td>\n",
       "      <td>NaN</td>\n",
       "    </tr>\n",
       "    <tr>\n",
       "      <th>22</th>\n",
       "      <td>OverTime</td>\n",
       "      <td>OverTime</td>\n",
       "    </tr>\n",
       "    <tr>\n",
       "      <th>23</th>\n",
       "      <td>PercentSalaryHike</td>\n",
       "      <td>PercentSalaryHike</td>\n",
       "    </tr>\n",
       "    <tr>\n",
       "      <th>24</th>\n",
       "      <td>PerformanceRating</td>\n",
       "      <td>PerformanceRating</td>\n",
       "    </tr>\n",
       "    <tr>\n",
       "      <th>25</th>\n",
       "      <td>RelationshipSatisfaction</td>\n",
       "      <td>RelationshipSatisfaction</td>\n",
       "    </tr>\n",
       "    <tr>\n",
       "      <th>26</th>\n",
       "      <td>StandardHours</td>\n",
       "      <td>StandardHours</td>\n",
       "    </tr>\n",
       "    <tr>\n",
       "      <th>27</th>\n",
       "      <td>StockOptionLevel</td>\n",
       "      <td>StockOptionLevel</td>\n",
       "    </tr>\n",
       "    <tr>\n",
       "      <th>28</th>\n",
       "      <td>TOTALWORKINGYEARS</td>\n",
       "      <td>TOTALWORKINGYEARS</td>\n",
       "    </tr>\n",
       "    <tr>\n",
       "      <th>29</th>\n",
       "      <td>TrainingTimesLastYear</td>\n",
       "      <td>TrainingTimesLastYear</td>\n",
       "    </tr>\n",
       "    <tr>\n",
       "      <th>30</th>\n",
       "      <td>WORKLIFEBALANCE</td>\n",
       "      <td>WORKLIFEBALANCE</td>\n",
       "    </tr>\n",
       "    <tr>\n",
       "      <th>31</th>\n",
       "      <td>YearsAtCompany</td>\n",
       "      <td>YearsAtCompany</td>\n",
       "    </tr>\n",
       "    <tr>\n",
       "      <th>32</th>\n",
       "      <td>YearsInCurrentRole</td>\n",
       "      <td>YearsInCurrentRole</td>\n",
       "    </tr>\n",
       "    <tr>\n",
       "      <th>33</th>\n",
       "      <td>YearsSinceLastPromotion</td>\n",
       "      <td>YearsSinceLastPromotion</td>\n",
       "    </tr>\n",
       "    <tr>\n",
       "      <th>34</th>\n",
       "      <td>YEARSWITHCURRMANAGER</td>\n",
       "      <td>YEARSWITHCURRMANAGER</td>\n",
       "    </tr>\n",
       "    <tr>\n",
       "      <th>35</th>\n",
       "      <td>SameAsMonthlyIncome</td>\n",
       "      <td>NaN</td>\n",
       "    </tr>\n",
       "    <tr>\n",
       "      <th>36</th>\n",
       "      <td>DateBirth</td>\n",
       "      <td>DateBirth</td>\n",
       "    </tr>\n",
       "    <tr>\n",
       "      <th>37</th>\n",
       "      <td>Salary</td>\n",
       "      <td>NaN</td>\n",
       "    </tr>\n",
       "    <tr>\n",
       "      <th>38</th>\n",
       "      <td>RoleDepartament</td>\n",
       "      <td>NaN</td>\n",
       "    </tr>\n",
       "    <tr>\n",
       "      <th>39</th>\n",
       "      <td>NUMBERCHILDREN</td>\n",
       "      <td>NaN</td>\n",
       "    </tr>\n",
       "    <tr>\n",
       "      <th>40</th>\n",
       "      <td>RemoteWork</td>\n",
       "      <td>RemoteWork</td>\n",
       "    </tr>\n",
       "  </tbody>\n",
       "</table>\n",
       "</div>"
      ],
      "text/plain": [
       "                       datos                    datos2\n",
       "0                        Age                       Age\n",
       "1                  Attrition                 Attrition\n",
       "2             BusinessTravel            BusinessTravel\n",
       "3                  DailyRate                 DailyRate\n",
       "4                 Department                Department\n",
       "5           DistanceFromHome          DistanceFromHome\n",
       "6                  Education                 Education\n",
       "7             EducationField            EducationField\n",
       "8              employeecount                       NaN\n",
       "9             employeenumber            employeenumber\n",
       "10   EnvironmentSatisfaction   EnvironmentSatisfaction\n",
       "11                    Gender                    Gender\n",
       "12                HourlyRate                HourlyRate\n",
       "13            JobInvolvement            JobInvolvement\n",
       "14                  JobLevel                  JobLevel\n",
       "15                   JobRole                   JobRole\n",
       "16           JobSatisfaction           JobSatisfaction\n",
       "17             MaritalStatus             MaritalStatus\n",
       "18             MonthlyIncome             MonthlyIncome\n",
       "19               MonthlyRate               MonthlyRate\n",
       "20        NUMCOMPANIESWORKED        NUMCOMPANIESWORKED\n",
       "21                    Over18                       NaN\n",
       "22                  OverTime                  OverTime\n",
       "23         PercentSalaryHike         PercentSalaryHike\n",
       "24         PerformanceRating         PerformanceRating\n",
       "25  RelationshipSatisfaction  RelationshipSatisfaction\n",
       "26             StandardHours             StandardHours\n",
       "27          StockOptionLevel          StockOptionLevel\n",
       "28         TOTALWORKINGYEARS         TOTALWORKINGYEARS\n",
       "29     TrainingTimesLastYear     TrainingTimesLastYear\n",
       "30           WORKLIFEBALANCE           WORKLIFEBALANCE\n",
       "31            YearsAtCompany            YearsAtCompany\n",
       "32        YearsInCurrentRole        YearsInCurrentRole\n",
       "33   YearsSinceLastPromotion   YearsSinceLastPromotion\n",
       "34      YEARSWITHCURRMANAGER      YEARSWITHCURRMANAGER\n",
       "35       SameAsMonthlyIncome                       NaN\n",
       "36                 DateBirth                 DateBirth\n",
       "37                    Salary                       NaN\n",
       "38           RoleDepartament                       NaN\n",
       "39            NUMBERCHILDREN                       NaN\n",
       "40                RemoteWork                RemoteWork"
      ]
     },
     "execution_count": 4,
     "metadata": {},
     "output_type": "execute_result"
    }
   ],
   "source": [
    "# mergeamos las columnas para saber si tenemos duplicados\n",
    "\n",
    "df_merge = datos_col.merge(datos_limpio_col, left_on='datos', right_on='datos2', how = 'left')\n",
    "df_merge\n",
    "\n",
    "\n"
   ]
  },
  {
   "cell_type": "code",
   "execution_count": 5,
   "metadata": {},
   "outputs": [
    {
     "data": {
      "text/html": [
       "<div>\n",
       "<style scoped>\n",
       "    .dataframe tbody tr th:only-of-type {\n",
       "        vertical-align: middle;\n",
       "    }\n",
       "\n",
       "    .dataframe tbody tr th {\n",
       "        vertical-align: top;\n",
       "    }\n",
       "\n",
       "    .dataframe thead th {\n",
       "        text-align: right;\n",
       "    }\n",
       "</style>\n",
       "<table border=\"1\" class=\"dataframe\">\n",
       "  <thead>\n",
       "    <tr style=\"text-align: right;\">\n",
       "      <th></th>\n",
       "      <th>datos</th>\n",
       "      <th>datos2</th>\n",
       "    </tr>\n",
       "  </thead>\n",
       "  <tbody>\n",
       "    <tr>\n",
       "      <th>8</th>\n",
       "      <td>employeecount</td>\n",
       "      <td>NaN</td>\n",
       "    </tr>\n",
       "    <tr>\n",
       "      <th>21</th>\n",
       "      <td>Over18</td>\n",
       "      <td>NaN</td>\n",
       "    </tr>\n",
       "    <tr>\n",
       "      <th>35</th>\n",
       "      <td>SameAsMonthlyIncome</td>\n",
       "      <td>NaN</td>\n",
       "    </tr>\n",
       "    <tr>\n",
       "      <th>37</th>\n",
       "      <td>Salary</td>\n",
       "      <td>NaN</td>\n",
       "    </tr>\n",
       "    <tr>\n",
       "      <th>38</th>\n",
       "      <td>RoleDepartament</td>\n",
       "      <td>NaN</td>\n",
       "    </tr>\n",
       "    <tr>\n",
       "      <th>39</th>\n",
       "      <td>NUMBERCHILDREN</td>\n",
       "      <td>NaN</td>\n",
       "    </tr>\n",
       "  </tbody>\n",
       "</table>\n",
       "</div>"
      ],
      "text/plain": [
       "                  datos datos2\n",
       "8         employeecount    NaN\n",
       "21               Over18    NaN\n",
       "35  SameAsMonthlyIncome    NaN\n",
       "37               Salary    NaN\n",
       "38      RoleDepartament    NaN\n",
       "39       NUMBERCHILDREN    NaN"
      ]
     },
     "execution_count": 5,
     "metadata": {},
     "output_type": "execute_result"
    }
   ],
   "source": [
    "#filtro para saber columnas que habíamos borrado\n",
    "\n",
    "filtro = df_merge['datos2'].isna()\n",
    "df_filtro = df_merge[filtro]\n",
    "\n",
    "df_filtro"
   ]
  },
  {
   "cell_type": "code",
   "execution_count": 6,
   "metadata": {},
   "outputs": [
    {
     "data": {
      "text/plain": [
       "0      True\n",
       "1      True\n",
       "2      True\n",
       "3      True\n",
       "4      True\n",
       "5      True\n",
       "6      True\n",
       "7      True\n",
       "8     False\n",
       "9      True\n",
       "10     True\n",
       "11     True\n",
       "12     True\n",
       "13     True\n",
       "14     True\n",
       "15     True\n",
       "16     True\n",
       "17     True\n",
       "18     True\n",
       "19     True\n",
       "20     True\n",
       "21    False\n",
       "22     True\n",
       "23     True\n",
       "24     True\n",
       "25     True\n",
       "26     True\n",
       "27     True\n",
       "28     True\n",
       "29     True\n",
       "30     True\n",
       "31     True\n",
       "32     True\n",
       "33     True\n",
       "34     True\n",
       "35    False\n",
       "36     True\n",
       "37    False\n",
       "38    False\n",
       "39    False\n",
       "40     True\n",
       "dtype: bool"
      ]
     },
     "execution_count": 6,
     "metadata": {},
     "output_type": "execute_result"
    }
   ],
   "source": [
    "comparacion = df_merge['datos'] == df_merge['datos2']\n",
    "comparacion"
   ]
  },
  {
   "cell_type": "code",
   "execution_count": 7,
   "metadata": {},
   "outputs": [],
   "source": [
    "#borramos columnas que no necesitamos\n",
    "\n",
    "datos.drop( columns = ['employeecount','Over18','SameAsMonthlyIncome', 'Salary', 'RoleDepartament', 'NUMBERCHILDREN'], inplace= True)"
   ]
  },
  {
   "cell_type": "code",
   "execution_count": 8,
   "metadata": {},
   "outputs": [
    {
     "data": {
      "text/html": [
       "<div>\n",
       "<style scoped>\n",
       "    .dataframe tbody tr th:only-of-type {\n",
       "        vertical-align: middle;\n",
       "    }\n",
       "\n",
       "    .dataframe tbody tr th {\n",
       "        vertical-align: top;\n",
       "    }\n",
       "\n",
       "    .dataframe thead th {\n",
       "        text-align: right;\n",
       "    }\n",
       "</style>\n",
       "<table border=\"1\" class=\"dataframe\">\n",
       "  <thead>\n",
       "    <tr style=\"text-align: right;\">\n",
       "      <th></th>\n",
       "      <th>age</th>\n",
       "      <th>attrition</th>\n",
       "      <th>businesstravel</th>\n",
       "      <th>dailyrate</th>\n",
       "      <th>department</th>\n",
       "      <th>distancefromhome</th>\n",
       "      <th>education</th>\n",
       "      <th>educationfield</th>\n",
       "      <th>employeenumber</th>\n",
       "      <th>environmentsatisfaction</th>\n",
       "      <th>gender</th>\n",
       "      <th>hourlyrate</th>\n",
       "      <th>jobinvolvement</th>\n",
       "      <th>joblevel</th>\n",
       "      <th>jobrole</th>\n",
       "      <th>jobsatisfaction</th>\n",
       "      <th>maritalstatus</th>\n",
       "      <th>monthlyincome</th>\n",
       "      <th>monthlyrate</th>\n",
       "      <th>numcompaniesworked</th>\n",
       "      <th>overtime</th>\n",
       "      <th>percentsalaryhike</th>\n",
       "      <th>performancerating</th>\n",
       "      <th>relationshipsatisfaction</th>\n",
       "      <th>standardhours</th>\n",
       "      <th>stockoptionlevel</th>\n",
       "      <th>totalworkingyears</th>\n",
       "      <th>trainingtimeslastyear</th>\n",
       "      <th>worklifebalance</th>\n",
       "      <th>yearsatcompany</th>\n",
       "      <th>yearsincurrentrole</th>\n",
       "      <th>yearssincelastpromotion</th>\n",
       "      <th>yearswithcurrmanager</th>\n",
       "      <th>datebirth</th>\n",
       "      <th>remotework</th>\n",
       "    </tr>\n",
       "  </thead>\n",
       "  <tbody>\n",
       "    <tr>\n",
       "      <th>0</th>\n",
       "      <td>51</td>\n",
       "      <td>No</td>\n",
       "      <td>NaN</td>\n",
       "      <td>684,0$</td>\n",
       "      <td>NaN</td>\n",
       "      <td>6</td>\n",
       "      <td>3</td>\n",
       "      <td>NaN</td>\n",
       "      <td>162,0</td>\n",
       "      <td>1</td>\n",
       "      <td>0</td>\n",
       "      <td>51</td>\n",
       "      <td>3</td>\n",
       "      <td>5</td>\n",
       "      <td>resEArch DIREcToR</td>\n",
       "      <td>3</td>\n",
       "      <td>NaN</td>\n",
       "      <td>19537,0</td>\n",
       "      <td>6462</td>\n",
       "      <td>7</td>\n",
       "      <td>No</td>\n",
       "      <td>13</td>\n",
       "      <td>3,0</td>\n",
       "      <td>3</td>\n",
       "      <td>NaN</td>\n",
       "      <td>0</td>\n",
       "      <td>NaN</td>\n",
       "      <td>5</td>\n",
       "      <td>3,0</td>\n",
       "      <td>20</td>\n",
       "      <td>NaN</td>\n",
       "      <td>15</td>\n",
       "      <td>15</td>\n",
       "      <td>1972</td>\n",
       "      <td>Yes</td>\n",
       "    </tr>\n",
       "    <tr>\n",
       "      <th>1</th>\n",
       "      <td>52</td>\n",
       "      <td>No</td>\n",
       "      <td>NaN</td>\n",
       "      <td>699,0$</td>\n",
       "      <td>NaN</td>\n",
       "      <td>1</td>\n",
       "      <td>4</td>\n",
       "      <td>Life Sciences</td>\n",
       "      <td>259,0</td>\n",
       "      <td>3</td>\n",
       "      <td>0</td>\n",
       "      <td>65</td>\n",
       "      <td>2</td>\n",
       "      <td>5</td>\n",
       "      <td>ManAGeR</td>\n",
       "      <td>3</td>\n",
       "      <td>NaN</td>\n",
       "      <td>19999,0</td>\n",
       "      <td>5678</td>\n",
       "      <td>0</td>\n",
       "      <td>NaN</td>\n",
       "      <td>14</td>\n",
       "      <td>3,0</td>\n",
       "      <td>1</td>\n",
       "      <td>NaN</td>\n",
       "      <td>1</td>\n",
       "      <td>34,0</td>\n",
       "      <td>5</td>\n",
       "      <td>3,0</td>\n",
       "      <td>33</td>\n",
       "      <td>NaN</td>\n",
       "      <td>11</td>\n",
       "      <td>9</td>\n",
       "      <td>1971</td>\n",
       "      <td>1</td>\n",
       "    </tr>\n",
       "    <tr>\n",
       "      <th>2</th>\n",
       "      <td>42</td>\n",
       "      <td>No</td>\n",
       "      <td>travel_rarely</td>\n",
       "      <td>532,0$</td>\n",
       "      <td>Research &amp; Development</td>\n",
       "      <td>4</td>\n",
       "      <td>2</td>\n",
       "      <td>Technical Degree</td>\n",
       "      <td>319,0</td>\n",
       "      <td>3</td>\n",
       "      <td>0</td>\n",
       "      <td>58</td>\n",
       "      <td>3</td>\n",
       "      <td>5</td>\n",
       "      <td>ManaGER</td>\n",
       "      <td>4</td>\n",
       "      <td>Married</td>\n",
       "      <td>19232,0</td>\n",
       "      <td>4933</td>\n",
       "      <td>1</td>\n",
       "      <td>No</td>\n",
       "      <td>11</td>\n",
       "      <td>3,0</td>\n",
       "      <td>4</td>\n",
       "      <td>NaN</td>\n",
       "      <td>0</td>\n",
       "      <td>22,0</td>\n",
       "      <td>3</td>\n",
       "      <td>NaN</td>\n",
       "      <td>22</td>\n",
       "      <td>NaN</td>\n",
       "      <td>11</td>\n",
       "      <td>15</td>\n",
       "      <td>1981</td>\n",
       "      <td>1</td>\n",
       "    </tr>\n",
       "    <tr>\n",
       "      <th>3</th>\n",
       "      <td>47</td>\n",
       "      <td>No</td>\n",
       "      <td>travel_rarely</td>\n",
       "      <td>359,0$</td>\n",
       "      <td>NaN</td>\n",
       "      <td>2</td>\n",
       "      <td>4</td>\n",
       "      <td>Medical</td>\n",
       "      <td>NaN</td>\n",
       "      <td>1</td>\n",
       "      <td>1</td>\n",
       "      <td>82</td>\n",
       "      <td>3</td>\n",
       "      <td>4</td>\n",
       "      <td>ReseArCH DIrECtOr</td>\n",
       "      <td>3</td>\n",
       "      <td>Married</td>\n",
       "      <td>17169,0</td>\n",
       "      <td>26703</td>\n",
       "      <td>3</td>\n",
       "      <td>NaN</td>\n",
       "      <td>19</td>\n",
       "      <td>3,0</td>\n",
       "      <td>2</td>\n",
       "      <td>NaN</td>\n",
       "      <td>2</td>\n",
       "      <td>NaN</td>\n",
       "      <td>2</td>\n",
       "      <td>NaN</td>\n",
       "      <td>20</td>\n",
       "      <td>NaN</td>\n",
       "      <td>5</td>\n",
       "      <td>6</td>\n",
       "      <td>1976</td>\n",
       "      <td>False</td>\n",
       "    </tr>\n",
       "    <tr>\n",
       "      <th>4</th>\n",
       "      <td>46</td>\n",
       "      <td>No</td>\n",
       "      <td>NaN</td>\n",
       "      <td>1319,0$</td>\n",
       "      <td>NaN</td>\n",
       "      <td>3</td>\n",
       "      <td>3</td>\n",
       "      <td>Technical Degree</td>\n",
       "      <td>NaN</td>\n",
       "      <td>1</td>\n",
       "      <td>1</td>\n",
       "      <td>45</td>\n",
       "      <td>4</td>\n",
       "      <td>4</td>\n",
       "      <td>sAleS EXECUtIve</td>\n",
       "      <td>1</td>\n",
       "      <td>Divorced</td>\n",
       "      <td>NaN</td>\n",
       "      <td>7739</td>\n",
       "      <td>2</td>\n",
       "      <td>No</td>\n",
       "      <td>12</td>\n",
       "      <td>3,0</td>\n",
       "      <td>4</td>\n",
       "      <td>NaN</td>\n",
       "      <td>1</td>\n",
       "      <td>NaN</td>\n",
       "      <td>5</td>\n",
       "      <td>3,0</td>\n",
       "      <td>19</td>\n",
       "      <td>NaN</td>\n",
       "      <td>2</td>\n",
       "      <td>8</td>\n",
       "      <td>1977</td>\n",
       "      <td>0</td>\n",
       "    </tr>\n",
       "  </tbody>\n",
       "</table>\n",
       "</div>"
      ],
      "text/plain": [
       "  age attrition businesstravel dailyrate                department  \\\n",
       "0  51        No            NaN    684,0$                       NaN   \n",
       "1  52        No            NaN    699,0$                       NaN   \n",
       "2  42        No  travel_rarely    532,0$   Research & Development    \n",
       "3  47        No  travel_rarely    359,0$                       NaN   \n",
       "4  46        No            NaN   1319,0$                       NaN   \n",
       "\n",
       "   distancefromhome  education    educationfield employeenumber  \\\n",
       "0                 6          3               NaN          162,0   \n",
       "1                 1          4     Life Sciences          259,0   \n",
       "2                 4          2  Technical Degree          319,0   \n",
       "3                 2          4           Medical            NaN   \n",
       "4                 3          3  Technical Degree            NaN   \n",
       "\n",
       "   environmentsatisfaction  gender hourlyrate  jobinvolvement  joblevel  \\\n",
       "0                        1       0         51               3         5   \n",
       "1                        3       0         65               2         5   \n",
       "2                        3       0         58               3         5   \n",
       "3                        1       1         82               3         4   \n",
       "4                        1       1         45               4         4   \n",
       "\n",
       "               jobrole  jobsatisfaction maritalstatus monthlyincome  \\\n",
       "0   resEArch DIREcToR                 3           NaN       19537,0   \n",
       "1             ManAGeR                 3           NaN       19999,0   \n",
       "2             ManaGER                 4       Married       19232,0   \n",
       "3   ReseArCH DIrECtOr                 3       Married       17169,0   \n",
       "4     sAleS EXECUtIve                 1      Divorced           NaN   \n",
       "\n",
       "   monthlyrate  numcompaniesworked overtime  percentsalaryhike  \\\n",
       "0         6462                   7       No                 13   \n",
       "1         5678                   0      NaN                 14   \n",
       "2         4933                   1       No                 11   \n",
       "3        26703                   3      NaN                 19   \n",
       "4         7739                   2       No                 12   \n",
       "\n",
       "  performancerating  relationshipsatisfaction standardhours  stockoptionlevel  \\\n",
       "0               3,0                         3           NaN                 0   \n",
       "1               3,0                         1           NaN                 1   \n",
       "2               3,0                         4           NaN                 0   \n",
       "3               3,0                         2           NaN                 2   \n",
       "4               3,0                         4           NaN                 1   \n",
       "\n",
       "  totalworkingyears  trainingtimeslastyear worklifebalance  yearsatcompany  \\\n",
       "0               NaN                      5             3,0              20   \n",
       "1              34,0                      5             3,0              33   \n",
       "2              22,0                      3             NaN              22   \n",
       "3               NaN                      2             NaN              20   \n",
       "4               NaN                      5             3,0              19   \n",
       "\n",
       "  yearsincurrentrole  yearssincelastpromotion  yearswithcurrmanager  \\\n",
       "0                NaN                       15                    15   \n",
       "1                NaN                       11                     9   \n",
       "2                NaN                       11                    15   \n",
       "3                NaN                        5                     6   \n",
       "4                NaN                        2                     8   \n",
       "\n",
       "   datebirth remotework  \n",
       "0       1972        Yes  \n",
       "1       1971          1  \n",
       "2       1981          1  \n",
       "3       1976      False  \n",
       "4       1977          0  "
      ]
     },
     "execution_count": 8,
     "metadata": {},
     "output_type": "execute_result"
    }
   ],
   "source": [
    "# transformamos columnas para su mejor visulatización las convertimos todos a lower\n",
    "\n",
    "new_columns = {column : column.lower() for column in datos}\n",
    "\n",
    "new_columns\n",
    "\n",
    "datos.rename(columns = new_columns, inplace= True)\n",
    "\n",
    "datos.head()"
   ]
  },
  {
   "cell_type": "code",
   "execution_count": 9,
   "metadata": {},
   "outputs": [],
   "source": [
    "# Transformamos columnas"
   ]
  },
  {
   "cell_type": "code",
   "execution_count": 10,
   "metadata": {},
   "outputs": [
    {
     "data": {
      "text/plain": [
       "array(['51', '52', '42', '47', '46', '48', '59', '41', '56', '38', '55',\n",
       "       '40', '58', '35', '45', '33', '36', '34', '53', '43', '60', '32',\n",
       "       '37', '49', '39', '50', '44', '30', '58 ', '29', '31', '54', '57',\n",
       "       '27', '28', '26', '25', '24', '23', '22', '21', '20', '19', '18'],\n",
       "      dtype=object)"
      ]
     },
     "execution_count": 10,
     "metadata": {},
     "output_type": "execute_result"
    }
   ],
   "source": [
    "datos['age'].unique()\n",
    "\n",
    "age = datos['age'].str.replace('fifty-eight', '58 ').str.replace('fifty-eight', '47 ').str.replace('thirty-six', '36').str.replace('fifty-five', '55').str.replace('fifty-two', '52').str.replace('thirty-one', '31').str.replace('twenty-six', '36').str.replace('thirty-seven', '37').str.replace('thirty-seven', '37').str.replace('thirty-two', '32').str.replace('twenty-four', '24').str.replace('forty-seven', '47').str.replace('thirty', '30')\n",
    "\n",
    "datos['age'] = age\n",
    "\n",
    "datos['age'].unique()"
   ]
  },
  {
   "cell_type": "code",
   "execution_count": 11,
   "metadata": {},
   "outputs": [
    {
     "data": {
      "text/plain": [
       "array(['No', 'Yes'], dtype=object)"
      ]
     },
     "execution_count": 11,
     "metadata": {},
     "output_type": "execute_result"
    }
   ],
   "source": [
    "datos['attrition'].unique()"
   ]
  },
  {
   "cell_type": "code",
   "execution_count": 12,
   "metadata": {},
   "outputs": [
    {
     "data": {
      "text/plain": [
       "array([nan, 'Travel rarely', 'Travel frequently', 'Non travel'],\n",
       "      dtype=object)"
      ]
     },
     "execution_count": 12,
     "metadata": {},
     "output_type": "execute_result"
    }
   ],
   "source": [
    "businesstravel = datos['businesstravel'].str.replace('_', ' ').str.replace('-', ' ').str.capitalize()\n",
    "\n",
    "datos['businesstravel'] = businesstravel\n",
    "\n",
    "datos['businesstravel'].unique()\n",
    "\n"
   ]
  },
  {
   "cell_type": "code",
   "execution_count": 13,
   "metadata": {},
   "outputs": [
    {
     "data": {
      "text/plain": [
       "array([nan, 'Travel rarely', 'Travel frequently', 'Non travel'],\n",
       "      dtype=object)"
      ]
     },
     "execution_count": 13,
     "metadata": {},
     "output_type": "execute_result"
    }
   ],
   "source": [
    "# nos falta ver qué hacemos con los Nan y convertirlo en INT. Llego hasta numcompaniesworked\n",
    "\n",
    "dailyrate = datos['dailyrate'].str.replace('$', '')\n",
    "\n",
    "\n",
    "datos['dailyrate'] = dailyrate\n",
    "\n",
    "datos['dailyrate'] \n",
    "\n",
    "datos['businesstravel'].unique()\n"
   ]
  },
  {
   "cell_type": "code",
   "execution_count": 14,
   "metadata": {},
   "outputs": [
    {
     "data": {
      "text/plain": [
       "array([nan, ' Research & Development ', ' Sales ', ' Human Resources '],\n",
       "      dtype=object)"
      ]
     },
     "execution_count": 14,
     "metadata": {},
     "output_type": "execute_result"
    }
   ],
   "source": [
    "# ver qué hacemos con los Nan\n",
    "\n",
    "datos['department'].unique()"
   ]
  },
  {
   "cell_type": "code",
   "execution_count": 38,
   "metadata": {},
   "outputs": [
    {
     "data": {
      "text/plain": [
       "array(['6', '1', '4', '2', '3', '22', '25', '9', '7', '23', '10', '12',\n",
       "       '14', '13', '15', '8', '42', '28', '37', '5', '16', '35', '26',\n",
       "       '24', '29', '17', '21', '18', '30', '27', '20', '31', '39', '11',\n",
       "       '19', '33', '34', '46', '36', '45', '47', '32', '41', '49', '48',\n",
       "       '38', '43', '40', '44'], dtype=object)"
      ]
     },
     "execution_count": 38,
     "metadata": {},
     "output_type": "execute_result"
    }
   ],
   "source": [
    "# Hemos cambiado el tipo de int a str y elominado el menos de los negativos. Queda vovlerlo float.\n",
    "\n",
    "datos_distance = datos['distancefromhome'].astype(str)\n",
    "\n",
    "distancefromhome = datos_distance.str.replace('-', '')\n",
    "\n",
    "datos['distancefromhome'] = distancefromhome\n",
    "\n",
    "datos['distancefromhome'].unique()"
   ]
  },
  {
   "cell_type": "code",
   "execution_count": 16,
   "metadata": {},
   "outputs": [
    {
     "data": {
      "text/html": [
       "<div>\n",
       "<style scoped>\n",
       "    .dataframe tbody tr th:only-of-type {\n",
       "        vertical-align: middle;\n",
       "    }\n",
       "\n",
       "    .dataframe tbody tr th {\n",
       "        vertical-align: top;\n",
       "    }\n",
       "\n",
       "    .dataframe thead th {\n",
       "        text-align: right;\n",
       "    }\n",
       "</style>\n",
       "<table border=\"1\" class=\"dataframe\">\n",
       "  <thead>\n",
       "    <tr style=\"text-align: right;\">\n",
       "      <th></th>\n",
       "      <th>age</th>\n",
       "      <th>attrition</th>\n",
       "      <th>businesstravel</th>\n",
       "      <th>dailyrate</th>\n",
       "      <th>department</th>\n",
       "      <th>distancefromhome</th>\n",
       "      <th>education</th>\n",
       "      <th>educationfield</th>\n",
       "      <th>employeenumber</th>\n",
       "      <th>environmentsatisfaction</th>\n",
       "      <th>gender</th>\n",
       "      <th>hourlyrate</th>\n",
       "      <th>jobinvolvement</th>\n",
       "      <th>joblevel</th>\n",
       "      <th>jobrole</th>\n",
       "      <th>jobsatisfaction</th>\n",
       "      <th>maritalstatus</th>\n",
       "      <th>monthlyincome</th>\n",
       "      <th>monthlyrate</th>\n",
       "      <th>numcompaniesworked</th>\n",
       "      <th>overtime</th>\n",
       "      <th>percentsalaryhike</th>\n",
       "      <th>performancerating</th>\n",
       "      <th>relationshipsatisfaction</th>\n",
       "      <th>standardhours</th>\n",
       "      <th>stockoptionlevel</th>\n",
       "      <th>totalworkingyears</th>\n",
       "      <th>trainingtimeslastyear</th>\n",
       "      <th>worklifebalance</th>\n",
       "      <th>yearsatcompany</th>\n",
       "      <th>yearsincurrentrole</th>\n",
       "      <th>yearssincelastpromotion</th>\n",
       "      <th>yearswithcurrmanager</th>\n",
       "      <th>datebirth</th>\n",
       "      <th>remotework</th>\n",
       "    </tr>\n",
       "  </thead>\n",
       "  <tbody>\n",
       "    <tr>\n",
       "      <th>0</th>\n",
       "      <td>51</td>\n",
       "      <td>No</td>\n",
       "      <td>NaN</td>\n",
       "      <td>684,0</td>\n",
       "      <td>NaN</td>\n",
       "      <td>6</td>\n",
       "      <td>3</td>\n",
       "      <td>NaN</td>\n",
       "      <td>162,0</td>\n",
       "      <td>1</td>\n",
       "      <td>0</td>\n",
       "      <td>51</td>\n",
       "      <td>3</td>\n",
       "      <td>5</td>\n",
       "      <td>resEArch DIREcToR</td>\n",
       "      <td>3</td>\n",
       "      <td>NaN</td>\n",
       "      <td>19537,0</td>\n",
       "      <td>6462</td>\n",
       "      <td>7</td>\n",
       "      <td>No</td>\n",
       "      <td>13</td>\n",
       "      <td>3,0</td>\n",
       "      <td>3</td>\n",
       "      <td>NaN</td>\n",
       "      <td>0</td>\n",
       "      <td>NaN</td>\n",
       "      <td>5</td>\n",
       "      <td>3,0</td>\n",
       "      <td>20</td>\n",
       "      <td>NaN</td>\n",
       "      <td>15</td>\n",
       "      <td>15</td>\n",
       "      <td>1972</td>\n",
       "      <td>Yes</td>\n",
       "    </tr>\n",
       "  </tbody>\n",
       "</table>\n",
       "</div>"
      ],
      "text/plain": [
       "  age attrition businesstravel dailyrate department  distancefromhome  \\\n",
       "0  51        No            NaN     684,0        NaN                 6   \n",
       "\n",
       "   education educationfield employeenumber  environmentsatisfaction  gender  \\\n",
       "0          3            NaN          162,0                        1       0   \n",
       "\n",
       "  hourlyrate  jobinvolvement  joblevel              jobrole  jobsatisfaction  \\\n",
       "0         51               3         5   resEArch DIREcToR                 3   \n",
       "\n",
       "  maritalstatus monthlyincome  monthlyrate  numcompaniesworked overtime  \\\n",
       "0           NaN       19537,0         6462                   7       No   \n",
       "\n",
       "   percentsalaryhike performancerating  relationshipsatisfaction  \\\n",
       "0                 13               3,0                         3   \n",
       "\n",
       "  standardhours  stockoptionlevel totalworkingyears  trainingtimeslastyear  \\\n",
       "0           NaN                 0               NaN                      5   \n",
       "\n",
       "  worklifebalance  yearsatcompany yearsincurrentrole  yearssincelastpromotion  \\\n",
       "0             3,0              20                NaN                       15   \n",
       "\n",
       "   yearswithcurrmanager  datebirth remotework  \n",
       "0                    15       1972        Yes  "
      ]
     },
     "execution_count": 16,
     "metadata": {},
     "output_type": "execute_result"
    }
   ],
   "source": [
    "datos.head(1) # Llego hasta numcompaniesworked"
   ]
  },
  {
   "cell_type": "code",
   "execution_count": 17,
   "metadata": {},
   "outputs": [
    {
     "data": {
      "text/plain": [
       "array([3, 4, 2, 1, 5])"
      ]
     },
     "execution_count": 17,
     "metadata": {},
     "output_type": "execute_result"
    }
   ],
   "source": [
    "datos['education'].unique() # No hay que hacerle nada"
   ]
  },
  {
   "cell_type": "code",
   "execution_count": 18,
   "metadata": {},
   "outputs": [
    {
     "data": {
      "text/plain": [
       "array([nan, 'Life Sciences', 'Technical Degree', 'Medical', 'Other',\n",
       "       'Marketing', 'Human Resources'], dtype=object)"
      ]
     },
     "execution_count": 18,
     "metadata": {},
     "output_type": "execute_result"
    }
   ],
   "source": [
    "datos['educationfield'].unique() # ya está capitalizado. Nos falta ver que hacer con NaN"
   ]
  },
  {
   "cell_type": "code",
   "execution_count": 19,
   "metadata": {},
   "outputs": [
    {
     "data": {
      "text/plain": [
       "array(['162,0', '259,0', '319,0', ..., '2012,0', '2023,0', '2040,0'],\n",
       "      dtype=object)"
      ]
     },
     "execution_count": 19,
     "metadata": {},
     "output_type": "execute_result"
    }
   ],
   "source": [
    "datos['employeenumber'].unique() # tiene NaN. Tiene duplicados"
   ]
  },
  {
   "cell_type": "code",
   "execution_count": 50,
   "metadata": {},
   "outputs": [
    {
     "data": {
      "text/plain": [
       "array([nan, '1541,0', '1947,0', '1954,0', '307,0', '374,0', '524,0',\n",
       "       '569,0', '1044,0', '1053,0', '1069,0', '1131,0', '1135,0',\n",
       "       '1140,0', '1157,0', '1160,0', '1161,0', '1162,0', '1185,0',\n",
       "       '1195,0', '1778,0', '1797,0', '1804,0', '1816,0', '1821,0',\n",
       "       '1849,0', '1869,0', '1898,0', '1911,0', '1927,0', '423,0', '424,0',\n",
       "       '433,0', '440,0', '447,0', '455,0', '460,0', '465,0', '470,0',\n",
       "       '475,0', '478,0', '482,0', '495,0', '501,0', '502,0', '507,0',\n",
       "       '517,0', '522,0', '523,0', '525,0', '526,0', '530,0', '544,0',\n",
       "       '376,0', '381,0', '388,0', '389,0', '401,0', '416,0', '430,0',\n",
       "       '438,0', '446,0', '448,0', '454,0', '458,0', '476,0', '483,0',\n",
       "       '488,0', '500,0', '534,0', '586,0', '595,0', '608,0', '616,0',\n",
       "       '621,0', '653,0', '663,0', '682,0', '710,0', '717,0', '721,0',\n",
       "       '722,0', '724,0', '725,0', '728,0', '733,0', '734,0', '742,0',\n",
       "       '747,0', '762,0', '783,0', '789,0', '793,0', '803,0', '809,0',\n",
       "       '823,0', '842,0', '913,0', '927,0', '941,0', '956,0', '966,0',\n",
       "       '967,0', '972,0', '990,0'], dtype=object)"
      ]
     },
     "execution_count": 50,
     "metadata": {},
     "output_type": "execute_result"
    }
   ],
   "source": [
    "datos_duplicados = datos['employeenumber'][datos['employeenumber'].duplicated()].unique() # tomar la lista e iterar por ella para hacer la fusión. Documentar porque nos quedamos con los duplicados\n",
    "datos_duplicados"
   ]
  },
  {
   "cell_type": "code",
   "execution_count": 51,
   "metadata": {},
   "outputs": [
    {
     "data": {
      "text/plain": [
       "534"
      ]
     },
     "execution_count": 51,
     "metadata": {},
     "output_type": "execute_result"
    }
   ],
   "source": [
    "datos['employeenumber'].duplicated().sum()"
   ]
  },
  {
   "cell_type": "code",
   "execution_count": 44,
   "metadata": {},
   "outputs": [
    {
     "data": {
      "text/plain": [
       "0        162,0\n",
       "1        259,0\n",
       "2        319,0\n",
       "3          NaN\n",
       "4          NaN\n",
       "5       1900,0\n",
       "6         81,0\n",
       "7        387,0\n",
       "8          NaN\n",
       "9        999,0\n",
       "10      1035,0\n",
       "11         NaN\n",
       "12         NaN\n",
       "13        58,0\n",
       "14         NaN\n",
       "15       558,0\n",
       "16       825,0\n",
       "17         NaN\n",
       "18         NaN\n",
       "19         NaN\n",
       "20      1712,0\n",
       "21        73,0\n",
       "22         NaN\n",
       "23       820,0\n",
       "24         NaN\n",
       "25         NaN\n",
       "26         NaN\n",
       "27      1294,0\n",
       "28         NaN\n",
       "29      1774,0\n",
       "30      1815,0\n",
       "31      1993,0\n",
       "32        32,0\n",
       "33       100,0\n",
       "34         NaN\n",
       "35       244,0\n",
       "36       327,0\n",
       "37       373,0\n",
       "38         NaN\n",
       "39       729,0\n",
       "40       830,0\n",
       "41         NaN\n",
       "42       981,0\n",
       "43      1042,0\n",
       "44      1080,0\n",
       "45      1995,0\n",
       "46       145,0\n",
       "47       158,0\n",
       "48       391,0\n",
       "49       436,0\n",
       "50         NaN\n",
       "51      1527,0\n",
       "52         NaN\n",
       "53      1866,0\n",
       "54      2026,0\n",
       "55         NaN\n",
       "56       107,0\n",
       "57       170,0\n",
       "58         NaN\n",
       "59       215,0\n",
       "60       304,0\n",
       "61       529,0\n",
       "62       691,0\n",
       "63       692,0\n",
       "64      1005,0\n",
       "65      1024,0\n",
       "66      1039,0\n",
       "67      1225,0\n",
       "68      1375,0\n",
       "69         NaN\n",
       "70         NaN\n",
       "71         NaN\n",
       "72      1661,0\n",
       "73      1668,0\n",
       "74      1698,0\n",
       "75         NaN\n",
       "76      1937,0\n",
       "77      2017,0\n",
       "78       117,0\n",
       "79       131,0\n",
       "80       153,0\n",
       "81         NaN\n",
       "82       307,0\n",
       "83         NaN\n",
       "84       374,0\n",
       "85         NaN\n",
       "86         NaN\n",
       "87         NaN\n",
       "88         NaN\n",
       "89       524,0\n",
       "90       569,0\n",
       "91       899,0\n",
       "92         NaN\n",
       "93      1014,0\n",
       "94         NaN\n",
       "95      1117,0\n",
       "96      1238,0\n",
       "97         NaN\n",
       "98      1277,0\n",
       "99         NaN\n",
       "100     1541,0\n",
       "101     1666,0\n",
       "102     1696,0\n",
       "103     1805,0\n",
       "104        NaN\n",
       "105     1932,0\n",
       "106     2016,0\n",
       "107       20,0\n",
       "108        NaN\n",
       "109      184,0\n",
       "110      206,0\n",
       "111      228,0\n",
       "112      239,0\n",
       "113      256,0\n",
       "114        NaN\n",
       "115      339,0\n",
       "116      406,0\n",
       "117        NaN\n",
       "118      429,0\n",
       "119        NaN\n",
       "120      444,0\n",
       "121      452,0\n",
       "122      456,0\n",
       "123        NaN\n",
       "124      481,0\n",
       "125      513,0\n",
       "126      597,0\n",
       "127      600,0\n",
       "128        NaN\n",
       "129      630,0\n",
       "130      638,0\n",
       "131      683,0\n",
       "132      780,0\n",
       "133      817,0\n",
       "134      901,0\n",
       "135      944,0\n",
       "136      984,0\n",
       "137     1088,0\n",
       "138     1124,0\n",
       "139        NaN\n",
       "140     1167,0\n",
       "141     1184,0\n",
       "142        NaN\n",
       "143        NaN\n",
       "144     1252,0\n",
       "145     1267,0\n",
       "146     1278,0\n",
       "147     1288,0\n",
       "148        NaN\n",
       "149     1307,0\n",
       "150     1336,0\n",
       "151     1352,0\n",
       "152     1360,0\n",
       "153        NaN\n",
       "154     1419,0\n",
       "155     1478,0\n",
       "156     1480,0\n",
       "157        NaN\n",
       "158     1489,0\n",
       "159     1520,0\n",
       "160     1535,0\n",
       "161     1586,0\n",
       "162     1596,0\n",
       "163     1667,0\n",
       "164     1701,0\n",
       "165     1706,0\n",
       "166        NaN\n",
       "167        NaN\n",
       "168     1971,0\n",
       "169        NaN\n",
       "170     1976,0\n",
       "171     1985,0\n",
       "172     2032,0\n",
       "173     2056,0\n",
       "174        NaN\n",
       "175        NaN\n",
       "176       57,0\n",
       "177        NaN\n",
       "178       78,0\n",
       "179      104,0\n",
       "180      118,0\n",
       "181      121,0\n",
       "182      125,0\n",
       "183        NaN\n",
       "184      207,0\n",
       "185      227,0\n",
       "186      253,0\n",
       "187      264,0\n",
       "188      291,0\n",
       "189      292,0\n",
       "190      306,0\n",
       "191        NaN\n",
       "192      335,0\n",
       "193        NaN\n",
       "194      420,0\n",
       "195      421,0\n",
       "196      441,0\n",
       "197      531,0\n",
       "198      549,0\n",
       "199      567,0\n",
       "200      581,0\n",
       "201      702,0\n",
       "202      716,0\n",
       "203      772,0\n",
       "204      836,0\n",
       "205      840,0\n",
       "206      844,0\n",
       "207        NaN\n",
       "208      867,0\n",
       "209      889,0\n",
       "210      924,0\n",
       "211        NaN\n",
       "212        NaN\n",
       "213      976,0\n",
       "214      992,0\n",
       "215     1002,0\n",
       "216     1073,0\n",
       "217     1138,0\n",
       "218        NaN\n",
       "219     1192,0\n",
       "220     1196,0\n",
       "221        NaN\n",
       "222        NaN\n",
       "223     1315,0\n",
       "224     1324,0\n",
       "225     1334,0\n",
       "226     1346,0\n",
       "227     1356,0\n",
       "228     1423,0\n",
       "229     1459,0\n",
       "230        NaN\n",
       "231     1472,0\n",
       "232     1485,0\n",
       "233        NaN\n",
       "234     1543,0\n",
       "235     1547,0\n",
       "236     1553,0\n",
       "237     1562,0\n",
       "238     1582,0\n",
       "239     1606,0\n",
       "240        NaN\n",
       "241     1658,0\n",
       "242     1665,0\n",
       "243        NaN\n",
       "244     1737,0\n",
       "245        NaN\n",
       "246        NaN\n",
       "247     1790,0\n",
       "248        NaN\n",
       "249     1823,0\n",
       "250        NaN\n",
       "251     1857,0\n",
       "252     1864,0\n",
       "253     1881,0\n",
       "254     1888,0\n",
       "255     1950,0\n",
       "256        NaN\n",
       "257     1962,0\n",
       "258     1975,0\n",
       "259     1986,0\n",
       "260        NaN\n",
       "261     2000,0\n",
       "262        NaN\n",
       "263        2,0\n",
       "264        5,0\n",
       "265        NaN\n",
       "266        NaN\n",
       "267        NaN\n",
       "268       35,0\n",
       "269       76,0\n",
       "270       98,0\n",
       "271      120,0\n",
       "272      147,0\n",
       "273      154,0\n",
       "274      159,0\n",
       "275      160,0\n",
       "276      163,0\n",
       "277      176,0\n",
       "278      177,0\n",
       "279      195,0\n",
       "280      202,0\n",
       "281      205,0\n",
       "282        NaN\n",
       "283        NaN\n",
       "284      252,0\n",
       "285      258,0\n",
       "286      260,0\n",
       "287      267,0\n",
       "288        NaN\n",
       "289      275,0\n",
       "290      293,0\n",
       "291      302,0\n",
       "292      314,0\n",
       "293        NaN\n",
       "294      329,0\n",
       "295        NaN\n",
       "296      361,0\n",
       "297      363,0\n",
       "298        NaN\n",
       "299      376,0\n",
       "300      381,0\n",
       "301      388,0\n",
       "302      389,0\n",
       "303      401,0\n",
       "304      416,0\n",
       "305      430,0\n",
       "306      438,0\n",
       "307        NaN\n",
       "308      446,0\n",
       "309      448,0\n",
       "310      454,0\n",
       "311      458,0\n",
       "312        NaN\n",
       "313        NaN\n",
       "314      476,0\n",
       "315      483,0\n",
       "316      488,0\n",
       "317      500,0\n",
       "318        NaN\n",
       "319        NaN\n",
       "320      534,0\n",
       "321        NaN\n",
       "322        NaN\n",
       "323      586,0\n",
       "324      595,0\n",
       "325        NaN\n",
       "326      608,0\n",
       "327      616,0\n",
       "328      621,0\n",
       "329      653,0\n",
       "330      663,0\n",
       "331      682,0\n",
       "332        NaN\n",
       "333        NaN\n",
       "334        NaN\n",
       "335      710,0\n",
       "336      717,0\n",
       "337      721,0\n",
       "338      722,0\n",
       "339      724,0\n",
       "340      725,0\n",
       "341        NaN\n",
       "342      728,0\n",
       "343      733,0\n",
       "344      734,0\n",
       "345        NaN\n",
       "346      742,0\n",
       "347      747,0\n",
       "348      762,0\n",
       "349      783,0\n",
       "350      789,0\n",
       "351      793,0\n",
       "352      803,0\n",
       "353        NaN\n",
       "354      809,0\n",
       "355      823,0\n",
       "356        NaN\n",
       "357      842,0\n",
       "358        NaN\n",
       "359        NaN\n",
       "360      913,0\n",
       "361      927,0\n",
       "362      941,0\n",
       "363      956,0\n",
       "364        NaN\n",
       "365      966,0\n",
       "366      967,0\n",
       "367      972,0\n",
       "368        NaN\n",
       "369      990,0\n",
       "370        NaN\n",
       "371     1013,0\n",
       "372     1015,0\n",
       "373     1018,0\n",
       "374     1034,0\n",
       "375        NaN\n",
       "376     1046,0\n",
       "377     1050,0\n",
       "378        NaN\n",
       "379     1074,0\n",
       "380     1082,0\n",
       "381     1097,0\n",
       "382     1100,0\n",
       "383     1101,0\n",
       "384     1106,0\n",
       "385     1119,0\n",
       "386        NaN\n",
       "387     1126,0\n",
       "388        NaN\n",
       "389     1128,0\n",
       "390        NaN\n",
       "391        NaN\n",
       "392     1177,0\n",
       "393     1182,0\n",
       "394     1201,0\n",
       "395     1218,0\n",
       "396     1220,0\n",
       "397        NaN\n",
       "398     1224,0\n",
       "399        NaN\n",
       "400     1235,0\n",
       "401     1237,0\n",
       "402        NaN\n",
       "403     1255,0\n",
       "404     1264,0\n",
       "405     1283,0\n",
       "406     1293,0\n",
       "407     1295,0\n",
       "408        NaN\n",
       "409        NaN\n",
       "410        NaN\n",
       "411        NaN\n",
       "412     1322,0\n",
       "413     1344,0\n",
       "414     1355,0\n",
       "415     1362,0\n",
       "416     1369,0\n",
       "417        NaN\n",
       "418     1377,0\n",
       "419     1402,0\n",
       "420     1408,0\n",
       "421     1417,0\n",
       "422     1421,0\n",
       "423     1422,0\n",
       "424     1424,0\n",
       "425        NaN\n",
       "426        NaN\n",
       "427     1457,0\n",
       "428     1460,0\n",
       "429     1484,0\n",
       "430     1497,0\n",
       "431     1522,0\n",
       "432     1544,0\n",
       "433        NaN\n",
       "434        NaN\n",
       "435     1572,0\n",
       "436     1608,0\n",
       "437     1611,0\n",
       "438     1612,0\n",
       "439     1615,0\n",
       "440        NaN\n",
       "441     1619,0\n",
       "442     1635,0\n",
       "443     1642,0\n",
       "444     1653,0\n",
       "445        NaN\n",
       "446     1691,0\n",
       "447     1693,0\n",
       "448     1703,0\n",
       "449        NaN\n",
       "450     1727,0\n",
       "451     1728,0\n",
       "452     1745,0\n",
       "453     1754,0\n",
       "454     1756,0\n",
       "455     1764,0\n",
       "456     1778,0\n",
       "457        NaN\n",
       "458     1797,0\n",
       "459     1804,0\n",
       "460     1816,0\n",
       "461     1821,0\n",
       "462        NaN\n",
       "463     1849,0\n",
       "464     1869,0\n",
       "465        NaN\n",
       "466     1898,0\n",
       "467     1911,0\n",
       "468        NaN\n",
       "469     1927,0\n",
       "470     1934,0\n",
       "471     1951,0\n",
       "472     1952,0\n",
       "473     1965,0\n",
       "474     1967,0\n",
       "475        NaN\n",
       "476     1979,0\n",
       "477     2008,0\n",
       "478     2009,0\n",
       "479     2014,0\n",
       "480        NaN\n",
       "481     2034,0\n",
       "482     2035,0\n",
       "483        NaN\n",
       "484     2062,0\n",
       "485       28,0\n",
       "486        NaN\n",
       "487       62,0\n",
       "488      199,0\n",
       "489      343,0\n",
       "490      351,0\n",
       "491      428,0\n",
       "492      464,0\n",
       "493        NaN\n",
       "494        NaN\n",
       "495      731,0\n",
       "496      764,0\n",
       "497        NaN\n",
       "498      851,0\n",
       "499      903,0\n",
       "500      905,0\n",
       "501      942,0\n",
       "502     1026,0\n",
       "503        NaN\n",
       "504     1085,0\n",
       "505        NaN\n",
       "506     1109,0\n",
       "507     1118,0\n",
       "508     1152,0\n",
       "509        NaN\n",
       "510     1350,0\n",
       "511     1514,0\n",
       "512     1523,0\n",
       "513     1539,0\n",
       "514        NaN\n",
       "515     1588,0\n",
       "516     1617,0\n",
       "517     1719,0\n",
       "518        NaN\n",
       "519     1870,0\n",
       "520     2031,0\n",
       "521     2065,0\n",
       "522       15,0\n",
       "523       60,0\n",
       "524        NaN\n",
       "525       85,0\n",
       "526        NaN\n",
       "527      346,0\n",
       "528      384,0\n",
       "529      498,0\n",
       "530      551,0\n",
       "531      604,0\n",
       "532        NaN\n",
       "533      626,0\n",
       "534        NaN\n",
       "535        NaN\n",
       "536      644,0\n",
       "537      649,0\n",
       "538      714,0\n",
       "539      781,0\n",
       "540        NaN\n",
       "541      804,0\n",
       "542        NaN\n",
       "543      856,0\n",
       "544      998,0\n",
       "545     1120,0\n",
       "546     1143,0\n",
       "547        NaN\n",
       "548        NaN\n",
       "549        NaN\n",
       "550     1251,0\n",
       "551        NaN\n",
       "552     1438,0\n",
       "553        NaN\n",
       "554     1574,0\n",
       "555     1671,0\n",
       "556        NaN\n",
       "557        NaN\n",
       "558        NaN\n",
       "559        NaN\n",
       "560       94,0\n",
       "561        NaN\n",
       "562        NaN\n",
       "563      112,0\n",
       "564      129,0\n",
       "565      142,0\n",
       "566      161,0\n",
       "567      164,0\n",
       "568      190,0\n",
       "569      194,0\n",
       "570      226,0\n",
       "571      231,0\n",
       "572      240,0\n",
       "573      262,0\n",
       "574      283,0\n",
       "575      308,0\n",
       "576      325,0\n",
       "577      355,0\n",
       "578      378,0\n",
       "579        NaN\n",
       "580        NaN\n",
       "581        NaN\n",
       "582      449,0\n",
       "583      466,0\n",
       "584      486,0\n",
       "585      492,0\n",
       "586      505,0\n",
       "587      510,0\n",
       "588        NaN\n",
       "589      527,0\n",
       "590        NaN\n",
       "591        NaN\n",
       "592      547,0\n",
       "593      548,0\n",
       "594      577,0\n",
       "595        NaN\n",
       "596        NaN\n",
       "597        NaN\n",
       "598      679,0\n",
       "599      785,0\n",
       "600      861,0\n",
       "601      864,0\n",
       "602      878,0\n",
       "603      895,0\n",
       "604      900,0\n",
       "605        NaN\n",
       "606      936,0\n",
       "607        NaN\n",
       "608      997,0\n",
       "609     1048,0\n",
       "610        NaN\n",
       "611     1071,0\n",
       "612     1116,0\n",
       "613     1132,0\n",
       "614        NaN\n",
       "615     1171,0\n",
       "616     1200,0\n",
       "617     1202,0\n",
       "618        NaN\n",
       "619     1245,0\n",
       "620     1280,0\n",
       "621        NaN\n",
       "622     1309,0\n",
       "623        NaN\n",
       "624     1374,0\n",
       "625     1390,0\n",
       "626        NaN\n",
       "627     1395,0\n",
       "628     1397,0\n",
       "629     1409,0\n",
       "630     1425,0\n",
       "631     1435,0\n",
       "632     1445,0\n",
       "633        NaN\n",
       "634     1469,0\n",
       "635        NaN\n",
       "636     1503,0\n",
       "637     1534,0\n",
       "638     1546,0\n",
       "639     1548,0\n",
       "640        NaN\n",
       "641     1598,0\n",
       "642     1599,0\n",
       "643     1609,0\n",
       "644     1638,0\n",
       "645     1640,0\n",
       "646        NaN\n",
       "647     1664,0\n",
       "648     1684,0\n",
       "649     1704,0\n",
       "650     1736,0\n",
       "651     1782,0\n",
       "652     1826,0\n",
       "653        NaN\n",
       "654     1850,0\n",
       "655     1909,0\n",
       "656     1924,0\n",
       "657     1941,0\n",
       "658     1949,0\n",
       "659        NaN\n",
       "660        NaN\n",
       "661        NaN\n",
       "662       27,0\n",
       "663       46,0\n",
       "664       52,0\n",
       "665       68,0\n",
       "666       79,0\n",
       "667       80,0\n",
       "668       91,0\n",
       "669      119,0\n",
       "670      126,0\n",
       "671        NaN\n",
       "672      148,0\n",
       "673      150,0\n",
       "674        NaN\n",
       "675      198,0\n",
       "676      216,0\n",
       "677        NaN\n",
       "678      230,0\n",
       "679        NaN\n",
       "680      270,0\n",
       "681      277,0\n",
       "682      299,0\n",
       "683      315,0\n",
       "684      330,0\n",
       "685      369,0\n",
       "686      386,0\n",
       "687      390,0\n",
       "688        NaN\n",
       "689      412,0\n",
       "690      422,0\n",
       "691      434,0\n",
       "692      450,0\n",
       "693        NaN\n",
       "694      469,0\n",
       "695      491,0\n",
       "696      554,0\n",
       "697        NaN\n",
       "698      579,0\n",
       "699        NaN\n",
       "700      592,0\n",
       "701      599,0\n",
       "702        NaN\n",
       "703      641,0\n",
       "704        NaN\n",
       "705      655,0\n",
       "706      667,0\n",
       "707        NaN\n",
       "708      758,0\n",
       "709      760,0\n",
       "710      791,0\n",
       "711      796,0\n",
       "712      799,0\n",
       "713        NaN\n",
       "714      815,0\n",
       "715      827,0\n",
       "716        NaN\n",
       "717        NaN\n",
       "718      865,0\n",
       "719        NaN\n",
       "720      894,0\n",
       "721        NaN\n",
       "722        NaN\n",
       "723      983,0\n",
       "724      996,0\n",
       "725     1011,0\n",
       "726     1019,0\n",
       "727     1032,0\n",
       "728     1045,0\n",
       "729     1049,0\n",
       "730        NaN\n",
       "731     1068,0\n",
       "732        NaN\n",
       "733     1136,0\n",
       "734        NaN\n",
       "735     1179,0\n",
       "736     1188,0\n",
       "737     1211,0\n",
       "738     1228,0\n",
       "739     1231,0\n",
       "740        NaN\n",
       "741     1259,0\n",
       "742     1338,0\n",
       "743     1349,0\n",
       "744     1387,0\n",
       "745     1401,0\n",
       "746     1407,0\n",
       "747     1420,0\n",
       "748     1431,0\n",
       "749     1446,0\n",
       "750     1477,0\n",
       "751     1487,0\n",
       "752     1499,0\n",
       "753     1533,0\n",
       "754     1545,0\n",
       "755     1554,0\n",
       "756     1563,0\n",
       "757     1622,0\n",
       "758     1631,0\n",
       "759     1646,0\n",
       "760     1659,0\n",
       "761        NaN\n",
       "762     1689,0\n",
       "763     1700,0\n",
       "764        NaN\n",
       "765        NaN\n",
       "766     1739,0\n",
       "767     1768,0\n",
       "768     1772,0\n",
       "769     1792,0\n",
       "770        NaN\n",
       "771     1800,0\n",
       "772        NaN\n",
       "773        NaN\n",
       "774     1822,0\n",
       "775        NaN\n",
       "776     1854,0\n",
       "777     1882,0\n",
       "778     1885,0\n",
       "779     1931,0\n",
       "780     1945,0\n",
       "781     1947,0\n",
       "782     1954,0\n",
       "783     1969,0\n",
       "784     1981,0\n",
       "785     1997,0\n",
       "786     1998,0\n",
       "787     1999,0\n",
       "788     2018,0\n",
       "789        NaN\n",
       "790     2044,0\n",
       "791        NaN\n",
       "792     2046,0\n",
       "793        NaN\n",
       "794     2052,0\n",
       "795     2053,0\n",
       "796     2068,0\n",
       "797        7,0\n",
       "798       16,0\n",
       "799       18,0\n",
       "800       19,0\n",
       "801       21,0\n",
       "802       24,0\n",
       "803       26,0\n",
       "804       31,0\n",
       "805       33,0\n",
       "806       38,0\n",
       "807       40,0\n",
       "808       47,0\n",
       "809       49,0\n",
       "810       65,0\n",
       "811       72,0\n",
       "812        NaN\n",
       "813       88,0\n",
       "814      102,0\n",
       "815      103,0\n",
       "816      110,0\n",
       "817      116,0\n",
       "818      128,0\n",
       "819      132,0\n",
       "820      133,0\n",
       "821        NaN\n",
       "822      143,0\n",
       "823      171,0\n",
       "824        NaN\n",
       "825      175,0\n",
       "826      178,0\n",
       "827      179,0\n",
       "828        NaN\n",
       "829      193,0\n",
       "830      197,0\n",
       "831        NaN\n",
       "832      218,0\n",
       "833      221,0\n",
       "834      233,0\n",
       "835      241,0\n",
       "836      245,0\n",
       "837      246,0\n",
       "838      247,0\n",
       "839      249,0\n",
       "840      250,0\n",
       "841      269,0\n",
       "842        NaN\n",
       "843        NaN\n",
       "844        NaN\n",
       "845      287,0\n",
       "846      288,0\n",
       "847      297,0\n",
       "848        NaN\n",
       "849      303,0\n",
       "850      305,0\n",
       "851      316,0\n",
       "852        NaN\n",
       "853        NaN\n",
       "854      332,0\n",
       "855        NaN\n",
       "856      337,0\n",
       "857      338,0\n",
       "858      341,0\n",
       "859      347,0\n",
       "860      349,0\n",
       "861      350,0\n",
       "862      362,0\n",
       "863        NaN\n",
       "864      379,0\n",
       "865      380,0\n",
       "866      393,0\n",
       "867      394,0\n",
       "868      396,0\n",
       "869        NaN\n",
       "870      403,0\n",
       "871      423,0\n",
       "872      424,0\n",
       "873        NaN\n",
       "874      433,0\n",
       "875      440,0\n",
       "876      447,0\n",
       "877      455,0\n",
       "878      460,0\n",
       "879      465,0\n",
       "880      470,0\n",
       "881      475,0\n",
       "882      478,0\n",
       "883      482,0\n",
       "884        NaN\n",
       "885        NaN\n",
       "886      495,0\n",
       "887        NaN\n",
       "888        NaN\n",
       "889      501,0\n",
       "890      502,0\n",
       "891      507,0\n",
       "892      517,0\n",
       "893      522,0\n",
       "894      523,0\n",
       "895      525,0\n",
       "896      526,0\n",
       "897      530,0\n",
       "898        NaN\n",
       "899      544,0\n",
       "900        NaN\n",
       "901      555,0\n",
       "902        NaN\n",
       "903      564,0\n",
       "904        NaN\n",
       "905        NaN\n",
       "906      580,0\n",
       "907      585,0\n",
       "908        NaN\n",
       "909      591,0\n",
       "910      593,0\n",
       "911      611,0\n",
       "912      624,0\n",
       "913      631,0\n",
       "914      632,0\n",
       "915      652,0\n",
       "916      659,0\n",
       "917      664,0\n",
       "918      665,0\n",
       "919      666,0\n",
       "920        NaN\n",
       "921      671,0\n",
       "922      675,0\n",
       "923      686,0\n",
       "924      699,0\n",
       "925        NaN\n",
       "926      705,0\n",
       "927      707,0\n",
       "928      712,0\n",
       "929        NaN\n",
       "930      732,0\n",
       "931      738,0\n",
       "932      744,0\n",
       "933      746,0\n",
       "934      752,0\n",
       "935      754,0\n",
       "936        NaN\n",
       "937        NaN\n",
       "938      769,0\n",
       "939        NaN\n",
       "940        NaN\n",
       "941      792,0\n",
       "942      797,0\n",
       "943      800,0\n",
       "944        NaN\n",
       "945      806,0\n",
       "946        NaN\n",
       "947      813,0\n",
       "948      819,0\n",
       "949        NaN\n",
       "950        NaN\n",
       "951        NaN\n",
       "952      838,0\n",
       "953      847,0\n",
       "954      852,0\n",
       "955      859,0\n",
       "956        NaN\n",
       "957      872,0\n",
       "958      874,0\n",
       "959      881,0\n",
       "960      885,0\n",
       "961        NaN\n",
       "962      888,0\n",
       "963      893,0\n",
       "964      896,0\n",
       "965      902,0\n",
       "966      916,0\n",
       "967      922,0\n",
       "968      925,0\n",
       "969        NaN\n",
       "970      930,0\n",
       "971        NaN\n",
       "972      939,0\n",
       "973        NaN\n",
       "974      975,0\n",
       "975      991,0\n",
       "976      995,0\n",
       "977     1001,0\n",
       "978        NaN\n",
       "979        NaN\n",
       "980     1010,0\n",
       "981     1017,0\n",
       "982     1022,0\n",
       "983        NaN\n",
       "984     1027,0\n",
       "985     1028,0\n",
       "986     1037,0\n",
       "987     1044,0\n",
       "988     1053,0\n",
       "989        NaN\n",
       "990     1069,0\n",
       "991     1077,0\n",
       "992     1084,0\n",
       "993     1094,0\n",
       "994     1096,0\n",
       "995     1099,0\n",
       "996     1102,0\n",
       "997     1103,0\n",
       "998     1108,0\n",
       "999     1114,0\n",
       "1000    1131,0\n",
       "1001    1135,0\n",
       "1002       NaN\n",
       "1003    1140,0\n",
       "1004    1157,0\n",
       "1005    1160,0\n",
       "1006    1161,0\n",
       "1007    1162,0\n",
       "1008    1185,0\n",
       "1009       NaN\n",
       "1010    1195,0\n",
       "1011       NaN\n",
       "1012       NaN\n",
       "1013    1217,0\n",
       "1014    1234,0\n",
       "1015       NaN\n",
       "1016       NaN\n",
       "1017       NaN\n",
       "1018       NaN\n",
       "1019    1286,0\n",
       "1020    1291,0\n",
       "1021       NaN\n",
       "1022    1301,0\n",
       "1023    1303,0\n",
       "1024    1308,0\n",
       "1025       NaN\n",
       "1026    1311,0\n",
       "1027    1317,0\n",
       "1028    1329,0\n",
       "1029    1331,0\n",
       "1030    1333,0\n",
       "1031       NaN\n",
       "1032    1358,0\n",
       "1033    1361,0\n",
       "1034       NaN\n",
       "1035    1371,0\n",
       "1036    1380,0\n",
       "1037       NaN\n",
       "1038    1389,0\n",
       "1039       NaN\n",
       "1040    1392,0\n",
       "1041    1396,0\n",
       "1042       NaN\n",
       "1043    1403,0\n",
       "1044    1405,0\n",
       "1045    1411,0\n",
       "1046    1412,0\n",
       "1047    1415,0\n",
       "1048    1428,0\n",
       "1049       NaN\n",
       "1050    1436,0\n",
       "1051    1439,0\n",
       "1052    1441,0\n",
       "1053    1448,0\n",
       "1054       NaN\n",
       "1055    1464,0\n",
       "1056    1466,0\n",
       "1057    1467,0\n",
       "1058    1471,0\n",
       "1059    1473,0\n",
       "1060    1475,0\n",
       "1061    1486,0\n",
       "1062       NaN\n",
       "1063       NaN\n",
       "1064    1507,0\n",
       "1065    1509,0\n",
       "1066    1513,0\n",
       "1067    1516,0\n",
       "1068    1537,0\n",
       "1069    1552,0\n",
       "1070       NaN\n",
       "1071    1560,0\n",
       "1072    1568,0\n",
       "1073    1573,0\n",
       "1074    1576,0\n",
       "1075    1580,0\n",
       "1076    1583,0\n",
       "1077    1587,0\n",
       "1078    1592,0\n",
       "1079    1594,0\n",
       "1080    1597,0\n",
       "1081       NaN\n",
       "1082    1607,0\n",
       "1083       NaN\n",
       "1084       NaN\n",
       "1085    1623,0\n",
       "1086       NaN\n",
       "1087       NaN\n",
       "1088    1641,0\n",
       "1089    1644,0\n",
       "1090    1645,0\n",
       "1091    1647,0\n",
       "1092    1648,0\n",
       "1093       NaN\n",
       "1094       NaN\n",
       "1095    1651,0\n",
       "1096    1655,0\n",
       "1097    1657,0\n",
       "1098    1662,0\n",
       "1099    1670,0\n",
       "1100    1674,0\n",
       "1101       NaN\n",
       "1102       NaN\n",
       "1103    1682,0\n",
       "1104    1683,0\n",
       "1105    1694,0\n",
       "1106    1702,0\n",
       "1107       NaN\n",
       "1108       NaN\n",
       "1109    1721,0\n",
       "1110    1722,0\n",
       "1111       NaN\n",
       "1112    1733,0\n",
       "1113    1735,0\n",
       "1114    1746,0\n",
       "1115       NaN\n",
       "1116       NaN\n",
       "1117    1751,0\n",
       "1118       NaN\n",
       "1119    1753,0\n",
       "1120       NaN\n",
       "1121       NaN\n",
       "1122       NaN\n",
       "1123    1787,0\n",
       "1124    1801,0\n",
       "1125    1813,0\n",
       "1126    1814,0\n",
       "1127    1833,0\n",
       "1128    1834,0\n",
       "1129    1835,0\n",
       "1130    1837,0\n",
       "1131    1844,0\n",
       "1132    1856,0\n",
       "1133    1858,0\n",
       "1134       NaN\n",
       "1135       NaN\n",
       "1136    1873,0\n",
       "1137    1883,0\n",
       "1138    1886,0\n",
       "1139    1905,0\n",
       "1140    1907,0\n",
       "1141    1908,0\n",
       "1142       NaN\n",
       "1143       NaN\n",
       "1144       NaN\n",
       "1145    1922,0\n",
       "1146    1929,0\n",
       "1147       NaN\n",
       "1148    1948,0\n",
       "1149       NaN\n",
       "1150    1972,0\n",
       "1151    1980,0\n",
       "1152    1982,0\n",
       "1153    1992,0\n",
       "1154    1996,0\n",
       "1155    2003,0\n",
       "1156    2007,0\n",
       "1157    2010,0\n",
       "1158       NaN\n",
       "1159       NaN\n",
       "1160       NaN\n",
       "1161    2027,0\n",
       "1162    2038,0\n",
       "1163    2048,0\n",
       "1164       NaN\n",
       "1165    2055,0\n",
       "1166    2060,0\n",
       "1167    2061,0\n",
       "1168    2064,0\n",
       "1169      39,0\n",
       "1170      51,0\n",
       "1171      95,0\n",
       "1172     169,0\n",
       "1173     224,0\n",
       "1174     242,0\n",
       "1175     286,0\n",
       "1176     340,0\n",
       "1177       NaN\n",
       "1178       NaN\n",
       "1179     431,0\n",
       "1180     496,0\n",
       "1181     511,0\n",
       "1182     612,0\n",
       "1183     650,0\n",
       "1184     684,0\n",
       "1185     730,0\n",
       "1186     757,0\n",
       "1187       NaN\n",
       "1188     869,0\n",
       "1189     875,0\n",
       "1190       NaN\n",
       "1191     964,0\n",
       "1192     970,0\n",
       "1193       NaN\n",
       "1194    1006,0\n",
       "1195       NaN\n",
       "1196    1055,0\n",
       "1197    1061,0\n",
       "1198    1107,0\n",
       "1199       NaN\n",
       "1200       NaN\n",
       "1201    1180,0\n",
       "1202    1193,0\n",
       "1203    1226,0\n",
       "1204       NaN\n",
       "1205       NaN\n",
       "1206    1254,0\n",
       "1207    1321,0\n",
       "1208    1465,0\n",
       "1209       NaN\n",
       "1210    1479,0\n",
       "1211    1551,0\n",
       "1212    1555,0\n",
       "1213    1604,0\n",
       "1214    1757,0\n",
       "1215    1760,0\n",
       "1216    1789,0\n",
       "1217    1807,0\n",
       "1218    1812,0\n",
       "1219    1818,0\n",
       "1220    1830,0\n",
       "1221    1890,0\n",
       "1222    1939,0\n",
       "1223       NaN\n",
       "1224       NaN\n",
       "1225    1994,0\n",
       "1226       4,0\n",
       "1227      10,0\n",
       "1228       NaN\n",
       "1229       NaN\n",
       "1230      30,0\n",
       "1231      41,0\n",
       "1232      42,0\n",
       "1233       NaN\n",
       "1234      53,0\n",
       "1235      54,0\n",
       "1236      55,0\n",
       "1237       NaN\n",
       "1238       NaN\n",
       "1239      64,0\n",
       "1240      70,0\n",
       "1241      84,0\n",
       "1242       NaN\n",
       "1243       NaN\n",
       "1244      97,0\n",
       "1245       NaN\n",
       "1246     106,0\n",
       "1247     113,0\n",
       "1248       NaN\n",
       "1249     137,0\n",
       "1250     139,0\n",
       "1251     144,0\n",
       "1252       NaN\n",
       "1253     155,0\n",
       "1254     167,0\n",
       "1255     200,0\n",
       "1256     201,0\n",
       "1257     211,0\n",
       "1258     214,0\n",
       "1259       NaN\n",
       "1260     243,0\n",
       "1261       NaN\n",
       "1262     271,0\n",
       "1263     282,0\n",
       "1264       NaN\n",
       "1265     309,0\n",
       "1266     323,0\n",
       "1267     334,0\n",
       "1268       NaN\n",
       "1269     342,0\n",
       "1270       NaN\n",
       "1271     364,0\n",
       "1272       NaN\n",
       "1273     367,0\n",
       "1274       NaN\n",
       "1275     392,0\n",
       "1276     397,0\n",
       "1277       NaN\n",
       "1278     407,0\n",
       "1279       NaN\n",
       "1280     445,0\n",
       "1281       NaN\n",
       "1282       NaN\n",
       "1283     468,0\n",
       "1284     471,0\n",
       "1285     473,0\n",
       "1286     477,0\n",
       "1287     479,0\n",
       "1288     485,0\n",
       "1289     487,0\n",
       "1290     494,0\n",
       "1291     508,0\n",
       "1292     514,0\n",
       "1293     518,0\n",
       "1294       NaN\n",
       "1295       NaN\n",
       "1296     556,0\n",
       "1297     566,0\n",
       "1298     568,0\n",
       "1299       NaN\n",
       "1300       NaN\n",
       "1301       NaN\n",
       "1302     614,0\n",
       "1303     615,0\n",
       "1304       NaN\n",
       "1305     622,0\n",
       "1306       NaN\n",
       "1307     643,0\n",
       "1308     648,0\n",
       "1309     656,0\n",
       "1310     657,0\n",
       "1311     661,0\n",
       "1312     662,0\n",
       "1313       NaN\n",
       "1314       NaN\n",
       "1315     690,0\n",
       "1316     701,0\n",
       "1317     704,0\n",
       "1318     715,0\n",
       "1319     743,0\n",
       "1320     749,0\n",
       "1321       NaN\n",
       "1322     773,0\n",
       "1323     775,0\n",
       "1324     811,0\n",
       "1325     812,0\n",
       "1326     816,0\n",
       "1327     832,0\n",
       "1328     833,0\n",
       "1329     834,0\n",
       "1330       NaN\n",
       "1331       NaN\n",
       "1332       NaN\n",
       "1333     897,0\n",
       "1334     904,0\n",
       "1335     911,0\n",
       "1336     918,0\n",
       "1337       NaN\n",
       "1338     923,0\n",
       "1339     934,0\n",
       "1340     940,0\n",
       "1341     945,0\n",
       "1342     951,0\n",
       "1343     952,0\n",
       "1344     954,0\n",
       "1345     959,0\n",
       "1346       NaN\n",
       "1347       NaN\n",
       "1348       NaN\n",
       "1349     986,0\n",
       "1350     994,0\n",
       "1351    1003,0\n",
       "1352    1012,0\n",
       "1353       NaN\n",
       "1354    1029,0\n",
       "1355       NaN\n",
       "1356    1033,0\n",
       "1357       NaN\n",
       "1358    1052,0\n",
       "1359    1056,0\n",
       "1360    1076,0\n",
       "1361    1079,0\n",
       "1362    1081,0\n",
       "1363    1105,0\n",
       "1364    1111,0\n",
       "1365    1113,0\n",
       "1366    1115,0\n",
       "1367    1125,0\n",
       "1368       NaN\n",
       "1369    1156,0\n",
       "1370    1158,0\n",
       "1371    1172,0\n",
       "1372    1190,0\n",
       "1373       NaN\n",
       "1374    1206,0\n",
       "1375    1210,0\n",
       "1376       NaN\n",
       "1377       NaN\n",
       "1378    1242,0\n",
       "1379    1256,0\n",
       "1380    1258,0\n",
       "1381    1260,0\n",
       "1382    1263,0\n",
       "1383       NaN\n",
       "1384    1269,0\n",
       "1385    1270,0\n",
       "1386    1273,0\n",
       "1387       NaN\n",
       "1388       NaN\n",
       "1389    1306,0\n",
       "1390    1364,0\n",
       "1391    1368,0\n",
       "1392    1379,0\n",
       "1393    1427,0\n",
       "1394    1433,0\n",
       "1395    1434,0\n",
       "1396    1458,0\n",
       "1397    1481,0\n",
       "1398    1482,0\n",
       "1399       NaN\n",
       "1400    1494,0\n",
       "1401       NaN\n",
       "1402    1504,0\n",
       "1403       NaN\n",
       "1404    1515,0\n",
       "1405    1525,0\n",
       "1406    1542,0\n",
       "1407    1558,0\n",
       "1408    1564,0\n",
       "1409       NaN\n",
       "1410    1577,0\n",
       "1411    1581,0\n",
       "1412       NaN\n",
       "1413    1591,0\n",
       "1414       NaN\n",
       "1415    1601,0\n",
       "1416    1602,0\n",
       "1417    1624,0\n",
       "1418    1669,0\n",
       "1419    1673,0\n",
       "1420    1678,0\n",
       "1421       NaN\n",
       "1422       NaN\n",
       "1423    1697,0\n",
       "1424    1714,0\n",
       "1425    1724,0\n",
       "1426       NaN\n",
       "1427    1731,0\n",
       "1428       NaN\n",
       "1429    1744,0\n",
       "1430    1755,0\n",
       "1431    1758,0\n",
       "1432    1761,0\n",
       "1433       NaN\n",
       "1434    1763,0\n",
       "1435    1766,0\n",
       "1436       NaN\n",
       "1437       NaN\n",
       "1438       NaN\n",
       "1439    1783,0\n",
       "1440       NaN\n",
       "1441       NaN\n",
       "1442    1839,0\n",
       "1443    1842,0\n",
       "1444    1847,0\n",
       "1445    1853,0\n",
       "1446       NaN\n",
       "1447    1860,0\n",
       "1448    1865,0\n",
       "1449       NaN\n",
       "1450    1875,0\n",
       "1451    1876,0\n",
       "1452       NaN\n",
       "1453    1893,0\n",
       "1454    1903,0\n",
       "1455    1928,0\n",
       "1456    1933,0\n",
       "1457    1935,0\n",
       "1458    1936,0\n",
       "1459    1938,0\n",
       "1460    1943,0\n",
       "1461    1944,0\n",
       "1462    1961,0\n",
       "1463    1966,0\n",
       "1464    1974,0\n",
       "1465       NaN\n",
       "1466    2012,0\n",
       "1467       NaN\n",
       "1468    2023,0\n",
       "1469    2040,0\n",
       "1470    1541,0\n",
       "1471    1947,0\n",
       "1472    1954,0\n",
       "1473       NaN\n",
       "1474     307,0\n",
       "1475       NaN\n",
       "1476     374,0\n",
       "1477       NaN\n",
       "1478       NaN\n",
       "1479       NaN\n",
       "1480       NaN\n",
       "1481     524,0\n",
       "1482     569,0\n",
       "1483    1044,0\n",
       "1484    1053,0\n",
       "1485       NaN\n",
       "1486    1069,0\n",
       "1487    1131,0\n",
       "1488    1135,0\n",
       "1489       NaN\n",
       "1490    1140,0\n",
       "1491    1157,0\n",
       "1492    1160,0\n",
       "1493    1161,0\n",
       "1494    1162,0\n",
       "1495    1185,0\n",
       "1496       NaN\n",
       "1497    1195,0\n",
       "1498    1778,0\n",
       "1499       NaN\n",
       "1500    1797,0\n",
       "1501    1804,0\n",
       "1502    1816,0\n",
       "1503    1821,0\n",
       "1504       NaN\n",
       "1505    1849,0\n",
       "1506    1869,0\n",
       "1507       NaN\n",
       "1508    1898,0\n",
       "1509    1911,0\n",
       "1510       NaN\n",
       "1511    1927,0\n",
       "1512     423,0\n",
       "1513     424,0\n",
       "1514       NaN\n",
       "1515     433,0\n",
       "1516     440,0\n",
       "1517     447,0\n",
       "1518     455,0\n",
       "1519     460,0\n",
       "1520     465,0\n",
       "1521     470,0\n",
       "1522     475,0\n",
       "1523     478,0\n",
       "1524     482,0\n",
       "1525       NaN\n",
       "1526       NaN\n",
       "1527     495,0\n",
       "1528       NaN\n",
       "1529       NaN\n",
       "1530     501,0\n",
       "1531     502,0\n",
       "1532     507,0\n",
       "1533     517,0\n",
       "1534     522,0\n",
       "1535     523,0\n",
       "1536     525,0\n",
       "1537     526,0\n",
       "1538     530,0\n",
       "1539       NaN\n",
       "1540     544,0\n",
       "1541       NaN\n",
       "1542     376,0\n",
       "1543     381,0\n",
       "1544     388,0\n",
       "1545     389,0\n",
       "1546     401,0\n",
       "1547     416,0\n",
       "1548     430,0\n",
       "1549     438,0\n",
       "1550       NaN\n",
       "1551     446,0\n",
       "1552     448,0\n",
       "1553     454,0\n",
       "1554     458,0\n",
       "1555       NaN\n",
       "1556       NaN\n",
       "1557     476,0\n",
       "1558     483,0\n",
       "1559     488,0\n",
       "1560     500,0\n",
       "1561       NaN\n",
       "1562       NaN\n",
       "1563     534,0\n",
       "1564       NaN\n",
       "1565       NaN\n",
       "1566     586,0\n",
       "1567     595,0\n",
       "1568       NaN\n",
       "1569     608,0\n",
       "1570     616,0\n",
       "1571     621,0\n",
       "1572     653,0\n",
       "1573     663,0\n",
       "1574     682,0\n",
       "1575       NaN\n",
       "1576       NaN\n",
       "1577       NaN\n",
       "1578     710,0\n",
       "1579     717,0\n",
       "1580     721,0\n",
       "1581     722,0\n",
       "1582     724,0\n",
       "1583     725,0\n",
       "1584       NaN\n",
       "1585     728,0\n",
       "1586     733,0\n",
       "1587     734,0\n",
       "1588       NaN\n",
       "1589     742,0\n",
       "1590     747,0\n",
       "1591     762,0\n",
       "1592     783,0\n",
       "1593     789,0\n",
       "1594     793,0\n",
       "1595     803,0\n",
       "1596       NaN\n",
       "1597     809,0\n",
       "1598     823,0\n",
       "1599       NaN\n",
       "1600     842,0\n",
       "1601       NaN\n",
       "1602       NaN\n",
       "1603     913,0\n",
       "1604     927,0\n",
       "1605     941,0\n",
       "1606     956,0\n",
       "1607       NaN\n",
       "1608     966,0\n",
       "1609     967,0\n",
       "1610     972,0\n",
       "1611       NaN\n",
       "1612     990,0\n",
       "1613       NaN\n",
       "Name: employeenumber, dtype: object"
      ]
     },
     "execution_count": 44,
     "metadata": {},
     "output_type": "execute_result"
    }
   ],
   "source": [
    "datos['employeenumber']"
   ]
  },
  {
   "cell_type": "code",
   "execution_count": 20,
   "metadata": {},
   "outputs": [
    {
     "data": {
      "text/plain": [
       "array([ 1,  3,  4,  2, 42, 37, 35, 25, 27, 31, 39, 21, 15, 14, 33, 19, 12,\n",
       "       13, 28, 47, 36, 29, 24, 46, 16, 22, 41, 49, 11, 48, 18, 10, 45, 38,\n",
       "       17, 20, 26, 43])"
      ]
     },
     "execution_count": 20,
     "metadata": {},
     "output_type": "execute_result"
    }
   ],
   "source": [
    "datos['environmentsatisfaction'].unique()"
   ]
  },
  {
   "cell_type": "code",
   "execution_count": 21,
   "metadata": {},
   "outputs": [
    {
     "data": {
      "text/plain": [
       "array([0, 1])"
      ]
     },
     "execution_count": 21,
     "metadata": {},
     "output_type": "execute_result"
    }
   ],
   "source": [
    "datos['gender'].unique() # ¿queremos cambiar los 0 y uno por las iniciales del genero?"
   ]
  },
  {
   "cell_type": "code",
   "execution_count": 22,
   "metadata": {},
   "outputs": [
    {
     "data": {
      "text/plain": [
       "array(['51', '65', '58', '82', '45', '99', '91', '64', '55', '68', '49',\n",
       "       '61', '79', '31', '69', '48', '80', '74', '98', '59', '33', '56',\n",
       "       '66', '57', '53', '87', '81', '84', '32', '41', '92', '47',\n",
       "       'Not Available', '43', '86', '30', '42', '88', '96', '67', '62',\n",
       "       '72', '78', '89', '52', '50', '90', '37', '94', '76', '60', '46',\n",
       "       '83', '100', '40', '97', '54', '75', '39', '85', '63', '44', '93',\n",
       "       '36', '35', '73', '71', '70', '38', '77', '95', '34'], dtype=object)"
      ]
     },
     "execution_count": 22,
     "metadata": {},
     "output_type": "execute_result"
    }
   ],
   "source": [
    "datos['hourlyrate'].unique() # pasar a int y antes cambiar el Not Avaiable a NaN"
   ]
  },
  {
   "cell_type": "code",
   "execution_count": 23,
   "metadata": {},
   "outputs": [
    {
     "data": {
      "text/plain": [
       "array([3, 2, 4, 1])"
      ]
     },
     "execution_count": 23,
     "metadata": {},
     "output_type": "execute_result"
    }
   ],
   "source": [
    "datos['jobinvolvement'].unique() # no tocar"
   ]
  },
  {
   "cell_type": "code",
   "execution_count": 24,
   "metadata": {},
   "outputs": [
    {
     "data": {
      "text/plain": [
       "array([5, 4, 3, 2, 1])"
      ]
     },
     "execution_count": 24,
     "metadata": {},
     "output_type": "execute_result"
    }
   ],
   "source": [
    "datos['joblevel'].unique() # no tocar"
   ]
  },
  {
   "cell_type": "code",
   "execution_count": 25,
   "metadata": {},
   "outputs": [
    {
     "data": {
      "text/plain": [
       "array(['Research Director', 'Manager', 'Sales Executive',\n",
       "       'Manufacturing Director', 'Research Scientist',\n",
       "       'Healthcare Representative', 'Laboratory Technician',\n",
       "       'Sales Representative', 'Human Resources'], dtype=object)"
      ]
     },
     "execution_count": 25,
     "metadata": {},
     "output_type": "execute_result"
    }
   ],
   "source": [
    "# Todo pasado a minusculas, dejando la primera en mayusculas y eliminando los espacios que habia al inicio y final\n",
    "datos['jobrole'] = datos['jobrole'].str.lower().str.title().str.strip()\n",
    "datos['jobrole'].unique()"
   ]
  },
  {
   "cell_type": "code",
   "execution_count": 26,
   "metadata": {},
   "outputs": [
    {
     "data": {
      "text/plain": [
       "array([3, 4, 1, 2])"
      ]
     },
     "execution_count": 26,
     "metadata": {},
     "output_type": "execute_result"
    }
   ],
   "source": [
    "datos['jobsatisfaction'].unique() # no tocar"
   ]
  },
  {
   "cell_type": "code",
   "execution_count": 27,
   "metadata": {},
   "outputs": [
    {
     "data": {
      "text/plain": [
       "array([nan, 'Married', 'Divorced', 'Single'], dtype=object)"
      ]
     },
     "execution_count": 27,
     "metadata": {},
     "output_type": "execute_result"
    }
   ],
   "source": [
    "# Sustituyo los que están mal escritos para que sean iguales a los que si creando un diccionario previamente.\n",
    "replacements = {\n",
    "    'divorced': 'Divorced',\n",
    "    'Marreid': 'Married'\n",
    "}\n",
    "\n",
    "datos['maritalstatus'] = datos['maritalstatus'].replace(replacements)\n",
    "datos['maritalstatus'].unique() "
   ]
  },
  {
   "cell_type": "code",
   "execution_count": 28,
   "metadata": {},
   "outputs": [
    {
     "data": {
      "text/plain": [
       "array(['19537,0', '19999,0', '19232,0', '17169,0', nan, '17174,0',\n",
       "       '16595,0', '19973,0', '13402,0', '13206,0', '19545,0', '18041,0',\n",
       "       '19246,0', '10748,0', '16752,0', '6201,0', '19845,0', '4001,0',\n",
       "       '10447,0', '16064,0', '3210,0', '10266,0', '10475,0', '6162,0',\n",
       "       '4721,0', '4615,0', '16959,0', '10306,0', '5406,0', '5902,0',\n",
       "       '10855,0', '5914,0', '6646,0', '13973,0', '13320,0', '6687,0',\n",
       "       '4735,0', '13872,0', '19045,0', '16015,0', '9613,0', '11510,0',\n",
       "       '4306,0', '17046,0', '5067,0', '3692,0', '19847,0', '2308,0',\n",
       "       '5747,0', '10422,0', '6347,0', '2348,0', '3072,0', '12490,0',\n",
       "       '8020,0', '17068,0', '8943,0', '19272,0', '5577,0', '2691,0',\n",
       "       '7403,0', '8823,0', '3579,0', '17779,0', '18213,0', '13577,0',\n",
       "       '19190,0', '17123,0', '19187,0', '10008,0', '7988,0', '7083,0',\n",
       "       '4723,0', '3407,0', '2929,0', '12031,0', '15427,0', '5126,0',\n",
       "       '9619,0', '5010,0', '19033,0', '10400,0', '2793,0', '5674,0',\n",
       "       '19197,0', '8412,0', '3348,0', '5309,0', '7654,0', '12808,0',\n",
       "       '6586,0', '2519,0', '17099,0', '13120,0', '3131,0', '4444,0',\n",
       "       '6674,0', '9852,0', '17861,0', '7446,0', '13757,0', '16598,0',\n",
       "       '4285,0', '10124,0', '9714,0', '9924,0', '11245,0', '3069,0',\n",
       "       '9241,0', '6472,0', '3055,0', '8321,0', '3143,0', '8578,0',\n",
       "       '4197,0', '9888,0', '13341,0', '5677,0', '2909,0', '9526,0',\n",
       "       '6825,0', '4424,0', '5441,0', '6074,0', '6146,0', '6172,0',\n",
       "       '4668,0', '5605,0', '4319,0', '3564,0', '6261,0', '6804,0',\n",
       "       '19436,0', '5828,0', '2455,0', '5055,0', '4682,0', '5257,0',\n",
       "       '2119,0', '5974,0', '3034,0', '13212,0', '8392,0', '4051,0',\n",
       "       '4805,0', '2741,0', '5337,0', '9434,0', '5396,0', '11159,0',\n",
       "       '4960,0', '8793,0', '19189,0', '2216,0', '11713,0', '5304,0',\n",
       "       '11103,0', '6632,0', '7587,0', '4335,0', '5980,0', '4244,0',\n",
       "       '5228,0', '2700,0', '2366,0', '2329,0', '4294,0', '6725,0',\n",
       "       '10325,0', '4447,0', '10845,0', '5472,0', '6385,0', '7525,0',\n",
       "       '3660,0', '8740,0', '13499,0', '3491,0', '5220,0', '10252,0',\n",
       "       '19740,0', '6209,0', '7094,0', '4534,0', '8500,0', '4639,0',\n",
       "       '5363,0', '4081,0', '3578,0', '17328,0', '10793,0', '10851,0',\n",
       "       '10466,0', '2362,0', '6439,0', '5769,0', '4385,0', '4066,0',\n",
       "       '5206,0', '2655,0', '2570,0', '4502,0', '4968,0', '5147,0',\n",
       "       '2718,0', '3539,0', '5468,0', '5813,0', '9667,0', '5154,0',\n",
       "       '5675,0', '7314,0', '5098,0', '13570,0', '6712,0', '9991,0',\n",
       "       '10248,0', '10938,0', '2593,0', '11878,0', '8095,0', '16856,0',\n",
       "       '4537,0', '17924,0', '4014,0', '12742,0', '3376,0', '10482,0',\n",
       "       '4249,0', '6549,0', '14411,0', '19586,0', '8237,0', '3211,0',\n",
       "       '16704,0', '4774,0', '4568,0', '5993,0', '6499,0', '3452,0',\n",
       "       '6397,0', '2725,0', '3622,0', '6180,0', '6274,0', '4381,0',\n",
       "       '2559,0', '5488,0', '2514,0', '3196,0', '3420,0', '4087,0',\n",
       "       '5368,0', '12936,0', '4221,0', '4963,0', '4200,0', '5006,0',\n",
       "       '7639,0', '6502,0', '13525,0', '6349,0', '6380,0', '3102,0',\n",
       "       '4556,0', '4230,0', '4859,0', '6322,0', '10761,0', '2973,0',\n",
       "       '5204,0', '17399,0', '16885,0', '4323,0', '5155,0', '2936,0',\n",
       "       '18789,0', '4883,0', '2029,0', '2996,0', '9278,0', '4162,0',\n",
       "       '8853,0', '4876,0', '2141,0', '7756,0', '3936,0', '6842,0',\n",
       "       '3989,0', '4930,0', '3702,0', '2705,0', '4448,0', '2379,0',\n",
       "       '5487,0', '2810,0', '8938,0', '9936,0', '5454,0', '18740,0',\n",
       "       '5473,0', '13503,0', '13549,0', '18172,0', '2774,0', '9439,0',\n",
       "       '5265,0', '3815,0', '2389,0', '4000,0', '17584,0', '5661,0',\n",
       "       '4869,0', '4649,0', '10496,0', '2768,0', '3408,0', '3755,0',\n",
       "       '2187,0', '4258,0', '5326,0', '5485,0', '2782,0', '17639,0',\n",
       "       '6062,0', '6288,0', '3424,0', '4194,0', '2532,0', '5666,0',\n",
       "       '13726,0', '4107,0', '3597,0', '4115,0', '6272,0', '2517,0',\n",
       "       '3904,0', '9204,0', '4373,0', '2064,0', '2430,0', '4877,0',\n",
       "       '3760,0', '2013,0', '2974,0', '2766,0', '3377,0', '4213,0',\n",
       "       '6513,0', '4284,0', '2226,0', '5561,0', '2144,0', '5373,0',\n",
       "       '2897,0', '5321,0', '5410,0', '4850,0', '2001,0', '4404,0',\n",
       "       '3944,0', '2960,0', '18947,0', '6465,0', '2683,0', '2014,0',\n",
       "       '3441,0', '13664,0', '5021,0', '18844,0', '4739,0', '10650,0',\n",
       "       '4317,0', '2024,0', '3058,0', '3929,0', '4425,0', '2328,0',\n",
       "       '2657,0', '5940,0', '2622,0', '3212,0', '2911,0', '6931,0',\n",
       "       '2176,0', '3230,0', '18665,0', '2789,0', '6410,0', '4941,0',\n",
       "       '3983,0', '2904,0', '2696,0', '2174,0', '6755,0', '10965,0',\n",
       "       '2543,0', '19406,0', '6538,0', '2258,0', '2218,0', '2654,0',\n",
       "       '11935,0', '2546,0', '3894,0', '4262,0', '10527,0', '2400,0',\n",
       "       '3681,0', '3447,0', '19513,0', '2659,0', '8847,0', '2045,0',\n",
       "       '4851,0', '8120,0', '4577,0', '5405,0', '3708,0', '13770,0',\n",
       "       '2297,0', '2450,0', '4342,0', '2572,0', '6500,0', '3149,0',\n",
       "       '5324,0', '4382,0', '2553,0', '5933,0', '4403,0', '10934,0',\n",
       "       '2022,0', '4256,0', '3580,0', '2899,0', '5562,0', '2377,0',\n",
       "       '2404,0', '2799,0', '2811,0', '4377,0', '4240,0', '4227,0',\n",
       "       '3917,0', '4969,0', '2042,0', '2821,0', '9957,0', '2207,0',\n",
       "       '2070,0', '2791,0', '8224,0', '2610,0', '5731,0', '2539,0',\n",
       "       '2376,0', '19081,0', '2743,0', '4538,0', '3867,0', '2080,0',\n",
       "       '2096,0', '4627,0', '2302,0', '5071,0', '10596,0', '5467,0',\n",
       "       '2394,0', '3629,0', '9362,0', '3229,0', '16422,0', '5647,0',\n",
       "       '4400,0', '2066,0', '5486,0', '3162,0', '6651,0', '4898,0',\n",
       "       '3180,0', '11244,0', '4069,0', '6392,0', '4855,0', '3312,0',\n",
       "       '3117,0', '15202,0', '2580,0', '2166,0', '4374,0', '5505,0',\n",
       "       '2587,0', '15972,0', '2305,0', '3433,0', '3477,0', '3907,0',\n",
       "       '3445,0', '2760,0', '6294,0', '13116,0', '3591,0', '2105,0',\n",
       "       '3902,0', '2662,0', '2062,0', '5507,0', '8103,0', '3978,0',\n",
       "       '5399,0', '10448,0', '4440,0', '2660,0', '3375,0', '2269,0',\n",
       "       '4787,0', '2809,0', '10854,0', '2571,0', '6142,0', '2496,0',\n",
       "       '3419,0', '2501,0', '2566,0', '3920,0', '13964,0', '6540,0',\n",
       "       '2244,0', '16184,0', '4233,0', '14814,0', '17159,0', '2318,0',\n",
       "       '3617,0', '2684,0', '19237,0', '4422,0', '2552,0', '2678,0',\n",
       "       '5171,0', '11916,0', '9380,0', '5878,0', '2468,0', '4127,0',\n",
       "       '2148,0', '3886,0', '6667,0', '2090,0', '2086,0', '1951,0',\n",
       "       '3022,0', '9724,0', '3388,0', '3038,0', '2322,0', '2926,0',\n",
       "       '4505,0', '2835,0', '6553,0', '6673,0', '13591,0', '2177,0',\n",
       "       '19517,0', '19202,0', '10048,0', '2723,0', '6644,0', '3161,0',\n",
       "       '1420,0', '1200,0', '5238,0', '9985,0', '15992,0', '2370,0',\n",
       "       '6781,0', '6653,0', '2851,0', '5258,0', '2476,0', '2285,0',\n",
       "       '3448,0', '4558,0', '1702,0', '2564,0', '5070,0', '3780,0',\n",
       "       '9824,0', '1878,0', '2340,0', '2127,0', '2033,0', '9602,0',\n",
       "       '16627,0', '2083,0', '1009,0', '7861,0', '2642,0', '5121,0',\n",
       "       '2694,0', '5094,0', '2274,0', '2314,0', '2380,0', '2008,0',\n",
       "       '10552,0', '2259,0', '2413,0', '2121,0', '2479,0', '13194,0',\n",
       "       '4163,0', '2600,0', '18303,0', '4777,0', '1052,0', '2461,0',\n",
       "       '2596,0', '4728,0', '7351,0', '4766,0', '2827,0', '2853,0',\n",
       "       '2290,0', '2107,0', '2210,0', '13191,0', '18265,0', '1118,0',\n",
       "       '2372,0', '2838,0', '18061,0', '1611,0', '4768,0', '1274,0',\n",
       "       '2561,0', '1563,0', '6388,0', '8376,0', '4841,0', '2074,0',\n",
       "       '2972,0', '6815,0', '2690,0', '17567,0', '1569,0', '4187,0',\n",
       "       '3306,0', '1393,0', '10883,0', '2862,0', '6735,0', '9756,0',\n",
       "       '5294,0', '2437,0', '4071,0', '2956,0', '4648,0', '2804,0',\n",
       "       '2439,0', '2856,0', '2933,0', '1091,0', '5151,0', '2863,0',\n",
       "       '2858,0', '1129,0', '19431,0'], dtype=object)"
      ]
     },
     "execution_count": 28,
     "metadata": {},
     "output_type": "execute_result"
    }
   ],
   "source": [
    "datos['monthlyincome'].unique() # Tiene nan, hay que cambiarlo a NaN y pasarlo a float"
   ]
  },
  {
   "cell_type": "code",
   "execution_count": 29,
   "metadata": {},
   "outputs": [
    {
     "data": {
      "text/plain": [
       "array([ 6462,  5678,  4933, ..., 15302, 26956, 16642])"
      ]
     },
     "execution_count": 29,
     "metadata": {},
     "output_type": "execute_result"
    }
   ],
   "source": [
    "datos['monthlyrate'].unique() # no tocar"
   ]
  },
  {
   "cell_type": "code",
   "execution_count": 30,
   "metadata": {},
   "outputs": [
    {
     "data": {
      "text/plain": [
       "array([7, 0, 1, 3, 2, 4, 8, 9, 5, 6])"
      ]
     },
     "execution_count": 30,
     "metadata": {},
     "output_type": "execute_result"
    }
   ],
   "source": [
    "datos['numcompaniesworked'].unique() # no tocar"
   ]
  },
  {
   "cell_type": "code",
   "execution_count": null,
   "metadata": {},
   "outputs": [],
   "source": [
    "# Función para convertir la coma en punto y los objet a float\n",
    "\n",
    "columns = ['age', 'attrition', 'businesstravel', 'dailyrate', 'department',\n",
    "       'distancefromhome', 'education', 'educationfield', 'employeenumber',\n",
    "       'environmentsatisfaction', 'gender', 'hourlyrate', 'jobinvolvement',\n",
    "       'joblevel', 'jobrole', 'jobsatisfaction', 'maritalstatus',\n",
    "       'monthlyincome', 'monthlyrate', 'numcompaniesworked', 'overtime',\n",
    "       'percentsalaryhike', 'performancerating', 'relationshipsatisfaction',\n",
    "       'standardhours', 'stockoptionlevel', 'totalworkingyears',\n",
    "       'trainingtimeslastyear', 'worklifebalance', 'yearsatcompany',\n",
    "       'yearsincurrentrole', 'yearssincelastpromotion', 'yearswithcurrmanager',\n",
    "       'datebirth', 'remotework']\n",
    "\n",
    "performancerating = datos['performancerating'].str.replace(',', '.')\n",
    "\n",
    "datos['performancerating'] = performancerating\n",
    "datos['performancerating']"
   ]
  },
  {
   "cell_type": "code",
   "execution_count": 32,
   "metadata": {},
   "outputs": [
    {
     "data": {
      "text/plain": [
       "Index(['age', 'attrition', 'businesstravel', 'dailyrate', 'department',\n",
       "       'distancefromhome', 'education', 'educationfield', 'employeenumber',\n",
       "       'environmentsatisfaction', 'gender', 'hourlyrate', 'jobinvolvement',\n",
       "       'joblevel', 'jobrole', 'jobsatisfaction', 'maritalstatus',\n",
       "       'monthlyincome', 'monthlyrate', 'numcompaniesworked', 'overtime',\n",
       "       'percentsalaryhike', 'performancerating', 'relationshipsatisfaction',\n",
       "       'standardhours', 'stockoptionlevel', 'totalworkingyears',\n",
       "       'trainingtimeslastyear', 'worklifebalance', 'yearsatcompany',\n",
       "       'yearsincurrentrole', 'yearssincelastpromotion', 'yearswithcurrmanager',\n",
       "       'datebirth', 'remotework'],\n",
       "      dtype='object')"
      ]
     },
     "execution_count": 32,
     "metadata": {},
     "output_type": "execute_result"
    }
   ],
   "source": [
    "datos.columns"
   ]
  },
  {
   "cell_type": "code",
   "execution_count": null,
   "metadata": {},
   "outputs": [
    {
     "data": {
      "text/plain": [
       "array(['No', nan, 'Yes'], dtype=object)"
      ]
     },
     "metadata": {},
     "output_type": "display_data"
    }
   ],
   "source": [
    "# overtime mirar qué hacer con los nan\n",
    "\n",
    "datos['overtime'].unique()"
   ]
  },
  {
   "cell_type": "code",
   "execution_count": null,
   "metadata": {},
   "outputs": [
    {
     "data": {
      "text/plain": [
       "array(['No', nan, 'Yes'], dtype=object)"
      ]
     },
     "metadata": {},
     "output_type": "display_data"
    }
   ],
   "source": [
    "# overtime mirar qué hacer con los nan\n",
    "\n",
    "datos['overtime'].unique()"
   ]
  },
  {
   "cell_type": "code",
   "execution_count": null,
   "metadata": {},
   "outputs": [
    {
     "data": {
      "text/plain": [
       "array([13, 14, 11, 19, 12, 25, 16, 17, 22, 23, 20, 15, 21, 24, 18],\n",
       "      dtype=int64)"
      ]
     },
     "metadata": {},
     "output_type": "display_data"
    }
   ],
   "source": [
    "datos['percentsalaryhike'].unique()\n",
    "\n"
   ]
  },
  {
   "cell_type": "code",
   "execution_count": null,
   "metadata": {},
   "outputs": [
    {
     "name": "stdout",
     "output_type": "stream",
     "text": [
      "performancerating\n",
      "3    1205\n",
      "4     214\n",
      "Name: count, dtype: int64\n"
     ]
    },
    {
     "data": {
      "text/plain": [
       "0         3\n",
       "1         3\n",
       "2         3\n",
       "3         3\n",
       "4         3\n",
       "       ... \n",
       "1609    NaN\n",
       "1610      3\n",
       "1611      3\n",
       "1612    NaN\n",
       "1613      3\n",
       "Name: performancerating, Length: 1614, dtype: object"
      ]
     },
     "metadata": {},
     "output_type": "display_data"
    }
   ],
   "source": [
    "#mirar que hacer con los nan y convertir a número porque es un objeto por las comas\n",
    "\n",
    "suma = datos['performancerating'].value_counts()\n",
    "print(suma)\n",
    "\n",
    "performancerating = datos['performancerating'].str.replace(',0', '')\n",
    "\n",
    "\n",
    "datos['performancerating'] = performancerating\n",
    "\n",
    "datos['performancerating'] \n",
    "\n"
   ]
  },
  {
   "cell_type": "code",
   "execution_count": null,
   "metadata": {},
   "outputs": [
    {
     "data": {
      "text/plain": [
       "array([3, 1, 4, 2], dtype=int64)"
      ]
     },
     "metadata": {},
     "output_type": "display_data"
    }
   ],
   "source": [
    "# No hacemos cambios de momento\n",
    "\n",
    "datos['relationshipsatisfaction'].unique()\n",
    "\n"
   ]
  },
  {
   "cell_type": "code",
   "execution_count": null,
   "metadata": {},
   "outputs": [],
   "source": [
    "#borramos standard hours porque no tiene sentido tiene muchos nan y 80h es imposible\n",
    "datos.drop( columns = ['standardhours'], inplace= True)\n",
    "\n",
    "\n"
   ]
  },
  {
   "cell_type": "code",
   "execution_count": null,
   "metadata": {},
   "outputs": [
    {
     "data": {
      "text/plain": [
       "Index(['age', 'attrition', 'businesstravel', 'dailyrate', 'department',\n",
       "       'distancefromhome', 'education', 'educationfield', 'employeenumber',\n",
       "       'environmentsatisfaction', 'gender', 'hourlyrate', 'jobinvolvement',\n",
       "       'joblevel', 'jobrole', 'jobsatisfaction', 'maritalstatus',\n",
       "       'monthlyincome', 'monthlyrate', 'numcompaniesworked', 'overtime',\n",
       "       'percentsalaryhike', 'performancerating', 'relationshipsatisfaction',\n",
       "       'stockoptionlevel', 'totalworkingyears', 'trainingtimeslastyear',\n",
       "       'worklifebalance', 'yearsatcompany', 'yearsincurrentrole',\n",
       "       'yearssincelastpromotion', 'yearswithcurrmanager', 'datebirth',\n",
       "       'remotework'],\n",
       "      dtype='object')"
      ]
     },
     "metadata": {},
     "output_type": "display_data"
    }
   ],
   "source": [
    "datos.columns"
   ]
  },
  {
   "cell_type": "code",
   "execution_count": null,
   "metadata": {},
   "outputs": [
    {
     "data": {
      "text/plain": [
       "array([0, 1, 2, 3], dtype=int64)"
      ]
     },
     "metadata": {},
     "output_type": "display_data"
    }
   ],
   "source": [
    "# No he hecho nada en esta columna parece estra bien\n",
    "datos['stockoptionlevel'].unique()"
   ]
  },
  {
   "cell_type": "code",
   "execution_count": null,
   "metadata": {},
   "outputs": [
    {
     "data": {
      "text/plain": [
       "0       NaN\n",
       "1        34\n",
       "2        22\n",
       "3       NaN\n",
       "4       NaN\n",
       "       ... \n",
       "1609    NaN\n",
       "1610    NaN\n",
       "1611      9\n",
       "1612     12\n",
       "1613    NaN\n",
       "Name: totalworkingyears, Length: 1614, dtype: object"
      ]
     },
     "metadata": {},
     "output_type": "display_data"
    }
   ],
   "source": [
    "# En cuanto gestionemos los nan cambiar a INT\n",
    "\n",
    "datos['totalworkingyears'].unique()\n",
    "\n",
    "totalworkingyears = datos['totalworkingyears'].str.replace(',0', '')\n",
    "\n",
    "\n",
    "datos['totalworkingyears'] = totalworkingyears\n",
    "\n",
    "datos['totalworkingyears'] \n"
   ]
  },
  {
   "cell_type": "code",
   "execution_count": null,
   "metadata": {},
   "outputs": [
    {
     "data": {
      "text/plain": [
       "array([nan, '34', '22', '28', '20', '21', '33', '40', '18', '25', '15',\n",
       "       '17', '26', '16', '24', '14', '23', '27', '19', '11', '38', '37',\n",
       "       '13', '12', '29', '10', '36', '35', '9', '31', '32', '8', '7',\n",
       "       '30', '6', '5', '4', '3', '2', '1', '0'], dtype=object)"
      ]
     },
     "metadata": {},
     "output_type": "display_data"
    }
   ],
   "source": [
    "# En cuanto gestionemos los nan cambiar a INT\n",
    "\n",
    "datos['totalworkingyears'].unique()"
   ]
  },
  {
   "cell_type": "code",
   "execution_count": null,
   "metadata": {},
   "outputs": [
    {
     "data": {
      "text/plain": [
       "array([5, 3, 2, 0, 1, 4, 6], dtype=int64)"
      ]
     },
     "metadata": {},
     "output_type": "display_data"
    }
   ],
   "source": [
    "# trainingtimeslastyear no hacer nada aparentemente toda la información es correcta\n",
    "\n",
    "datos['trainingtimeslastyear'].unique()\n",
    "\n"
   ]
  },
  {
   "cell_type": "code",
   "execution_count": null,
   "metadata": {},
   "outputs": [
    {
     "data": {
      "text/plain": [
       "0         3\n",
       "1         3\n",
       "2       NaN\n",
       "3       NaN\n",
       "4         3\n",
       "       ... \n",
       "1609      3\n",
       "1610      2\n",
       "1611      3\n",
       "1612      3\n",
       "1613      3\n",
       "Name: worklifebalance, Length: 1614, dtype: object"
      ]
     },
     "metadata": {},
     "output_type": "display_data"
    }
   ],
   "source": [
    "# Ver qué hacemos con los NaN y convertir a INT\n",
    "\n",
    "datos['worklifebalance'].unique()\n",
    "\n",
    "worklifebalance = datos['worklifebalance'].str.replace(',0', '')\n",
    "\n",
    "\n",
    "datos['worklifebalance'] = worklifebalance\n",
    "\n",
    "datos['worklifebalance'] \n"
   ]
  },
  {
   "cell_type": "code",
   "execution_count": null,
   "metadata": {},
   "outputs": [
    {
     "data": {
      "text/plain": [
       "array([20, 33, 22, 19, 21, 18, 24, 31, 26, 16, 23, 15, 17, 32, 14, 13, 25,\n",
       "       12, 11, 37, 40, 36, 27, 29, 10,  9, 30,  8,  7, 34,  6,  5,  4,  2,\n",
       "        3,  1,  0], dtype=int64)"
      ]
     },
     "metadata": {},
     "output_type": "display_data"
    }
   ],
   "source": [
    "# todo aparenta estar correcto\n",
    "\n",
    "datos['yearsatcompany'].unique()\n",
    "\n"
   ]
  },
  {
   "cell_type": "code",
   "execution_count": null,
   "metadata": {},
   "outputs": [
    {
     "data": {
      "text/plain": [
       "0       NaN\n",
       "1       NaN\n",
       "2       NaN\n",
       "3       NaN\n",
       "4       NaN\n",
       "       ... \n",
       "1609    NaN\n",
       "1610    NaN\n",
       "1611    NaN\n",
       "1612    NaN\n",
       "1613    NaN\n",
       "Name: yearsincurrentrole, Length: 1614, dtype: object"
      ]
     },
     "metadata": {},
     "output_type": "display_data"
    }
   ],
   "source": [
    "# Ver qué hacemos con los NaN y convertir a INT creo que esta la tendremos que borrar porque no hay casi datos\n",
    "\n",
    "datos['yearsincurrentrole'].unique()\n",
    "\n",
    "yearsincurrentrole = datos['yearsincurrentrole'].str.replace(',0', '')\n",
    "\n",
    "\n",
    "datos['yearsincurrentrole'] = yearsincurrentrole\n",
    "\n",
    "datos['yearsincurrentrole'] \n",
    "\n",
    "\n",
    "\n"
   ]
  },
  {
   "cell_type": "code",
   "execution_count": null,
   "metadata": {},
   "outputs": [
    {
     "data": {
      "text/html": [
       "<div>\n",
       "<style scoped>\n",
       "    .dataframe tbody tr th:only-of-type {\n",
       "        vertical-align: middle;\n",
       "    }\n",
       "\n",
       "    .dataframe tbody tr th {\n",
       "        vertical-align: top;\n",
       "    }\n",
       "\n",
       "    .dataframe thead th {\n",
       "        text-align: right;\n",
       "    }\n",
       "</style>\n",
       "<table border=\"1\" class=\"dataframe\">\n",
       "  <thead>\n",
       "    <tr style=\"text-align: right;\">\n",
       "      <th></th>\n",
       "      <th>yearssincelastpromotion</th>\n",
       "    </tr>\n",
       "  </thead>\n",
       "  <tbody>\n",
       "    <tr>\n",
       "      <th>0</th>\n",
       "      <td>15</td>\n",
       "    </tr>\n",
       "    <tr>\n",
       "      <th>1</th>\n",
       "      <td>11</td>\n",
       "    </tr>\n",
       "    <tr>\n",
       "      <th>2</th>\n",
       "      <td>11</td>\n",
       "    </tr>\n",
       "    <tr>\n",
       "      <th>3</th>\n",
       "      <td>5</td>\n",
       "    </tr>\n",
       "    <tr>\n",
       "      <th>4</th>\n",
       "      <td>2</td>\n",
       "    </tr>\n",
       "    <tr>\n",
       "      <th>...</th>\n",
       "      <td>...</td>\n",
       "    </tr>\n",
       "    <tr>\n",
       "      <th>1609</th>\n",
       "      <td>3</td>\n",
       "    </tr>\n",
       "    <tr>\n",
       "      <th>1610</th>\n",
       "      <td>0</td>\n",
       "    </tr>\n",
       "    <tr>\n",
       "      <th>1611</th>\n",
       "      <td>0</td>\n",
       "    </tr>\n",
       "    <tr>\n",
       "      <th>1612</th>\n",
       "      <td>0</td>\n",
       "    </tr>\n",
       "    <tr>\n",
       "      <th>1613</th>\n",
       "      <td>0</td>\n",
       "    </tr>\n",
       "  </tbody>\n",
       "</table>\n",
       "<p>1614 rows × 1 columns</p>\n",
       "</div>"
      ],
      "text/plain": [
       "      yearssincelastpromotion\n",
       "0                          15\n",
       "1                          11\n",
       "2                          11\n",
       "3                           5\n",
       "4                           2\n",
       "...                       ...\n",
       "1609                        3\n",
       "1610                        0\n",
       "1611                        0\n",
       "1612                        0\n",
       "1613                        0\n",
       "\n",
       "[1614 rows x 1 columns]"
      ]
     },
     "metadata": {},
     "output_type": "display_data"
    }
   ],
   "source": [
    "datos['yearssincelastpromotion'].unique()\n",
    "\n",
    "\n",
    "\n",
    "\n",
    "datos[['yearssincelastpromotion']]\n"
   ]
  },
  {
   "cell_type": "code",
   "execution_count": null,
   "metadata": {},
   "outputs": [
    {
     "data": {
      "text/plain": [
       "array([15,  9,  6,  8,  7, 11, 10, 12,  4,  0,  5, 17,  2, 14,  1, 13,  3,\n",
       "       16], dtype=int64)"
      ]
     },
     "metadata": {},
     "output_type": "display_data"
    }
   ],
   "source": [
    "# no tenemos que tocar nada\n",
    "\n",
    "datos['yearswithcurrmanager'].unique()"
   ]
  },
  {
   "cell_type": "code",
   "execution_count": null,
   "metadata": {},
   "outputs": [
    {
     "data": {
      "text/plain": [
       "array([1972, 1971, 1981, 1976, 1977, 1975, 1964, 1982, 1967, 1985, 1968,\n",
       "       1983, 1965, 1988, 1978, 1990, 1987, 1989, 1970, 1980, 1963, 1991,\n",
       "       1986, 1974, 1984, 1973, 1979, 1993, 1994, 1992, 1969, 1966, 1996,\n",
       "       1995, 1997, 1998, 1999, 2000, 2001, 2002, 2003, 2004, 2005],\n",
       "      dtype=int64)"
      ]
     },
     "metadata": {},
     "output_type": "display_data"
    }
   ],
   "source": [
    "# esta ok\n",
    "\n",
    "datos['datebirth'].unique()"
   ]
  },
  {
   "cell_type": "code",
   "execution_count": null,
   "metadata": {},
   "outputs": [
    {
     "data": {
      "text/plain": [
       "array(['Yes', '1', 'False', '0', 'True'], dtype=object)"
      ]
     },
     "metadata": {},
     "output_type": "display_data"
    }
   ],
   "source": [
    "#Tendremos que ver qué hacemos con los Nan\n",
    "\n",
    "datos['remotework'].unique()\n",
    "    \n"
   ]
  },
  {
   "cell_type": "code",
   "execution_count": null,
   "metadata": {},
   "outputs": [
    {
     "data": {
      "text/plain": [
       "array(['Yes', 'No'], dtype=object)"
      ]
     },
     "metadata": {},
     "output_type": "display_data"
    }
   ],
   "source": [
    "diccionario_mapa = {'Yes':'Yes', '1':'Yes', 'False':'No', '0':'No', 'True':'Yes'}\n",
    "\n",
    "datos[\"remotework\"] = datos[\"remotework\"].map(diccionario_mapa)\n",
    "\n",
    "datos['remotework'].unique()"
   ]
  },
  {
   "cell_type": "code",
   "execution_count": null,
   "metadata": {},
   "outputs": [
    {
     "data": {
      "text/plain": [
       "Index(['age', 'attrition', 'businesstravel', 'dailyrate', 'department',\n",
       "       'distancefromhome', 'education', 'educationfield', 'employeenumber',\n",
       "       'environmentsatisfaction', 'gender', 'hourlyrate', 'jobinvolvement',\n",
       "       'joblevel', 'jobrole', 'jobsatisfaction', 'maritalstatus',\n",
       "       'monthlyincome', 'monthlyrate', 'numcompaniesworked', 'overtime',\n",
       "       'percentsalaryhike', 'performancerating', 'relationshipsatisfaction',\n",
       "       'stockoptionlevel', 'totalworkingyears', 'trainingtimeslastyear',\n",
       "       'worklifebalance', 'yearsatcompany', 'yearsincurrentrole',\n",
       "       'yearssincelastpromotion', 'yearswithcurrmanager', 'datebirth',\n",
       "       'remotework'],\n",
       "      dtype='object')"
      ]
     },
     "metadata": {},
     "output_type": "display_data"
    }
   ],
   "source": [
    "datos.columns"
   ]
  },
  {
   "cell_type": "code",
   "execution_count": null,
   "metadata": {},
   "outputs": [
    {
     "data": {
      "text/plain": [
       "array([13, 14, 11, 19, 12, 25, 16, 17, 22, 23, 20, 15, 21, 24, 18],\n",
       "      dtype=int64)"
      ]
     },
     "metadata": {},
     "output_type": "display_data"
    }
   ],
   "source": [
    "datos['percentsalaryhike'].unique()\n",
    "\n"
   ]
  },
  {
   "cell_type": "code",
   "execution_count": null,
   "metadata": {},
   "outputs": [
    {
     "name": "stdout",
     "output_type": "stream",
     "text": [
      "performancerating\n",
      "3    1205\n",
      "4     214\n",
      "Name: count, dtype: int64\n"
     ]
    },
    {
     "data": {
      "text/plain": [
       "0         3\n",
       "1         3\n",
       "2         3\n",
       "3         3\n",
       "4         3\n",
       "       ... \n",
       "1609    NaN\n",
       "1610      3\n",
       "1611      3\n",
       "1612    NaN\n",
       "1613      3\n",
       "Name: performancerating, Length: 1614, dtype: object"
      ]
     },
     "metadata": {},
     "output_type": "display_data"
    }
   ],
   "source": [
    "#mirar que hacer con los nan y convertir a número porque es un objeto por las comas\n",
    "\n",
    "suma = datos['performancerating'].value_counts()\n",
    "print(suma)\n",
    "\n",
    "performancerating = datos['performancerating'].str.replace(',0', '')\n",
    "\n",
    "\n",
    "datos['performancerating'] = performancerating\n",
    "\n",
    "datos['performancerating'] \n",
    "\n"
   ]
  },
  {
   "cell_type": "code",
   "execution_count": null,
   "metadata": {},
   "outputs": [
    {
     "data": {
      "text/plain": [
       "array([3, 1, 4, 2], dtype=int64)"
      ]
     },
     "metadata": {},
     "output_type": "display_data"
    }
   ],
   "source": [
    "# No hacemos cambios de momento\n",
    "\n",
    "datos['relationshipsatisfaction'].unique()\n",
    "\n"
   ]
  },
  {
   "cell_type": "code",
   "execution_count": null,
   "metadata": {},
   "outputs": [],
   "source": [
    "#borramos standard hours porque no tiene sentido tiene muchos nan y 80h es imposible\n",
    "datos.drop( columns = ['standardhours'], inplace= True)\n",
    "\n",
    "\n"
   ]
  },
  {
   "cell_type": "code",
   "execution_count": null,
   "metadata": {},
   "outputs": [
    {
     "data": {
      "text/plain": [
       "Index(['age', 'attrition', 'businesstravel', 'dailyrate', 'department',\n",
       "       'distancefromhome', 'education', 'educationfield', 'employeenumber',\n",
       "       'environmentsatisfaction', 'gender', 'hourlyrate', 'jobinvolvement',\n",
       "       'joblevel', 'jobrole', 'jobsatisfaction', 'maritalstatus',\n",
       "       'monthlyincome', 'monthlyrate', 'numcompaniesworked', 'overtime',\n",
       "       'percentsalaryhike', 'performancerating', 'relationshipsatisfaction',\n",
       "       'stockoptionlevel', 'totalworkingyears', 'trainingtimeslastyear',\n",
       "       'worklifebalance', 'yearsatcompany', 'yearsincurrentrole',\n",
       "       'yearssincelastpromotion', 'yearswithcurrmanager', 'datebirth',\n",
       "       'remotework'],\n",
       "      dtype='object')"
      ]
     },
     "metadata": {},
     "output_type": "display_data"
    }
   ],
   "source": [
    "datos.columns"
   ]
  },
  {
   "cell_type": "code",
   "execution_count": null,
   "metadata": {},
   "outputs": [
    {
     "data": {
      "text/plain": [
       "array([0, 1, 2, 3], dtype=int64)"
      ]
     },
     "metadata": {},
     "output_type": "display_data"
    }
   ],
   "source": [
    "# No he hecho nada en esta columna parece estra bien\n",
    "datos['stockoptionlevel'].unique()"
   ]
  },
  {
   "cell_type": "code",
   "execution_count": null,
   "metadata": {},
   "outputs": [
    {
     "data": {
      "text/plain": [
       "0       NaN\n",
       "1        34\n",
       "2        22\n",
       "3       NaN\n",
       "4       NaN\n",
       "       ... \n",
       "1609    NaN\n",
       "1610    NaN\n",
       "1611      9\n",
       "1612     12\n",
       "1613    NaN\n",
       "Name: totalworkingyears, Length: 1614, dtype: object"
      ]
     },
     "metadata": {},
     "output_type": "display_data"
    }
   ],
   "source": [
    "# En cuanto gestionemos los nan cambiar a INT\n",
    "\n",
    "datos['totalworkingyears'].unique()\n",
    "\n",
    "totalworkingyears = datos['totalworkingyears'].str.replace(',0', '')\n",
    "\n",
    "\n",
    "datos['totalworkingyears'] = totalworkingyears\n",
    "\n",
    "datos['totalworkingyears'] \n"
   ]
  },
  {
   "cell_type": "code",
   "execution_count": null,
   "metadata": {},
   "outputs": [
    {
     "data": {
      "text/plain": [
       "array([nan, '34', '22', '28', '20', '21', '33', '40', '18', '25', '15',\n",
       "       '17', '26', '16', '24', '14', '23', '27', '19', '11', '38', '37',\n",
       "       '13', '12', '29', '10', '36', '35', '9', '31', '32', '8', '7',\n",
       "       '30', '6', '5', '4', '3', '2', '1', '0'], dtype=object)"
      ]
     },
     "metadata": {},
     "output_type": "display_data"
    }
   ],
   "source": [
    "# En cuanto gestionemos los nan cambiar a INT\n",
    "\n",
    "datos['totalworkingyears'].unique()"
   ]
  },
  {
   "cell_type": "code",
   "execution_count": null,
   "metadata": {},
   "outputs": [
    {
     "data": {
      "text/plain": [
       "array([5, 3, 2, 0, 1, 4, 6], dtype=int64)"
      ]
     },
     "metadata": {},
     "output_type": "display_data"
    }
   ],
   "source": [
    "# trainingtimeslastyear no hacer nada aparentemente toda la información es correcta\n",
    "\n",
    "datos['trainingtimeslastyear'].unique()\n",
    "\n"
   ]
  },
  {
   "cell_type": "code",
   "execution_count": null,
   "metadata": {},
   "outputs": [
    {
     "data": {
      "text/plain": [
       "0         3\n",
       "1         3\n",
       "2       NaN\n",
       "3       NaN\n",
       "4         3\n",
       "       ... \n",
       "1609      3\n",
       "1610      2\n",
       "1611      3\n",
       "1612      3\n",
       "1613      3\n",
       "Name: worklifebalance, Length: 1614, dtype: object"
      ]
     },
     "metadata": {},
     "output_type": "display_data"
    }
   ],
   "source": [
    "# Ver qué hacemos con los NaN y convertir a INT\n",
    "\n",
    "datos['worklifebalance'].unique()\n",
    "\n",
    "worklifebalance = datos['worklifebalance'].str.replace(',0', '')\n",
    "\n",
    "\n",
    "datos['worklifebalance'] = worklifebalance\n",
    "\n",
    "datos['worklifebalance'] \n"
   ]
  },
  {
   "cell_type": "code",
   "execution_count": null,
   "metadata": {},
   "outputs": [
    {
     "data": {
      "text/plain": [
       "array([20, 33, 22, 19, 21, 18, 24, 31, 26, 16, 23, 15, 17, 32, 14, 13, 25,\n",
       "       12, 11, 37, 40, 36, 27, 29, 10,  9, 30,  8,  7, 34,  6,  5,  4,  2,\n",
       "        3,  1,  0], dtype=int64)"
      ]
     },
     "metadata": {},
     "output_type": "display_data"
    }
   ],
   "source": [
    "# todo aparenta estar correcto\n",
    "\n",
    "datos['yearsatcompany'].unique()\n",
    "\n"
   ]
  },
  {
   "cell_type": "code",
   "execution_count": null,
   "metadata": {},
   "outputs": [
    {
     "data": {
      "text/plain": [
       "0       NaN\n",
       "1       NaN\n",
       "2       NaN\n",
       "3       NaN\n",
       "4       NaN\n",
       "       ... \n",
       "1609    NaN\n",
       "1610    NaN\n",
       "1611    NaN\n",
       "1612    NaN\n",
       "1613    NaN\n",
       "Name: yearsincurrentrole, Length: 1614, dtype: object"
      ]
     },
     "metadata": {},
     "output_type": "display_data"
    }
   ],
   "source": [
    "# Ver qué hacemos con los NaN y convertir a INT creo que esta la tendremos que borrar porque no hay casi datos\n",
    "\n",
    "datos['yearsincurrentrole'].unique()\n",
    "\n",
    "yearsincurrentrole = datos['yearsincurrentrole'].str.replace(',0', '')\n",
    "\n",
    "\n",
    "datos['yearsincurrentrole'] = yearsincurrentrole\n",
    "\n",
    "datos['yearsincurrentrole'] \n",
    "\n",
    "\n",
    "\n"
   ]
  },
  {
   "cell_type": "code",
   "execution_count": null,
   "metadata": {},
   "outputs": [
    {
     "data": {
      "text/html": [
       "<div>\n",
       "<style scoped>\n",
       "    .dataframe tbody tr th:only-of-type {\n",
       "        vertical-align: middle;\n",
       "    }\n",
       "\n",
       "    .dataframe tbody tr th {\n",
       "        vertical-align: top;\n",
       "    }\n",
       "\n",
       "    .dataframe thead th {\n",
       "        text-align: right;\n",
       "    }\n",
       "</style>\n",
       "<table border=\"1\" class=\"dataframe\">\n",
       "  <thead>\n",
       "    <tr style=\"text-align: right;\">\n",
       "      <th></th>\n",
       "      <th>yearssincelastpromotion</th>\n",
       "    </tr>\n",
       "  </thead>\n",
       "  <tbody>\n",
       "    <tr>\n",
       "      <th>0</th>\n",
       "      <td>15</td>\n",
       "    </tr>\n",
       "    <tr>\n",
       "      <th>1</th>\n",
       "      <td>11</td>\n",
       "    </tr>\n",
       "    <tr>\n",
       "      <th>2</th>\n",
       "      <td>11</td>\n",
       "    </tr>\n",
       "    <tr>\n",
       "      <th>3</th>\n",
       "      <td>5</td>\n",
       "    </tr>\n",
       "    <tr>\n",
       "      <th>4</th>\n",
       "      <td>2</td>\n",
       "    </tr>\n",
       "    <tr>\n",
       "      <th>...</th>\n",
       "      <td>...</td>\n",
       "    </tr>\n",
       "    <tr>\n",
       "      <th>1609</th>\n",
       "      <td>3</td>\n",
       "    </tr>\n",
       "    <tr>\n",
       "      <th>1610</th>\n",
       "      <td>0</td>\n",
       "    </tr>\n",
       "    <tr>\n",
       "      <th>1611</th>\n",
       "      <td>0</td>\n",
       "    </tr>\n",
       "    <tr>\n",
       "      <th>1612</th>\n",
       "      <td>0</td>\n",
       "    </tr>\n",
       "    <tr>\n",
       "      <th>1613</th>\n",
       "      <td>0</td>\n",
       "    </tr>\n",
       "  </tbody>\n",
       "</table>\n",
       "<p>1614 rows × 1 columns</p>\n",
       "</div>"
      ],
      "text/plain": [
       "      yearssincelastpromotion\n",
       "0                          15\n",
       "1                          11\n",
       "2                          11\n",
       "3                           5\n",
       "4                           2\n",
       "...                       ...\n",
       "1609                        3\n",
       "1610                        0\n",
       "1611                        0\n",
       "1612                        0\n",
       "1613                        0\n",
       "\n",
       "[1614 rows x 1 columns]"
      ]
     },
     "metadata": {},
     "output_type": "display_data"
    }
   ],
   "source": [
    "datos['yearssincelastpromotion'].unique()\n",
    "\n",
    "\n",
    "\n",
    "\n",
    "datos[['yearssincelastpromotion']]\n"
   ]
  },
  {
   "cell_type": "code",
   "execution_count": null,
   "metadata": {},
   "outputs": [
    {
     "data": {
      "text/plain": [
       "array([15,  9,  6,  8,  7, 11, 10, 12,  4,  0,  5, 17,  2, 14,  1, 13,  3,\n",
       "       16], dtype=int64)"
      ]
     },
     "metadata": {},
     "output_type": "display_data"
    }
   ],
   "source": [
    "# no tenemos que tocar nada\n",
    "\n",
    "datos['yearswithcurrmanager'].unique()"
   ]
  },
  {
   "cell_type": "code",
   "execution_count": null,
   "metadata": {},
   "outputs": [
    {
     "data": {
      "text/plain": [
       "array([1972, 1971, 1981, 1976, 1977, 1975, 1964, 1982, 1967, 1985, 1968,\n",
       "       1983, 1965, 1988, 1978, 1990, 1987, 1989, 1970, 1980, 1963, 1991,\n",
       "       1986, 1974, 1984, 1973, 1979, 1993, 1994, 1992, 1969, 1966, 1996,\n",
       "       1995, 1997, 1998, 1999, 2000, 2001, 2002, 2003, 2004, 2005],\n",
       "      dtype=int64)"
      ]
     },
     "metadata": {},
     "output_type": "display_data"
    }
   ],
   "source": [
    "# esta ok\n",
    "\n",
    "datos['datebirth'].unique()"
   ]
  },
  {
   "cell_type": "code",
   "execution_count": null,
   "metadata": {},
   "outputs": [
    {
     "data": {
      "text/plain": [
       "array(['Yes', '1', 'False', '0', 'True'], dtype=object)"
      ]
     },
     "metadata": {},
     "output_type": "display_data"
    }
   ],
   "source": [
    "#Tendremos que ver qué hacemos con los Nan\n",
    "\n",
    "datos['remotework'].unique()\n",
    "    \n"
   ]
  },
  {
   "cell_type": "code",
   "execution_count": null,
   "metadata": {},
   "outputs": [
    {
     "data": {
      "text/plain": [
       "array(['Yes', 'No'], dtype=object)"
      ]
     },
     "metadata": {},
     "output_type": "display_data"
    }
   ],
   "source": [
    "diccionario_mapa = {'Yes':'Yes', '1':'Yes', 'False':'No', '0':'No', 'True':'Yes'}\n",
    "\n",
    "datos[\"remotework\"] = datos[\"remotework\"].map(diccionario_mapa)\n",
    "\n",
    "datos['remotework'].unique()"
   ]
  },
  {
   "cell_type": "code",
   "execution_count": null,
   "metadata": {},
   "outputs": [
    {
     "data": {
      "text/plain": [
       "Index(['age', 'attrition', 'businesstravel', 'dailyrate', 'department',\n",
       "       'distancefromhome', 'education', 'educationfield', 'employeenumber',\n",
       "       'environmentsatisfaction', 'gender', 'hourlyrate', 'jobinvolvement',\n",
       "       'joblevel', 'jobrole', 'jobsatisfaction', 'maritalstatus',\n",
       "       'monthlyincome', 'monthlyrate', 'numcompaniesworked', 'overtime',\n",
       "       'percentsalaryhike', 'performancerating', 'relationshipsatisfaction',\n",
       "       'stockoptionlevel', 'totalworkingyears', 'trainingtimeslastyear',\n",
       "       'worklifebalance', 'yearsatcompany', 'yearsincurrentrole',\n",
       "       'yearssincelastpromotion', 'yearswithcurrmanager', 'datebirth',\n",
       "       'remotework'],\n",
       "      dtype='object')"
      ]
     },
     "metadata": {},
     "output_type": "display_data"
    }
   ],
   "source": [
    "datos.columns"
   ]
  }
 ],
 "metadata": {
  "kernelspec": {
   "display_name": "Python 3",
   "language": "python",
   "name": "python3"
  },
  "language_info": {
   "codemirror_mode": {
    "name": "ipython",
    "version": 3
   },
   "file_extension": ".py",
   "mimetype": "text/x-python",
   "name": "python",
   "nbconvert_exporter": "python",
   "pygments_lexer": "ipython3",
   "version": "3.11.7"
  }
 },
 "nbformat": 4,
 "nbformat_minor": 2
}
