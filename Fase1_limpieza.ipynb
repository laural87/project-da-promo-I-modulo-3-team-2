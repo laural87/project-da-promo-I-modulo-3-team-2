{
 "cells": [
  {
   "cell_type": "code",
   "execution_count": 27,
   "metadata": {},
   "outputs": [],
   "source": [
    "# importamos las librerías que necesitamos\n",
    "\n",
    "# Tratamiento de datos\n",
    "# -----------------------------------------------------------------------\n",
    "import pandas as pd\n",
    "import numpy as np\n",
    "\n",
    "\n",
    "# Configuración\n",
    "# -----------------------------------------------------------------------\n",
    "pd.set_option('display.max_columns', None) # para poder visualizar todas las columnas de los DataFrames"
   ]
  },
  {
   "cell_type": "code",
   "execution_count": 28,
   "metadata": {},
   "outputs": [],
   "source": [
    "datos = pd.read_csv('Datos/datos_empresa.csv', index_col=0)\n",
    "datos_limpios = pd.read_csv('Datos/datos_empresa_V1.csv', index_col=0)\n"
   ]
  },
  {
   "cell_type": "code",
   "execution_count": 29,
   "metadata": {},
   "outputs": [
    {
     "data": {
      "text/html": [
       "<div>\n",
       "<style scoped>\n",
       "    .dataframe tbody tr th:only-of-type {\n",
       "        vertical-align: middle;\n",
       "    }\n",
       "\n",
       "    .dataframe tbody tr th {\n",
       "        vertical-align: top;\n",
       "    }\n",
       "\n",
       "    .dataframe thead th {\n",
       "        text-align: right;\n",
       "    }\n",
       "</style>\n",
       "<table border=\"1\" class=\"dataframe\">\n",
       "  <thead>\n",
       "    <tr style=\"text-align: right;\">\n",
       "      <th></th>\n",
       "      <th>datos2</th>\n",
       "    </tr>\n",
       "  </thead>\n",
       "  <tbody>\n",
       "    <tr>\n",
       "      <th>0</th>\n",
       "      <td>Age</td>\n",
       "    </tr>\n",
       "    <tr>\n",
       "      <th>1</th>\n",
       "      <td>Attrition</td>\n",
       "    </tr>\n",
       "    <tr>\n",
       "      <th>2</th>\n",
       "      <td>BusinessTravel</td>\n",
       "    </tr>\n",
       "    <tr>\n",
       "      <th>3</th>\n",
       "      <td>DailyRate</td>\n",
       "    </tr>\n",
       "    <tr>\n",
       "      <th>4</th>\n",
       "      <td>Department</td>\n",
       "    </tr>\n",
       "    <tr>\n",
       "      <th>5</th>\n",
       "      <td>DistanceFromHome</td>\n",
       "    </tr>\n",
       "    <tr>\n",
       "      <th>6</th>\n",
       "      <td>Education</td>\n",
       "    </tr>\n",
       "    <tr>\n",
       "      <th>7</th>\n",
       "      <td>EducationField</td>\n",
       "    </tr>\n",
       "    <tr>\n",
       "      <th>8</th>\n",
       "      <td>employeenumber</td>\n",
       "    </tr>\n",
       "    <tr>\n",
       "      <th>9</th>\n",
       "      <td>EnvironmentSatisfaction</td>\n",
       "    </tr>\n",
       "    <tr>\n",
       "      <th>10</th>\n",
       "      <td>Gender</td>\n",
       "    </tr>\n",
       "    <tr>\n",
       "      <th>11</th>\n",
       "      <td>HourlyRate</td>\n",
       "    </tr>\n",
       "    <tr>\n",
       "      <th>12</th>\n",
       "      <td>JobInvolvement</td>\n",
       "    </tr>\n",
       "    <tr>\n",
       "      <th>13</th>\n",
       "      <td>JobLevel</td>\n",
       "    </tr>\n",
       "    <tr>\n",
       "      <th>14</th>\n",
       "      <td>JobRole</td>\n",
       "    </tr>\n",
       "    <tr>\n",
       "      <th>15</th>\n",
       "      <td>JobSatisfaction</td>\n",
       "    </tr>\n",
       "    <tr>\n",
       "      <th>16</th>\n",
       "      <td>MaritalStatus</td>\n",
       "    </tr>\n",
       "    <tr>\n",
       "      <th>17</th>\n",
       "      <td>MonthlyIncome</td>\n",
       "    </tr>\n",
       "    <tr>\n",
       "      <th>18</th>\n",
       "      <td>MonthlyRate</td>\n",
       "    </tr>\n",
       "    <tr>\n",
       "      <th>19</th>\n",
       "      <td>NUMCOMPANIESWORKED</td>\n",
       "    </tr>\n",
       "    <tr>\n",
       "      <th>20</th>\n",
       "      <td>OverTime</td>\n",
       "    </tr>\n",
       "    <tr>\n",
       "      <th>21</th>\n",
       "      <td>PercentSalaryHike</td>\n",
       "    </tr>\n",
       "    <tr>\n",
       "      <th>22</th>\n",
       "      <td>PerformanceRating</td>\n",
       "    </tr>\n",
       "    <tr>\n",
       "      <th>23</th>\n",
       "      <td>RelationshipSatisfaction</td>\n",
       "    </tr>\n",
       "    <tr>\n",
       "      <th>24</th>\n",
       "      <td>StandardHours</td>\n",
       "    </tr>\n",
       "    <tr>\n",
       "      <th>25</th>\n",
       "      <td>StockOptionLevel</td>\n",
       "    </tr>\n",
       "    <tr>\n",
       "      <th>26</th>\n",
       "      <td>TOTALWORKINGYEARS</td>\n",
       "    </tr>\n",
       "    <tr>\n",
       "      <th>27</th>\n",
       "      <td>TrainingTimesLastYear</td>\n",
       "    </tr>\n",
       "    <tr>\n",
       "      <th>28</th>\n",
       "      <td>WORKLIFEBALANCE</td>\n",
       "    </tr>\n",
       "    <tr>\n",
       "      <th>29</th>\n",
       "      <td>YearsAtCompany</td>\n",
       "    </tr>\n",
       "    <tr>\n",
       "      <th>30</th>\n",
       "      <td>YearsInCurrentRole</td>\n",
       "    </tr>\n",
       "    <tr>\n",
       "      <th>31</th>\n",
       "      <td>YearsSinceLastPromotion</td>\n",
       "    </tr>\n",
       "    <tr>\n",
       "      <th>32</th>\n",
       "      <td>YEARSWITHCURRMANAGER</td>\n",
       "    </tr>\n",
       "    <tr>\n",
       "      <th>33</th>\n",
       "      <td>DateBirth</td>\n",
       "    </tr>\n",
       "    <tr>\n",
       "      <th>34</th>\n",
       "      <td>RemoteWork</td>\n",
       "    </tr>\n",
       "  </tbody>\n",
       "</table>\n",
       "</div>"
      ],
      "text/plain": [
       "                      datos2\n",
       "0                        Age\n",
       "1                  Attrition\n",
       "2             BusinessTravel\n",
       "3                  DailyRate\n",
       "4                 Department\n",
       "5           DistanceFromHome\n",
       "6                  Education\n",
       "7             EducationField\n",
       "8             employeenumber\n",
       "9    EnvironmentSatisfaction\n",
       "10                    Gender\n",
       "11                HourlyRate\n",
       "12            JobInvolvement\n",
       "13                  JobLevel\n",
       "14                   JobRole\n",
       "15           JobSatisfaction\n",
       "16             MaritalStatus\n",
       "17             MonthlyIncome\n",
       "18               MonthlyRate\n",
       "19        NUMCOMPANIESWORKED\n",
       "20                  OverTime\n",
       "21         PercentSalaryHike\n",
       "22         PerformanceRating\n",
       "23  RelationshipSatisfaction\n",
       "24             StandardHours\n",
       "25          StockOptionLevel\n",
       "26         TOTALWORKINGYEARS\n",
       "27     TrainingTimesLastYear\n",
       "28           WORKLIFEBALANCE\n",
       "29            YearsAtCompany\n",
       "30        YearsInCurrentRole\n",
       "31   YearsSinceLastPromotion\n",
       "32      YEARSWITHCURRMANAGER\n",
       "33                 DateBirth\n",
       "34                RemoteWork"
      ]
     },
     "execution_count": 29,
     "metadata": {},
     "output_type": "execute_result"
    }
   ],
   "source": [
    "#Creamos Dataframe de las columnas de los df a comparar\n",
    "\n",
    "datos_col = pd.DataFrame(list(datos.columns), columns=['datos'])\n",
    "datos_col\n",
    "datos_limpio_col = pd.DataFrame(list(datos_limpios.columns), columns=['datos2'])\n",
    "datos_limpio_col\n"
   ]
  },
  {
   "cell_type": "code",
   "execution_count": 30,
   "metadata": {},
   "outputs": [
    {
     "data": {
      "text/html": [
       "<div>\n",
       "<style scoped>\n",
       "    .dataframe tbody tr th:only-of-type {\n",
       "        vertical-align: middle;\n",
       "    }\n",
       "\n",
       "    .dataframe tbody tr th {\n",
       "        vertical-align: top;\n",
       "    }\n",
       "\n",
       "    .dataframe thead th {\n",
       "        text-align: right;\n",
       "    }\n",
       "</style>\n",
       "<table border=\"1\" class=\"dataframe\">\n",
       "  <thead>\n",
       "    <tr style=\"text-align: right;\">\n",
       "      <th></th>\n",
       "      <th>datos</th>\n",
       "      <th>datos2</th>\n",
       "    </tr>\n",
       "  </thead>\n",
       "  <tbody>\n",
       "    <tr>\n",
       "      <th>0</th>\n",
       "      <td>Age</td>\n",
       "      <td>Age</td>\n",
       "    </tr>\n",
       "    <tr>\n",
       "      <th>1</th>\n",
       "      <td>Attrition</td>\n",
       "      <td>Attrition</td>\n",
       "    </tr>\n",
       "    <tr>\n",
       "      <th>2</th>\n",
       "      <td>BusinessTravel</td>\n",
       "      <td>BusinessTravel</td>\n",
       "    </tr>\n",
       "    <tr>\n",
       "      <th>3</th>\n",
       "      <td>DailyRate</td>\n",
       "      <td>DailyRate</td>\n",
       "    </tr>\n",
       "    <tr>\n",
       "      <th>4</th>\n",
       "      <td>Department</td>\n",
       "      <td>Department</td>\n",
       "    </tr>\n",
       "    <tr>\n",
       "      <th>5</th>\n",
       "      <td>DistanceFromHome</td>\n",
       "      <td>DistanceFromHome</td>\n",
       "    </tr>\n",
       "    <tr>\n",
       "      <th>6</th>\n",
       "      <td>Education</td>\n",
       "      <td>Education</td>\n",
       "    </tr>\n",
       "    <tr>\n",
       "      <th>7</th>\n",
       "      <td>EducationField</td>\n",
       "      <td>EducationField</td>\n",
       "    </tr>\n",
       "    <tr>\n",
       "      <th>8</th>\n",
       "      <td>employeecount</td>\n",
       "      <td>NaN</td>\n",
       "    </tr>\n",
       "    <tr>\n",
       "      <th>9</th>\n",
       "      <td>employeenumber</td>\n",
       "      <td>employeenumber</td>\n",
       "    </tr>\n",
       "    <tr>\n",
       "      <th>10</th>\n",
       "      <td>EnvironmentSatisfaction</td>\n",
       "      <td>EnvironmentSatisfaction</td>\n",
       "    </tr>\n",
       "    <tr>\n",
       "      <th>11</th>\n",
       "      <td>Gender</td>\n",
       "      <td>Gender</td>\n",
       "    </tr>\n",
       "    <tr>\n",
       "      <th>12</th>\n",
       "      <td>HourlyRate</td>\n",
       "      <td>HourlyRate</td>\n",
       "    </tr>\n",
       "    <tr>\n",
       "      <th>13</th>\n",
       "      <td>JobInvolvement</td>\n",
       "      <td>JobInvolvement</td>\n",
       "    </tr>\n",
       "    <tr>\n",
       "      <th>14</th>\n",
       "      <td>JobLevel</td>\n",
       "      <td>JobLevel</td>\n",
       "    </tr>\n",
       "    <tr>\n",
       "      <th>15</th>\n",
       "      <td>JobRole</td>\n",
       "      <td>JobRole</td>\n",
       "    </tr>\n",
       "    <tr>\n",
       "      <th>16</th>\n",
       "      <td>JobSatisfaction</td>\n",
       "      <td>JobSatisfaction</td>\n",
       "    </tr>\n",
       "    <tr>\n",
       "      <th>17</th>\n",
       "      <td>MaritalStatus</td>\n",
       "      <td>MaritalStatus</td>\n",
       "    </tr>\n",
       "    <tr>\n",
       "      <th>18</th>\n",
       "      <td>MonthlyIncome</td>\n",
       "      <td>MonthlyIncome</td>\n",
       "    </tr>\n",
       "    <tr>\n",
       "      <th>19</th>\n",
       "      <td>MonthlyRate</td>\n",
       "      <td>MonthlyRate</td>\n",
       "    </tr>\n",
       "    <tr>\n",
       "      <th>20</th>\n",
       "      <td>NUMCOMPANIESWORKED</td>\n",
       "      <td>NUMCOMPANIESWORKED</td>\n",
       "    </tr>\n",
       "    <tr>\n",
       "      <th>21</th>\n",
       "      <td>Over18</td>\n",
       "      <td>NaN</td>\n",
       "    </tr>\n",
       "    <tr>\n",
       "      <th>22</th>\n",
       "      <td>OverTime</td>\n",
       "      <td>OverTime</td>\n",
       "    </tr>\n",
       "    <tr>\n",
       "      <th>23</th>\n",
       "      <td>PercentSalaryHike</td>\n",
       "      <td>PercentSalaryHike</td>\n",
       "    </tr>\n",
       "    <tr>\n",
       "      <th>24</th>\n",
       "      <td>PerformanceRating</td>\n",
       "      <td>PerformanceRating</td>\n",
       "    </tr>\n",
       "    <tr>\n",
       "      <th>25</th>\n",
       "      <td>RelationshipSatisfaction</td>\n",
       "      <td>RelationshipSatisfaction</td>\n",
       "    </tr>\n",
       "    <tr>\n",
       "      <th>26</th>\n",
       "      <td>StandardHours</td>\n",
       "      <td>StandardHours</td>\n",
       "    </tr>\n",
       "    <tr>\n",
       "      <th>27</th>\n",
       "      <td>StockOptionLevel</td>\n",
       "      <td>StockOptionLevel</td>\n",
       "    </tr>\n",
       "    <tr>\n",
       "      <th>28</th>\n",
       "      <td>TOTALWORKINGYEARS</td>\n",
       "      <td>TOTALWORKINGYEARS</td>\n",
       "    </tr>\n",
       "    <tr>\n",
       "      <th>29</th>\n",
       "      <td>TrainingTimesLastYear</td>\n",
       "      <td>TrainingTimesLastYear</td>\n",
       "    </tr>\n",
       "    <tr>\n",
       "      <th>30</th>\n",
       "      <td>WORKLIFEBALANCE</td>\n",
       "      <td>WORKLIFEBALANCE</td>\n",
       "    </tr>\n",
       "    <tr>\n",
       "      <th>31</th>\n",
       "      <td>YearsAtCompany</td>\n",
       "      <td>YearsAtCompany</td>\n",
       "    </tr>\n",
       "    <tr>\n",
       "      <th>32</th>\n",
       "      <td>YearsInCurrentRole</td>\n",
       "      <td>YearsInCurrentRole</td>\n",
       "    </tr>\n",
       "    <tr>\n",
       "      <th>33</th>\n",
       "      <td>YearsSinceLastPromotion</td>\n",
       "      <td>YearsSinceLastPromotion</td>\n",
       "    </tr>\n",
       "    <tr>\n",
       "      <th>34</th>\n",
       "      <td>YEARSWITHCURRMANAGER</td>\n",
       "      <td>YEARSWITHCURRMANAGER</td>\n",
       "    </tr>\n",
       "    <tr>\n",
       "      <th>35</th>\n",
       "      <td>SameAsMonthlyIncome</td>\n",
       "      <td>NaN</td>\n",
       "    </tr>\n",
       "    <tr>\n",
       "      <th>36</th>\n",
       "      <td>DateBirth</td>\n",
       "      <td>DateBirth</td>\n",
       "    </tr>\n",
       "    <tr>\n",
       "      <th>37</th>\n",
       "      <td>Salary</td>\n",
       "      <td>NaN</td>\n",
       "    </tr>\n",
       "    <tr>\n",
       "      <th>38</th>\n",
       "      <td>RoleDepartament</td>\n",
       "      <td>NaN</td>\n",
       "    </tr>\n",
       "    <tr>\n",
       "      <th>39</th>\n",
       "      <td>NUMBERCHILDREN</td>\n",
       "      <td>NaN</td>\n",
       "    </tr>\n",
       "    <tr>\n",
       "      <th>40</th>\n",
       "      <td>RemoteWork</td>\n",
       "      <td>RemoteWork</td>\n",
       "    </tr>\n",
       "  </tbody>\n",
       "</table>\n",
       "</div>"
      ],
      "text/plain": [
       "                       datos                    datos2\n",
       "0                        Age                       Age\n",
       "1                  Attrition                 Attrition\n",
       "2             BusinessTravel            BusinessTravel\n",
       "3                  DailyRate                 DailyRate\n",
       "4                 Department                Department\n",
       "5           DistanceFromHome          DistanceFromHome\n",
       "6                  Education                 Education\n",
       "7             EducationField            EducationField\n",
       "8              employeecount                       NaN\n",
       "9             employeenumber            employeenumber\n",
       "10   EnvironmentSatisfaction   EnvironmentSatisfaction\n",
       "11                    Gender                    Gender\n",
       "12                HourlyRate                HourlyRate\n",
       "13            JobInvolvement            JobInvolvement\n",
       "14                  JobLevel                  JobLevel\n",
       "15                   JobRole                   JobRole\n",
       "16           JobSatisfaction           JobSatisfaction\n",
       "17             MaritalStatus             MaritalStatus\n",
       "18             MonthlyIncome             MonthlyIncome\n",
       "19               MonthlyRate               MonthlyRate\n",
       "20        NUMCOMPANIESWORKED        NUMCOMPANIESWORKED\n",
       "21                    Over18                       NaN\n",
       "22                  OverTime                  OverTime\n",
       "23         PercentSalaryHike         PercentSalaryHike\n",
       "24         PerformanceRating         PerformanceRating\n",
       "25  RelationshipSatisfaction  RelationshipSatisfaction\n",
       "26             StandardHours             StandardHours\n",
       "27          StockOptionLevel          StockOptionLevel\n",
       "28         TOTALWORKINGYEARS         TOTALWORKINGYEARS\n",
       "29     TrainingTimesLastYear     TrainingTimesLastYear\n",
       "30           WORKLIFEBALANCE           WORKLIFEBALANCE\n",
       "31            YearsAtCompany            YearsAtCompany\n",
       "32        YearsInCurrentRole        YearsInCurrentRole\n",
       "33   YearsSinceLastPromotion   YearsSinceLastPromotion\n",
       "34      YEARSWITHCURRMANAGER      YEARSWITHCURRMANAGER\n",
       "35       SameAsMonthlyIncome                       NaN\n",
       "36                 DateBirth                 DateBirth\n",
       "37                    Salary                       NaN\n",
       "38           RoleDepartament                       NaN\n",
       "39            NUMBERCHILDREN                       NaN\n",
       "40                RemoteWork                RemoteWork"
      ]
     },
     "execution_count": 30,
     "metadata": {},
     "output_type": "execute_result"
    }
   ],
   "source": [
    "# mergeamos las columnas para saber si tenemos duplicados\n",
    "\n",
    "df_merge = datos_col.merge(datos_limpio_col, left_on='datos', right_on='datos2', how = 'left')\n",
    "df_merge\n",
    "\n",
    "\n"
   ]
  },
  {
   "cell_type": "code",
   "execution_count": 31,
   "metadata": {},
   "outputs": [
    {
     "data": {
      "text/html": [
       "<div>\n",
       "<style scoped>\n",
       "    .dataframe tbody tr th:only-of-type {\n",
       "        vertical-align: middle;\n",
       "    }\n",
       "\n",
       "    .dataframe tbody tr th {\n",
       "        vertical-align: top;\n",
       "    }\n",
       "\n",
       "    .dataframe thead th {\n",
       "        text-align: right;\n",
       "    }\n",
       "</style>\n",
       "<table border=\"1\" class=\"dataframe\">\n",
       "  <thead>\n",
       "    <tr style=\"text-align: right;\">\n",
       "      <th></th>\n",
       "      <th>datos</th>\n",
       "      <th>datos2</th>\n",
       "    </tr>\n",
       "  </thead>\n",
       "  <tbody>\n",
       "    <tr>\n",
       "      <th>8</th>\n",
       "      <td>employeecount</td>\n",
       "      <td>NaN</td>\n",
       "    </tr>\n",
       "    <tr>\n",
       "      <th>21</th>\n",
       "      <td>Over18</td>\n",
       "      <td>NaN</td>\n",
       "    </tr>\n",
       "    <tr>\n",
       "      <th>35</th>\n",
       "      <td>SameAsMonthlyIncome</td>\n",
       "      <td>NaN</td>\n",
       "    </tr>\n",
       "    <tr>\n",
       "      <th>37</th>\n",
       "      <td>Salary</td>\n",
       "      <td>NaN</td>\n",
       "    </tr>\n",
       "    <tr>\n",
       "      <th>38</th>\n",
       "      <td>RoleDepartament</td>\n",
       "      <td>NaN</td>\n",
       "    </tr>\n",
       "    <tr>\n",
       "      <th>39</th>\n",
       "      <td>NUMBERCHILDREN</td>\n",
       "      <td>NaN</td>\n",
       "    </tr>\n",
       "  </tbody>\n",
       "</table>\n",
       "</div>"
      ],
      "text/plain": [
       "                  datos datos2\n",
       "8         employeecount    NaN\n",
       "21               Over18    NaN\n",
       "35  SameAsMonthlyIncome    NaN\n",
       "37               Salary    NaN\n",
       "38      RoleDepartament    NaN\n",
       "39       NUMBERCHILDREN    NaN"
      ]
     },
     "execution_count": 31,
     "metadata": {},
     "output_type": "execute_result"
    }
   ],
   "source": [
    "#filtro para saber columnas que habíamos borrado\n",
    "\n",
    "filtro = df_merge['datos2'].isna()\n",
    "df_filtro = df_merge[filtro]\n",
    "\n",
    "df_filtro"
   ]
  },
  {
   "cell_type": "code",
   "execution_count": 32,
   "metadata": {},
   "outputs": [
    {
     "data": {
      "text/plain": [
       "0      True\n",
       "1      True\n",
       "2      True\n",
       "3      True\n",
       "4      True\n",
       "5      True\n",
       "6      True\n",
       "7      True\n",
       "8     False\n",
       "9      True\n",
       "10     True\n",
       "11     True\n",
       "12     True\n",
       "13     True\n",
       "14     True\n",
       "15     True\n",
       "16     True\n",
       "17     True\n",
       "18     True\n",
       "19     True\n",
       "20     True\n",
       "21    False\n",
       "22     True\n",
       "23     True\n",
       "24     True\n",
       "25     True\n",
       "26     True\n",
       "27     True\n",
       "28     True\n",
       "29     True\n",
       "30     True\n",
       "31     True\n",
       "32     True\n",
       "33     True\n",
       "34     True\n",
       "35    False\n",
       "36     True\n",
       "37    False\n",
       "38    False\n",
       "39    False\n",
       "40     True\n",
       "dtype: bool"
      ]
     },
     "execution_count": 32,
     "metadata": {},
     "output_type": "execute_result"
    }
   ],
   "source": [
    "comparacion = df_merge['datos'] == df_merge['datos2']\n",
    "comparacion"
   ]
  },
  {
   "cell_type": "code",
   "execution_count": 33,
   "metadata": {},
   "outputs": [],
   "source": [
    "#borramos columnas que no necesitamos\n",
    "\n",
    "datos.drop( columns = ['employeecount','Over18','SameAsMonthlyIncome', 'Salary', 'RoleDepartament', 'NUMBERCHILDREN'], inplace= True)"
   ]
  },
  {
   "cell_type": "code",
   "execution_count": 34,
   "metadata": {},
   "outputs": [
    {
     "data": {
      "text/html": [
       "<div>\n",
       "<style scoped>\n",
       "    .dataframe tbody tr th:only-of-type {\n",
       "        vertical-align: middle;\n",
       "    }\n",
       "\n",
       "    .dataframe tbody tr th {\n",
       "        vertical-align: top;\n",
       "    }\n",
       "\n",
       "    .dataframe thead th {\n",
       "        text-align: right;\n",
       "    }\n",
       "</style>\n",
       "<table border=\"1\" class=\"dataframe\">\n",
       "  <thead>\n",
       "    <tr style=\"text-align: right;\">\n",
       "      <th></th>\n",
       "      <th>age</th>\n",
       "      <th>attrition</th>\n",
       "      <th>businesstravel</th>\n",
       "      <th>dailyrate</th>\n",
       "      <th>department</th>\n",
       "      <th>distancefromhome</th>\n",
       "      <th>education</th>\n",
       "      <th>educationfield</th>\n",
       "      <th>employeenumber</th>\n",
       "      <th>environmentsatisfaction</th>\n",
       "      <th>gender</th>\n",
       "      <th>hourlyrate</th>\n",
       "      <th>jobinvolvement</th>\n",
       "      <th>joblevel</th>\n",
       "      <th>jobrole</th>\n",
       "      <th>jobsatisfaction</th>\n",
       "      <th>maritalstatus</th>\n",
       "      <th>monthlyincome</th>\n",
       "      <th>monthlyrate</th>\n",
       "      <th>numcompaniesworked</th>\n",
       "      <th>overtime</th>\n",
       "      <th>percentsalaryhike</th>\n",
       "      <th>performancerating</th>\n",
       "      <th>relationshipsatisfaction</th>\n",
       "      <th>standardhours</th>\n",
       "      <th>stockoptionlevel</th>\n",
       "      <th>totalworkingyears</th>\n",
       "      <th>trainingtimeslastyear</th>\n",
       "      <th>worklifebalance</th>\n",
       "      <th>yearsatcompany</th>\n",
       "      <th>yearsincurrentrole</th>\n",
       "      <th>yearssincelastpromotion</th>\n",
       "      <th>yearswithcurrmanager</th>\n",
       "      <th>datebirth</th>\n",
       "      <th>remotework</th>\n",
       "    </tr>\n",
       "  </thead>\n",
       "  <tbody>\n",
       "    <tr>\n",
       "      <th>0</th>\n",
       "      <td>51</td>\n",
       "      <td>No</td>\n",
       "      <td>NaN</td>\n",
       "      <td>684,0$</td>\n",
       "      <td>NaN</td>\n",
       "      <td>6</td>\n",
       "      <td>3</td>\n",
       "      <td>NaN</td>\n",
       "      <td>162,0</td>\n",
       "      <td>1</td>\n",
       "      <td>0</td>\n",
       "      <td>51</td>\n",
       "      <td>3</td>\n",
       "      <td>5</td>\n",
       "      <td>resEArch DIREcToR</td>\n",
       "      <td>3</td>\n",
       "      <td>NaN</td>\n",
       "      <td>19537,0</td>\n",
       "      <td>6462</td>\n",
       "      <td>7</td>\n",
       "      <td>No</td>\n",
       "      <td>13</td>\n",
       "      <td>3,0</td>\n",
       "      <td>3</td>\n",
       "      <td>NaN</td>\n",
       "      <td>0</td>\n",
       "      <td>NaN</td>\n",
       "      <td>5</td>\n",
       "      <td>3,0</td>\n",
       "      <td>20</td>\n",
       "      <td>NaN</td>\n",
       "      <td>15</td>\n",
       "      <td>15</td>\n",
       "      <td>1972</td>\n",
       "      <td>Yes</td>\n",
       "    </tr>\n",
       "    <tr>\n",
       "      <th>1</th>\n",
       "      <td>52</td>\n",
       "      <td>No</td>\n",
       "      <td>NaN</td>\n",
       "      <td>699,0$</td>\n",
       "      <td>NaN</td>\n",
       "      <td>1</td>\n",
       "      <td>4</td>\n",
       "      <td>Life Sciences</td>\n",
       "      <td>259,0</td>\n",
       "      <td>3</td>\n",
       "      <td>0</td>\n",
       "      <td>65</td>\n",
       "      <td>2</td>\n",
       "      <td>5</td>\n",
       "      <td>ManAGeR</td>\n",
       "      <td>3</td>\n",
       "      <td>NaN</td>\n",
       "      <td>19999,0</td>\n",
       "      <td>5678</td>\n",
       "      <td>0</td>\n",
       "      <td>NaN</td>\n",
       "      <td>14</td>\n",
       "      <td>3,0</td>\n",
       "      <td>1</td>\n",
       "      <td>NaN</td>\n",
       "      <td>1</td>\n",
       "      <td>34,0</td>\n",
       "      <td>5</td>\n",
       "      <td>3,0</td>\n",
       "      <td>33</td>\n",
       "      <td>NaN</td>\n",
       "      <td>11</td>\n",
       "      <td>9</td>\n",
       "      <td>1971</td>\n",
       "      <td>1</td>\n",
       "    </tr>\n",
       "    <tr>\n",
       "      <th>2</th>\n",
       "      <td>42</td>\n",
       "      <td>No</td>\n",
       "      <td>travel_rarely</td>\n",
       "      <td>532,0$</td>\n",
       "      <td>Research &amp; Development</td>\n",
       "      <td>4</td>\n",
       "      <td>2</td>\n",
       "      <td>Technical Degree</td>\n",
       "      <td>319,0</td>\n",
       "      <td>3</td>\n",
       "      <td>0</td>\n",
       "      <td>58</td>\n",
       "      <td>3</td>\n",
       "      <td>5</td>\n",
       "      <td>ManaGER</td>\n",
       "      <td>4</td>\n",
       "      <td>Married</td>\n",
       "      <td>19232,0</td>\n",
       "      <td>4933</td>\n",
       "      <td>1</td>\n",
       "      <td>No</td>\n",
       "      <td>11</td>\n",
       "      <td>3,0</td>\n",
       "      <td>4</td>\n",
       "      <td>NaN</td>\n",
       "      <td>0</td>\n",
       "      <td>22,0</td>\n",
       "      <td>3</td>\n",
       "      <td>NaN</td>\n",
       "      <td>22</td>\n",
       "      <td>NaN</td>\n",
       "      <td>11</td>\n",
       "      <td>15</td>\n",
       "      <td>1981</td>\n",
       "      <td>1</td>\n",
       "    </tr>\n",
       "    <tr>\n",
       "      <th>3</th>\n",
       "      <td>47</td>\n",
       "      <td>No</td>\n",
       "      <td>travel_rarely</td>\n",
       "      <td>359,0$</td>\n",
       "      <td>NaN</td>\n",
       "      <td>2</td>\n",
       "      <td>4</td>\n",
       "      <td>Medical</td>\n",
       "      <td>NaN</td>\n",
       "      <td>1</td>\n",
       "      <td>1</td>\n",
       "      <td>82</td>\n",
       "      <td>3</td>\n",
       "      <td>4</td>\n",
       "      <td>ReseArCH DIrECtOr</td>\n",
       "      <td>3</td>\n",
       "      <td>Married</td>\n",
       "      <td>17169,0</td>\n",
       "      <td>26703</td>\n",
       "      <td>3</td>\n",
       "      <td>NaN</td>\n",
       "      <td>19</td>\n",
       "      <td>3,0</td>\n",
       "      <td>2</td>\n",
       "      <td>NaN</td>\n",
       "      <td>2</td>\n",
       "      <td>NaN</td>\n",
       "      <td>2</td>\n",
       "      <td>NaN</td>\n",
       "      <td>20</td>\n",
       "      <td>NaN</td>\n",
       "      <td>5</td>\n",
       "      <td>6</td>\n",
       "      <td>1976</td>\n",
       "      <td>False</td>\n",
       "    </tr>\n",
       "    <tr>\n",
       "      <th>4</th>\n",
       "      <td>46</td>\n",
       "      <td>No</td>\n",
       "      <td>NaN</td>\n",
       "      <td>1319,0$</td>\n",
       "      <td>NaN</td>\n",
       "      <td>3</td>\n",
       "      <td>3</td>\n",
       "      <td>Technical Degree</td>\n",
       "      <td>NaN</td>\n",
       "      <td>1</td>\n",
       "      <td>1</td>\n",
       "      <td>45</td>\n",
       "      <td>4</td>\n",
       "      <td>4</td>\n",
       "      <td>sAleS EXECUtIve</td>\n",
       "      <td>1</td>\n",
       "      <td>Divorced</td>\n",
       "      <td>NaN</td>\n",
       "      <td>7739</td>\n",
       "      <td>2</td>\n",
       "      <td>No</td>\n",
       "      <td>12</td>\n",
       "      <td>3,0</td>\n",
       "      <td>4</td>\n",
       "      <td>NaN</td>\n",
       "      <td>1</td>\n",
       "      <td>NaN</td>\n",
       "      <td>5</td>\n",
       "      <td>3,0</td>\n",
       "      <td>19</td>\n",
       "      <td>NaN</td>\n",
       "      <td>2</td>\n",
       "      <td>8</td>\n",
       "      <td>1977</td>\n",
       "      <td>0</td>\n",
       "    </tr>\n",
       "  </tbody>\n",
       "</table>\n",
       "</div>"
      ],
      "text/plain": [
       "  age attrition businesstravel dailyrate                department  \\\n",
       "0  51        No            NaN    684,0$                       NaN   \n",
       "1  52        No            NaN    699,0$                       NaN   \n",
       "2  42        No  travel_rarely    532,0$   Research & Development    \n",
       "3  47        No  travel_rarely    359,0$                       NaN   \n",
       "4  46        No            NaN   1319,0$                       NaN   \n",
       "\n",
       "   distancefromhome  education    educationfield employeenumber  \\\n",
       "0                 6          3               NaN          162,0   \n",
       "1                 1          4     Life Sciences          259,0   \n",
       "2                 4          2  Technical Degree          319,0   \n",
       "3                 2          4           Medical            NaN   \n",
       "4                 3          3  Technical Degree            NaN   \n",
       "\n",
       "   environmentsatisfaction  gender hourlyrate  jobinvolvement  joblevel  \\\n",
       "0                        1       0         51               3         5   \n",
       "1                        3       0         65               2         5   \n",
       "2                        3       0         58               3         5   \n",
       "3                        1       1         82               3         4   \n",
       "4                        1       1         45               4         4   \n",
       "\n",
       "               jobrole  jobsatisfaction maritalstatus monthlyincome  \\\n",
       "0   resEArch DIREcToR                 3           NaN       19537,0   \n",
       "1             ManAGeR                 3           NaN       19999,0   \n",
       "2             ManaGER                 4       Married       19232,0   \n",
       "3   ReseArCH DIrECtOr                 3       Married       17169,0   \n",
       "4     sAleS EXECUtIve                 1      Divorced           NaN   \n",
       "\n",
       "   monthlyrate  numcompaniesworked overtime  percentsalaryhike  \\\n",
       "0         6462                   7       No                 13   \n",
       "1         5678                   0      NaN                 14   \n",
       "2         4933                   1       No                 11   \n",
       "3        26703                   3      NaN                 19   \n",
       "4         7739                   2       No                 12   \n",
       "\n",
       "  performancerating  relationshipsatisfaction standardhours  stockoptionlevel  \\\n",
       "0               3,0                         3           NaN                 0   \n",
       "1               3,0                         1           NaN                 1   \n",
       "2               3,0                         4           NaN                 0   \n",
       "3               3,0                         2           NaN                 2   \n",
       "4               3,0                         4           NaN                 1   \n",
       "\n",
       "  totalworkingyears  trainingtimeslastyear worklifebalance  yearsatcompany  \\\n",
       "0               NaN                      5             3,0              20   \n",
       "1              34,0                      5             3,0              33   \n",
       "2              22,0                      3             NaN              22   \n",
       "3               NaN                      2             NaN              20   \n",
       "4               NaN                      5             3,0              19   \n",
       "\n",
       "  yearsincurrentrole  yearssincelastpromotion  yearswithcurrmanager  \\\n",
       "0                NaN                       15                    15   \n",
       "1                NaN                       11                     9   \n",
       "2                NaN                       11                    15   \n",
       "3                NaN                        5                     6   \n",
       "4                NaN                        2                     8   \n",
       "\n",
       "   datebirth remotework  \n",
       "0       1972        Yes  \n",
       "1       1971          1  \n",
       "2       1981          1  \n",
       "3       1976      False  \n",
       "4       1977          0  "
      ]
     },
     "execution_count": 34,
     "metadata": {},
     "output_type": "execute_result"
    }
   ],
   "source": [
    "# transformamos columnas para su mejor visulatización las convertimos todos a lower\n",
    "\n",
    "new_columns = {column : column.lower() for column in datos}\n",
    "\n",
    "new_columns\n",
    "\n",
    "datos.rename(columns = new_columns, inplace= True)\n",
    "\n",
    "datos.head()"
   ]
  },
  {
   "cell_type": "code",
   "execution_count": 35,
   "metadata": {},
   "outputs": [],
   "source": [
    "# Transformamos columnas"
   ]
  },
  {
   "cell_type": "code",
   "execution_count": 36,
   "metadata": {},
   "outputs": [
    {
     "data": {
      "text/plain": [
       "array(['51', '52', '42', '47', '46', '48', '59', '41', '56', '38', '55',\n",
       "       '40', '58', '35', '45', '33', '36', '34', '53', '43', '60', '32',\n",
       "       '37', '49', '39', '50', '44', '30', '58 ', '29', '31', '54', '57',\n",
       "       '27', '28', '26', '25', '24', '23', '22', '21', '20', '19', '18'],\n",
       "      dtype=object)"
      ]
     },
     "execution_count": 36,
     "metadata": {},
     "output_type": "execute_result"
    }
   ],
   "source": [
    "datos['age'].unique()\n",
    "\n",
    "age = datos['age'].str.replace('fifty-eight', '58 ').str.replace('fifty-eight', '47 ').str.replace('thirty-six', '36').str.replace('fifty-five', '55').str.replace('fifty-two', '52').str.replace('thirty-one', '31').str.replace('twenty-six', '36').str.replace('thirty-seven', '37').str.replace('thirty-seven', '37').str.replace('thirty-two', '32').str.replace('twenty-four', '24').str.replace('forty-seven', '47').str.replace('thirty', '30')\n",
    "\n",
    "datos['age'] = age\n",
    "\n",
    "datos['age'].unique()"
   ]
  },
  {
   "cell_type": "code",
   "execution_count": 37,
   "metadata": {},
   "outputs": [
    {
     "data": {
      "text/plain": [
       "array(['No', 'Yes'], dtype=object)"
      ]
     },
     "execution_count": 37,
     "metadata": {},
     "output_type": "execute_result"
    }
   ],
   "source": [
    "datos['attrition'].unique()"
   ]
  },
  {
   "cell_type": "code",
   "execution_count": 38,
   "metadata": {},
   "outputs": [
    {
     "data": {
      "text/plain": [
       "array([nan, 'Travel rarely', 'Travel frequently', 'Non travel'],\n",
       "      dtype=object)"
      ]
     },
     "execution_count": 38,
     "metadata": {},
     "output_type": "execute_result"
    }
   ],
   "source": [
    "businesstravel = datos['businesstravel'].str.replace('_', ' ').str.replace('-', ' ').str.capitalize()\n",
    "\n",
    "datos['businesstravel'] = businesstravel\n",
    "\n",
    "datos['businesstravel'].unique()\n",
    "\n"
   ]
  },
  {
   "cell_type": "code",
   "execution_count": 39,
   "metadata": {},
   "outputs": [
    {
     "data": {
      "text/plain": [
       "0        684,0\n",
       "1        699,0\n",
       "2        532,0\n",
       "3        359,0\n",
       "4       1319,0\n",
       "         ...  \n",
       "1609     530,0\n",
       "1610     805,0\n",
       "1611     903,0\n",
       "1612    1229,0\n",
       "1613     566,0\n",
       "Name: dailyrate, Length: 1614, dtype: object"
      ]
     },
     "execution_count": 39,
     "metadata": {},
     "output_type": "execute_result"
    }
   ],
   "source": [
    "# nos falta ver qué hacemos con los Nan y convertirlo en INT\n",
    "\n",
    "dailyrate = datos['dailyrate'].str.replace('$', '')\n",
    "\n",
    "\n",
    "datos['dailyrate'] = dailyrate\n",
    "\n",
    "datos['dailyrate'] \n",
    "\n",
    "\n"
   ]
  },
  {
   "cell_type": "code",
   "execution_count": 40,
   "metadata": {},
   "outputs": [
    {
     "data": {
      "text/plain": [
       "array([nan, ' Research & Development ', ' Sales ', ' Human Resources '],\n",
       "      dtype=object)"
      ]
     },
     "execution_count": 40,
     "metadata": {},
     "output_type": "execute_result"
    }
   ],
   "source": [
    "# ver qué hacemos con los Nan\n",
    "\n",
    "datos['department'].unique()"
   ]
  },
  {
   "cell_type": "code",
   "execution_count": 42,
   "metadata": {},
   "outputs": [
    {
     "data": {
      "text/plain": [
       "array([  6,   1,   4,   2,   3,  22,  25,   9,   7,  23,  10,  12,  14,\n",
       "       -13,  15,   8, -42,  28, -37,   5,  16, -35,  26, -26,  24,  29,\n",
       "       -25,  17,  21, -18, -10, -30, -27,  20, -31, -29, -39,  18, -21,\n",
       "       -15,  11,  13, -14,  19, -33, -34, -46, -36, -19,  27, -12, -23,\n",
       "       -45, -28, -47, -32, -24, -16, -22, -41, -49, -11, -48, -38, -20,\n",
       "       -17, -43, -40, -44], dtype=int64)"
      ]
     },
     "execution_count": 42,
     "metadata": {},
     "output_type": "execute_result"
    }
   ],
   "source": [
    "#numeros negativos\n",
    "\n",
    "datos['distancefromhome'].unique()"
   ]
  },
  {
   "cell_type": "code",
   "execution_count": 43,
   "metadata": {},
   "outputs": [
    {
     "data": {
      "text/plain": [
       "array(['No', nan, 'Yes'], dtype=object)"
      ]
     },
     "execution_count": 43,
     "metadata": {},
     "output_type": "execute_result"
    }
   ],
   "source": [
    "# overtime mirar qué hacer con los nan\n",
    "\n",
    "datos['overtime'].unique()"
   ]
  },
  {
   "cell_type": "code",
   "execution_count": 44,
   "metadata": {},
   "outputs": [
    {
     "data": {
      "text/plain": [
       "percentsalaryhike\n",
       "11    232\n",
       "13    230\n",
       "12    225\n",
       "14    220\n",
       "15    110\n",
       "18     98\n",
       "17     88\n",
       "16     86\n",
       "19     82\n",
       "20     60\n",
       "22     59\n",
       "21     51\n",
       "23     29\n",
       "24     25\n",
       "25     19\n",
       "Name: count, dtype: int64"
      ]
     },
     "execution_count": 44,
     "metadata": {},
     "output_type": "execute_result"
    }
   ],
   "source": [
    "datos['percentsalaryhike'].unique()\n",
    "\n",
    "suma = datos['percentsalaryhike'].value_counts()\n",
    "suma"
   ]
  },
  {
   "cell_type": "code",
   "execution_count": 46,
   "metadata": {},
   "outputs": [
    {
     "name": "stdout",
     "output_type": "stream",
     "text": [
      "performancerating\n",
      "3    1205\n",
      "4     214\n",
      "Name: count, dtype: int64\n"
     ]
    },
    {
     "data": {
      "text/plain": [
       "0         3\n",
       "1         3\n",
       "2         3\n",
       "3         3\n",
       "4         3\n",
       "       ... \n",
       "1609    NaN\n",
       "1610      3\n",
       "1611      3\n",
       "1612    NaN\n",
       "1613      3\n",
       "Name: performancerating, Length: 1614, dtype: object"
      ]
     },
     "execution_count": 46,
     "metadata": {},
     "output_type": "execute_result"
    }
   ],
   "source": [
    "#mirar que hacer con los nan y convertir a número porque es un objeto por las comas\n",
    "\n",
    "suma = datos['performancerating'].value_counts()\n",
    "print(suma)\n",
    "\n",
    "performancerating = datos['performancerating'].str.replace(',0', '')\n",
    "\n",
    "\n",
    "datos['performancerating'] = performancerating\n",
    "\n",
    "datos['performancerating'] \n",
    "\n"
   ]
  },
  {
   "cell_type": "code",
   "execution_count": 47,
   "metadata": {},
   "outputs": [
    {
     "data": {
      "text/plain": [
       "array([3, 1, 4, 2], dtype=int64)"
      ]
     },
     "execution_count": 47,
     "metadata": {},
     "output_type": "execute_result"
    }
   ],
   "source": [
    "# No hacemos cambios de momento\n",
    "\n",
    "datos['relationshipsatisfaction'].unique()\n",
    "\n"
   ]
  },
  {
   "cell_type": "code",
   "execution_count": 48,
   "metadata": {},
   "outputs": [],
   "source": [
    "#borramos standard hours porque no tiene sentido tiene muchos nan y 80h es imposible\n",
    "datos.drop( columns = ['standardhours'], inplace= True)\n",
    "\n",
    "\n"
   ]
  },
  {
   "cell_type": "code",
   "execution_count": 49,
   "metadata": {},
   "outputs": [
    {
     "data": {
      "text/plain": [
       "Index(['age', 'attrition', 'businesstravel', 'dailyrate', 'department',\n",
       "       'distancefromhome', 'education', 'educationfield', 'employeenumber',\n",
       "       'environmentsatisfaction', 'gender', 'hourlyrate', 'jobinvolvement',\n",
       "       'joblevel', 'jobrole', 'jobsatisfaction', 'maritalstatus',\n",
       "       'monthlyincome', 'monthlyrate', 'numcompaniesworked', 'overtime',\n",
       "       'percentsalaryhike', 'performancerating', 'relationshipsatisfaction',\n",
       "       'stockoptionlevel', 'totalworkingyears', 'trainingtimeslastyear',\n",
       "       'worklifebalance', 'yearsatcompany', 'yearsincurrentrole',\n",
       "       'yearssincelastpromotion', 'yearswithcurrmanager', 'datebirth',\n",
       "       'remotework'],\n",
       "      dtype='object')"
      ]
     },
     "execution_count": 49,
     "metadata": {},
     "output_type": "execute_result"
    }
   ],
   "source": [
    "datos.columns"
   ]
  },
  {
   "cell_type": "code",
   "execution_count": 50,
   "metadata": {},
   "outputs": [
    {
     "data": {
      "text/plain": [
       "array([0, 1, 2, 3], dtype=int64)"
      ]
     },
     "execution_count": 50,
     "metadata": {},
     "output_type": "execute_result"
    }
   ],
   "source": [
    "# No he hecho nada en esta columna parece estra bien\n",
    "datos['stockoptionlevel'].unique()"
   ]
  },
  {
   "cell_type": "code",
   "execution_count": 51,
   "metadata": {},
   "outputs": [
    {
     "data": {
      "text/plain": [
       "0       NaN\n",
       "1        34\n",
       "2        22\n",
       "3       NaN\n",
       "4       NaN\n",
       "       ... \n",
       "1609    NaN\n",
       "1610    NaN\n",
       "1611      9\n",
       "1612     12\n",
       "1613    NaN\n",
       "Name: totalworkingyears, Length: 1614, dtype: object"
      ]
     },
     "execution_count": 51,
     "metadata": {},
     "output_type": "execute_result"
    }
   ],
   "source": [
    "# En cuanto gestionemos los nan cambiar a INT\n",
    "\n",
    "datos['totalworkingyears'].unique()\n",
    "\n",
    "totalworkingyears = datos['totalworkingyears'].str.replace(',0', '')\n",
    "\n",
    "\n",
    "datos['totalworkingyears'] = totalworkingyears\n",
    "\n",
    "datos['totalworkingyears'] \n"
   ]
  },
  {
   "cell_type": "code",
   "execution_count": 52,
   "metadata": {},
   "outputs": [
    {
     "data": {
      "text/plain": [
       "array([nan, '34', '22', '28', '20', '21', '33', '40', '18', '25', '15',\n",
       "       '17', '26', '16', '24', '14', '23', '27', '19', '11', '38', '37',\n",
       "       '13', '12', '29', '10', '36', '35', '9', '31', '32', '8', '7',\n",
       "       '30', '6', '5', '4', '3', '2', '1', '0'], dtype=object)"
      ]
     },
     "execution_count": 52,
     "metadata": {},
     "output_type": "execute_result"
    }
   ],
   "source": [
    "# En cuanto gestionemos los nan cambiar a INT\n",
    "\n",
    "datos['totalworkingyears'].unique()"
   ]
  },
  {
   "cell_type": "code",
   "execution_count": 53,
   "metadata": {},
   "outputs": [
    {
     "data": {
      "text/plain": [
       "array([5, 3, 2, 0, 1, 4, 6], dtype=int64)"
      ]
     },
     "execution_count": 53,
     "metadata": {},
     "output_type": "execute_result"
    }
   ],
   "source": [
    "# trainingtimeslastyear no hacer nada aparentemente toda la información es correcta\n",
    "\n",
    "datos['trainingtimeslastyear'].unique()\n",
    "\n"
   ]
  },
  {
   "cell_type": "code",
   "execution_count": 54,
   "metadata": {},
   "outputs": [
    {
     "data": {
      "text/plain": [
       "0         3\n",
       "1         3\n",
       "2       NaN\n",
       "3       NaN\n",
       "4         3\n",
       "       ... \n",
       "1609      3\n",
       "1610      2\n",
       "1611      3\n",
       "1612      3\n",
       "1613      3\n",
       "Name: worklifebalance, Length: 1614, dtype: object"
      ]
     },
     "execution_count": 54,
     "metadata": {},
     "output_type": "execute_result"
    }
   ],
   "source": [
    "# Ver qué hacemos con los NaN y convertir a INT\n",
    "\n",
    "datos['worklifebalance'].unique()\n",
    "\n",
    "worklifebalance = datos['worklifebalance'].str.replace(',0', '')\n",
    "\n",
    "\n",
    "datos['worklifebalance'] = worklifebalance\n",
    "\n",
    "datos['worklifebalance'] \n"
   ]
  },
  {
   "cell_type": "code",
   "execution_count": 55,
   "metadata": {},
   "outputs": [
    {
     "data": {
      "text/plain": [
       "array([20, 33, 22, 19, 21, 18, 24, 31, 26, 16, 23, 15, 17, 32, 14, 13, 25,\n",
       "       12, 11, 37, 40, 36, 27, 29, 10,  9, 30,  8,  7, 34,  6,  5,  4,  2,\n",
       "        3,  1,  0], dtype=int64)"
      ]
     },
     "execution_count": 55,
     "metadata": {},
     "output_type": "execute_result"
    }
   ],
   "source": [
    "# todo aparenta estar correcto\n",
    "\n",
    "datos['yearsatcompany'].unique()\n",
    "\n"
   ]
  },
  {
   "cell_type": "code",
   "execution_count": 56,
   "metadata": {},
   "outputs": [
    {
     "data": {
      "text/plain": [
       "0       NaN\n",
       "1       NaN\n",
       "2       NaN\n",
       "3       NaN\n",
       "4       NaN\n",
       "       ... \n",
       "1609    NaN\n",
       "1610    NaN\n",
       "1611    NaN\n",
       "1612    NaN\n",
       "1613    NaN\n",
       "Name: yearsincurrentrole, Length: 1614, dtype: object"
      ]
     },
     "execution_count": 56,
     "metadata": {},
     "output_type": "execute_result"
    }
   ],
   "source": [
    "# Ver qué hacemos con los NaN y convertir a INT creo que esta la tendremos que borrar porque no hay casi datos\n",
    "\n",
    "datos['yearsincurrentrole'].unique()\n",
    "\n",
    "yearsincurrentrole = datos['yearsincurrentrole'].str.replace(',0', '')\n",
    "\n",
    "\n",
    "datos['yearsincurrentrole'] = yearsincurrentrole\n",
    "\n",
    "datos['yearsincurrentrole'] \n",
    "\n",
    "\n",
    "\n"
   ]
  },
  {
   "cell_type": "code",
   "execution_count": 57,
   "metadata": {},
   "outputs": [
    {
     "data": {
      "text/html": [
       "<div>\n",
       "<style scoped>\n",
       "    .dataframe tbody tr th:only-of-type {\n",
       "        vertical-align: middle;\n",
       "    }\n",
       "\n",
       "    .dataframe tbody tr th {\n",
       "        vertical-align: top;\n",
       "    }\n",
       "\n",
       "    .dataframe thead th {\n",
       "        text-align: right;\n",
       "    }\n",
       "</style>\n",
       "<table border=\"1\" class=\"dataframe\">\n",
       "  <thead>\n",
       "    <tr style=\"text-align: right;\">\n",
       "      <th></th>\n",
       "      <th>yearssincelastpromotion</th>\n",
       "    </tr>\n",
       "  </thead>\n",
       "  <tbody>\n",
       "    <tr>\n",
       "      <th>0</th>\n",
       "      <td>15</td>\n",
       "    </tr>\n",
       "    <tr>\n",
       "      <th>1</th>\n",
       "      <td>11</td>\n",
       "    </tr>\n",
       "    <tr>\n",
       "      <th>2</th>\n",
       "      <td>11</td>\n",
       "    </tr>\n",
       "    <tr>\n",
       "      <th>3</th>\n",
       "      <td>5</td>\n",
       "    </tr>\n",
       "    <tr>\n",
       "      <th>4</th>\n",
       "      <td>2</td>\n",
       "    </tr>\n",
       "    <tr>\n",
       "      <th>...</th>\n",
       "      <td>...</td>\n",
       "    </tr>\n",
       "    <tr>\n",
       "      <th>1609</th>\n",
       "      <td>3</td>\n",
       "    </tr>\n",
       "    <tr>\n",
       "      <th>1610</th>\n",
       "      <td>0</td>\n",
       "    </tr>\n",
       "    <tr>\n",
       "      <th>1611</th>\n",
       "      <td>0</td>\n",
       "    </tr>\n",
       "    <tr>\n",
       "      <th>1612</th>\n",
       "      <td>0</td>\n",
       "    </tr>\n",
       "    <tr>\n",
       "      <th>1613</th>\n",
       "      <td>0</td>\n",
       "    </tr>\n",
       "  </tbody>\n",
       "</table>\n",
       "<p>1614 rows × 1 columns</p>\n",
       "</div>"
      ],
      "text/plain": [
       "      yearssincelastpromotion\n",
       "0                          15\n",
       "1                          11\n",
       "2                          11\n",
       "3                           5\n",
       "4                           2\n",
       "...                       ...\n",
       "1609                        3\n",
       "1610                        0\n",
       "1611                        0\n",
       "1612                        0\n",
       "1613                        0\n",
       "\n",
       "[1614 rows x 1 columns]"
      ]
     },
     "execution_count": 57,
     "metadata": {},
     "output_type": "execute_result"
    }
   ],
   "source": [
    "datos['yearssincelastpromotion'].unique()\n",
    "\n",
    "\n",
    "\n",
    "\n",
    "datos[['yearssincelastpromotion']]\n"
   ]
  },
  {
   "cell_type": "code",
   "execution_count": 58,
   "metadata": {},
   "outputs": [
    {
     "data": {
      "text/plain": [
       "array([15,  9,  6,  8,  7, 11, 10, 12,  4,  0,  5, 17,  2, 14,  1, 13,  3,\n",
       "       16], dtype=int64)"
      ]
     },
     "execution_count": 58,
     "metadata": {},
     "output_type": "execute_result"
    }
   ],
   "source": [
    "# no tenemos que tocar nada\n",
    "\n",
    "datos['yearswithcurrmanager'].unique()"
   ]
  },
  {
   "cell_type": "code",
   "execution_count": 59,
   "metadata": {},
   "outputs": [
    {
     "data": {
      "text/plain": [
       "array([1972, 1971, 1981, 1976, 1977, 1975, 1964, 1982, 1967, 1985, 1968,\n",
       "       1983, 1965, 1988, 1978, 1990, 1987, 1989, 1970, 1980, 1963, 1991,\n",
       "       1986, 1974, 1984, 1973, 1979, 1993, 1994, 1992, 1969, 1966, 1996,\n",
       "       1995, 1997, 1998, 1999, 2000, 2001, 2002, 2003, 2004, 2005],\n",
       "      dtype=int64)"
      ]
     },
     "execution_count": 59,
     "metadata": {},
     "output_type": "execute_result"
    }
   ],
   "source": [
    "# esta ok\n",
    "\n",
    "datos['datebirth'].unique()"
   ]
  },
  {
   "cell_type": "code",
   "execution_count": 60,
   "metadata": {},
   "outputs": [
    {
     "data": {
      "text/plain": [
       "array(['Yes', '1', 'False', '0', 'True'], dtype=object)"
      ]
     },
     "execution_count": 60,
     "metadata": {},
     "output_type": "execute_result"
    }
   ],
   "source": [
    "#Tendremos que ver qué hacemos con los Nan\n",
    "\n",
    "datos['remotework'].unique()\n",
    "    \n"
   ]
  },
  {
   "cell_type": "code",
   "execution_count": 61,
   "metadata": {},
   "outputs": [
    {
     "data": {
      "text/plain": [
       "array(['Yes', 'No'], dtype=object)"
      ]
     },
     "execution_count": 61,
     "metadata": {},
     "output_type": "execute_result"
    }
   ],
   "source": [
    "diccionario_mapa = {'Yes':'Yes', '1':'Yes', 'False':'No', '0':'No', 'True':'Yes'}\n",
    "\n",
    "datos[\"remotework\"] = datos[\"remotework\"].map(diccionario_mapa)\n",
    "\n",
    "datos['remotework'].unique()"
   ]
  },
  {
   "cell_type": "code",
   "execution_count": 62,
   "metadata": {},
   "outputs": [
    {
     "data": {
      "text/plain": [
       "Index(['age', 'attrition', 'businesstravel', 'dailyrate', 'department',\n",
       "       'distancefromhome', 'education', 'educationfield', 'employeenumber',\n",
       "       'environmentsatisfaction', 'gender', 'hourlyrate', 'jobinvolvement',\n",
       "       'joblevel', 'jobrole', 'jobsatisfaction', 'maritalstatus',\n",
       "       'monthlyincome', 'monthlyrate', 'numcompaniesworked', 'overtime',\n",
       "       'percentsalaryhike', 'performancerating', 'relationshipsatisfaction',\n",
       "       'stockoptionlevel', 'totalworkingyears', 'trainingtimeslastyear',\n",
       "       'worklifebalance', 'yearsatcompany', 'yearsincurrentrole',\n",
       "       'yearssincelastpromotion', 'yearswithcurrmanager', 'datebirth',\n",
       "       'remotework'],\n",
       "      dtype='object')"
      ]
     },
     "execution_count": 62,
     "metadata": {},
     "output_type": "execute_result"
    }
   ],
   "source": [
    "datos.columns"
   ]
  }
 ],
 "metadata": {
  "kernelspec": {
   "display_name": "Python 3",
   "language": "python",
   "name": "python3"
  },
  "language_info": {
   "codemirror_mode": {
    "name": "ipython",
    "version": 3
   },
   "file_extension": ".py",
   "mimetype": "text/x-python",
   "name": "python",
   "nbconvert_exporter": "python",
   "pygments_lexer": "ipython3",
   "version": "3.11.7"
  }
 },
 "nbformat": 4,
 "nbformat_minor": 2
}
