{
 "cells": [
  {
   "cell_type": "code",
   "execution_count": 1,
   "metadata": {},
   "outputs": [],
   "source": [
    "# importamos las librerías que necesitamos\n",
    "\n",
    "# Tratamiento de datos\n",
    "# -----------------------------------------------------------------------\n",
    "import pandas as pd\n",
    "import numpy as np\n",
    "\n",
    "from sklearn.impute import SimpleImputer\n",
    "from sklearn.experimental import enable_iterative_imputer\n",
    "from sklearn.impute import IterativeImputer\n",
    "from sklearn.impute import KNNImputer\n",
    "# Librerías de visualización\n",
    "# -----------------------------------------------------------------------\n",
    "import seaborn as sns\n",
    "import matplotlib.pyplot as plt\n",
    "\n",
    "\n",
    "# Configuración\n",
    "# -----------------------------------------------------------------------\n",
    "pd.set_option('display.max_columns', None) # para poder visualizar todas las columnas de los DataFrames\n",
    "pd.set_option('display.max_colwidth', None) # para visualizar todo el contenido de los valores\n",
    "#pd.set_option('display.max_rows', None) # Para visualizar todo el contenido de las filas"
   ]
  },
  {
   "cell_type": "code",
   "execution_count": 2,
   "metadata": {},
   "outputs": [],
   "source": [
    "datos = pd.read_csv('Datos/datos_empresa.csv', index_col=0)\n",
    "datos_limpios = pd.read_csv('Datos/datos_empresa_V1.csv', index_col=0)\n"
   ]
  },
  {
   "cell_type": "code",
   "execution_count": 3,
   "metadata": {},
   "outputs": [
    {
     "data": {
      "text/html": [
       "<div>\n",
       "<style scoped>\n",
       "    .dataframe tbody tr th:only-of-type {\n",
       "        vertical-align: middle;\n",
       "    }\n",
       "\n",
       "    .dataframe tbody tr th {\n",
       "        vertical-align: top;\n",
       "    }\n",
       "\n",
       "    .dataframe thead th {\n",
       "        text-align: right;\n",
       "    }\n",
       "</style>\n",
       "<table border=\"1\" class=\"dataframe\">\n",
       "  <thead>\n",
       "    <tr style=\"text-align: right;\">\n",
       "      <th></th>\n",
       "      <th>datos2</th>\n",
       "    </tr>\n",
       "  </thead>\n",
       "  <tbody>\n",
       "    <tr>\n",
       "      <th>0</th>\n",
       "      <td>Age</td>\n",
       "    </tr>\n",
       "    <tr>\n",
       "      <th>1</th>\n",
       "      <td>Attrition</td>\n",
       "    </tr>\n",
       "    <tr>\n",
       "      <th>2</th>\n",
       "      <td>BusinessTravel</td>\n",
       "    </tr>\n",
       "    <tr>\n",
       "      <th>3</th>\n",
       "      <td>DailyRate</td>\n",
       "    </tr>\n",
       "    <tr>\n",
       "      <th>4</th>\n",
       "      <td>Department</td>\n",
       "    </tr>\n",
       "    <tr>\n",
       "      <th>5</th>\n",
       "      <td>DistanceFromHome</td>\n",
       "    </tr>\n",
       "    <tr>\n",
       "      <th>6</th>\n",
       "      <td>Education</td>\n",
       "    </tr>\n",
       "    <tr>\n",
       "      <th>7</th>\n",
       "      <td>EducationField</td>\n",
       "    </tr>\n",
       "    <tr>\n",
       "      <th>8</th>\n",
       "      <td>employeenumber</td>\n",
       "    </tr>\n",
       "    <tr>\n",
       "      <th>9</th>\n",
       "      <td>EnvironmentSatisfaction</td>\n",
       "    </tr>\n",
       "    <tr>\n",
       "      <th>10</th>\n",
       "      <td>Gender</td>\n",
       "    </tr>\n",
       "    <tr>\n",
       "      <th>11</th>\n",
       "      <td>HourlyRate</td>\n",
       "    </tr>\n",
       "    <tr>\n",
       "      <th>12</th>\n",
       "      <td>JobInvolvement</td>\n",
       "    </tr>\n",
       "    <tr>\n",
       "      <th>13</th>\n",
       "      <td>JobLevel</td>\n",
       "    </tr>\n",
       "    <tr>\n",
       "      <th>14</th>\n",
       "      <td>JobRole</td>\n",
       "    </tr>\n",
       "    <tr>\n",
       "      <th>15</th>\n",
       "      <td>JobSatisfaction</td>\n",
       "    </tr>\n",
       "    <tr>\n",
       "      <th>16</th>\n",
       "      <td>MaritalStatus</td>\n",
       "    </tr>\n",
       "    <tr>\n",
       "      <th>17</th>\n",
       "      <td>MonthlyIncome</td>\n",
       "    </tr>\n",
       "    <tr>\n",
       "      <th>18</th>\n",
       "      <td>MonthlyRate</td>\n",
       "    </tr>\n",
       "    <tr>\n",
       "      <th>19</th>\n",
       "      <td>NUMCOMPANIESWORKED</td>\n",
       "    </tr>\n",
       "    <tr>\n",
       "      <th>20</th>\n",
       "      <td>OverTime</td>\n",
       "    </tr>\n",
       "    <tr>\n",
       "      <th>21</th>\n",
       "      <td>PercentSalaryHike</td>\n",
       "    </tr>\n",
       "    <tr>\n",
       "      <th>22</th>\n",
       "      <td>PerformanceRating</td>\n",
       "    </tr>\n",
       "    <tr>\n",
       "      <th>23</th>\n",
       "      <td>RelationshipSatisfaction</td>\n",
       "    </tr>\n",
       "    <tr>\n",
       "      <th>24</th>\n",
       "      <td>StandardHours</td>\n",
       "    </tr>\n",
       "    <tr>\n",
       "      <th>25</th>\n",
       "      <td>StockOptionLevel</td>\n",
       "    </tr>\n",
       "    <tr>\n",
       "      <th>26</th>\n",
       "      <td>TOTALWORKINGYEARS</td>\n",
       "    </tr>\n",
       "    <tr>\n",
       "      <th>27</th>\n",
       "      <td>TrainingTimesLastYear</td>\n",
       "    </tr>\n",
       "    <tr>\n",
       "      <th>28</th>\n",
       "      <td>WORKLIFEBALANCE</td>\n",
       "    </tr>\n",
       "    <tr>\n",
       "      <th>29</th>\n",
       "      <td>YearsAtCompany</td>\n",
       "    </tr>\n",
       "    <tr>\n",
       "      <th>30</th>\n",
       "      <td>YearsInCurrentRole</td>\n",
       "    </tr>\n",
       "    <tr>\n",
       "      <th>31</th>\n",
       "      <td>YearsSinceLastPromotion</td>\n",
       "    </tr>\n",
       "    <tr>\n",
       "      <th>32</th>\n",
       "      <td>YEARSWITHCURRMANAGER</td>\n",
       "    </tr>\n",
       "    <tr>\n",
       "      <th>33</th>\n",
       "      <td>DateBirth</td>\n",
       "    </tr>\n",
       "    <tr>\n",
       "      <th>34</th>\n",
       "      <td>RemoteWork</td>\n",
       "    </tr>\n",
       "  </tbody>\n",
       "</table>\n",
       "</div>"
      ],
      "text/plain": [
       "                      datos2\n",
       "0                        Age\n",
       "1                  Attrition\n",
       "2             BusinessTravel\n",
       "3                  DailyRate\n",
       "4                 Department\n",
       "5           DistanceFromHome\n",
       "6                  Education\n",
       "7             EducationField\n",
       "8             employeenumber\n",
       "9    EnvironmentSatisfaction\n",
       "10                    Gender\n",
       "11                HourlyRate\n",
       "12            JobInvolvement\n",
       "13                  JobLevel\n",
       "14                   JobRole\n",
       "15           JobSatisfaction\n",
       "16             MaritalStatus\n",
       "17             MonthlyIncome\n",
       "18               MonthlyRate\n",
       "19        NUMCOMPANIESWORKED\n",
       "20                  OverTime\n",
       "21         PercentSalaryHike\n",
       "22         PerformanceRating\n",
       "23  RelationshipSatisfaction\n",
       "24             StandardHours\n",
       "25          StockOptionLevel\n",
       "26         TOTALWORKINGYEARS\n",
       "27     TrainingTimesLastYear\n",
       "28           WORKLIFEBALANCE\n",
       "29            YearsAtCompany\n",
       "30        YearsInCurrentRole\n",
       "31   YearsSinceLastPromotion\n",
       "32      YEARSWITHCURRMANAGER\n",
       "33                 DateBirth\n",
       "34                RemoteWork"
      ]
     },
     "execution_count": 3,
     "metadata": {},
     "output_type": "execute_result"
    }
   ],
   "source": [
    "#Creamos Dataframe de las columnas de los df a comparar\n",
    "\n",
    "datos_col = pd.DataFrame(list(datos.columns), columns=['datos'])\n",
    "datos_col\n",
    "datos_limpio_col = pd.DataFrame(list(datos_limpios.columns), columns=['datos2'])\n",
    "datos_limpio_col\n"
   ]
  },
  {
   "cell_type": "code",
   "execution_count": 4,
   "metadata": {},
   "outputs": [
    {
     "data": {
      "text/html": [
       "<div>\n",
       "<style scoped>\n",
       "    .dataframe tbody tr th:only-of-type {\n",
       "        vertical-align: middle;\n",
       "    }\n",
       "\n",
       "    .dataframe tbody tr th {\n",
       "        vertical-align: top;\n",
       "    }\n",
       "\n",
       "    .dataframe thead th {\n",
       "        text-align: right;\n",
       "    }\n",
       "</style>\n",
       "<table border=\"1\" class=\"dataframe\">\n",
       "  <thead>\n",
       "    <tr style=\"text-align: right;\">\n",
       "      <th></th>\n",
       "      <th>datos</th>\n",
       "      <th>datos2</th>\n",
       "    </tr>\n",
       "  </thead>\n",
       "  <tbody>\n",
       "    <tr>\n",
       "      <th>0</th>\n",
       "      <td>Age</td>\n",
       "      <td>Age</td>\n",
       "    </tr>\n",
       "    <tr>\n",
       "      <th>1</th>\n",
       "      <td>Attrition</td>\n",
       "      <td>Attrition</td>\n",
       "    </tr>\n",
       "    <tr>\n",
       "      <th>2</th>\n",
       "      <td>BusinessTravel</td>\n",
       "      <td>BusinessTravel</td>\n",
       "    </tr>\n",
       "    <tr>\n",
       "      <th>3</th>\n",
       "      <td>DailyRate</td>\n",
       "      <td>DailyRate</td>\n",
       "    </tr>\n",
       "    <tr>\n",
       "      <th>4</th>\n",
       "      <td>Department</td>\n",
       "      <td>Department</td>\n",
       "    </tr>\n",
       "    <tr>\n",
       "      <th>5</th>\n",
       "      <td>DistanceFromHome</td>\n",
       "      <td>DistanceFromHome</td>\n",
       "    </tr>\n",
       "    <tr>\n",
       "      <th>6</th>\n",
       "      <td>Education</td>\n",
       "      <td>Education</td>\n",
       "    </tr>\n",
       "    <tr>\n",
       "      <th>7</th>\n",
       "      <td>EducationField</td>\n",
       "      <td>EducationField</td>\n",
       "    </tr>\n",
       "    <tr>\n",
       "      <th>8</th>\n",
       "      <td>employeecount</td>\n",
       "      <td>NaN</td>\n",
       "    </tr>\n",
       "    <tr>\n",
       "      <th>9</th>\n",
       "      <td>employeenumber</td>\n",
       "      <td>employeenumber</td>\n",
       "    </tr>\n",
       "    <tr>\n",
       "      <th>10</th>\n",
       "      <td>EnvironmentSatisfaction</td>\n",
       "      <td>EnvironmentSatisfaction</td>\n",
       "    </tr>\n",
       "    <tr>\n",
       "      <th>11</th>\n",
       "      <td>Gender</td>\n",
       "      <td>Gender</td>\n",
       "    </tr>\n",
       "    <tr>\n",
       "      <th>12</th>\n",
       "      <td>HourlyRate</td>\n",
       "      <td>HourlyRate</td>\n",
       "    </tr>\n",
       "    <tr>\n",
       "      <th>13</th>\n",
       "      <td>JobInvolvement</td>\n",
       "      <td>JobInvolvement</td>\n",
       "    </tr>\n",
       "    <tr>\n",
       "      <th>14</th>\n",
       "      <td>JobLevel</td>\n",
       "      <td>JobLevel</td>\n",
       "    </tr>\n",
       "    <tr>\n",
       "      <th>15</th>\n",
       "      <td>JobRole</td>\n",
       "      <td>JobRole</td>\n",
       "    </tr>\n",
       "    <tr>\n",
       "      <th>16</th>\n",
       "      <td>JobSatisfaction</td>\n",
       "      <td>JobSatisfaction</td>\n",
       "    </tr>\n",
       "    <tr>\n",
       "      <th>17</th>\n",
       "      <td>MaritalStatus</td>\n",
       "      <td>MaritalStatus</td>\n",
       "    </tr>\n",
       "    <tr>\n",
       "      <th>18</th>\n",
       "      <td>MonthlyIncome</td>\n",
       "      <td>MonthlyIncome</td>\n",
       "    </tr>\n",
       "    <tr>\n",
       "      <th>19</th>\n",
       "      <td>MonthlyRate</td>\n",
       "      <td>MonthlyRate</td>\n",
       "    </tr>\n",
       "    <tr>\n",
       "      <th>20</th>\n",
       "      <td>NUMCOMPANIESWORKED</td>\n",
       "      <td>NUMCOMPANIESWORKED</td>\n",
       "    </tr>\n",
       "    <tr>\n",
       "      <th>21</th>\n",
       "      <td>Over18</td>\n",
       "      <td>NaN</td>\n",
       "    </tr>\n",
       "    <tr>\n",
       "      <th>22</th>\n",
       "      <td>OverTime</td>\n",
       "      <td>OverTime</td>\n",
       "    </tr>\n",
       "    <tr>\n",
       "      <th>23</th>\n",
       "      <td>PercentSalaryHike</td>\n",
       "      <td>PercentSalaryHike</td>\n",
       "    </tr>\n",
       "    <tr>\n",
       "      <th>24</th>\n",
       "      <td>PerformanceRating</td>\n",
       "      <td>PerformanceRating</td>\n",
       "    </tr>\n",
       "    <tr>\n",
       "      <th>25</th>\n",
       "      <td>RelationshipSatisfaction</td>\n",
       "      <td>RelationshipSatisfaction</td>\n",
       "    </tr>\n",
       "    <tr>\n",
       "      <th>26</th>\n",
       "      <td>StandardHours</td>\n",
       "      <td>StandardHours</td>\n",
       "    </tr>\n",
       "    <tr>\n",
       "      <th>27</th>\n",
       "      <td>StockOptionLevel</td>\n",
       "      <td>StockOptionLevel</td>\n",
       "    </tr>\n",
       "    <tr>\n",
       "      <th>28</th>\n",
       "      <td>TOTALWORKINGYEARS</td>\n",
       "      <td>TOTALWORKINGYEARS</td>\n",
       "    </tr>\n",
       "    <tr>\n",
       "      <th>29</th>\n",
       "      <td>TrainingTimesLastYear</td>\n",
       "      <td>TrainingTimesLastYear</td>\n",
       "    </tr>\n",
       "    <tr>\n",
       "      <th>30</th>\n",
       "      <td>WORKLIFEBALANCE</td>\n",
       "      <td>WORKLIFEBALANCE</td>\n",
       "    </tr>\n",
       "    <tr>\n",
       "      <th>31</th>\n",
       "      <td>YearsAtCompany</td>\n",
       "      <td>YearsAtCompany</td>\n",
       "    </tr>\n",
       "    <tr>\n",
       "      <th>32</th>\n",
       "      <td>YearsInCurrentRole</td>\n",
       "      <td>YearsInCurrentRole</td>\n",
       "    </tr>\n",
       "    <tr>\n",
       "      <th>33</th>\n",
       "      <td>YearsSinceLastPromotion</td>\n",
       "      <td>YearsSinceLastPromotion</td>\n",
       "    </tr>\n",
       "    <tr>\n",
       "      <th>34</th>\n",
       "      <td>YEARSWITHCURRMANAGER</td>\n",
       "      <td>YEARSWITHCURRMANAGER</td>\n",
       "    </tr>\n",
       "    <tr>\n",
       "      <th>35</th>\n",
       "      <td>SameAsMonthlyIncome</td>\n",
       "      <td>NaN</td>\n",
       "    </tr>\n",
       "    <tr>\n",
       "      <th>36</th>\n",
       "      <td>DateBirth</td>\n",
       "      <td>DateBirth</td>\n",
       "    </tr>\n",
       "    <tr>\n",
       "      <th>37</th>\n",
       "      <td>Salary</td>\n",
       "      <td>NaN</td>\n",
       "    </tr>\n",
       "    <tr>\n",
       "      <th>38</th>\n",
       "      <td>RoleDepartament</td>\n",
       "      <td>NaN</td>\n",
       "    </tr>\n",
       "    <tr>\n",
       "      <th>39</th>\n",
       "      <td>NUMBERCHILDREN</td>\n",
       "      <td>NaN</td>\n",
       "    </tr>\n",
       "    <tr>\n",
       "      <th>40</th>\n",
       "      <td>RemoteWork</td>\n",
       "      <td>RemoteWork</td>\n",
       "    </tr>\n",
       "  </tbody>\n",
       "</table>\n",
       "</div>"
      ],
      "text/plain": [
       "                       datos                    datos2\n",
       "0                        Age                       Age\n",
       "1                  Attrition                 Attrition\n",
       "2             BusinessTravel            BusinessTravel\n",
       "3                  DailyRate                 DailyRate\n",
       "4                 Department                Department\n",
       "5           DistanceFromHome          DistanceFromHome\n",
       "6                  Education                 Education\n",
       "7             EducationField            EducationField\n",
       "8              employeecount                       NaN\n",
       "9             employeenumber            employeenumber\n",
       "10   EnvironmentSatisfaction   EnvironmentSatisfaction\n",
       "11                    Gender                    Gender\n",
       "12                HourlyRate                HourlyRate\n",
       "13            JobInvolvement            JobInvolvement\n",
       "14                  JobLevel                  JobLevel\n",
       "15                   JobRole                   JobRole\n",
       "16           JobSatisfaction           JobSatisfaction\n",
       "17             MaritalStatus             MaritalStatus\n",
       "18             MonthlyIncome             MonthlyIncome\n",
       "19               MonthlyRate               MonthlyRate\n",
       "20        NUMCOMPANIESWORKED        NUMCOMPANIESWORKED\n",
       "21                    Over18                       NaN\n",
       "22                  OverTime                  OverTime\n",
       "23         PercentSalaryHike         PercentSalaryHike\n",
       "24         PerformanceRating         PerformanceRating\n",
       "25  RelationshipSatisfaction  RelationshipSatisfaction\n",
       "26             StandardHours             StandardHours\n",
       "27          StockOptionLevel          StockOptionLevel\n",
       "28         TOTALWORKINGYEARS         TOTALWORKINGYEARS\n",
       "29     TrainingTimesLastYear     TrainingTimesLastYear\n",
       "30           WORKLIFEBALANCE           WORKLIFEBALANCE\n",
       "31            YearsAtCompany            YearsAtCompany\n",
       "32        YearsInCurrentRole        YearsInCurrentRole\n",
       "33   YearsSinceLastPromotion   YearsSinceLastPromotion\n",
       "34      YEARSWITHCURRMANAGER      YEARSWITHCURRMANAGER\n",
       "35       SameAsMonthlyIncome                       NaN\n",
       "36                 DateBirth                 DateBirth\n",
       "37                    Salary                       NaN\n",
       "38           RoleDepartament                       NaN\n",
       "39            NUMBERCHILDREN                       NaN\n",
       "40                RemoteWork                RemoteWork"
      ]
     },
     "execution_count": 4,
     "metadata": {},
     "output_type": "execute_result"
    }
   ],
   "source": [
    "# mergeamos las columnas para saber si tenemos duplicados\n",
    "\n",
    "df_merge = datos_col.merge(datos_limpio_col, left_on='datos', right_on='datos2', how = 'left')\n",
    "df_merge"
   ]
  },
  {
   "cell_type": "code",
   "execution_count": 5,
   "metadata": {},
   "outputs": [
    {
     "data": {
      "text/html": [
       "<div>\n",
       "<style scoped>\n",
       "    .dataframe tbody tr th:only-of-type {\n",
       "        vertical-align: middle;\n",
       "    }\n",
       "\n",
       "    .dataframe tbody tr th {\n",
       "        vertical-align: top;\n",
       "    }\n",
       "\n",
       "    .dataframe thead th {\n",
       "        text-align: right;\n",
       "    }\n",
       "</style>\n",
       "<table border=\"1\" class=\"dataframe\">\n",
       "  <thead>\n",
       "    <tr style=\"text-align: right;\">\n",
       "      <th></th>\n",
       "      <th>datos</th>\n",
       "      <th>datos2</th>\n",
       "    </tr>\n",
       "  </thead>\n",
       "  <tbody>\n",
       "    <tr>\n",
       "      <th>8</th>\n",
       "      <td>employeecount</td>\n",
       "      <td>NaN</td>\n",
       "    </tr>\n",
       "    <tr>\n",
       "      <th>21</th>\n",
       "      <td>Over18</td>\n",
       "      <td>NaN</td>\n",
       "    </tr>\n",
       "    <tr>\n",
       "      <th>35</th>\n",
       "      <td>SameAsMonthlyIncome</td>\n",
       "      <td>NaN</td>\n",
       "    </tr>\n",
       "    <tr>\n",
       "      <th>37</th>\n",
       "      <td>Salary</td>\n",
       "      <td>NaN</td>\n",
       "    </tr>\n",
       "    <tr>\n",
       "      <th>38</th>\n",
       "      <td>RoleDepartament</td>\n",
       "      <td>NaN</td>\n",
       "    </tr>\n",
       "    <tr>\n",
       "      <th>39</th>\n",
       "      <td>NUMBERCHILDREN</td>\n",
       "      <td>NaN</td>\n",
       "    </tr>\n",
       "  </tbody>\n",
       "</table>\n",
       "</div>"
      ],
      "text/plain": [
       "                  datos datos2\n",
       "8         employeecount    NaN\n",
       "21               Over18    NaN\n",
       "35  SameAsMonthlyIncome    NaN\n",
       "37               Salary    NaN\n",
       "38      RoleDepartament    NaN\n",
       "39       NUMBERCHILDREN    NaN"
      ]
     },
     "execution_count": 5,
     "metadata": {},
     "output_type": "execute_result"
    }
   ],
   "source": [
    "#filtro para saber columnas que habíamos borrado\n",
    "\n",
    "filtro = df_merge['datos2'].isna()\n",
    "df_filtro = df_merge[filtro]\n",
    "\n",
    "df_filtro"
   ]
  },
  {
   "cell_type": "code",
   "execution_count": 6,
   "metadata": {},
   "outputs": [
    {
     "data": {
      "text/plain": [
       "0      True\n",
       "1      True\n",
       "2      True\n",
       "3      True\n",
       "4      True\n",
       "5      True\n",
       "6      True\n",
       "7      True\n",
       "8     False\n",
       "9      True\n",
       "10     True\n",
       "11     True\n",
       "12     True\n",
       "13     True\n",
       "14     True\n",
       "15     True\n",
       "16     True\n",
       "17     True\n",
       "18     True\n",
       "19     True\n",
       "20     True\n",
       "21    False\n",
       "22     True\n",
       "23     True\n",
       "24     True\n",
       "25     True\n",
       "26     True\n",
       "27     True\n",
       "28     True\n",
       "29     True\n",
       "30     True\n",
       "31     True\n",
       "32     True\n",
       "33     True\n",
       "34     True\n",
       "35    False\n",
       "36     True\n",
       "37    False\n",
       "38    False\n",
       "39    False\n",
       "40     True\n",
       "dtype: bool"
      ]
     },
     "execution_count": 6,
     "metadata": {},
     "output_type": "execute_result"
    }
   ],
   "source": [
    "comparacion = df_merge['datos'] == df_merge['datos2']\n",
    "comparacion"
   ]
  },
  {
   "cell_type": "code",
   "execution_count": 7,
   "metadata": {},
   "outputs": [],
   "source": [
    "#borramos columnas que no necesitamos\n",
    "\n",
    "datos.drop( columns = ['employeecount','Over18','SameAsMonthlyIncome', 'Salary', 'RoleDepartament', 'NUMBERCHILDREN'], inplace= True)"
   ]
  },
  {
   "cell_type": "code",
   "execution_count": 8,
   "metadata": {},
   "outputs": [
    {
     "data": {
      "text/html": [
       "<div>\n",
       "<style scoped>\n",
       "    .dataframe tbody tr th:only-of-type {\n",
       "        vertical-align: middle;\n",
       "    }\n",
       "\n",
       "    .dataframe tbody tr th {\n",
       "        vertical-align: top;\n",
       "    }\n",
       "\n",
       "    .dataframe thead th {\n",
       "        text-align: right;\n",
       "    }\n",
       "</style>\n",
       "<table border=\"1\" class=\"dataframe\">\n",
       "  <thead>\n",
       "    <tr style=\"text-align: right;\">\n",
       "      <th></th>\n",
       "      <th>age</th>\n",
       "      <th>attrition</th>\n",
       "      <th>businesstravel</th>\n",
       "      <th>dailyrate</th>\n",
       "      <th>department</th>\n",
       "      <th>distancefromhome</th>\n",
       "      <th>education</th>\n",
       "      <th>educationfield</th>\n",
       "      <th>employeenumber</th>\n",
       "      <th>environmentsatisfaction</th>\n",
       "      <th>gender</th>\n",
       "      <th>hourlyrate</th>\n",
       "      <th>jobinvolvement</th>\n",
       "      <th>joblevel</th>\n",
       "      <th>jobrole</th>\n",
       "      <th>jobsatisfaction</th>\n",
       "      <th>maritalstatus</th>\n",
       "      <th>monthlyincome</th>\n",
       "      <th>monthlyrate</th>\n",
       "      <th>numcompaniesworked</th>\n",
       "      <th>overtime</th>\n",
       "      <th>percentsalaryhike</th>\n",
       "      <th>performancerating</th>\n",
       "      <th>relationshipsatisfaction</th>\n",
       "      <th>standardhours</th>\n",
       "      <th>stockoptionlevel</th>\n",
       "      <th>totalworkingyears</th>\n",
       "      <th>trainingtimeslastyear</th>\n",
       "      <th>worklifebalance</th>\n",
       "      <th>yearsatcompany</th>\n",
       "      <th>yearsincurrentrole</th>\n",
       "      <th>yearssincelastpromotion</th>\n",
       "      <th>yearswithcurrmanager</th>\n",
       "      <th>datebirth</th>\n",
       "      <th>remotework</th>\n",
       "    </tr>\n",
       "  </thead>\n",
       "  <tbody>\n",
       "    <tr>\n",
       "      <th>0</th>\n",
       "      <td>51</td>\n",
       "      <td>No</td>\n",
       "      <td>NaN</td>\n",
       "      <td>684,0$</td>\n",
       "      <td>NaN</td>\n",
       "      <td>6</td>\n",
       "      <td>3</td>\n",
       "      <td>NaN</td>\n",
       "      <td>162,0</td>\n",
       "      <td>1</td>\n",
       "      <td>0</td>\n",
       "      <td>51</td>\n",
       "      <td>3</td>\n",
       "      <td>5</td>\n",
       "      <td>resEArch DIREcToR</td>\n",
       "      <td>3</td>\n",
       "      <td>NaN</td>\n",
       "      <td>19537,0</td>\n",
       "      <td>6462</td>\n",
       "      <td>7</td>\n",
       "      <td>No</td>\n",
       "      <td>13</td>\n",
       "      <td>3,0</td>\n",
       "      <td>3</td>\n",
       "      <td>NaN</td>\n",
       "      <td>0</td>\n",
       "      <td>NaN</td>\n",
       "      <td>5</td>\n",
       "      <td>3,0</td>\n",
       "      <td>20</td>\n",
       "      <td>NaN</td>\n",
       "      <td>15</td>\n",
       "      <td>15</td>\n",
       "      <td>1972</td>\n",
       "      <td>Yes</td>\n",
       "    </tr>\n",
       "    <tr>\n",
       "      <th>1</th>\n",
       "      <td>52</td>\n",
       "      <td>No</td>\n",
       "      <td>NaN</td>\n",
       "      <td>699,0$</td>\n",
       "      <td>NaN</td>\n",
       "      <td>1</td>\n",
       "      <td>4</td>\n",
       "      <td>Life Sciences</td>\n",
       "      <td>259,0</td>\n",
       "      <td>3</td>\n",
       "      <td>0</td>\n",
       "      <td>65</td>\n",
       "      <td>2</td>\n",
       "      <td>5</td>\n",
       "      <td>ManAGeR</td>\n",
       "      <td>3</td>\n",
       "      <td>NaN</td>\n",
       "      <td>19999,0</td>\n",
       "      <td>5678</td>\n",
       "      <td>0</td>\n",
       "      <td>NaN</td>\n",
       "      <td>14</td>\n",
       "      <td>3,0</td>\n",
       "      <td>1</td>\n",
       "      <td>NaN</td>\n",
       "      <td>1</td>\n",
       "      <td>34,0</td>\n",
       "      <td>5</td>\n",
       "      <td>3,0</td>\n",
       "      <td>33</td>\n",
       "      <td>NaN</td>\n",
       "      <td>11</td>\n",
       "      <td>9</td>\n",
       "      <td>1971</td>\n",
       "      <td>1</td>\n",
       "    </tr>\n",
       "    <tr>\n",
       "      <th>2</th>\n",
       "      <td>42</td>\n",
       "      <td>No</td>\n",
       "      <td>travel_rarely</td>\n",
       "      <td>532,0$</td>\n",
       "      <td>Research &amp; Development</td>\n",
       "      <td>4</td>\n",
       "      <td>2</td>\n",
       "      <td>Technical Degree</td>\n",
       "      <td>319,0</td>\n",
       "      <td>3</td>\n",
       "      <td>0</td>\n",
       "      <td>58</td>\n",
       "      <td>3</td>\n",
       "      <td>5</td>\n",
       "      <td>ManaGER</td>\n",
       "      <td>4</td>\n",
       "      <td>Married</td>\n",
       "      <td>19232,0</td>\n",
       "      <td>4933</td>\n",
       "      <td>1</td>\n",
       "      <td>No</td>\n",
       "      <td>11</td>\n",
       "      <td>3,0</td>\n",
       "      <td>4</td>\n",
       "      <td>NaN</td>\n",
       "      <td>0</td>\n",
       "      <td>22,0</td>\n",
       "      <td>3</td>\n",
       "      <td>NaN</td>\n",
       "      <td>22</td>\n",
       "      <td>NaN</td>\n",
       "      <td>11</td>\n",
       "      <td>15</td>\n",
       "      <td>1981</td>\n",
       "      <td>1</td>\n",
       "    </tr>\n",
       "    <tr>\n",
       "      <th>3</th>\n",
       "      <td>47</td>\n",
       "      <td>No</td>\n",
       "      <td>travel_rarely</td>\n",
       "      <td>359,0$</td>\n",
       "      <td>NaN</td>\n",
       "      <td>2</td>\n",
       "      <td>4</td>\n",
       "      <td>Medical</td>\n",
       "      <td>NaN</td>\n",
       "      <td>1</td>\n",
       "      <td>1</td>\n",
       "      <td>82</td>\n",
       "      <td>3</td>\n",
       "      <td>4</td>\n",
       "      <td>ReseArCH DIrECtOr</td>\n",
       "      <td>3</td>\n",
       "      <td>Married</td>\n",
       "      <td>17169,0</td>\n",
       "      <td>26703</td>\n",
       "      <td>3</td>\n",
       "      <td>NaN</td>\n",
       "      <td>19</td>\n",
       "      <td>3,0</td>\n",
       "      <td>2</td>\n",
       "      <td>NaN</td>\n",
       "      <td>2</td>\n",
       "      <td>NaN</td>\n",
       "      <td>2</td>\n",
       "      <td>NaN</td>\n",
       "      <td>20</td>\n",
       "      <td>NaN</td>\n",
       "      <td>5</td>\n",
       "      <td>6</td>\n",
       "      <td>1976</td>\n",
       "      <td>False</td>\n",
       "    </tr>\n",
       "    <tr>\n",
       "      <th>4</th>\n",
       "      <td>46</td>\n",
       "      <td>No</td>\n",
       "      <td>NaN</td>\n",
       "      <td>1319,0$</td>\n",
       "      <td>NaN</td>\n",
       "      <td>3</td>\n",
       "      <td>3</td>\n",
       "      <td>Technical Degree</td>\n",
       "      <td>NaN</td>\n",
       "      <td>1</td>\n",
       "      <td>1</td>\n",
       "      <td>45</td>\n",
       "      <td>4</td>\n",
       "      <td>4</td>\n",
       "      <td>sAleS EXECUtIve</td>\n",
       "      <td>1</td>\n",
       "      <td>Divorced</td>\n",
       "      <td>NaN</td>\n",
       "      <td>7739</td>\n",
       "      <td>2</td>\n",
       "      <td>No</td>\n",
       "      <td>12</td>\n",
       "      <td>3,0</td>\n",
       "      <td>4</td>\n",
       "      <td>NaN</td>\n",
       "      <td>1</td>\n",
       "      <td>NaN</td>\n",
       "      <td>5</td>\n",
       "      <td>3,0</td>\n",
       "      <td>19</td>\n",
       "      <td>NaN</td>\n",
       "      <td>2</td>\n",
       "      <td>8</td>\n",
       "      <td>1977</td>\n",
       "      <td>0</td>\n",
       "    </tr>\n",
       "  </tbody>\n",
       "</table>\n",
       "</div>"
      ],
      "text/plain": [
       "  age attrition businesstravel dailyrate                department  \\\n",
       "0  51        No            NaN    684,0$                       NaN   \n",
       "1  52        No            NaN    699,0$                       NaN   \n",
       "2  42        No  travel_rarely    532,0$   Research & Development    \n",
       "3  47        No  travel_rarely    359,0$                       NaN   \n",
       "4  46        No            NaN   1319,0$                       NaN   \n",
       "\n",
       "   distancefromhome  education    educationfield employeenumber  \\\n",
       "0                 6          3               NaN          162,0   \n",
       "1                 1          4     Life Sciences          259,0   \n",
       "2                 4          2  Technical Degree          319,0   \n",
       "3                 2          4           Medical            NaN   \n",
       "4                 3          3  Technical Degree            NaN   \n",
       "\n",
       "   environmentsatisfaction  gender hourlyrate  jobinvolvement  joblevel  \\\n",
       "0                        1       0         51               3         5   \n",
       "1                        3       0         65               2         5   \n",
       "2                        3       0         58               3         5   \n",
       "3                        1       1         82               3         4   \n",
       "4                        1       1         45               4         4   \n",
       "\n",
       "               jobrole  jobsatisfaction maritalstatus monthlyincome  \\\n",
       "0   resEArch DIREcToR                 3           NaN       19537,0   \n",
       "1             ManAGeR                 3           NaN       19999,0   \n",
       "2             ManaGER                 4       Married       19232,0   \n",
       "3   ReseArCH DIrECtOr                 3       Married       17169,0   \n",
       "4     sAleS EXECUtIve                 1      Divorced           NaN   \n",
       "\n",
       "   monthlyrate  numcompaniesworked overtime  percentsalaryhike  \\\n",
       "0         6462                   7       No                 13   \n",
       "1         5678                   0      NaN                 14   \n",
       "2         4933                   1       No                 11   \n",
       "3        26703                   3      NaN                 19   \n",
       "4         7739                   2       No                 12   \n",
       "\n",
       "  performancerating  relationshipsatisfaction standardhours  stockoptionlevel  \\\n",
       "0               3,0                         3           NaN                 0   \n",
       "1               3,0                         1           NaN                 1   \n",
       "2               3,0                         4           NaN                 0   \n",
       "3               3,0                         2           NaN                 2   \n",
       "4               3,0                         4           NaN                 1   \n",
       "\n",
       "  totalworkingyears  trainingtimeslastyear worklifebalance  yearsatcompany  \\\n",
       "0               NaN                      5             3,0              20   \n",
       "1              34,0                      5             3,0              33   \n",
       "2              22,0                      3             NaN              22   \n",
       "3               NaN                      2             NaN              20   \n",
       "4               NaN                      5             3,0              19   \n",
       "\n",
       "  yearsincurrentrole  yearssincelastpromotion  yearswithcurrmanager  \\\n",
       "0                NaN                       15                    15   \n",
       "1                NaN                       11                     9   \n",
       "2                NaN                       11                    15   \n",
       "3                NaN                        5                     6   \n",
       "4                NaN                        2                     8   \n",
       "\n",
       "   datebirth remotework  \n",
       "0       1972        Yes  \n",
       "1       1971          1  \n",
       "2       1981          1  \n",
       "3       1976      False  \n",
       "4       1977          0  "
      ]
     },
     "execution_count": 8,
     "metadata": {},
     "output_type": "execute_result"
    }
   ],
   "source": [
    "# transformamos columnas para su mejor visulatización las convertimos todos a lower\n",
    "\n",
    "new_columns = {column : column.lower() for column in datos}\n",
    "\n",
    "new_columns\n",
    "\n",
    "datos.rename(columns = new_columns, inplace= True)\n",
    "\n",
    "datos.head()"
   ]
  },
  {
   "cell_type": "code",
   "execution_count": null,
   "metadata": {},
   "outputs": [],
   "source": [
    "# Transformamos columnas"
   ]
  },
  {
   "cell_type": "code",
   "execution_count": 9,
   "metadata": {},
   "outputs": [
    {
     "data": {
      "text/plain": [
       "array([51, 52, 42, 47, 46, 48, 59, 41, 56, 38, 55, 40, 58, 35, 45, 33, 36,\n",
       "       34, 53, 43, 60, 32, 37, 49, 39, 50, 44, 30, 29, 31, 54, 57, 27, 28,\n",
       "       26, 25, 24, 23, 22, 21, 20, 19, 18])"
      ]
     },
     "execution_count": 9,
     "metadata": {},
     "output_type": "execute_result"
    }
   ],
   "source": [
    "# Hemos cambiado las edades que estaban escritas para que sean numéricas. Lo cambiamos a tipo int.\n",
    "# Estas edades son las que tenían en el 2023.\n",
    "\n",
    "datos['age'].unique()\n",
    "\n",
    "age = datos['age'].str.replace('fifty-eight', '58 ').str.replace('fifty-eight', '47 ').str.replace('thirty-six', '36').str.replace('fifty-five', '55').str.replace('fifty-two', '52').str.replace('thirty-one', '31').str.replace('twenty-six', '36').str.replace('thirty-seven', '37').str.replace('thirty-seven', '37').str.replace('thirty-two', '32').str.replace('twenty-four', '24').str.replace('forty-seven', '47').str.replace('thirty', '30')\n",
    "\n",
    "datos['age'] = age\n",
    "\n",
    "datos['age'] = datos['age'].astype(int)\n",
    "\n",
    "datos['age'].unique()"
   ]
  },
  {
   "cell_type": "code",
   "execution_count": 10,
   "metadata": {},
   "outputs": [
    {
     "data": {
      "text/plain": [
       "array(['No', 'Yes'], dtype=object)"
      ]
     },
     "execution_count": 10,
     "metadata": {},
     "output_type": "execute_result"
    }
   ],
   "source": [
    "# No la tocamos\n",
    "\n",
    "datos['attrition'].unique()"
   ]
  },
  {
   "cell_type": "code",
   "execution_count": 11,
   "metadata": {},
   "outputs": [
    {
     "data": {
      "text/plain": [
       "array([nan, 'Travel rarely', 'Travel frequently', 'Non travel'],\n",
       "      dtype=object)"
      ]
     },
     "execution_count": 11,
     "metadata": {},
     "output_type": "execute_result"
    }
   ],
   "source": [
    "# Reemplazamos las barras bajas por espacios y los guiones por espacio. Lo capitalizamos.\n",
    "\n",
    "businesstravel = datos['businesstravel'].str.replace('_', ' ').str.replace('-', ' ').str.capitalize()\n",
    "\n",
    "datos['businesstravel'] = businesstravel\n",
    "\n",
    "datos['businesstravel'].unique()"
   ]
  },
  {
   "cell_type": "code",
   "execution_count": 12,
   "metadata": {},
   "outputs": [
    {
     "data": {
      "text/plain": [
       "array([ 684.,  699.,  532.,  359., 1319.,  117., 1435.,  635., 1276.,\n",
       "        840.,  247., 1369.,  201., 1360.,  692., 1398.,  286., 1402.,\n",
       "        819.,  884., 1238.,  515., 1223.,  202.,  928.,  607.,  266.,\n",
       "        429.,  589.,   nan, 1180., 1282.,  776.,  665.,  526., 1034.,\n",
       "       1403., 1499.,  580.,  859.,  263., 1376.,  885., 1003., 1321.,\n",
       "        394., 1372., 1333.,  228.,  737.,  823.,  667.,  301.,  573.,\n",
       "       1329.,  630., 1063., 1017., 1296.,  939., 1355., 1448.,  200.,\n",
       "       1202.,  404.,  208.,  813.,  465., 1189., 1001., 1394.,  161.,\n",
       "        288.,  682., 1354.,  147.,  119., 1413.,  452.,  334., 1132.,\n",
       "        982.,  480., 1099.,  672., 1379.,  583., 1492., 1050.,  469.,\n",
       "        237., 1440., 1291., 1157., 1336., 1224.,  735., 1389.,  638.,\n",
       "       1240.,  194., 1339.,  111., 1469.,  470., 1232., 1249.,  798.,\n",
       "        549.,  570.,  541.,  164., 1117.,  619.,  319.,  956., 1245.,\n",
       "       1397.,  527.,  213.,  882.,  330.,  406.,  217.,  481.,  669.,\n",
       "       1465.,  685., 1062.,  177., 1199.,  648.,  412.,  282.,  770.,\n",
       "        601.,  855.,  332., 1326.,  748.,  405.,  790.,  971., 1370.,\n",
       "        750.,  880.,  678., 1179.,  350., 1266.,  574.,  189.,  310.,\n",
       "        722., 1219.,  994.,  721.,  853.,  427.,  852., 1334., 1093.,\n",
       "        967.,  989., 1195., 1045.,  829.,  663., 1300., 1105.,  906.,\n",
       "        849., 1275., 1218.,  422., 1274., 1076., 1207.,  430.,  933.,\n",
       "       1184.,  586.,  890.,  379., 1425., 1188.,  938., 1053.,  248.,\n",
       "        796.,  174.,  408.,  977.,  536.,  135., 1476.,  587.,  495.,\n",
       "        523.,  507., 1055., 1445.,  218.,  447., 1029.,  674.,  538.,\n",
       "        740., 1234.,  170., 1130.,  584.,  918.,  792.,  611., 1383.,\n",
       "        867.,  706.,  728.,  311.,  556.,  937., 1125.,  444.,  911.,\n",
       "        585., 1392., 1005., 1299.,  655.,  746.,  632.,  658., 1467.,\n",
       "       1312.,  249.,  802.,  689., 1395., 1436., 1496., 1480.,  313.,\n",
       "        894.,  290., 1084., 1002., 1242., 1052.,  944.,  771., 1416.,\n",
       "       1327.,  488., 1385.,  666., 1315.,  442.,  950.,  691., 1018.,\n",
       "        559.,  318.,  144., 1171.,  143., 1178., 1107.,  645., 1485.,\n",
       "       1116.,  163.,  561.,  426.,  509.,  258.,  525.,  238.,  482.,\n",
       "        397.,  243.,  806., 1442.,  929.,  827.,  703.,  294.,  314.,\n",
       "        654.,  501.,  954., 1434.,  657.,  240.,  791.,  676.,  436.,\n",
       "        760.,  661., 1085.,  154., 1283.,  616.,  498.,  530.,  805.,\n",
       "        903., 1229.,  566., 1441.,  153., 1066.,  145., 1109.,  124.,\n",
       "        300., 1366.,  857., 1204., 1082.,  203., 1308.,  718.,  593.,\n",
       "       1384., 1361., 1146., 1316.,  363., 1103.,  920.,  694., 1429.,\n",
       "        531.,  621.,  604.,  325., 1030.,  524.,  943., 1009.,  817.,\n",
       "        930., 1147.,  652.,  337., 1136.,  326.,  377., 1038., 1490.,\n",
       "       1246.,  224.,  441.,  898., 1313., 1015., 1387., 1302.,  602.,\n",
       "        772.,  809.,  786.,  921.,  717.,  979.,  953.,  244.,  196.,\n",
       "        303., 1092.,  261., 1422., 1137.,  511., 1396., 1096., 1169.,\n",
       "       1239.,  157.,  754., 1303.,  697.,  116.,  557.,  582.,  704.,\n",
       "        613.,  419.,  477., 1211.,  505.,  269.,  553., 1277.,  302.,\n",
       "        975., 1318.,  881.,  466.,  945.,  433.,  991., 1083.,  136.,\n",
       "        333., 1462., 1131., 1023., 1065., 1115., 1479.,  304., 1368.,\n",
       "        828.,  799.,  142.,  446.,  254., 1410.,  883.,  121., 1343.,\n",
       "        490., 1400., 1332., 1200., 1102., 1328.,  548., 1214.,  120.,\n",
       "        841., 1033., 1452., 1268.,  307.,  797.,  555., 1377.,  210.,\n",
       "        483.,  575., 1311.,  759.,  891.,  317.,  688.,  195.,  622.,\n",
       "        646.,  719., 1012., 1278., 1222., 1231.,  462.,  231., 1089.,\n",
       "       1262.,  439.,  528.,  647., 1097.,  942.,  966.,  168.,  299.,\n",
       "        999., 1498., 1439., 1111., 1174.,  172.,  401.,  866.,  571.,\n",
       "       1342.,  995.,  118.,  990.,  241., 1470.,  492., 1040., 1320.,\n",
       "        146., 1153.,  185., 1297., 1064., 1351.,  468., 1273., 1141.,\n",
       "       1488.,  653., 1225., 1217., 1127., 1427.,  702.,  926.,  878.,\n",
       "        896., 1401.,  675., 1070.,  496.,  390., 1220., 1124., 1046.,\n",
       "        267.,  443., 1287., 1420.,  562.,  650.,  141.,  715.,  376.,\n",
       "        932.,  471.,  180., 1265., 1075., 1086.,  152.,  974.,  788.,\n",
       "        192.,  150., 1167.,  206.,  736.,  322.,  683., 1475.,  560.,\n",
       "        115.,  888.,  671.,  567.,  148.,  581.,  371., 1181., 1253.,\n",
       "        370., 1194.,  572.,  355.,  783.,  155.,  508.,  642., 1382.,\n",
       "       1037., 1120.,  374.,  287.,  591.,  670., 1346.,  103.,  673.,\n",
       "        705., 1459., 1443., 1142.,  664.,  432., 1353.,  489.,  807.,\n",
       "       1280.,  957.,  542.,  216., 1150.,  364., 1256.,  440.,  713.,\n",
       "        140.,  629.,  328.,  472.,  905., 1151.,  644.,  992., 1323.,\n",
       "        818., 1431.,  976.,  832.,  916., 1247.,  128., 1158.,  996.,\n",
       "       1449.,  636.,  889.,  106.,  723., 1482.,  738., 1192., 1309.,\n",
       "        544.,  641.,  756.,  895., 1261.,  329., 1362., 1371.,  821.,\n",
       "       1381., 1473.,  296., 1349.,  986.,  413.,  988., 1474.,  232.,\n",
       "       1236., 1112.,  204.,  913.,  810.,  693.,  316.,  381.,  775.,\n",
       "        804., 1090.,  346.,  725.,  182.,  384., 1325., 1258., 1041.,\n",
       "        625., 1418., 1269.,  395.,  341.,  500., 1454.,  617., 1122.,\n",
       "       1198.,  188.,  335.,  461., 1134.,  138., 1206.,  109.,  277.,\n",
       "        265.,  342., 1186.,  769., 1176., 1091.,  618.,  970.,  984.,\n",
       "        793., 1182.,  603.,  874.,  367.,  199., 1457., 1421., 1450.,\n",
       "       1212., 1010.,  131.,  193.,  640.,  848., 1138.,  256.,  935.,\n",
       "        458.,  662.,  499.,  949.,  383., 1255., 1221.,  981., 1495.,\n",
       "       1193.,  467.,  271.,  410., 1288., 1108.,  437.,  457.,  634.,\n",
       "        546.,  711.,  448.,  365.,  763.,  486.,  392.,  727.,  741.,\n",
       "        552.,  506., 1456.,  160.,  897.,  600., 1054.,  428.,  343.,\n",
       "       1216.,  207.,  280.,  414.,  836.,  592.,  219., 1079., 1251.,\n",
       "       1168., 1444., 1154.,  234.,  529., 1322.,  924.,  134.,  755.,\n",
       "        253.,  922., 1365.,  306., 1271., 1404., 1391., 1464., 1330.,\n",
       "        773.,  902.,  107.,  504., 1358.,  824.,  594.,  734.,  766.,\n",
       "        431., 1213., 1373., 1324., 1123.,  391.,  125., 1357.,  626.,\n",
       "        132.,  871., 1031., 1145.,  854., 1411.,  252.,  833., 1210.,\n",
       "       1463.,  812., 1162.,  845., 1144.,  156.,  464., 1305.,  983.,\n",
       "        534., 1306., 1094.,  558.,  959.,  782.,  362.,  268.,  167.,\n",
       "       1243.,  720.,  868., 1252.,  781., 1272.,  129., 1069.,  289.,\n",
       "        955.,  660.,  415.,  309.,  130.,  862., 1098.,  969.,  373.,\n",
       "        599.,  968.,  830., 1423.,  516.,  598.,  104.,  479.,  474.,\n",
       "        264., 1059.,  563., 1259.,  369.,  543.,  964.,  176.,  181.,\n",
       "        211.,  590.,  305.,  478., 1294., 1128.,  726.,  352., 1172.,\n",
       "        605., 1337.,  105.])"
      ]
     },
     "execution_count": 12,
     "metadata": {},
     "output_type": "execute_result"
    }
   ],
   "source": [
    "# Eliminamos los $ y ,0 con un .replace. También hemos pasado los nan y luego cambiamos el tipo a float\n",
    "\n",
    "dailyrate = datos['dailyrate'].str.replace('$', '').str.replace(',0', '').replace('nan', np.nan)\n",
    "\n",
    "datos['dailyrate'] = dailyrate\n",
    "\n",
    "datos['dailyrate'] = datos['dailyrate'].astype(float)\n",
    "\n",
    "datos['dailyrate'].unique()\n"
   ]
  },
  {
   "cell_type": "code",
   "execution_count": 13,
   "metadata": {},
   "outputs": [
    {
     "data": {
      "text/plain": [
       "array([nan, 'Research & Development', 'Sales', 'Human Resources'],\n",
       "      dtype=object)"
      ]
     },
     "execution_count": 13,
     "metadata": {},
     "output_type": "execute_result"
    }
   ],
   "source": [
    "# Eliminamos espacios de principio y final. Ver que hacer con nan.\n",
    "\n",
    "department = datos['department'].str.strip()\n",
    "datos['department'] = department\n",
    "\n",
    "datos['department'].unique()"
   ]
  },
  {
   "cell_type": "code",
   "execution_count": 14,
   "metadata": {},
   "outputs": [
    {
     "data": {
      "text/plain": [
       "array([ 6,  1,  4,  2,  3, 22, 25,  9,  7, 23, 10, 12, 14, 13, 15,  8, 42,\n",
       "       28, 37,  5, 16, 35, 26, 24, 29, 17, 21, 18, 30, 27, 20, 31, 39, 11,\n",
       "       19, 33, 34, 46, 36, 45, 47, 32, 41, 49, 48, 38, 43, 40, 44])"
      ]
     },
     "execution_count": 14,
     "metadata": {},
     "output_type": "execute_result"
    }
   ],
   "source": [
    "# Hemos cambiado el tipo de int a str y eliminado el menos de los negativos. Lo pasamos a int.\n",
    "\n",
    "datos_distance = datos['distancefromhome'].astype(str)\n",
    "\n",
    "distancefromhome = datos_distance.str.replace('-', '')\n",
    "\n",
    "datos['distancefromhome'] = distancefromhome\n",
    "\n",
    "datos['distancefromhome'] = datos['distancefromhome'].astype(int)\n",
    "\n",
    "datos['distancefromhome'].unique()"
   ]
  },
  {
   "cell_type": "code",
   "execution_count": 15,
   "metadata": {},
   "outputs": [
    {
     "data": {
      "text/plain": [
       "array([3, 4, 2, 1, 5])"
      ]
     },
     "execution_count": 15,
     "metadata": {},
     "output_type": "execute_result"
    }
   ],
   "source": [
    "datos['education'].unique() # No hay que hacerle nada"
   ]
  },
  {
   "cell_type": "code",
   "execution_count": 16,
   "metadata": {},
   "outputs": [
    {
     "data": {
      "text/plain": [
       "array([nan, 'Life Sciences', 'Technical Degree', 'Medical', 'Other',\n",
       "       'Marketing', 'Human Resources'], dtype=object)"
      ]
     },
     "execution_count": 16,
     "metadata": {},
     "output_type": "execute_result"
    }
   ],
   "source": [
    "datos['educationfield'].unique() # ya está capitalizado. Nos falta ver que hacer con NaN"
   ]
  },
  {
   "cell_type": "code",
   "execution_count": 17,
   "metadata": {},
   "outputs": [
    {
     "data": {
      "text/plain": [
       "array(['162,0', '259,0', '319,0', ..., '2012,0', '2023,0', '2040,0'],\n",
       "      dtype=object)"
      ]
     },
     "execution_count": 17,
     "metadata": {},
     "output_type": "execute_result"
    }
   ],
   "source": [
    "# Tiene NaN y tiene duplicados. Esto es porque nos dimos cuenta que no son individuos, si no respuestas de estas personas realizadas en distintas encuestas.\n",
    "# Posible borrado porque creemos que no nos aporta nada.\n",
    "\n",
    "datos['employeenumber'].unique() "
   ]
  },
  {
   "cell_type": "code",
   "execution_count": 18,
   "metadata": {},
   "outputs": [
    {
     "data": {
      "text/plain": [
       "array([nan, '1541,0', '1947,0', '1954,0', '307,0', '374,0', '524,0',\n",
       "       '569,0', '1044,0', '1053,0', '1069,0', '1131,0', '1135,0',\n",
       "       '1140,0', '1157,0', '1160,0', '1161,0', '1162,0', '1185,0',\n",
       "       '1195,0', '1778,0', '1797,0', '1804,0', '1816,0', '1821,0',\n",
       "       '1849,0', '1869,0', '1898,0', '1911,0', '1927,0', '423,0', '424,0',\n",
       "       '433,0', '440,0', '447,0', '455,0', '460,0', '465,0', '470,0',\n",
       "       '475,0', '478,0', '482,0', '495,0', '501,0', '502,0', '507,0',\n",
       "       '517,0', '522,0', '523,0', '525,0', '526,0', '530,0', '544,0',\n",
       "       '376,0', '381,0', '388,0', '389,0', '401,0', '416,0', '430,0',\n",
       "       '438,0', '446,0', '448,0', '454,0', '458,0', '476,0', '483,0',\n",
       "       '488,0', '500,0', '534,0', '586,0', '595,0', '608,0', '616,0',\n",
       "       '621,0', '653,0', '663,0', '682,0', '710,0', '717,0', '721,0',\n",
       "       '722,0', '724,0', '725,0', '728,0', '733,0', '734,0', '742,0',\n",
       "       '747,0', '762,0', '783,0', '789,0', '793,0', '803,0', '809,0',\n",
       "       '823,0', '842,0', '913,0', '927,0', '941,0', '956,0', '966,0',\n",
       "       '967,0', '972,0', '990,0'], dtype=object)"
      ]
     },
     "execution_count": 18,
     "metadata": {},
     "output_type": "execute_result"
    }
   ],
   "source": [
    "# tomar la lista e iterar por ella para hacer la fusión. Documentar porque nos quedamos con los duplicados\n",
    "\n",
    "datos_duplicados = datos['employeenumber'][datos['employeenumber'].duplicated()].unique() \n",
    "datos_duplicados"
   ]
  },
  {
   "cell_type": "code",
   "execution_count": 19,
   "metadata": {},
   "outputs": [
    {
     "data": {
      "text/plain": [
       "534"
      ]
     },
     "execution_count": 19,
     "metadata": {},
     "output_type": "execute_result"
    }
   ],
   "source": [
    "datos['employeenumber'].duplicated().sum()"
   ]
  },
  {
   "cell_type": "code",
   "execution_count": 20,
   "metadata": {},
   "outputs": [
    {
     "data": {
      "text/plain": [
       "array([ 1,  3,  4,  2, 42, 37, 35, 25, 27, 31, 39, 21, 15, 14, 33, 19, 12,\n",
       "       13, 28, 47, 36, 29, 24, 46, 16, 22, 41, 49, 11, 48, 18, 10, 45, 38,\n",
       "       17, 20, 26, 43])"
      ]
     },
     "execution_count": 20,
     "metadata": {},
     "output_type": "execute_result"
    }
   ],
   "source": [
    "# No tocar.\n",
    "\n",
    "datos['environmentsatisfaction'].unique()"
   ]
  },
  {
   "cell_type": "code",
   "execution_count": 21,
   "metadata": {},
   "outputs": [
    {
     "data": {
      "text/plain": [
       "array(['M', 'F'], dtype=object)"
      ]
     },
     "execution_count": 21,
     "metadata": {},
     "output_type": "execute_result"
    }
   ],
   "source": [
    "# Vamos a sustituir los 0 y 1 por la siniciales de su género y cambiarlo a tipo objeto.\n",
    "dic_map = {0:'M', 1:'F'}\n",
    "\n",
    "datos[\"gender\"] = datos[\"gender\"].map(dic_map)\n",
    "\n",
    "datos['gender'].unique()"
   ]
  },
  {
   "cell_type": "code",
   "execution_count": 23,
   "metadata": {},
   "outputs": [
    {
     "ename": "ValueError",
     "evalue": "invalid literal for int() with base 10: 'NaN'",
     "output_type": "error",
     "traceback": [
      "\u001b[0;31m---------------------------------------------------------------------------\u001b[0m",
      "\u001b[0;31mValueError\u001b[0m                                Traceback (most recent call last)",
      "Cell \u001b[0;32mIn[23], line 5\u001b[0m\n\u001b[1;32m      1\u001b[0m \u001b[38;5;66;03m# pasar a int y antes cambiar el Not Avaiable a NaN\u001b[39;00m\n\u001b[1;32m      3\u001b[0m hourlyrate \u001b[38;5;241m=\u001b[39m datos[\u001b[38;5;124m'\u001b[39m\u001b[38;5;124mhourlyrate\u001b[39m\u001b[38;5;124m'\u001b[39m]\u001b[38;5;241m.\u001b[39mreplace(\u001b[38;5;124m'\u001b[39m\u001b[38;5;124mNot Available\u001b[39m\u001b[38;5;124m'\u001b[39m, \u001b[38;5;124m'\u001b[39m\u001b[38;5;124m0\u001b[39m\u001b[38;5;124m'\u001b[39m)\n\u001b[0;32m----> 5\u001b[0m datos[\u001b[38;5;124m'\u001b[39m\u001b[38;5;124mhourlyrate\u001b[39m\u001b[38;5;124m'\u001b[39m] \u001b[38;5;241m=\u001b[39m hourlyrate\u001b[38;5;241m.\u001b[39mastype(\u001b[38;5;28mint\u001b[39m)\n\u001b[1;32m      7\u001b[0m datos[\u001b[38;5;124m'\u001b[39m\u001b[38;5;124mhourlyrate\u001b[39m\u001b[38;5;124m'\u001b[39m] \u001b[38;5;241m=\u001b[39m datos[\u001b[38;5;124m'\u001b[39m\u001b[38;5;124mhourlyrate\u001b[39m\u001b[38;5;124m'\u001b[39m]\u001b[38;5;241m.\u001b[39mreplace(\u001b[38;5;241m0\u001b[39m, np\u001b[38;5;241m.\u001b[39mnan)\n\u001b[1;32m      9\u001b[0m datos[\u001b[38;5;124m'\u001b[39m\u001b[38;5;124mhourlyrate\u001b[39m\u001b[38;5;124m'\u001b[39m]\u001b[38;5;241m.\u001b[39munique()\n",
      "File \u001b[0;32m~/anaconda3/lib/python3.11/site-packages/pandas/core/generic.py:6534\u001b[0m, in \u001b[0;36mNDFrame.astype\u001b[0;34m(self, dtype, copy, errors)\u001b[0m\n\u001b[1;32m   6530\u001b[0m     results \u001b[38;5;241m=\u001b[39m [ser\u001b[38;5;241m.\u001b[39mastype(dtype, copy\u001b[38;5;241m=\u001b[39mcopy) \u001b[38;5;28;01mfor\u001b[39;00m _, ser \u001b[38;5;129;01min\u001b[39;00m \u001b[38;5;28mself\u001b[39m\u001b[38;5;241m.\u001b[39mitems()]\n\u001b[1;32m   6532\u001b[0m \u001b[38;5;28;01melse\u001b[39;00m:\n\u001b[1;32m   6533\u001b[0m     \u001b[38;5;66;03m# else, only a single dtype is given\u001b[39;00m\n\u001b[0;32m-> 6534\u001b[0m     new_data \u001b[38;5;241m=\u001b[39m \u001b[38;5;28mself\u001b[39m\u001b[38;5;241m.\u001b[39m_mgr\u001b[38;5;241m.\u001b[39mastype(dtype\u001b[38;5;241m=\u001b[39mdtype, copy\u001b[38;5;241m=\u001b[39mcopy, errors\u001b[38;5;241m=\u001b[39merrors)\n\u001b[1;32m   6535\u001b[0m     res \u001b[38;5;241m=\u001b[39m \u001b[38;5;28mself\u001b[39m\u001b[38;5;241m.\u001b[39m_constructor_from_mgr(new_data, axes\u001b[38;5;241m=\u001b[39mnew_data\u001b[38;5;241m.\u001b[39maxes)\n\u001b[1;32m   6536\u001b[0m     \u001b[38;5;28;01mreturn\u001b[39;00m res\u001b[38;5;241m.\u001b[39m__finalize__(\u001b[38;5;28mself\u001b[39m, method\u001b[38;5;241m=\u001b[39m\u001b[38;5;124m\"\u001b[39m\u001b[38;5;124mastype\u001b[39m\u001b[38;5;124m\"\u001b[39m)\n",
      "File \u001b[0;32m~/anaconda3/lib/python3.11/site-packages/pandas/core/internals/managers.py:414\u001b[0m, in \u001b[0;36mBaseBlockManager.astype\u001b[0;34m(self, dtype, copy, errors)\u001b[0m\n\u001b[1;32m    411\u001b[0m \u001b[38;5;28;01melif\u001b[39;00m using_copy_on_write():\n\u001b[1;32m    412\u001b[0m     copy \u001b[38;5;241m=\u001b[39m \u001b[38;5;28;01mFalse\u001b[39;00m\n\u001b[0;32m--> 414\u001b[0m \u001b[38;5;28;01mreturn\u001b[39;00m \u001b[38;5;28mself\u001b[39m\u001b[38;5;241m.\u001b[39mapply(\n\u001b[1;32m    415\u001b[0m     \u001b[38;5;124m\"\u001b[39m\u001b[38;5;124mastype\u001b[39m\u001b[38;5;124m\"\u001b[39m,\n\u001b[1;32m    416\u001b[0m     dtype\u001b[38;5;241m=\u001b[39mdtype,\n\u001b[1;32m    417\u001b[0m     copy\u001b[38;5;241m=\u001b[39mcopy,\n\u001b[1;32m    418\u001b[0m     errors\u001b[38;5;241m=\u001b[39merrors,\n\u001b[1;32m    419\u001b[0m     using_cow\u001b[38;5;241m=\u001b[39musing_copy_on_write(),\n\u001b[1;32m    420\u001b[0m )\n",
      "File \u001b[0;32m~/anaconda3/lib/python3.11/site-packages/pandas/core/internals/managers.py:354\u001b[0m, in \u001b[0;36mBaseBlockManager.apply\u001b[0;34m(self, f, align_keys, **kwargs)\u001b[0m\n\u001b[1;32m    352\u001b[0m         applied \u001b[38;5;241m=\u001b[39m b\u001b[38;5;241m.\u001b[39mapply(f, \u001b[38;5;241m*\u001b[39m\u001b[38;5;241m*\u001b[39mkwargs)\n\u001b[1;32m    353\u001b[0m     \u001b[38;5;28;01melse\u001b[39;00m:\n\u001b[0;32m--> 354\u001b[0m         applied \u001b[38;5;241m=\u001b[39m \u001b[38;5;28mgetattr\u001b[39m(b, f)(\u001b[38;5;241m*\u001b[39m\u001b[38;5;241m*\u001b[39mkwargs)\n\u001b[1;32m    355\u001b[0m     result_blocks \u001b[38;5;241m=\u001b[39m extend_blocks(applied, result_blocks)\n\u001b[1;32m    357\u001b[0m out \u001b[38;5;241m=\u001b[39m \u001b[38;5;28mtype\u001b[39m(\u001b[38;5;28mself\u001b[39m)\u001b[38;5;241m.\u001b[39mfrom_blocks(result_blocks, \u001b[38;5;28mself\u001b[39m\u001b[38;5;241m.\u001b[39maxes)\n",
      "File \u001b[0;32m~/anaconda3/lib/python3.11/site-packages/pandas/core/internals/blocks.py:616\u001b[0m, in \u001b[0;36mBlock.astype\u001b[0;34m(self, dtype, copy, errors, using_cow)\u001b[0m\n\u001b[1;32m    596\u001b[0m \u001b[38;5;250m\u001b[39m\u001b[38;5;124;03m\"\"\"\u001b[39;00m\n\u001b[1;32m    597\u001b[0m \u001b[38;5;124;03mCoerce to the new dtype.\u001b[39;00m\n\u001b[1;32m    598\u001b[0m \n\u001b[0;32m   (...)\u001b[0m\n\u001b[1;32m    612\u001b[0m \u001b[38;5;124;03mBlock\u001b[39;00m\n\u001b[1;32m    613\u001b[0m \u001b[38;5;124;03m\"\"\"\u001b[39;00m\n\u001b[1;32m    614\u001b[0m values \u001b[38;5;241m=\u001b[39m \u001b[38;5;28mself\u001b[39m\u001b[38;5;241m.\u001b[39mvalues\n\u001b[0;32m--> 616\u001b[0m new_values \u001b[38;5;241m=\u001b[39m astype_array_safe(values, dtype, copy\u001b[38;5;241m=\u001b[39mcopy, errors\u001b[38;5;241m=\u001b[39merrors)\n\u001b[1;32m    618\u001b[0m new_values \u001b[38;5;241m=\u001b[39m maybe_coerce_values(new_values)\n\u001b[1;32m    620\u001b[0m refs \u001b[38;5;241m=\u001b[39m \u001b[38;5;28;01mNone\u001b[39;00m\n",
      "File \u001b[0;32m~/anaconda3/lib/python3.11/site-packages/pandas/core/dtypes/astype.py:238\u001b[0m, in \u001b[0;36mastype_array_safe\u001b[0;34m(values, dtype, copy, errors)\u001b[0m\n\u001b[1;32m    235\u001b[0m     dtype \u001b[38;5;241m=\u001b[39m dtype\u001b[38;5;241m.\u001b[39mnumpy_dtype\n\u001b[1;32m    237\u001b[0m \u001b[38;5;28;01mtry\u001b[39;00m:\n\u001b[0;32m--> 238\u001b[0m     new_values \u001b[38;5;241m=\u001b[39m astype_array(values, dtype, copy\u001b[38;5;241m=\u001b[39mcopy)\n\u001b[1;32m    239\u001b[0m \u001b[38;5;28;01mexcept\u001b[39;00m (\u001b[38;5;167;01mValueError\u001b[39;00m, \u001b[38;5;167;01mTypeError\u001b[39;00m):\n\u001b[1;32m    240\u001b[0m     \u001b[38;5;66;03m# e.g. _astype_nansafe can fail on object-dtype of strings\u001b[39;00m\n\u001b[1;32m    241\u001b[0m     \u001b[38;5;66;03m#  trying to convert to float\u001b[39;00m\n\u001b[1;32m    242\u001b[0m     \u001b[38;5;28;01mif\u001b[39;00m errors \u001b[38;5;241m==\u001b[39m \u001b[38;5;124m\"\u001b[39m\u001b[38;5;124mignore\u001b[39m\u001b[38;5;124m\"\u001b[39m:\n",
      "File \u001b[0;32m~/anaconda3/lib/python3.11/site-packages/pandas/core/dtypes/astype.py:183\u001b[0m, in \u001b[0;36mastype_array\u001b[0;34m(values, dtype, copy)\u001b[0m\n\u001b[1;32m    180\u001b[0m     values \u001b[38;5;241m=\u001b[39m values\u001b[38;5;241m.\u001b[39mastype(dtype, copy\u001b[38;5;241m=\u001b[39mcopy)\n\u001b[1;32m    182\u001b[0m \u001b[38;5;28;01melse\u001b[39;00m:\n\u001b[0;32m--> 183\u001b[0m     values \u001b[38;5;241m=\u001b[39m _astype_nansafe(values, dtype, copy\u001b[38;5;241m=\u001b[39mcopy)\n\u001b[1;32m    185\u001b[0m \u001b[38;5;66;03m# in pandas we don't store numpy str dtypes, so convert to object\u001b[39;00m\n\u001b[1;32m    186\u001b[0m \u001b[38;5;28;01mif\u001b[39;00m \u001b[38;5;28misinstance\u001b[39m(dtype, np\u001b[38;5;241m.\u001b[39mdtype) \u001b[38;5;129;01mand\u001b[39;00m \u001b[38;5;28missubclass\u001b[39m(values\u001b[38;5;241m.\u001b[39mdtype\u001b[38;5;241m.\u001b[39mtype, \u001b[38;5;28mstr\u001b[39m):\n",
      "File \u001b[0;32m~/anaconda3/lib/python3.11/site-packages/pandas/core/dtypes/astype.py:134\u001b[0m, in \u001b[0;36m_astype_nansafe\u001b[0;34m(arr, dtype, copy, skipna)\u001b[0m\n\u001b[1;32m    130\u001b[0m     \u001b[38;5;28;01mraise\u001b[39;00m \u001b[38;5;167;01mValueError\u001b[39;00m(msg)\n\u001b[1;32m    132\u001b[0m \u001b[38;5;28;01mif\u001b[39;00m copy \u001b[38;5;129;01mor\u001b[39;00m arr\u001b[38;5;241m.\u001b[39mdtype \u001b[38;5;241m==\u001b[39m \u001b[38;5;28mobject\u001b[39m \u001b[38;5;129;01mor\u001b[39;00m dtype \u001b[38;5;241m==\u001b[39m \u001b[38;5;28mobject\u001b[39m:\n\u001b[1;32m    133\u001b[0m     \u001b[38;5;66;03m# Explicit copy, or required since NumPy can't view from / to object.\u001b[39;00m\n\u001b[0;32m--> 134\u001b[0m     \u001b[38;5;28;01mreturn\u001b[39;00m arr\u001b[38;5;241m.\u001b[39mastype(dtype, copy\u001b[38;5;241m=\u001b[39m\u001b[38;5;28;01mTrue\u001b[39;00m)\n\u001b[1;32m    136\u001b[0m \u001b[38;5;28;01mreturn\u001b[39;00m arr\u001b[38;5;241m.\u001b[39mastype(dtype, copy\u001b[38;5;241m=\u001b[39mcopy)\n",
      "\u001b[0;31mValueError\u001b[0m: invalid literal for int() with base 10: 'NaN'"
     ]
    }
   ],
   "source": [
    "# pasar a int y antes cambiar el Not Avaiable a NaN\n",
    "\n",
    "hourlyrate = datos['hourlyrate'].replace('Not Available', '0')\n",
    "\n",
    "datos['hourlyrate'] = hourlyrate.astype(int)\n",
    "\n",
    "datos['hourlyrate'] = datos['hourlyrate'].replace(0, 'NaN')\n",
    "\n",
    "datos['hourlyrate'].unique() "
   ]
  },
  {
   "cell_type": "code",
   "execution_count": 24,
   "metadata": {},
   "outputs": [
    {
     "data": {
      "text/plain": [
       "array([3, 2, 4, 1])"
      ]
     },
     "execution_count": 24,
     "metadata": {},
     "output_type": "execute_result"
    }
   ],
   "source": [
    "datos['jobinvolvement'].unique() # no tocar"
   ]
  },
  {
   "cell_type": "code",
   "execution_count": 25,
   "metadata": {},
   "outputs": [
    {
     "data": {
      "text/plain": [
       "array([5, 4, 3, 2, 1])"
      ]
     },
     "execution_count": 25,
     "metadata": {},
     "output_type": "execute_result"
    }
   ],
   "source": [
    "datos['joblevel'].unique() # no tocar"
   ]
  },
  {
   "cell_type": "code",
   "execution_count": 26,
   "metadata": {},
   "outputs": [
    {
     "data": {
      "text/plain": [
       "array(['Research Director', 'Manager', 'Sales Executive',\n",
       "       'Manufacturing Director', 'Research Scientist',\n",
       "       'Healthcare Representative', 'Laboratory Technician',\n",
       "       'Sales Representative', 'Human Resources'], dtype=object)"
      ]
     },
     "execution_count": 26,
     "metadata": {},
     "output_type": "execute_result"
    }
   ],
   "source": [
    "# Todo pasado a minusculas, dejando la primera en mayusculas y eliminando los espacios que habia al inicio y final\n",
    "datos['jobrole'] = datos['jobrole'].str.lower().str.title().str.strip()\n",
    "datos['jobrole'].unique()"
   ]
  },
  {
   "cell_type": "code",
   "execution_count": 27,
   "metadata": {},
   "outputs": [
    {
     "data": {
      "text/plain": [
       "array([3, 4, 1, 2])"
      ]
     },
     "execution_count": 27,
     "metadata": {},
     "output_type": "execute_result"
    }
   ],
   "source": [
    "datos['jobsatisfaction'].unique() # no tocar"
   ]
  },
  {
   "cell_type": "code",
   "execution_count": 28,
   "metadata": {},
   "outputs": [
    {
     "data": {
      "text/plain": [
       "array([nan, 'Married', 'Divorced', 'Single'], dtype=object)"
      ]
     },
     "execution_count": 28,
     "metadata": {},
     "output_type": "execute_result"
    }
   ],
   "source": [
    "# Sustituyo los que están mal escritos para que sean iguales a los que si creando un diccionario previamente. Comprobar moda\n",
    "replacements = {\n",
    "    'divorced': 'Divorced',\n",
    "    'Marreid': 'Married'\n",
    "}\n",
    "\n",
    "datos['maritalstatus'] = datos['maritalstatus'].replace(replacements)\n",
    "datos['maritalstatus'].unique() "
   ]
  },
  {
   "cell_type": "code",
   "execution_count": 29,
   "metadata": {},
   "outputs": [
    {
     "data": {
      "text/plain": [
       "array(['19537,0', '19999,0', '19232,0', '17169,0', nan, '17174,0',\n",
       "       '16595,0', '19973,0', '13402,0', '13206,0', '19545,0', '18041,0',\n",
       "       '19246,0', '10748,0', '16752,0', '6201,0', '19845,0', '4001,0',\n",
       "       '10447,0', '16064,0', '3210,0', '10266,0', '10475,0', '6162,0',\n",
       "       '4721,0', '4615,0', '16959,0', '10306,0', '5406,0', '5902,0',\n",
       "       '10855,0', '5914,0', '6646,0', '13973,0', '13320,0', '6687,0',\n",
       "       '4735,0', '13872,0', '19045,0', '16015,0', '9613,0', '11510,0',\n",
       "       '4306,0', '17046,0', '5067,0', '3692,0', '19847,0', '2308,0',\n",
       "       '5747,0', '10422,0', '6347,0', '2348,0', '3072,0', '12490,0',\n",
       "       '8020,0', '17068,0', '8943,0', '19272,0', '5577,0', '2691,0',\n",
       "       '7403,0', '8823,0', '3579,0', '17779,0', '18213,0', '13577,0',\n",
       "       '19190,0', '17123,0', '19187,0', '10008,0', '7988,0', '7083,0',\n",
       "       '4723,0', '3407,0', '2929,0', '12031,0', '15427,0', '5126,0',\n",
       "       '9619,0', '5010,0', '19033,0', '10400,0', '2793,0', '5674,0',\n",
       "       '19197,0', '8412,0', '3348,0', '5309,0', '7654,0', '12808,0',\n",
       "       '6586,0', '2519,0', '17099,0', '13120,0', '3131,0', '4444,0',\n",
       "       '6674,0', '9852,0', '17861,0', '7446,0', '13757,0', '16598,0',\n",
       "       '4285,0', '10124,0', '9714,0', '9924,0', '11245,0', '3069,0',\n",
       "       '9241,0', '6472,0', '3055,0', '8321,0', '3143,0', '8578,0',\n",
       "       '4197,0', '9888,0', '13341,0', '5677,0', '2909,0', '9526,0',\n",
       "       '6825,0', '4424,0', '5441,0', '6074,0', '6146,0', '6172,0',\n",
       "       '4668,0', '5605,0', '4319,0', '3564,0', '6261,0', '6804,0',\n",
       "       '19436,0', '5828,0', '2455,0', '5055,0', '4682,0', '5257,0',\n",
       "       '2119,0', '5974,0', '3034,0', '13212,0', '8392,0', '4051,0',\n",
       "       '4805,0', '2741,0', '5337,0', '9434,0', '5396,0', '11159,0',\n",
       "       '4960,0', '8793,0', '19189,0', '2216,0', '11713,0', '5304,0',\n",
       "       '11103,0', '6632,0', '7587,0', '4335,0', '5980,0', '4244,0',\n",
       "       '5228,0', '2700,0', '2366,0', '2329,0', '4294,0', '6725,0',\n",
       "       '10325,0', '4447,0', '10845,0', '5472,0', '6385,0', '7525,0',\n",
       "       '3660,0', '8740,0', '13499,0', '3491,0', '5220,0', '10252,0',\n",
       "       '19740,0', '6209,0', '7094,0', '4534,0', '8500,0', '4639,0',\n",
       "       '5363,0', '4081,0', '3578,0', '17328,0', '10793,0', '10851,0',\n",
       "       '10466,0', '2362,0', '6439,0', '5769,0', '4385,0', '4066,0',\n",
       "       '5206,0', '2655,0', '2570,0', '4502,0', '4968,0', '5147,0',\n",
       "       '2718,0', '3539,0', '5468,0', '5813,0', '9667,0', '5154,0',\n",
       "       '5675,0', '7314,0', '5098,0', '13570,0', '6712,0', '9991,0',\n",
       "       '10248,0', '10938,0', '2593,0', '11878,0', '8095,0', '16856,0',\n",
       "       '4537,0', '17924,0', '4014,0', '12742,0', '3376,0', '10482,0',\n",
       "       '4249,0', '6549,0', '14411,0', '19586,0', '8237,0', '3211,0',\n",
       "       '16704,0', '4774,0', '4568,0', '5993,0', '6499,0', '3452,0',\n",
       "       '6397,0', '2725,0', '3622,0', '6180,0', '6274,0', '4381,0',\n",
       "       '2559,0', '5488,0', '2514,0', '3196,0', '3420,0', '4087,0',\n",
       "       '5368,0', '12936,0', '4221,0', '4963,0', '4200,0', '5006,0',\n",
       "       '7639,0', '6502,0', '13525,0', '6349,0', '6380,0', '3102,0',\n",
       "       '4556,0', '4230,0', '4859,0', '6322,0', '10761,0', '2973,0',\n",
       "       '5204,0', '17399,0', '16885,0', '4323,0', '5155,0', '2936,0',\n",
       "       '18789,0', '4883,0', '2029,0', '2996,0', '9278,0', '4162,0',\n",
       "       '8853,0', '4876,0', '2141,0', '7756,0', '3936,0', '6842,0',\n",
       "       '3989,0', '4930,0', '3702,0', '2705,0', '4448,0', '2379,0',\n",
       "       '5487,0', '2810,0', '8938,0', '9936,0', '5454,0', '18740,0',\n",
       "       '5473,0', '13503,0', '13549,0', '18172,0', '2774,0', '9439,0',\n",
       "       '5265,0', '3815,0', '2389,0', '4000,0', '17584,0', '5661,0',\n",
       "       '4869,0', '4649,0', '10496,0', '2768,0', '3408,0', '3755,0',\n",
       "       '2187,0', '4258,0', '5326,0', '5485,0', '2782,0', '17639,0',\n",
       "       '6062,0', '6288,0', '3424,0', '4194,0', '2532,0', '5666,0',\n",
       "       '13726,0', '4107,0', '3597,0', '4115,0', '6272,0', '2517,0',\n",
       "       '3904,0', '9204,0', '4373,0', '2064,0', '2430,0', '4877,0',\n",
       "       '3760,0', '2013,0', '2974,0', '2766,0', '3377,0', '4213,0',\n",
       "       '6513,0', '4284,0', '2226,0', '5561,0', '2144,0', '5373,0',\n",
       "       '2897,0', '5321,0', '5410,0', '4850,0', '2001,0', '4404,0',\n",
       "       '3944,0', '2960,0', '18947,0', '6465,0', '2683,0', '2014,0',\n",
       "       '3441,0', '13664,0', '5021,0', '18844,0', '4739,0', '10650,0',\n",
       "       '4317,0', '2024,0', '3058,0', '3929,0', '4425,0', '2328,0',\n",
       "       '2657,0', '5940,0', '2622,0', '3212,0', '2911,0', '6931,0',\n",
       "       '2176,0', '3230,0', '18665,0', '2789,0', '6410,0', '4941,0',\n",
       "       '3983,0', '2904,0', '2696,0', '2174,0', '6755,0', '10965,0',\n",
       "       '2543,0', '19406,0', '6538,0', '2258,0', '2218,0', '2654,0',\n",
       "       '11935,0', '2546,0', '3894,0', '4262,0', '10527,0', '2400,0',\n",
       "       '3681,0', '3447,0', '19513,0', '2659,0', '8847,0', '2045,0',\n",
       "       '4851,0', '8120,0', '4577,0', '5405,0', '3708,0', '13770,0',\n",
       "       '2297,0', '2450,0', '4342,0', '2572,0', '6500,0', '3149,0',\n",
       "       '5324,0', '4382,0', '2553,0', '5933,0', '4403,0', '10934,0',\n",
       "       '2022,0', '4256,0', '3580,0', '2899,0', '5562,0', '2377,0',\n",
       "       '2404,0', '2799,0', '2811,0', '4377,0', '4240,0', '4227,0',\n",
       "       '3917,0', '4969,0', '2042,0', '2821,0', '9957,0', '2207,0',\n",
       "       '2070,0', '2791,0', '8224,0', '2610,0', '5731,0', '2539,0',\n",
       "       '2376,0', '19081,0', '2743,0', '4538,0', '3867,0', '2080,0',\n",
       "       '2096,0', '4627,0', '2302,0', '5071,0', '10596,0', '5467,0',\n",
       "       '2394,0', '3629,0', '9362,0', '3229,0', '16422,0', '5647,0',\n",
       "       '4400,0', '2066,0', '5486,0', '3162,0', '6651,0', '4898,0',\n",
       "       '3180,0', '11244,0', '4069,0', '6392,0', '4855,0', '3312,0',\n",
       "       '3117,0', '15202,0', '2580,0', '2166,0', '4374,0', '5505,0',\n",
       "       '2587,0', '15972,0', '2305,0', '3433,0', '3477,0', '3907,0',\n",
       "       '3445,0', '2760,0', '6294,0', '13116,0', '3591,0', '2105,0',\n",
       "       '3902,0', '2662,0', '2062,0', '5507,0', '8103,0', '3978,0',\n",
       "       '5399,0', '10448,0', '4440,0', '2660,0', '3375,0', '2269,0',\n",
       "       '4787,0', '2809,0', '10854,0', '2571,0', '6142,0', '2496,0',\n",
       "       '3419,0', '2501,0', '2566,0', '3920,0', '13964,0', '6540,0',\n",
       "       '2244,0', '16184,0', '4233,0', '14814,0', '17159,0', '2318,0',\n",
       "       '3617,0', '2684,0', '19237,0', '4422,0', '2552,0', '2678,0',\n",
       "       '5171,0', '11916,0', '9380,0', '5878,0', '2468,0', '4127,0',\n",
       "       '2148,0', '3886,0', '6667,0', '2090,0', '2086,0', '1951,0',\n",
       "       '3022,0', '9724,0', '3388,0', '3038,0', '2322,0', '2926,0',\n",
       "       '4505,0', '2835,0', '6553,0', '6673,0', '13591,0', '2177,0',\n",
       "       '19517,0', '19202,0', '10048,0', '2723,0', '6644,0', '3161,0',\n",
       "       '1420,0', '1200,0', '5238,0', '9985,0', '15992,0', '2370,0',\n",
       "       '6781,0', '6653,0', '2851,0', '5258,0', '2476,0', '2285,0',\n",
       "       '3448,0', '4558,0', '1702,0', '2564,0', '5070,0', '3780,0',\n",
       "       '9824,0', '1878,0', '2340,0', '2127,0', '2033,0', '9602,0',\n",
       "       '16627,0', '2083,0', '1009,0', '7861,0', '2642,0', '5121,0',\n",
       "       '2694,0', '5094,0', '2274,0', '2314,0', '2380,0', '2008,0',\n",
       "       '10552,0', '2259,0', '2413,0', '2121,0', '2479,0', '13194,0',\n",
       "       '4163,0', '2600,0', '18303,0', '4777,0', '1052,0', '2461,0',\n",
       "       '2596,0', '4728,0', '7351,0', '4766,0', '2827,0', '2853,0',\n",
       "       '2290,0', '2107,0', '2210,0', '13191,0', '18265,0', '1118,0',\n",
       "       '2372,0', '2838,0', '18061,0', '1611,0', '4768,0', '1274,0',\n",
       "       '2561,0', '1563,0', '6388,0', '8376,0', '4841,0', '2074,0',\n",
       "       '2972,0', '6815,0', '2690,0', '17567,0', '1569,0', '4187,0',\n",
       "       '3306,0', '1393,0', '10883,0', '2862,0', '6735,0', '9756,0',\n",
       "       '5294,0', '2437,0', '4071,0', '2956,0', '4648,0', '2804,0',\n",
       "       '2439,0', '2856,0', '2933,0', '1091,0', '5151,0', '2863,0',\n",
       "       '2858,0', '1129,0', '19431,0'], dtype=object)"
      ]
     },
     "execution_count": 29,
     "metadata": {},
     "output_type": "execute_result"
    }
   ],
   "source": [
    "datos['monthlyincome'].unique() # Tiene nan, hay que cambiarlo a NaN y pasarlo a float"
   ]
  },
  {
   "cell_type": "code",
   "execution_count": 30,
   "metadata": {},
   "outputs": [
    {
     "data": {
      "text/plain": [
       "array([ 6462,  5678,  4933, ..., 15302, 26956, 16642])"
      ]
     },
     "execution_count": 30,
     "metadata": {},
     "output_type": "execute_result"
    }
   ],
   "source": [
    "datos['monthlyrate'].unique() # no tocar"
   ]
  },
  {
   "cell_type": "code",
   "execution_count": 31,
   "metadata": {},
   "outputs": [
    {
     "data": {
      "text/plain": [
       "array([7, 0, 1, 3, 2, 4, 8, 9, 5, 6])"
      ]
     },
     "execution_count": 31,
     "metadata": {},
     "output_type": "execute_result"
    }
   ],
   "source": [
    "datos['numcompaniesworked'].unique() # no tocar"
   ]
  },
  {
   "cell_type": "code",
   "execution_count": 32,
   "metadata": {},
   "outputs": [
    {
     "data": {
      "text/plain": [
       "0       3.0\n",
       "1       3.0\n",
       "2       3.0\n",
       "3       3.0\n",
       "4       3.0\n",
       "       ... \n",
       "1609    NaN\n",
       "1610    3.0\n",
       "1611    3.0\n",
       "1612    NaN\n",
       "1613    3.0\n",
       "Name: performancerating, Length: 1614, dtype: object"
      ]
     },
     "execution_count": 32,
     "metadata": {},
     "output_type": "execute_result"
    }
   ],
   "source": [
    "# Función para convertir la coma en punto y los objet a float\n",
    "\n",
    "columns = ['age', 'attrition', 'businesstravel', 'dailyrate', 'department',\n",
    "       'distancefromhome', 'education', 'educationfield', 'employeenumber',\n",
    "       'environmentsatisfaction', 'gender', 'hourlyrate', 'jobinvolvement',\n",
    "       'joblevel', 'jobrole', 'jobsatisfaction', 'maritalstatus',\n",
    "       'monthlyincome', 'monthlyrate', 'numcompaniesworked', 'overtime',\n",
    "       'percentsalaryhike', 'performancerating', 'relationshipsatisfaction',\n",
    "       'standardhours', 'stockoptionlevel', 'totalworkingyears',\n",
    "       'trainingtimeslastyear', 'worklifebalance', 'yearsatcompany',\n",
    "       'yearsincurrentrole', 'yearssincelastpromotion', 'yearswithcurrmanager',\n",
    "       'datebirth', 'remotework']\n",
    "\n",
    "performancerating = datos['performancerating'].str.replace(',', '.')\n",
    "\n",
    "datos['performancerating'] = performancerating\n",
    "datos['performancerating']"
   ]
  },
  {
   "cell_type": "code",
   "execution_count": 33,
   "metadata": {},
   "outputs": [
    {
     "data": {
      "text/plain": [
       "array(['No', nan, 'Yes'], dtype=object)"
      ]
     },
     "execution_count": 33,
     "metadata": {},
     "output_type": "execute_result"
    }
   ],
   "source": [
    "# overtime mirar qué hacer con los nan. ¿Moda?\n",
    "\n",
    "datos['overtime'].unique()"
   ]
  },
  {
   "cell_type": "code",
   "execution_count": 34,
   "metadata": {},
   "outputs": [
    {
     "data": {
      "text/plain": [
       "percentsalaryhike\n",
       "11    232\n",
       "13    230\n",
       "12    225\n",
       "14    220\n",
       "15    110\n",
       "18     98\n",
       "17     88\n",
       "16     86\n",
       "19     82\n",
       "20     60\n",
       "22     59\n",
       "21     51\n",
       "23     29\n",
       "24     25\n",
       "25     19\n",
       "Name: count, dtype: int64"
      ]
     },
     "execution_count": 34,
     "metadata": {},
     "output_type": "execute_result"
    }
   ],
   "source": [
    "datos['percentsalaryhike'].unique()\n",
    "\n",
    "suma = datos['percentsalaryhike'].value_counts()\n",
    "suma"
   ]
  },
  {
   "cell_type": "code",
   "execution_count": 35,
   "metadata": {},
   "outputs": [
    {
     "name": "stdout",
     "output_type": "stream",
     "text": [
      "performancerating\n",
      "3.0    1205\n",
      "4.0     214\n",
      "Name: count, dtype: int64\n"
     ]
    },
    {
     "data": {
      "text/plain": [
       "0       3.0\n",
       "1       3.0\n",
       "2       3.0\n",
       "3       3.0\n",
       "4       3.0\n",
       "       ... \n",
       "1609    NaN\n",
       "1610    3.0\n",
       "1611    3.0\n",
       "1612    NaN\n",
       "1613    3.0\n",
       "Name: performancerating, Length: 1614, dtype: object"
      ]
     },
     "execution_count": 35,
     "metadata": {},
     "output_type": "execute_result"
    }
   ],
   "source": [
    "suma = datos['performancerating'].value_counts()\n",
    "print(suma)\n",
    "\n",
    "performancerating = datos['performancerating'].str.replace(',0', '')\n",
    "\n",
    "\n",
    "datos['performancerating'] = performancerating\n",
    "\n",
    "datos['performancerating']"
   ]
  },
  {
   "cell_type": "code",
   "execution_count": 36,
   "metadata": {},
   "outputs": [
    {
     "data": {
      "text/plain": [
       "array([3, 1, 4, 2])"
      ]
     },
     "execution_count": 36,
     "metadata": {},
     "output_type": "execute_result"
    }
   ],
   "source": [
    "# No hacemos cambios de momento\n",
    "\n",
    "datos['relationshipsatisfaction'].unique()"
   ]
  },
  {
   "cell_type": "code",
   "execution_count": 37,
   "metadata": {},
   "outputs": [],
   "source": [
    "#borramos standard hours porque no tiene sentido tiene muchos nan y 80h es imposible\n",
    "datos.drop( columns = ['standardhours'], inplace= True)"
   ]
  },
  {
   "cell_type": "code",
   "execution_count": 38,
   "metadata": {},
   "outputs": [
    {
     "data": {
      "text/plain": [
       "array([0, 1, 2, 3])"
      ]
     },
     "execution_count": 38,
     "metadata": {},
     "output_type": "execute_result"
    }
   ],
   "source": [
    "# No he hecho nada en esta columna parece estra bien\n",
    "datos['stockoptionlevel'].unique()"
   ]
  },
  {
   "cell_type": "code",
   "execution_count": 39,
   "metadata": {},
   "outputs": [
    {
     "data": {
      "text/plain": [
       "0       NaN\n",
       "1        34\n",
       "2        22\n",
       "3       NaN\n",
       "4       NaN\n",
       "       ... \n",
       "1609    NaN\n",
       "1610    NaN\n",
       "1611      9\n",
       "1612     12\n",
       "1613    NaN\n",
       "Name: totalworkingyears, Length: 1614, dtype: object"
      ]
     },
     "execution_count": 39,
     "metadata": {},
     "output_type": "execute_result"
    }
   ],
   "source": [
    "# En cuanto gestionemos los nan cambiar a INT\n",
    "\n",
    "datos['totalworkingyears'].unique()\n",
    "\n",
    "totalworkingyears = datos['totalworkingyears'].str.replace(',0', '')\n",
    "\n",
    "\n",
    "datos['totalworkingyears'] = totalworkingyears\n",
    "\n",
    "datos['totalworkingyears']"
   ]
  },
  {
   "cell_type": "code",
   "execution_count": 40,
   "metadata": {},
   "outputs": [
    {
     "data": {
      "text/plain": [
       "array([nan, '34', '22', '28', '20', '21', '33', '40', '18', '25', '15',\n",
       "       '17', '26', '16', '24', '14', '23', '27', '19', '11', '38', '37',\n",
       "       '13', '12', '29', '10', '36', '35', '9', '31', '32', '8', '7',\n",
       "       '30', '6', '5', '4', '3', '2', '1', '0'], dtype=object)"
      ]
     },
     "execution_count": 40,
     "metadata": {},
     "output_type": "execute_result"
    }
   ],
   "source": [
    "# En cuanto gestionemos los nan cambiar a INT\n",
    "\n",
    "datos['totalworkingyears'].unique()"
   ]
  },
  {
   "cell_type": "code",
   "execution_count": 41,
   "metadata": {},
   "outputs": [
    {
     "data": {
      "text/plain": [
       "array([5, 3, 2, 0, 1, 4, 6])"
      ]
     },
     "execution_count": 41,
     "metadata": {},
     "output_type": "execute_result"
    }
   ],
   "source": [
    "# trainingtimeslastyear no hacer nada aparentemente toda la información es correcta\n",
    "\n",
    "datos['trainingtimeslastyear'].unique()"
   ]
  },
  {
   "cell_type": "code",
   "execution_count": 42,
   "metadata": {},
   "outputs": [
    {
     "data": {
      "text/plain": [
       "0         3\n",
       "1         3\n",
       "2       NaN\n",
       "3       NaN\n",
       "4         3\n",
       "       ... \n",
       "1609      3\n",
       "1610      2\n",
       "1611      3\n",
       "1612      3\n",
       "1613      3\n",
       "Name: worklifebalance, Length: 1614, dtype: object"
      ]
     },
     "execution_count": 42,
     "metadata": {},
     "output_type": "execute_result"
    }
   ],
   "source": [
    "# Ver qué hacemos con los NaN y convertir a INT\n",
    "\n",
    "datos['worklifebalance'].unique()\n",
    "\n",
    "worklifebalance = datos['worklifebalance'].str.replace(',0', '')\n",
    "\n",
    "\n",
    "datos['worklifebalance'] = worklifebalance\n",
    "\n",
    "datos['worklifebalance'] "
   ]
  },
  {
   "cell_type": "code",
   "execution_count": 43,
   "metadata": {},
   "outputs": [
    {
     "data": {
      "text/plain": [
       "array([20, 33, 22, 19, 21, 18, 24, 31, 26, 16, 23, 15, 17, 32, 14, 13, 25,\n",
       "       12, 11, 37, 40, 36, 27, 29, 10,  9, 30,  8,  7, 34,  6,  5,  4,  2,\n",
       "        3,  1,  0])"
      ]
     },
     "execution_count": 43,
     "metadata": {},
     "output_type": "execute_result"
    }
   ],
   "source": [
    "# todo aparenta estar correcto\n",
    "\n",
    "datos['yearsatcompany'].unique()"
   ]
  },
  {
   "cell_type": "code",
   "execution_count": 44,
   "metadata": {},
   "outputs": [
    {
     "data": {
      "text/plain": [
       "0       NaN\n",
       "1       NaN\n",
       "2       NaN\n",
       "3       NaN\n",
       "4       NaN\n",
       "       ... \n",
       "1609    NaN\n",
       "1610    NaN\n",
       "1611    NaN\n",
       "1612    NaN\n",
       "1613    NaN\n",
       "Name: yearsincurrentrole, Length: 1614, dtype: object"
      ]
     },
     "execution_count": 44,
     "metadata": {},
     "output_type": "execute_result"
    }
   ],
   "source": [
    "# Ver qué hacemos con los NaN y convertir a INT creo que esta la tendremos que borrar porque no hay casi datos\n",
    "\n",
    "datos['yearsincurrentrole'].unique()\n",
    "\n",
    "yearsincurrentrole = datos['yearsincurrentrole'].str.replace(',0', '')\n",
    "\n",
    "\n",
    "datos['yearsincurrentrole'] = yearsincurrentrole\n",
    "\n",
    "datos['yearsincurrentrole']"
   ]
  },
  {
   "cell_type": "code",
   "execution_count": 45,
   "metadata": {},
   "outputs": [
    {
     "data": {
      "text/html": [
       "<div>\n",
       "<style scoped>\n",
       "    .dataframe tbody tr th:only-of-type {\n",
       "        vertical-align: middle;\n",
       "    }\n",
       "\n",
       "    .dataframe tbody tr th {\n",
       "        vertical-align: top;\n",
       "    }\n",
       "\n",
       "    .dataframe thead th {\n",
       "        text-align: right;\n",
       "    }\n",
       "</style>\n",
       "<table border=\"1\" class=\"dataframe\">\n",
       "  <thead>\n",
       "    <tr style=\"text-align: right;\">\n",
       "      <th></th>\n",
       "      <th>yearssincelastpromotion</th>\n",
       "    </tr>\n",
       "  </thead>\n",
       "  <tbody>\n",
       "    <tr>\n",
       "      <th>0</th>\n",
       "      <td>15</td>\n",
       "    </tr>\n",
       "    <tr>\n",
       "      <th>1</th>\n",
       "      <td>11</td>\n",
       "    </tr>\n",
       "    <tr>\n",
       "      <th>2</th>\n",
       "      <td>11</td>\n",
       "    </tr>\n",
       "    <tr>\n",
       "      <th>3</th>\n",
       "      <td>5</td>\n",
       "    </tr>\n",
       "    <tr>\n",
       "      <th>4</th>\n",
       "      <td>2</td>\n",
       "    </tr>\n",
       "    <tr>\n",
       "      <th>...</th>\n",
       "      <td>...</td>\n",
       "    </tr>\n",
       "    <tr>\n",
       "      <th>1609</th>\n",
       "      <td>3</td>\n",
       "    </tr>\n",
       "    <tr>\n",
       "      <th>1610</th>\n",
       "      <td>0</td>\n",
       "    </tr>\n",
       "    <tr>\n",
       "      <th>1611</th>\n",
       "      <td>0</td>\n",
       "    </tr>\n",
       "    <tr>\n",
       "      <th>1612</th>\n",
       "      <td>0</td>\n",
       "    </tr>\n",
       "    <tr>\n",
       "      <th>1613</th>\n",
       "      <td>0</td>\n",
       "    </tr>\n",
       "  </tbody>\n",
       "</table>\n",
       "<p>1614 rows × 1 columns</p>\n",
       "</div>"
      ],
      "text/plain": [
       "      yearssincelastpromotion\n",
       "0                          15\n",
       "1                          11\n",
       "2                          11\n",
       "3                           5\n",
       "4                           2\n",
       "...                       ...\n",
       "1609                        3\n",
       "1610                        0\n",
       "1611                        0\n",
       "1612                        0\n",
       "1613                        0\n",
       "\n",
       "[1614 rows x 1 columns]"
      ]
     },
     "execution_count": 45,
     "metadata": {},
     "output_type": "execute_result"
    }
   ],
   "source": [
    "datos['yearssincelastpromotion'].unique()\n",
    "\n",
    "datos[['yearssincelastpromotion']]"
   ]
  },
  {
   "cell_type": "code",
   "execution_count": 46,
   "metadata": {},
   "outputs": [
    {
     "data": {
      "text/plain": [
       "array([15,  9,  6,  8,  7, 11, 10, 12,  4,  0,  5, 17,  2, 14,  1, 13,  3,\n",
       "       16])"
      ]
     },
     "execution_count": 46,
     "metadata": {},
     "output_type": "execute_result"
    }
   ],
   "source": [
    "# no tenemos que tocar nada\n",
    "\n",
    "datos['yearswithcurrmanager'].unique()"
   ]
  },
  {
   "cell_type": "code",
   "execution_count": 47,
   "metadata": {},
   "outputs": [
    {
     "data": {
      "text/plain": [
       "array([1972, 1971, 1981, 1976, 1977, 1975, 1964, 1982, 1967, 1985, 1968,\n",
       "       1983, 1965, 1988, 1978, 1990, 1987, 1989, 1970, 1980, 1963, 1991,\n",
       "       1986, 1974, 1984, 1973, 1979, 1993, 1994, 1992, 1969, 1966, 1996,\n",
       "       1995, 1997, 1998, 1999, 2000, 2001, 2002, 2003, 2004, 2005])"
      ]
     },
     "execution_count": 47,
     "metadata": {},
     "output_type": "execute_result"
    }
   ],
   "source": [
    "# esta ok\n",
    "\n",
    "datos['datebirth'].unique()"
   ]
  },
  {
   "cell_type": "code",
   "execution_count": 48,
   "metadata": {},
   "outputs": [
    {
     "data": {
      "text/plain": [
       "array(['Yes', 'No'], dtype=object)"
      ]
     },
     "execution_count": 48,
     "metadata": {},
     "output_type": "execute_result"
    }
   ],
   "source": [
    "diccionario_mapa = {'Yes':'Yes', '1':'Yes', 'False':'No', '0':'No', 'True':'Yes'}\n",
    "\n",
    "datos[\"remotework\"] = datos[\"remotework\"].map(diccionario_mapa)\n",
    "\n",
    "datos['remotework'].unique()"
   ]
  },
  {
   "cell_type": "code",
   "execution_count": 49,
   "metadata": {},
   "outputs": [
    {
     "data": {
      "text/plain": [
       "Index(['age', 'attrition', 'businesstravel', 'dailyrate', 'department',\n",
       "       'distancefromhome', 'education', 'educationfield', 'employeenumber',\n",
       "       'environmentsatisfaction', 'gender', 'hourlyrate', 'jobinvolvement',\n",
       "       'joblevel', 'jobrole', 'jobsatisfaction', 'maritalstatus',\n",
       "       'monthlyincome', 'monthlyrate', 'numcompaniesworked', 'overtime',\n",
       "       'percentsalaryhike', 'performancerating', 'relationshipsatisfaction',\n",
       "       'stockoptionlevel', 'totalworkingyears', 'trainingtimeslastyear',\n",
       "       'worklifebalance', 'yearsatcompany', 'yearsincurrentrole',\n",
       "       'yearssincelastpromotion', 'yearswithcurrmanager', 'datebirth',\n",
       "       'remotework'],\n",
       "      dtype='object')"
      ]
     },
     "execution_count": 49,
     "metadata": {},
     "output_type": "execute_result"
    }
   ],
   "source": [
    "datos.columns"
   ]
  },
  {
   "cell_type": "code",
   "execution_count": 50,
   "metadata": {},
   "outputs": [
    {
     "name": "stdout",
     "output_type": "stream",
     "text": [
      "Las columnas categóricas que tienen nulos son : \n",
      " \n",
      "Index(['businesstravel', 'department', 'educationfield', 'employeenumber',\n",
      "       'maritalstatus', 'monthlyincome', 'overtime', 'performancerating',\n",
      "       'totalworkingyears', 'worklifebalance', 'yearsincurrentrole'],\n",
      "      dtype='object')\n"
     ]
    }
   ],
   "source": [
    "# qué columnas tienen nulos\n",
    "\n",
    "nulos_cat = datos[datos.columns[datos.isnull().any()]].select_dtypes(include = \"O\").columns\n",
    "print(\"Las columnas categóricas que tienen nulos son : \\n \")\n",
    "print(nulos_cat)"
   ]
  },
  {
   "cell_type": "code",
   "execution_count": 51,
   "metadata": {},
   "outputs": [
    {
     "name": "stdout",
     "output_type": "stream",
     "text": [
      "La distribución de las categorías para la columna BUSINESSTRAVEL\n"
     ]
    },
    {
     "data": {
      "text/plain": [
       "businesstravel\n",
       "Travel rarely        0.363073\n",
       "Travel frequently    0.102230\n",
       "Non travel           0.056382\n",
       "Name: count, dtype: float64"
      ]
     },
     "metadata": {},
     "output_type": "display_data"
    },
    {
     "name": "stdout",
     "output_type": "stream",
     "text": [
      "........................\n",
      "La distribución de las categorías para la columna DEPARTMENT\n"
     ]
    },
    {
     "data": {
      "text/plain": [
       "department\n",
       "Research & Development    0.121437\n",
       "Sales                     0.056382\n",
       "Human Resources           0.009294\n",
       "Name: count, dtype: float64"
      ]
     },
     "metadata": {},
     "output_type": "display_data"
    },
    {
     "name": "stdout",
     "output_type": "stream",
     "text": [
      "........................\n",
      "La distribución de las categorías para la columna EDUCATIONFIELD\n"
     ]
    },
    {
     "data": {
      "text/plain": [
       "educationfield\n",
       "Life Sciences       0.216233\n",
       "Medical             0.171004\n",
       "Marketing           0.064436\n",
       "Technical Degree    0.042751\n",
       "Other               0.036555\n",
       "Human Resources     0.007435\n",
       "Name: count, dtype: float64"
      ]
     },
     "metadata": {},
     "output_type": "display_data"
    },
    {
     "name": "stdout",
     "output_type": "stream",
     "text": [
      "........................\n",
      "La distribución de las categorías para la columna EMPLOYEENUMBER\n"
     ]
    },
    {
     "data": {
      "text/plain": [
       "employeenumber\n",
       "482,0     0.001239\n",
       "530,0     0.001239\n",
       "507,0     0.001239\n",
       "517,0     0.001239\n",
       "522,0     0.001239\n",
       "            ...   \n",
       "161,0     0.000620\n",
       "164,0     0.000620\n",
       "190,0     0.000620\n",
       "194,0     0.000620\n",
       "2040,0    0.000620\n",
       "Name: count, Length: 1079, dtype: float64"
      ]
     },
     "metadata": {},
     "output_type": "display_data"
    },
    {
     "name": "stdout",
     "output_type": "stream",
     "text": [
      "........................\n",
      "La distribución de las categorías para la columna MARITALSTATUS\n"
     ]
    },
    {
     "data": {
      "text/plain": [
       "maritalstatus\n",
       "Married     0.271995\n",
       "Single      0.201363\n",
       "Divorced    0.123296\n",
       "Name: count, dtype: float64"
      ]
     },
     "metadata": {},
     "output_type": "display_data"
    },
    {
     "name": "stdout",
     "output_type": "stream",
     "text": [
      "........................\n",
      "La distribución de las categorías para la columna MONTHLYINCOME\n"
     ]
    },
    {
     "data": {
      "text/plain": [
       "monthlyincome\n",
       "6347,0     0.002478\n",
       "5304,0     0.002478\n",
       "2657,0     0.001859\n",
       "2258,0     0.001859\n",
       "5405,0     0.001239\n",
       "             ...   \n",
       "3102,0     0.000620\n",
       "4556,0     0.000620\n",
       "4230,0     0.000620\n",
       "4859,0     0.000620\n",
       "19431,0    0.000620\n",
       "Name: count, Length: 668, dtype: float64"
      ]
     },
     "metadata": {},
     "output_type": "display_data"
    },
    {
     "name": "stdout",
     "output_type": "stream",
     "text": [
      "........................\n",
      "La distribución de las categorías para la columna OVERTIME\n"
     ]
    },
    {
     "data": {
      "text/plain": [
       "overtime\n",
       "No     0.422553\n",
       "Yes    0.158612\n",
       "Name: count, dtype: float64"
      ]
     },
     "metadata": {},
     "output_type": "display_data"
    },
    {
     "name": "stdout",
     "output_type": "stream",
     "text": [
      "........................\n",
      "La distribución de las categorías para la columna PERFORMANCERATING\n"
     ]
    },
    {
     "data": {
      "text/plain": [
       "performancerating\n",
       "3.0    0.746592\n",
       "4.0    0.132590\n",
       "Name: count, dtype: float64"
      ]
     },
     "metadata": {},
     "output_type": "display_data"
    },
    {
     "name": "stdout",
     "output_type": "stream",
     "text": [
      "........................\n",
      "La distribución de las categorías para la columna TOTALWORKINGYEARS\n"
     ]
    },
    {
     "data": {
      "text/plain": [
       "totalworkingyears\n",
       "10    0.089219\n",
       "8     0.053284\n",
       "6     0.052045\n",
       "9     0.042751\n",
       "5     0.040892\n",
       "7     0.034696\n",
       "4     0.033457\n",
       "1     0.032838\n",
       "12    0.021066\n",
       "3     0.019827\n",
       "14    0.018587\n",
       "13    0.018587\n",
       "11    0.017968\n",
       "15    0.017348\n",
       "16    0.017348\n",
       "20    0.017348\n",
       "18    0.016729\n",
       "21    0.014250\n",
       "17    0.013631\n",
       "2     0.013011\n",
       "22    0.011152\n",
       "19    0.010533\n",
       "24    0.008674\n",
       "23    0.008055\n",
       "28    0.008055\n",
       "26    0.004957\n",
       "0     0.004957\n",
       "29    0.003717\n",
       "36    0.003717\n",
       "25    0.003717\n",
       "33    0.003717\n",
       "37    0.003098\n",
       "27    0.003098\n",
       "31    0.002478\n",
       "30    0.001859\n",
       "32    0.001859\n",
       "35    0.001859\n",
       "40    0.001859\n",
       "34    0.001239\n",
       "38    0.000620\n",
       "Name: count, dtype: float64"
      ]
     },
     "metadata": {},
     "output_type": "display_data"
    },
    {
     "name": "stdout",
     "output_type": "stream",
     "text": [
      "........................\n",
      "La distribución de las categorías para la columna WORKLIFEBALANCE\n"
     ]
    },
    {
     "data": {
      "text/plain": [
       "worklifebalance\n",
       "3    0.565675\n",
       "2    0.222429\n",
       "4    0.096035\n",
       "1    0.048947\n",
       "Name: count, dtype: float64"
      ]
     },
     "metadata": {},
     "output_type": "display_data"
    },
    {
     "name": "stdout",
     "output_type": "stream",
     "text": [
      "........................\n",
      "La distribución de las categorías para la columna YEARSINCURRENTROLE\n"
     ]
    },
    {
     "data": {
      "text/plain": [
       "yearsincurrentrole\n",
       "2     0.006815\n",
       "7     0.003098\n",
       "0     0.002478\n",
       "4     0.001859\n",
       "1     0.001859\n",
       "11    0.001239\n",
       "6     0.001239\n",
       "3     0.001239\n",
       "13    0.000620\n",
       "12    0.000620\n",
       "Name: count, dtype: float64"
      ]
     },
     "metadata": {},
     "output_type": "display_data"
    },
    {
     "name": "stdout",
     "output_type": "stream",
     "text": [
      "........................\n"
     ]
    }
   ],
   "source": [
    "# Vemos la forma de estas columnas\n",
    "\n",
    "for col in nulos_cat:\n",
    "    print(f\"La distribución de las categorías para la columna {col.upper()}\")\n",
    "    display(datos[col].value_counts() / datos.shape[0])\n",
    "    print(\"........................\")"
   ]
  }
 ],
 "metadata": {
  "kernelspec": {
   "display_name": "Python 3",
   "language": "python",
   "name": "python3"
  },
  "language_info": {
   "codemirror_mode": {
    "name": "ipython",
    "version": 3
   },
   "file_extension": ".py",
   "mimetype": "text/x-python",
   "name": "python",
   "nbconvert_exporter": "python",
   "pygments_lexer": "ipython3",
   "version": "3.11.7"
  }
 },
 "nbformat": 4,
 "nbformat_minor": 2
}
